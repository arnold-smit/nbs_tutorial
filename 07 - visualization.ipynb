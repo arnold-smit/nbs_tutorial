{
 "cells": [
  {
   "cell_type": "markdown",
   "metadata": {},
   "source": [
    "# Visualization"
   ]
  },
  {
   "cell_type": "markdown",
   "metadata": {},
   "source": [
    "The visualization landscape is scattered.<br>\n",
    "There are many libraries available:<br><br>\n",
    "<div><img src=\"plots/PythonVisLandscape.jpg\" width=\"700\" align=\"left\"/></div>"
   ]
  },
  {
   "cell_type": "markdown",
   "metadata": {},
   "source": [
    "There are roughly three areas of interest:\n",
    "1. [Matplotlib](https://matplotlib.org/3.2.1/contents.html) and all derived packages like [Seaborn](https://seaborn.pydata.org/)\n",
    "2. packages build around JavaScript, which offer interactivity in the browser. There exist a lot of different packages, but below are couple that I feel are important ones.\n",
    "  * [Bokeh](https://docs.bokeh.org/en/latest/index.html) which has it's own BokehJS Javascript library.\n",
    "  * [HoloViews](https://holoviews.org/Reference_Manual/index.html) a high level API that interfaces lower level libraries like Bokeh and Matplotlib.\n",
    "  * [Altair](https://altair-viz.github.io/) build on top of JavaScript Vega library.\n",
    "3. packages build around OpenGL (or Vulcan) and WebGL (like [Pyodide](https://github.com/iodide-project/pyodide/)) which offer speed at the price of complexity (usefull in high load applications: real-time 3D image rendering (games, medical imaging, ...). This group of tools is out of scope here.\n",
    "\n",
    "Note: both HoloViews and Altair work more or less like ggplot (of which there is a python [version](https://github.com/yhat/ggpy)) in the R world.<br>\n",
    "They folow the process as outlined in the book **Grammar of Graphics**, a grammar used to describe and create a wide range of statistical graphics.<br><br>\n",
    "\n",
    "Before diving in, this notebook focusses on visualizing data and not on the related topic of dashboards.<br>\n",
    "Bokeh provides its own server and is definitely capable of producing interactive web-applications, offering full two way interaction between client and server. Towards the end we'll tinkering around the edges.<br>\n",
    "A big name in this space is [Plotly](https://plotly.com/) a commercial company offering the very powerfull [Dash](https://plotly.com/dash/) (Nationwide is using the free version on AWS cloud to buid some POC examples) and [cufflings](https://plotly.com/python/cufflinks/) (a third party wrapper around plotly)<br><br>\n",
    "\n",
    "The developement are fast, causing a scattered landscape (as is clear from the plot above). There have been multiple efforts to unify this landscape, but not very successfull (I guess one of few downsides of open-source). An initiative with a lot of cloud, trying to encourage and bring together a diverse set of tools under a single website is [PyViz](https://pyviz.org/index.html). The goal is to make everyone doing viz in Python more productive.<br><br>\n",
    "\n",
    "This notebook is concerned with exposing you to a range of tools, so you can start your own journey and go deeper into some parts while the need occurs.<br><br>\n",
    "\n",
    "This notebook consists of:\n",
    "1. Some plotting functionality that the pandas library provides. This functionality is build on top of Matplotlib, and give a quick way to do some basic (and not so basic) plotting.\n",
    "2. A dive into the more low level matplotlib library. Matplotlib has an extensive codebase that can be daunting. However, most of matplotlib can be understood with a fairly simple conceptual framework and knowledge of a few important points.\n",
    "3. Once the basics are known, we'll come out at the other end by highlighting another more user friendly API build on top of Matplotlib, seaborn.\n",
    "4. We'll finish by going into some libararies that interface with modern JavaScript visualization, enabling high quality interactive plots.\n",
    "\n",
    "But first, let's start with what we have already seen ..."
   ]
  },
  {
   "cell_type": "markdown",
   "metadata": {},
   "source": [
    "# Visualization Using Pandas"
   ]
  },
  {
   "cell_type": "markdown",
   "metadata": {},
   "source": [
    "Lets start with some of the plotting functionality that comes with [pandas](https://pandas.pydata.org/pandas-docs/stable/user_guide/visualization.html) and that we've seen before."
   ]
  },
  {
   "cell_type": "code",
   "execution_count": null,
   "metadata": {},
   "outputs": [],
   "source": [
    "import numpy as np\n",
    "import pandas as pd"
   ]
  },
  {
   "cell_type": "code",
   "execution_count": null,
   "metadata": {},
   "outputs": [],
   "source": [
    "help(pd.DataFrame.plot)"
   ]
  },
  {
   "cell_type": "markdown",
   "metadata": {},
   "source": [
    "## Simple scatter plot"
   ]
  },
  {
   "cell_type": "markdown",
   "metadata": {},
   "source": [
    "Give the x & y coordinates of the plot. Can also give a size and color column.<br>\n",
    "When using the size and color, need to pass in as series and not as column names (suspect this is a bug that will get fixed)."
   ]
  },
  {
   "cell_type": "code",
   "execution_count": null,
   "metadata": {},
   "outputs": [],
   "source": [
    "df = pd.DataFrame({'x':np.random.randn(25), 'y':np.random.randn(25)})"
   ]
  },
  {
   "cell_type": "code",
   "execution_count": null,
   "metadata": {},
   "outputs": [],
   "source": [
    "df.plot.scatter(x='x', y='y')"
   ]
  },
  {
   "cell_type": "code",
   "execution_count": null,
   "metadata": {},
   "outputs": [],
   "source": [
    "# s: size & c: color\n",
    "df.plot.scatter(x='x', y='y', s=100, c='red')"
   ]
  },
  {
   "cell_type": "code",
   "execution_count": null,
   "metadata": {},
   "outputs": [],
   "source": [
    "df = pd.DataFrame({'x':  np.random.randn(25), \n",
    "                   'y':  np.random.randn(25), \n",
    "                   'sz': np.random.choice([10,100,1000], size=25),\n",
    "                   'cl': np.random.choice(['red','blue','green','orange'], size=25)\n",
    "                  })"
   ]
  },
  {
   "cell_type": "code",
   "execution_count": null,
   "metadata": {},
   "outputs": [],
   "source": [
    "df.plot.scatter(x='x', y='y', s=df.sz, c=df.cl, alpha=0.4, figsize=(20,10), title='Some Cheerfull Bubbles')"
   ]
  },
  {
   "cell_type": "markdown",
   "metadata": {},
   "source": [
    "## TimeSeries"
   ]
  },
  {
   "cell_type": "markdown",
   "metadata": {},
   "source": [
    "Each column is a timeseries."
   ]
  },
  {
   "cell_type": "code",
   "execution_count": null,
   "metadata": {},
   "outputs": [],
   "source": [
    "df = pd.read_csv('data/GOOG.csv', index_col='Date')"
   ]
  },
  {
   "cell_type": "code",
   "execution_count": null,
   "metadata": {},
   "outputs": [],
   "source": [
    "df.index.dtype"
   ]
  },
  {
   "cell_type": "code",
   "execution_count": null,
   "metadata": {},
   "outputs": [],
   "source": [
    "df.index = pd.to_datetime(df.index)"
   ]
  },
  {
   "cell_type": "code",
   "execution_count": null,
   "metadata": {},
   "outputs": [],
   "source": [
    "df[['Low','High']].plot.line(figsize=(20,5))"
   ]
  },
  {
   "cell_type": "markdown",
   "metadata": {},
   "source": [
    "## Area plot"
   ]
  },
  {
   "cell_type": "markdown",
   "metadata": {},
   "source": [
    "Each column is a timeseries, that get stacked on top of each other and filling the area between."
   ]
  },
  {
   "cell_type": "code",
   "execution_count": null,
   "metadata": {},
   "outputs": [],
   "source": [
    "dates = pd.date_range(start='2018/01/01', end='2018/05/01', freq='W')\n",
    "df = pd.DataFrame({\n",
    "    'soup':     np.random.choice(np.arange(10,21,5), size=len(dates)),\n",
    "    'chips':    np.random.choice(np.arange(10,31,5), size=len(dates)),\n",
    "    'sandwich': np.random.choice(np.arange(10,31,2), size=len(dates))\n",
    "}, index=dates)"
   ]
  },
  {
   "cell_type": "code",
   "execution_count": null,
   "metadata": {},
   "outputs": [],
   "source": [
    "df[:3]"
   ]
  },
  {
   "cell_type": "code",
   "execution_count": null,
   "metadata": {},
   "outputs": [],
   "source": [
    "df.plot.area(color=['red','blue','orange'], title='Total Sales')"
   ]
  },
  {
   "cell_type": "markdown",
   "metadata": {},
   "source": [
    "## Pie Chart"
   ]
  },
  {
   "cell_type": "markdown",
   "metadata": {},
   "source": [
    "Produces a Pie for column `y` where each category is defined in a row with label row index."
   ]
  },
  {
   "cell_type": "code",
   "execution_count": null,
   "metadata": {},
   "outputs": [],
   "source": [
    "df = pd.DataFrame({'count':  [0.4, 0.6], 'ca_balance': [2e9, 0.5e9]}, index=['committed', 'not committed'])\n",
    "df"
   ]
  },
  {
   "cell_type": "code",
   "execution_count": null,
   "metadata": {},
   "outputs": [],
   "source": [
    "df.plot.pie(subplots=True, figsize=(10,10))"
   ]
  },
  {
   "cell_type": "code",
   "execution_count": null,
   "metadata": {},
   "outputs": [],
   "source": [
    "# or, if we start with raw data ...\n",
    "df = pd.DataFrame({'committed': np.random.choice(['yes','no'], p=[0.7,0.3], size=100),\n",
    "                   'main':      np.random.choice(['yes','no','unknown'], p=[0.3,0.6,0.1], size=100)\n",
    "                  })"
   ]
  },
  {
   "cell_type": "code",
   "execution_count": null,
   "metadata": {},
   "outputs": [],
   "source": [
    "df.head()"
   ]
  },
  {
   "cell_type": "code",
   "execution_count": null,
   "metadata": {},
   "outputs": [],
   "source": [
    "# aggregate and then plot\n",
    "df.committed.value_counts().plot.pie(title='Committed')"
   ]
  },
  {
   "cell_type": "markdown",
   "metadata": {},
   "source": [
    "## Heatmaps - Hexbin"
   ]
  },
  {
   "cell_type": "markdown",
   "metadata": {},
   "source": [
    "Use heatmaps when scatterplots get saturated because to much data is involved ..."
   ]
  },
  {
   "cell_type": "code",
   "execution_count": null,
   "metadata": {},
   "outputs": [],
   "source": [
    "df = pd.concat([\n",
    "    pd.DataFrame({'x': +1 + 0.8 * np.random.randn( 5_000), 'y': +1 + 0.8 * np.random.randn( 5_000)}),\n",
    "    pd.DataFrame({'x': -1 + 0.8 * np.random.randn( 5_000), 'y': -1 + 0.8 * np.random.randn( 5_000)}),\n",
    "    pd.DataFrame({'x':  0 + 0.2 * np.random.randn(10_000), 'y':  0 + 0.2 * np.random.randn(10_000)}),\n",
    "])"
   ]
  },
  {
   "cell_type": "code",
   "execution_count": null,
   "metadata": {},
   "outputs": [],
   "source": [
    "df.plot.scatter(x='x', y='y')"
   ]
  },
  {
   "cell_type": "code",
   "execution_count": null,
   "metadata": {},
   "outputs": [],
   "source": [
    "## using alpha helps is this scenario\n",
    "df.plot.scatter(x='x', y='y', alpha=0.1)"
   ]
  },
  {
   "cell_type": "code",
   "execution_count": null,
   "metadata": {},
   "outputs": [],
   "source": [
    "## using alpha helps is this scenario\n",
    "df.plot.scatter(x='x', y='y', alpha=0.1, figsize=(20,6))"
   ]
  },
  {
   "cell_type": "code",
   "execution_count": null,
   "metadata": {},
   "outputs": [],
   "source": [
    "## but is is better to use a heatmap\n",
    "df.plot.hexbin(x='x', y='y', gridsize=100)"
   ]
  },
  {
   "cell_type": "markdown",
   "metadata": {},
   "source": [
    "A common issue with heatmaps is that a few high values drown out all the details in the lower counts.<br>\n",
    "Here, I generated data from a mixture, where the one in the middle is more frequent and less variable. This will drown out the other two ...<br>\n",
    "A good way to regain that detail is to use a logarithmic normalisation of the counts.<br>\n",
    "In the next section, we'll be going into the specifics of Matplotlib, here we just use the fact that the Pandas plotting is build on to of Matplotlib.<br>\n",
    "Meaning we can adopt the Pandas plots using all the power of Matplotlib."
   ]
  },
  {
   "cell_type": "code",
   "execution_count": null,
   "metadata": {},
   "outputs": [],
   "source": [
    "from matplotlib.colors import LogNorm\n",
    "from matplotlib.cm import Oranges"
   ]
  },
  {
   "cell_type": "code",
   "execution_count": null,
   "metadata": {},
   "outputs": [],
   "source": [
    "df.plot.hexbin(x='x', y='y', gridsize=100, norm=LogNorm(), figsize=(20,6), cmap=Oranges)"
   ]
  },
  {
   "cell_type": "markdown",
   "metadata": {},
   "source": [
    "Heatmaps are great tools and become more powerfull when there is more data. Exactly the case when scatterplots become less usefull. And, as an huge added bonus, they use a lot less memory when exported to a lot of formats, because they only store use the bincounts.  "
   ]
  },
  {
   "cell_type": "markdown",
   "metadata": {},
   "source": [
    "## Histogram - KDE"
   ]
  },
  {
   "cell_type": "code",
   "execution_count": null,
   "metadata": {},
   "outputs": [],
   "source": [
    "df.x.plot.hist(bins=50, figsize=(20,5))"
   ]
  },
  {
   "cell_type": "code",
   "execution_count": null,
   "metadata": {},
   "outputs": [],
   "source": [
    "## pandas also gives a convenient way to get the Kernel Density Estimation of a variable ...\n",
    "fig, ax = plt.subplots(figsize=(20,5))\n",
    "##df.x.plot.hist(bins=300, figsize=(20,5), ax=ax)\n",
    "df.x.plot.kde(figsize=(20,5), ax=ax)"
   ]
  },
  {
   "cell_type": "markdown",
   "metadata": {},
   "source": [
    "## Before We Dive Into Matplotlib ..."
   ]
  },
  {
   "cell_type": "markdown",
   "metadata": {},
   "source": [
    "The good folk of Anaconda have made it possible to use HoloViews as the 'backend' to produce HoloViews (which uses Bokeh) plots directly from Pandas.<br>\n",
    "Don't want to spend too much time on this, but it is worth mentioning here, because HoloViews gives you some usefull goodies for 'free'."
   ]
  },
  {
   "cell_type": "code",
   "execution_count": null,
   "metadata": {},
   "outputs": [],
   "source": [
    "pd.options.plotting.backend = 'holoviews'"
   ]
  },
  {
   "cell_type": "code",
   "execution_count": null,
   "metadata": {},
   "outputs": [],
   "source": [
    "df = pd.read_csv('data/GOOG.csv', index_col='Date')\n",
    "df.index = pd.to_datetime(df.index)\n",
    "df[['Low','High']].plot(width=1500, height=400)"
   ]
  },
  {
   "cell_type": "markdown",
   "metadata": {},
   "source": [
    "# Matplotlib"
   ]
  },
  {
   "cell_type": "markdown",
   "metadata": {},
   "source": [
    "In the examples above Pandas offered a convenient way to plot using the Matplotlib library (with the exception of the last plot).<br>\n",
    "Matplotlib has been the core libarary for plotting for many years. It is very powerfull and flexible, and subsequently also complex.<br>\n",
    "Allthough more convenient API's exist that wrap the Matplotlib functionality, it pays to have a good understanding of Matplotlib.<br>\n",
    "It will enable you to fine-tune your visuals."
   ]
  },
  {
   "cell_type": "markdown",
   "metadata": {},
   "source": [
    "## Basics"
   ]
  },
  {
   "cell_type": "markdown",
   "metadata": {},
   "source": [
    "Everything in matplotlib is organized in a hierarchy. At the top of the hierarchy is **matplotlib.pyplot** usually refered to with the alias **plt**.<br>\n",
    "plt provides the entry point into the object-oriented api of matplotlib, it is used only for a few functions such as figure creation."
   ]
  },
  {
   "cell_type": "code",
   "execution_count": null,
   "metadata": {},
   "outputs": [],
   "source": [
    "import matplotlib.pyplot as plt"
   ]
  },
  {
   "cell_type": "markdown",
   "metadata": {},
   "source": [
    "plt provides the entry point into the object-oriented api of matplotlib, it is used only for a few functions such as figure creation.<br>\n",
    "The user explicitly creates and keeps track of the **figure** and **axes** objects.<br>\n",
    "Before matplotlib can render the output to the notebook we need to tell matplotlib to use the *inline backend* (or *notebook backend*)"
   ]
  },
  {
   "cell_type": "code",
   "execution_count": null,
   "metadata": {},
   "outputs": [],
   "source": [
    "## make plot appear right inside the notebook ...\n",
    "%matplotlib inline\n",
    "## also, to make plots high quality, I usually run the following\n",
    "%config InlineBackend.figure_format = 'retina'"
   ]
  },
  {
   "cell_type": "markdown",
   "metadata": {},
   "source": [
    "Lets' start by creating an empty figure ..."
   ]
  },
  {
   "cell_type": "code",
   "execution_count": null,
   "metadata": {},
   "outputs": [],
   "source": [
    "fig = plt.figure()\n",
    "print(fig.__doc__)"
   ]
  },
  {
   "cell_type": "markdown",
   "metadata": {},
   "source": [
    "Note that this figure contains 0 Axes. Axes ar the entities that hold the 'plots' in Matplotlib. To add an Axes:"
   ]
  },
  {
   "cell_type": "code",
   "execution_count": null,
   "metadata": {},
   "outputs": [],
   "source": [
    "## the argument [left, bottom, width, height] are quantities in fractions of figure width and height\n",
    "ax1 = fig.add_axes([0.0, 0.0, 1.0, 1.0])\n",
    "ax2 = fig.add_axes([1.0, 1.0, 1.0, 1.0])\n",
    "print(ax1.__doc__)"
   ]
  },
  {
   "cell_type": "code",
   "execution_count": null,
   "metadata": {},
   "outputs": [],
   "source": [
    "fig"
   ]
  },
  {
   "cell_type": "code",
   "execution_count": null,
   "metadata": {},
   "outputs": [],
   "source": [
    "ax1.plot(np.arange(5), np.arange(5), 'xb')\n",
    "ax2.plot(np.arange(5), np.arange(5)[::-1], 'or')\n",
    "fig"
   ]
  },
  {
   "cell_type": "code",
   "execution_count": null,
   "metadata": {},
   "outputs": [],
   "source": [
    "fig.get_children()"
   ]
  },
  {
   "cell_type": "markdown",
   "metadata": {},
   "source": [
    "The **figure** is the whole figure, and it functions as a container for child axes<br>\n",
    "Each **axes** holds a 'plot'<br>\n",
    "The axes contains two (or three in the case of 3D) **axis** objects which take care of the data limits<br>\n",
    "To complete the concepts, everything you can see on the figure is an **artist** (even the Figure, Axes, and Axis objects).<br>\n",
    "This includes Text objects, Line2D objects, collection objects, Patch objects ... (you get the idea)<br><br>\n",
    "So the figure holds Axes that contain, for instance Line2d, Axis, ..., that contain, Titles, Labels, Tickes, ..., that contain Fonts, ...<br><br>\n",
    "![the components that make up the basic object hierarchy of matplotlib](plots/anatomy.png)"
   ]
  },
  {
   "cell_type": "markdown",
   "metadata": {},
   "source": [
    "The way the Axes ax1 & ax2 were created above, can get rather complex. You need to leave room for tickmarks, labels, ...<br>\n",
    "So in practice, another way is used to create the Axes:\n",
    "```python\n",
    "fig, ax = plt.subplots(...)\n",
    "```\n",
    "This creates the Axes and returns a handle to the *figure* and the *axes* (or array of axes when nrows & ncols is used)<br><br>\n",
    "\n",
    "To make the figure a little more interesting, let's add a 2x2 grid of axes the 'easy' way:"
   ]
  },
  {
   "cell_type": "code",
   "execution_count": null,
   "metadata": {},
   "outputs": [],
   "source": [
    "fig, ax = plt.subplots(nrows=2, ncols=2, figsize=(7,7))"
   ]
  },
  {
   "cell_type": "code",
   "execution_count": null,
   "metadata": {},
   "outputs": [],
   "source": [
    "type(ax[0][0])"
   ]
  },
  {
   "cell_type": "code",
   "execution_count": null,
   "metadata": {},
   "outputs": [],
   "source": [
    "ax[0][0].scatter(x=[0.25,0.50,0.75], y=[0.25,0.50,0.75])\n",
    "fig"
   ]
  },
  {
   "cell_type": "code",
   "execution_count": null,
   "metadata": {},
   "outputs": [],
   "source": [
    "size=5\n",
    "x = np.arange(1,6)\n",
    "def random_y(): return(np.random.randint(1,5,size))\n",
    "##\n",
    "fig, ax = plt.subplots(nrows=1, ncols=4, figsize=(18,6))\n",
    "##\n",
    "ax[0].plot(x, random_y(), '-g', x, random_y(), '--r')\n",
    "ax[0].legend(labels=['green solid line', 'red dashed line'])\n",
    "ax[1].bar(x, random_y(), color='#000080')\n",
    "ax[2].pie(random_y(), labels=x, startangle=90)\n",
    "ax[3].hexbin(np.random.randn(100), np.random.randn(100), gridsize=(10,10))"
   ]
  },
  {
   "cell_type": "markdown",
   "metadata": {},
   "source": [
    "Once everything is set up, the axes provide a convenient way into the hierarchy of objects, where basically everything can be tweaked and changed."
   ]
  },
  {
   "cell_type": "code",
   "execution_count": null,
   "metadata": {},
   "outputs": [],
   "source": [
    "fig, ax = plt.subplots(figsize=(14,7))\n",
    "yr = random_y()\n",
    "ax.plot(x, yr, '-')"
   ]
  },
  {
   "cell_type": "code",
   "execution_count": null,
   "metadata": {},
   "outputs": [],
   "source": [
    "## Let's dive a bit deeper, it really helps to become more effective\n",
    "ax.get_children()"
   ]
  },
  {
   "cell_type": "code",
   "execution_count": null,
   "metadata": {},
   "outputs": [],
   "source": [
    "## take the first 'spine' and see what this allows us to do, and play around with it ...\n",
    "[m for m in dir(ax.get_children()[1]) if 'set_' in m]"
   ]
  },
  {
   "cell_type": "code",
   "execution_count": null,
   "metadata": {},
   "outputs": [],
   "source": [
    "ax.get_children()[3].set_linewidth(10)\n",
    "ax.get_children()[3].set_linestyle('-')\n",
    "ax.get_children()[3].set_color('red')\n",
    "fig"
   ]
  },
  {
   "cell_type": "code",
   "execution_count": null,
   "metadata": {},
   "outputs": [],
   "source": [
    "[m for m in dir(ax.get_children()[0]) if 'set_' in m]"
   ]
  },
  {
   "cell_type": "code",
   "execution_count": null,
   "metadata": {},
   "outputs": [],
   "source": [
    "ax.get_children()[0].set_marker('o')\n",
    "ax.get_children()[0].set_markerfacecolor('red')\n",
    "ax.get_children()[0].set_markersize(25)\n",
    "ax.get_children()[0].set_linewidth(5)\n",
    "ax.get_children()[0].set_linestyle('-.')\n",
    "fig"
   ]
  },
  {
   "cell_type": "markdown",
   "metadata": {},
   "source": [
    "This last step is to show that you can basically get to everything through the object hierarchy & change it.<br>\n",
    "Often the properties of your plot you care about, can be set when you create it, but it's incredibly powerfull to become self sufficient in tweaking your graphics.<br>\n",
    "Remember, the components in matplotlib are organized in an object hierarchy (where each element has children) and you can always ask python to list what is available using *dir* ..."
   ]
  },
  {
   "cell_type": "code",
   "execution_count": null,
   "metadata": {},
   "outputs": [],
   "source": [
    "## for instance to list all set_<...> methods on the first child of axes -> ax.get_children()[0]\n",
    "[m for m in dir(ax.get_children()[0]) if m.startswith('set_')]"
   ]
  },
  {
   "cell_type": "markdown",
   "metadata": {},
   "source": [
    "The 'normal' way of using Matplotlib consistes of roughly three steps\n",
    "```python\n",
    "fig, ax = plt.subplots(...)                        ## setting up the axes\n",
    "ax.scatter(...) -or- ax.bar(...) -or- ax.hist(...) ## create the plots\n",
    "ax.set_<some_property>(...)                        ## fine-tune the plot if necessary\n",
    "```\n",
    "It is not always clear how to tweak the thing you want to change ... Google / Stackoverflow are your friends.<br>\n",
    "But, you now know quite a bit more than 80% of the folks posting questions on Stackoverflow after they copied some example.<br>\n",
    "Which, off course, is the right thing to do :-)"
   ]
  },
  {
   "cell_type": "markdown",
   "metadata": {},
   "source": [
    "## Saving Figures To File "
   ]
  },
  {
   "cell_type": "markdown",
   "metadata": {},
   "source": [
    "To save a figure to file, use: \n",
    "```python\n",
    "figure.savefile(filename, ...) \n",
    "```\n",
    "Most of the time SVG will give very good results, because the resulting figure is scalable and not too big.<br>\n",
    "This works well, unless you have a lot of data in your plot. For instance a scatterplot with a lot of data.<br>\n",
    "In these cases an SVG can become large, and a PNG will be better. In such cases it might be worth playing with the dpi= parameter.<br><br>\n",
    "\n",
    "Finally it is worth to noting that information like axis labels titles, ..., can get cropped in the saved image.<br>\n",
    "In general, I almost always use the **bbox_inches='tight'** parameter to prevent this from happening."
   ]
  },
  {
   "cell_type": "code",
   "execution_count": null,
   "metadata": {},
   "outputs": [],
   "source": [
    "fig.savefig('plots/example_plot.svg', bbox_inches='tight')"
   ]
  },
  {
   "cell_type": "code",
   "execution_count": null,
   "metadata": {},
   "outputs": [],
   "source": [
    "!open plots/example_plot.svg"
   ]
  },
  {
   "cell_type": "markdown",
   "metadata": {},
   "source": [
    "Now the basics are covered, let's look at some examples of predefined functions. Please note that Matplotlib is a vast library.<br>\n",
    "There are many parts that will not get covered here. Bit the goal here is not to be exhausitive, which I would be woefully inapt for :-)<br>\n",
    "Finally, Matplotlib gets some flag for being complex, which is unfair taken into account the depth & felexibility of the library."
   ]
  },
  {
   "cell_type": "markdown",
   "metadata": {},
   "source": [
    "## Scatter Plots"
   ]
  },
  {
   "cell_type": "code",
   "execution_count": null,
   "metadata": {},
   "outputs": [],
   "source": [
    "## you don't always need the figure, just use _ to ignore\n",
    "x1 = np.random.randn(50) - 1\n",
    "y1 = np.random.randn(50) - 1\n",
    "## set up figure\n",
    "fig, ax = plt.subplots(figsize=(20,3))\n",
    "## create scatter plot\n",
    "ax.scatter(x=x1, y=y1, marker='*', s=100)"
   ]
  },
  {
   "cell_type": "code",
   "execution_count": null,
   "metadata": {},
   "outputs": [],
   "source": [
    "## add some more poitns to the same axes\n",
    "x2 = np.random.randn(50) + 1\n",
    "y2 = np.random.randn(50) + 1\n",
    "ax.scatter(x=x2, y=y2, marker='+', c='red', s=100)\n",
    "fig"
   ]
  },
  {
   "cell_type": "code",
   "execution_count": null,
   "metadata": {},
   "outputs": [],
   "source": [
    "## fine-tune plot\n",
    "fig, ax = plt.subplots(figsize=(20,5))\n",
    "\n",
    "## plot the points\n",
    "ax.scatter(x=x1, y=y1, marker='*', c='#cc66ff', s=100)\n",
    "ax.scatter(x=x2, y=y2, marker='X', c='#ace600', s=100)\n",
    "\n",
    "##\n",
    "ax.set_xlim(-3,3)\n",
    "ax.set_ylim(-3,3)\n",
    "\n",
    "## add title\n",
    "ax.set_title('A WONDERFULLY COLORFULL SCATTERPLOT', fontdict={'family':'bauhaus 93', 'color':'orange', 'weight':'normal', 'size': 24, })\n",
    "\n",
    "## add some x & y axis labels\n",
    "ax.set_xlabel('y-coord of random noise', fontdict={'family':'courier new', 'color':'#339933',  'weight':'bold', 'size': 16, })\n",
    "ax.set_ylabel('x-coord of random noise', fontdict={'family':'courier new', 'color':'#ff6600',  'weight':'bold', 'size': 16, })\n",
    "\n",
    "## change ticklabel formatting\n",
    "ax.set_xticklabels(ax.get_xticks(), fontdict={'family':'serif', 'color':'purple',  'weight':'bold', 'size': 16, })\n",
    "ax.set_yticklabels(ax.get_xticks(), fontdict={'family':'serif', 'color':'#00aaff', 'weight':'bold', 'size': 16, });"
   ]
  },
  {
   "cell_type": "markdown",
   "metadata": {},
   "source": [
    "## Line Plots"
   ]
  },
  {
   "cell_type": "code",
   "execution_count": null,
   "metadata": {},
   "outputs": [],
   "source": [
    "ax.plot([-3,+3], [+3,-3], '--', c='green', linewidth=5)\n",
    "fig"
   ]
  },
  {
   "cell_type": "markdown",
   "metadata": {},
   "source": [
    "It's also possible to fill the area between two lines"
   ]
  },
  {
   "cell_type": "code",
   "execution_count": null,
   "metadata": {},
   "outputs": [],
   "source": [
    "ymin  = ax.get_ylim()[0]\n",
    "##                   x,     y1,           y2\n",
    "ax.fill_between([-3,3],[+3,-3], [ymin, ymin], color='lightblue', alpha=0.7)\n",
    "fig"
   ]
  },
  {
   "cell_type": "code",
   "execution_count": null,
   "metadata": {},
   "outputs": [],
   "source": [
    "fig, ax = plt.subplots(ncols=3, figsize=(25,5))\n",
    "x  = np.linspace(0,2*np.pi,num=100)\n",
    "y0 = np.zeros(100)\n",
    "ys = np.sin(x)\n",
    "yc = np.cos(x)\n",
    "ax[0].fill_between(x, ys, alpha=0.3);\n",
    "ax[1].fill_between(x, yc, alpha=0.3);\n",
    "ax[2].fill_between(x, ys, yc, alpha=0.3);"
   ]
  },
  {
   "cell_type": "code",
   "execution_count": null,
   "metadata": {},
   "outputs": [],
   "source": [
    "def sigmoid(x, beta): return np.exp(x - beta) / (1 + np.exp(x - beta))\n",
    "x = np.linspace(1,10)\n",
    "y = sigmoid(x, 3.5)\n",
    "## another way to obtain a handle to an axes is by: \n",
    "fig = plt.figure(figsize=(20,5))\n",
    "ax  = fig.add_subplot(111)\n",
    "##\n",
    "ax.plot(x, sigmoid(x,5), '-b');\n",
    "plt.axvline(x=5.0, ymin=0, ymax=1, color='#4d79ff', linestyle=':')\n",
    "plt.axhline(y=0.5, xmin=0, xmax=1, color='#4d79ff', linestyle=':')"
   ]
  },
  {
   "cell_type": "code",
   "execution_count": null,
   "metadata": {},
   "outputs": [],
   "source": [
    "ax.set_title('SIGMOID FUNCTION', fontdict={'size':28, 'color':'#000066'})\n",
    "ax.text(x=2, y=0.75, s=r'$\\frac{\\exp^{(x - 5)}}{1+\\exp^{(x - 5)}}$', fontdict={'size':24, 'color':'#000066'})\n",
    "ax.grid(False)\n",
    "fig.savefig('plots/sigmoid_fun.svg', format='svg')\n",
    "fig"
   ]
  },
  {
   "cell_type": "markdown",
   "metadata": {},
   "source": [
    "## Histograms"
   ]
  },
  {
   "cell_type": "code",
   "execution_count": null,
   "metadata": {},
   "outputs": [],
   "source": [
    "x = np.random.randn(500)\n",
    "fig, ax = plt.subplots(figsize=(20,5))\n",
    "ax.hist(x, bins=20);"
   ]
  },
  {
   "cell_type": "code",
   "execution_count": null,
   "metadata": {},
   "outputs": [],
   "source": [
    "from matplotlib.mlab import GaussianKDE"
   ]
  },
  {
   "cell_type": "code",
   "execution_count": null,
   "metadata": {},
   "outputs": [],
   "source": [
    "kde = GaussianKDE(x)\n",
    "fig, ax = plt.subplots(figsize=(20,5))\n",
    "x4plot = np.arange(-3,3,step=0.1)\n",
    "y4plot = kde.evaluate(np.arange(-3,3,step=0.1))\n",
    "ax.plot(x4plot, y4plot, '-', c='#0066cc');\n",
    "## ax.fill_between(x4plot, y4plot, alpha=0.1);"
   ]
  },
  {
   "cell_type": "code",
   "execution_count": null,
   "metadata": {},
   "outputs": [],
   "source": [
    "ax = pd.Series(x).plot.kde(figsize=(20,5))\n",
    "ax.set_xlim((-3,3))"
   ]
  },
  {
   "cell_type": "markdown",
   "metadata": {},
   "source": [
    "### Grouped Bar Chart"
   ]
  },
  {
   "cell_type": "code",
   "execution_count": null,
   "metadata": {},
   "outputs": [],
   "source": [
    "df = pd.read_csv(r'data\\iris.data', skiprows=0, names=['sepal_length','sepal_width','petal_length','petal_width','species'])"
   ]
  },
  {
   "cell_type": "code",
   "execution_count": null,
   "metadata": {},
   "outputs": [],
   "source": [
    "df.species = df.species.astype('category')"
   ]
  },
  {
   "cell_type": "code",
   "execution_count": null,
   "metadata": {},
   "outputs": [],
   "source": [
    "df_mean = df.groupby('species').mean()\n",
    "df_mean"
   ]
  },
  {
   "cell_type": "markdown",
   "metadata": {},
   "source": [
    "Let's assume we want to create a group of 3 bars (one for each species) for the 4 features:"
   ]
  },
  {
   "cell_type": "code",
   "execution_count": null,
   "metadata": {},
   "outputs": [],
   "source": [
    "np.linspace(0,12,4)"
   ]
  },
  {
   "cell_type": "code",
   "execution_count": null,
   "metadata": {},
   "outputs": [],
   "source": [
    "## x positions\n",
    "x1 = np.linspace(0,12,4)+0.1\n",
    "x2 = np.linspace(1,13,4)+0.1\n",
    "x3 = np.linspace(2,14,4)+0.1\n",
    "## setup plots\n",
    "fig, ax = plt.subplots(figsize=(15,4))\n",
    "## plot bars\n",
    "ax.bar(x1, df_mean.loc['Iris-setosa'],     width=0.8, color='darkgreen',  label='Iris-setosa')\n",
    "ax.bar(x2, df_mean.loc['Iris-versicolor'], width=0.8, color='darkorange', label='Iris-versicolor')\n",
    "ax.bar(x3, df_mean.loc['Iris-virginica'],  width=0.8, color='darkblue',   label='Iris-virginica')\n",
    "## add legend\n",
    "ax.legend(prop={'size':16})\n",
    "## ticks\n",
    "ax.set_xticks([1,5,9,13])\n",
    "ax.set_xticklabels(list(df_mean.columns), fontdict={'size':16})\n",
    "##\n",
    "ax.grid(False);"
   ]
  },
  {
   "cell_type": "markdown",
   "metadata": {},
   "source": [
    "## Stem Plots"
   ]
  },
  {
   "cell_type": "code",
   "execution_count": null,
   "metadata": {},
   "outputs": [],
   "source": [
    "## simple example\n",
    "fig, ax = plt.subplots(figsize=(20,5))\n",
    "x4plot = np.arange(-3,3,step=0.1)\n",
    "y4plot = kde.evaluate(np.arange(-3,3,step=0.1))\n",
    "ax.stem(x4plot, y4plot, use_line_collection=True)"
   ]
  },
  {
   "cell_type": "code",
   "execution_count": null,
   "metadata": {},
   "outputs": [],
   "source": [
    "## timeline example\n",
    "pandemics = pd.DataFrame([('COVID-19', 2020, 22e3),\n",
    "                          ('Hong Kong Flu', 1968, 1e6),\n",
    "                          ('Asian Flu', 1956, 2e6),\n",
    "                          ('Influenza', 1918, 30e6),\n",
    "                          ('Russian Flu',1889, 1e6),\n",
    "                          ('3rd Cholera Pandemic', 1852, 1e6),\n",
    "                          ('Black Death', 1346, 100e6),\n",
    "                          ('Plague of Justinian', 541, 25e6),\n",
    "                          ('Plague of Galen', -165, 5e6)\n",
    "                         ], columns=['name', 'year', 'deathtoll']).set_index('name', drop=True)\n",
    "fig, ax = plt.subplots(figsize=(30,10))\n",
    "ax.stem(pandemics.year, pandemics.deathtoll, use_line_collection=True);\n",
    "ax.set_xticks([])\n",
    "ax.set_yticks([])\n",
    "ax.grid(False)\n",
    "\n",
    "for name, (year, deathtoll) in pandemics.iterrows():\n",
    "    ax.text(year, deathtoll+1_000_000, f'{name}\\n{int(year)} & {deathtoll/1e6:_.0f}M', horizontalalignment='center', verticalalignment='bottom', fontsize=14, backgroundcolor=(1., 1., 1., .3))"
   ]
  },
  {
   "cell_type": "markdown",
   "metadata": {},
   "source": [
    "## Build Your Own Slider"
   ]
  },
  {
   "cell_type": "code",
   "execution_count": null,
   "metadata": {},
   "outputs": [],
   "source": [
    "fig, ax = plt.subplots(figsize=(10,2))\n",
    "## plot the line\n",
    "ax.plot([0, 100], [0,0], '-', c='#a6a6a6', linewidth=10)"
   ]
  },
  {
   "cell_type": "code",
   "execution_count": null,
   "metadata": {},
   "outputs": [],
   "source": [
    "## position and make pretty\n",
    "ax.plot([0, 100], [0,0], '-', c='#a6a6a6', linewidth=10)\n",
    "ax.plot([0, 100], [0,0], '-', c='#4d4d4d', linewidth=5)\n",
    "ax.set_ylim(bottom=-0.3, top=0.7)\n",
    "fig"
   ]
  },
  {
   "cell_type": "code",
   "execution_count": null,
   "metadata": {},
   "outputs": [],
   "source": [
    "## plot the markers\n",
    "ax.plot(50, 0, 'o', color='#4d4d4d', markersize=47, markeredgewidth=3, markeredgecolor='#a6a6a6')\n",
    "ax.plot(55, 0, 'o', color='orange',  markersize=47, markeredgewidth=3, markeredgecolor='#4d4d4d')\n",
    "fig"
   ]
  },
  {
   "cell_type": "code",
   "execution_count": null,
   "metadata": {},
   "outputs": [],
   "source": [
    "## add the label & remove the axis & border\n",
    "ax.text(0,0.4,'Main Account', horizontalalignment='left', verticalalignment='bottom', fontsize=24, color='#4d4d4d')\n",
    "ax.grid(False)\n",
    "ax.axis('off')\n",
    "fig"
   ]
  },
  {
   "cell_type": "markdown",
   "metadata": {},
   "source": [
    "Once your done, you can wrap it in a function, so next time you simple call the funnction!"
   ]
  },
  {
   "cell_type": "code",
   "execution_count": null,
   "metadata": {},
   "outputs": [],
   "source": [
    "def create_indexing_plot(name, scale_min, scale_max, pop_val, grp_val, grp_color, ax):\n",
    "    ax.plot([scale_min, scale_max], [0,0], '-', c='#a6a6a6', linewidth=10)\n",
    "    ax.plot([scale_min, scale_max], [0,0], '-', c='#4d4d4d', linewidth= 5)\n",
    "    ax.set_ylim(bottom=-0.4, top=0.6)\n",
    "    ## plot the markers\n",
    "    ax.plot(pop_val, 0, 'o', color='#4d4d4d', markersize=22, markeredgewidth=3, markeredgecolor='#a6a6a6')\n",
    "    ax.plot(grp_val, 0, 'o', color=grp_color, markersize=22, markeredgewidth=3, markeredgecolor='#4d4d4d')\n",
    "    ## add the label\n",
    "    ax.text(0, 0.35, name, horizontalalignment='left', verticalalignment='bottom', fontdict={'family':'Arial', 'color':'#4d4d4d', 'weight':'bold', 'size': 18, })\n",
    "    ## remove the axis & border\n",
    "    ax.grid(False)\n",
    "    ax.axis('off');"
   ]
  },
  {
   "cell_type": "code",
   "execution_count": null,
   "metadata": {},
   "outputs": [],
   "source": [
    "fig, ax = plt.subplots(figsize=(5,1.2))\n",
    "create_indexing_plot('Committed', 0, 100, 50, 10, 'red', ax)"
   ]
  },
  {
   "cell_type": "code",
   "execution_count": null,
   "metadata": {},
   "outputs": [],
   "source": [
    "fig, axs = plt.subplots(nrows=5, figsize=(5,5*1.2))\n",
    "create_indexing_plot('Committed',     0, 100, 50, 70, '#ffcc00', axs[0])\n",
    "create_indexing_plot('Sole Account',  0, 100, 70, 80, '#ffcc00', axs[1])\n",
    "create_indexing_plot('Joint Account', 0, 100, 40, 55, '#ffcc00', axs[2])\n",
    "create_indexing_plot('Credit Card',   0, 100, 20, 30, '#ffcc00', axs[3])\n",
    "create_indexing_plot('Mortgage',      0, 100,  5, 23, '#ffcc00', axs[4])\n",
    "fig.savefig('plots/example_matplotlib_BYO.svg', format='svg')"
   ]
  },
  {
   "cell_type": "code",
   "execution_count": null,
   "metadata": {},
   "outputs": [],
   "source": [
    "!open plots/example_matplotlib_BYO.svg"
   ]
  },
  {
   "cell_type": "markdown",
   "metadata": {},
   "source": [
    "## Build Your Own Spider"
   ]
  },
  {
   "cell_type": "code",
   "execution_count": null,
   "metadata": {},
   "outputs": [],
   "source": [
    "lbl = ['Aaaa','Bbbbbb','Ccc Cccc','Dd','Eeeeee eee']\n",
    "val = [   0.4,     0.5,       0.3, 0.8,         0.6]"
   ]
  },
  {
   "cell_type": "code",
   "execution_count": null,
   "metadata": {},
   "outputs": [],
   "source": [
    "## create figure and add polar axes\n",
    "fig = plt.figure(figsize=(6, 6))\n",
    "## note: dimensions [left, bottom, width, height] of the new axes are in fractions of figure width and height.\n",
    "ax  = fig.add_axes([0.2, 0.2, 0.8, 0.8], polar=True)"
   ]
  },
  {
   "cell_type": "code",
   "execution_count": null,
   "metadata": {},
   "outputs": [],
   "source": [
    "## remove some fluff not needed\n",
    "ax.get_yaxis().set_ticks([])\n",
    "ax.get_xaxis().set_ticks([])\n",
    "ax.spines['polar'].set_visible(False)\n",
    "ax.grid(False)\n",
    "fig"
   ]
  },
  {
   "cell_type": "code",
   "execution_count": null,
   "metadata": {},
   "outputs": [],
   "source": [
    "## draw the frame: an 'axis' for each dimension\n",
    "theta = np.linspace(0, 2*np.pi, len(lbl), endpoint=False) + np.pi/2\n",
    "## plot the 'frame' of the spiderplot\n",
    "for ix in range(len(lbl)): \n",
    "    a = theta[ix] % (2*np.pi)\n",
    "    ## plot the spokes using polar coordinates (angle, length)\n",
    "    ax.plot([a,a], [0,1], '-', c='gray', linewidth=2)\n",
    "    ## plot label\n",
    "    align = 'center' if ((np.abs(a-np.pi/2)<0.1) or (np.abs(a-np.pi*3/2)<0.1)) else \\\n",
    "            'right'  if ((a>(np.pi/2)) and (a<(np.pi*3/2))) else \\\n",
    "            'left'\n",
    "    ax.text(theta[ix], 1.1, lbl[ix], ha=align, fontdict={'family':'Arial', 'size':14, 'color':'gray'})\n",
    "## plot the outer polygon\n",
    "ax.plot(np.append(theta,theta[0]), np.ones(len(theta)+1), '-', c='gray', linewidth=2)\n",
    "fig"
   ]
  },
  {
   "cell_type": "code",
   "execution_count": null,
   "metadata": {},
   "outputs": [],
   "source": [
    "## now add the spider\n",
    "ax.plot(np.append(theta,theta[0]), np.append(val,val[0]), 'blue', linewidth=2)\n",
    "ax.fill(np.append(theta,theta[0]), np.append(val,val[0]), 'blue', alpha=0.2)\n",
    "ax.set_title('SEGMENT 1\\n-------------------------------------', fontdict={'family':'Arial', 'color':'#4d4d4d', 'weight':'bold', 'size': 18})\n",
    "fig"
   ]
  },
  {
   "cell_type": "markdown",
   "metadata": {},
   "source": [
    "Again, once your done, you can wrap it in a function, and subsequently simply call the function ..."
   ]
  },
  {
   "cell_type": "code",
   "execution_count": null,
   "metadata": {},
   "outputs": [],
   "source": [
    "def spider(ttl, lbl, val, color, size=(6,6), fontsize=14, filename=None):\n",
    "    # create figure\n",
    "    fig = plt.figure(figsize=size)\n",
    "    ax  = fig.add_axes([0.2, 0.2, 0.8, 0.8], polar=True)\n",
    "    ## clean\n",
    "    ax.get_yaxis().set_ticks([])\n",
    "    ax.get_xaxis().set_ticks([])\n",
    "    ax.spines['polar'].set_visible(False)\n",
    "    ax.grid(False)\n",
    "    # build frame\n",
    "    theta = np.linspace(0, 2*np.pi, len(lbl), endpoint=False) + np.pi/2\n",
    "    for ix in range(len(lbl)): \n",
    "        a = theta[ix] % (2*np.pi)\n",
    "        ax.plot([a,a], [0,1], '-', c='gray', linewidth=2)\n",
    "        align = 'center' if ((np.abs(a-np.pi/2)<0.1) or (np.abs(a-np.pi*3/2)<0.1)) else \\\n",
    "                'right'  if ((a>(np.pi/2)) and (a<(np.pi*3/2))) else \\\n",
    "                'left'\n",
    "        ax.text(theta[ix], 1.1, lbl[ix], ha=align, fontdict={'family':'Arial', 'size':fontsize, 'color':'gray'})\n",
    "    ## now add the spider\n",
    "    ax.plot(np.append(theta,theta[0]), np.append(val,val[0]), color, linewidth=2)\n",
    "    ax.fill(np.append(theta,theta[0]), np.append(val,val[0]), color, alpha=0.2)\n",
    "    ## add the title\n",
    "    ax.set_title(ttl + '\\n' + '-'*50, fontdict={'family':'Arial', 'color':'#4d4d4d', 'weight':'bold', 'size': fontsize+2})\n",
    "    return ax"
   ]
  },
  {
   "cell_type": "code",
   "execution_count": null,
   "metadata": {
    "scrolled": true
   },
   "outputs": [],
   "source": [
    "s0 = spider('SEGMENT ONE',\n",
    "            ['committed','main account','credit card','savings account','mortgage','personal loan'], \n",
    "            [        0.8,           0.6,          0.4,              0.7,       0.2,            0.1],\n",
    "            '#ff3300', \n",
    "            size=(3,3), \n",
    "            fontsize=11\n",
    "           )\n",
    "s0.figure.savefig('plots/spider_start.svg', format='svg', bbox_inches='tight')"
   ]
  },
  {
   "cell_type": "code",
   "execution_count": null,
   "metadata": {},
   "outputs": [],
   "source": [
    "!open plots/spider_start.svg"
   ]
  },
  {
   "cell_type": "markdown",
   "metadata": {},
   "source": [
    "## 3D"
   ]
  },
  {
   "cell_type": "code",
   "execution_count": null,
   "metadata": {},
   "outputs": [],
   "source": [
    "from mpl_toolkits.mplot3d import Axes3D"
   ]
  },
  {
   "cell_type": "code",
   "execution_count": null,
   "metadata": {},
   "outputs": [],
   "source": [
    "%matplotlib inline\n",
    "fig = plt.figure()\n",
    "ax  = fig.add_axes([0,0,1,1], projection='3d')"
   ]
  },
  {
   "cell_type": "code",
   "execution_count": null,
   "metadata": {},
   "outputs": [],
   "source": [
    "type(ax)"
   ]
  },
  {
   "cell_type": "code",
   "execution_count": null,
   "metadata": {},
   "outputs": [],
   "source": [
    "[m for m in dir(ax) if '3D' in m]"
   ]
  },
  {
   "cell_type": "code",
   "execution_count": null,
   "metadata": {},
   "outputs": [],
   "source": [
    "## changing the 'notebook' backend. gives extra functionality\n",
    "%matplotlib notebook\n",
    "fig  = plt.figure()\n",
    "ax3d = fig.add_axes([0,0,1,1], projection='3d')\n",
    "##\n",
    "z_line = np.linspace(0, 15, 1000)\n",
    "x_line = np.cos(z_line)\n",
    "y_line = np.sin(z_line)\n",
    "##\n",
    "ax3d.plot3D(x_line, y_line, z_line, 'gray')"
   ]
  },
  {
   "cell_type": "code",
   "execution_count": null,
   "metadata": {},
   "outputs": [],
   "source": [
    "z_points = 15 * np.random.random(100)\n",
    "x_points = np.cos(z_points) + 0.1 * np.random.randn(100)\n",
    "y_points = np.sin(z_points) + 0.1 * np.random.randn(100)\n",
    "pt_sizes = np.random.choice([10,100,1000], size=100)\n",
    "ax3d.scatter3D(x_points, y_points, z_points, s=pt_sizes, c=z_points, cmap='hsv');\n",
    "fig"
   ]
  },
  {
   "cell_type": "markdown",
   "metadata": {},
   "source": [
    "Matplotlib has some pretty advanced functions for 3d plotting, see [mplot3d-toolkit](https://matplotlib.org/3.1.1/tutorials/toolkits/mplot3d.html#the-mplot3d-toolkit).<br>\n",
    "For instance, use plot_trisurf to create a really smooth 3D surface using triangulation."
   ]
  },
  {
   "cell_type": "code",
   "execution_count": null,
   "metadata": {},
   "outputs": [],
   "source": [
    "## define grid one (x, y) - plane using angles and radii\n",
    "radii  = np.linspace(0.125, 1.0, 8)\n",
    "angles = np.linspace(0, 2 * np.pi, 36, endpoint=False)\n",
    "# Repeat all angles for each radius.\n",
    "angles = np.repeat(angles[..., np.newaxis], len(radii), axis=1)\n",
    "# Convert polar (radii, angles) coords to cartesian (x, y) coords.\n",
    "x = np.append(0, (radii*np.cos(angles)).flatten())\n",
    "y = np.append(0, (radii*np.sin(angles)).flatten())\n",
    "z = np.sin(-1*x*y)\n",
    "##\n",
    "fig  = plt.figure()\n",
    "ax3d = fig.add_axes([0,0,1,1], projection='3d')\n",
    "##\n",
    "ax3d.plot_trisurf(x, y, z, antialiased=True)"
   ]
  },
  {
   "cell_type": "code",
   "execution_count": null,
   "metadata": {},
   "outputs": [],
   "source": [
    "ax3d.figure.savefig('plots/3d_example.svg', format='svg', bbox_inches='tight')"
   ]
  },
  {
   "cell_type": "code",
   "execution_count": null,
   "metadata": {},
   "outputs": [],
   "source": [
    "!open plots/3d_example.svg"
   ]
  },
  {
   "cell_type": "markdown",
   "metadata": {},
   "source": [
    "## Wrapping Up"
   ]
  },
  {
   "cell_type": "markdown",
   "metadata": {},
   "source": [
    "I have only touched on the powerfull capabilities matplotlib has on offer. There are many more types of plots predefined.<br>\n",
    "But it would leave no time for other plotting libraries that, in all likelyhood, will offer an easier API to get most things done in a few lines of code.<br><br>\n",
    "A good location to dive deeper into Matplotlib is through the elaborate [documentation](https://matplotlib.org/3.2.1/contents.html)"
   ]
  },
  {
   "cell_type": "markdown",
   "metadata": {},
   "source": [
    "# Seaborn"
   ]
  },
  {
   "cell_type": "markdown",
   "metadata": {},
   "source": [
    "Seaborn is a Python data visualization library based on matplotlib, and provides a high-level interface for drawing attractive and informative statistical graphics.<br>\n",
    "The goal is to make it simple to produce insightfull plots with only a few lines of code.<br>\n",
    "Think of Seaborn as a very well written library of 'build your own' functions & classes that were written on top of Matplotlib to make your life a lot easier.<br>\n",
    "It is often more difficult to tweak and change all aspects of the plot, but creating good looking plots with a pretty layout on top of Matplotlib is hard work!<br><br>\n",
    "It is pretty standards to use alias **sns** and to also set a style immediately after loading:"
   ]
  },
  {
   "cell_type": "code",
   "execution_count": null,
   "metadata": {},
   "outputs": [],
   "source": [
    "import matplotlib.pyplot as plt\n",
    "\n",
    "import seaborn as sns\n",
    "sns.set(style=\"whitegrid\")"
   ]
  },
  {
   "cell_type": "markdown",
   "metadata": {},
   "source": [
    "For a good overview, of all Seaborn has on offer look at the [API documentation](https://seaborn.pydata.org/api.html#).<br>\n",
    "Let's read some data to play with ..."
   ]
  },
  {
   "cell_type": "code",
   "execution_count": null,
   "metadata": {},
   "outputs": [],
   "source": [
    "## let's grab some example data\n",
    "tips        = pd.read_csv('data/tips.csv')\n",
    "tips.sex    = tips.sex.astype('category')\n",
    "tips.smoker = tips.smoker.astype('category')\n",
    "tips.day    = tips.day.astype('category')\n",
    "tips.time   = tips.time.astype('category')\n",
    "tips.head()"
   ]
  },
  {
   "cell_type": "markdown",
   "metadata": {},
   "source": [
    "As a first example, use **relplot** to produce a figure showing the relationship between two variables with semantic mappings of subsets:\n",
    "* scatterplot: kind=\"scatter\"\n",
    "* of bill x tip: *x=\"total_bill\", y=\"tip\"*\n",
    "* columns split by the level's of time: *col=\"time\"*\n",
    "* and further symantic mappings:\n",
    "  * colored by smoker: *hue=\"smoker\"*\n",
    "  * marker style by day: *style=\"day\"*\n",
    "  * sized by size: *size=\"size\"*"
   ]
  },
  {
   "cell_type": "code",
   "execution_count": null,
   "metadata": {
    "scrolled": false
   },
   "outputs": [],
   "source": [
    "sns.relplot(x=\"total_bill\", y=\"tip\", kind=\"scatter\", col=\"time\", hue=\"smoker\", style=\"day\", size=\"size\", data=tips)"
   ]
  },
  {
   "cell_type": "markdown",
   "metadata": {},
   "source": [
    "In general, it is a lot harder to tweak your figure using the underlying matplotlib functionality.<br>\n",
    "Seaborn makes it a lot easier to produce complex plots with just a few lines of code, but it is more difficult to tweak your plot afterwards.<br>\n",
    "On a positive note, most of the functions come with a wide range of parameters to tune the result.<br>\n",
    "Also, Seaborn comes with a [seaborn.set()](https://seaborn.pydata.org/generated/seaborn.set.html) function you can use to configure it."
   ]
  },
  {
   "cell_type": "code",
   "execution_count": null,
   "metadata": {},
   "outputs": [],
   "source": [
    "colors = [\"#FF0B04\", \"#4374B3\"]\n",
    "\n",
    "sns.set(font_scale=1.5, palette=colors)\n",
    "\n",
    "g = sns.relplot(x=\"total_bill\", y=\"tip\", kind=\"scatter\", col=\"time\", hue=\"smoker\", style=\"day\", size=\"size\", sizes=(50, 500), alpha=0.5, data=tips, height=7, aspect=1.5)\n",
    "\n",
    "## plt, as in the plt from: import matplotlib.pyplot as plt\n",
    "## basically gives you an interface into the matplotlib world\n",
    "plt.subplots_adjust(top=0.9) ## (1) make room for title\n",
    "g.fig.suptitle('Total Bill -X- Tip -By- Time', fontdict={'color':'darkgreen', 'family':'Bauhaus 93'}) ## add the title\n",
    "\n",
    "## undo change to font_scale for future plots\n",
    "sns.set()"
   ]
  },
  {
   "cell_type": "markdown",
   "metadata": {},
   "source": [
    "## FacetGrid"
   ]
  },
  {
   "cell_type": "markdown",
   "metadata": {},
   "source": [
    "Facegrid let's you set up a grid, and susequently *map* a plotting function into each of the subplots in the grid ..."
   ]
  },
  {
   "cell_type": "code",
   "execution_count": null,
   "metadata": {
    "scrolled": false
   },
   "outputs": [],
   "source": [
    "sns.set(font_scale=1.4, palette=colors)\n",
    "g = sns.FacetGrid(tips, row=\"time\", col=\"day\", height=4, hue=\"sex\", hue_kws={\"marker\": [\"^\", \"v\"]})\n",
    "g.map(plt.scatter, \"total_bill\", \"tip\")\n",
    "g.add_legend();\n",
    "sns.set()"
   ]
  },
  {
   "cell_type": "markdown",
   "metadata": {},
   "source": [
    "## Bubble Plot"
   ]
  },
  {
   "cell_type": "code",
   "execution_count": null,
   "metadata": {},
   "outputs": [],
   "source": [
    "sns.set(font_scale=1.5)\n",
    "cmDay = {'Fri':'#66cc00', 'Sat':'#ffcc00', 'Sun':'#ff751a', 'Thur':'#b82e8a'}\n",
    "_, ax = plt.subplots(figsize=(20,10))\n",
    "sns.scatterplot(x='total_bill', y='tip', hue='day', size='size', sizes=(100,2000), palette=cmDay, alpha=0.5, data=tips, ax=ax)\n",
    "ax.legend(loc='center left', bbox_to_anchor=(1.0, 0.5), ncol=2)\n",
    "ax.set_title('Some cheerfull bubbles !!!')\n",
    "sns.set()\n",
    "\n",
    "print(type(ax))"
   ]
  },
  {
   "cell_type": "markdown",
   "metadata": {},
   "source": [
    "Please note that **sns.scatterplot** returns a **matplotlib.axes._subplots.AxesSubplot**.<br> \n",
    " It’s important to know about a major distinction between seaborn plotting functions, all the plots are either:\n",
    " * **figure-level**: in which case you need to use plt to get entry into the Matplotlib world\n",
    " * **axes-level**: in which case the recipe: ax = sns.some_plotting_function() ... ax.set_some_property() works best"
   ]
  },
  {
   "cell_type": "markdown",
   "metadata": {},
   "source": [
    "## Violin Plot"
   ]
  },
  {
   "cell_type": "markdown",
   "metadata": {},
   "source": [
    "A violin-plot gives insight into distributions split by some categorical. They are a refined version of the well-known box-plot."
   ]
  },
  {
   "cell_type": "code",
   "execution_count": null,
   "metadata": {
    "scrolled": true
   },
   "outputs": [],
   "source": [
    "fig, ax = plt.subplots(figsize=(15,5))\n",
    "sns.violinplot(x='sex', y='tip', data=tips, ax=ax)"
   ]
  },
  {
   "cell_type": "code",
   "execution_count": null,
   "metadata": {},
   "outputs": [],
   "source": [
    "tips['gender_and_table_size'] = tips.sex.astype(str) + '_' + tips['size'].apply(str)"
   ]
  },
  {
   "cell_type": "code",
   "execution_count": null,
   "metadata": {},
   "outputs": [],
   "source": [
    "fig, ax = plt.subplots(figsize=(20,5))\n",
    "sns.violinplot(x='gender_and_table_size', y='tip', data=tips.sort_values('gender_and_table_size'), ax=ax)"
   ]
  },
  {
   "cell_type": "markdown",
   "metadata": {},
   "source": [
    "## Joint KDE Plot"
   ]
  },
  {
   "cell_type": "markdown",
   "metadata": {},
   "source": [
    "A **joinplot** gives a nice bi-variate scatterplot with the marginals on to and on the side.<br>\n",
    "Use *kind='reg'* to get obtain a scatteplot with a regression line:"
   ]
  },
  {
   "cell_type": "code",
   "execution_count": null,
   "metadata": {
    "scrolled": false
   },
   "outputs": [],
   "source": [
    "sns.set(font_scale=1.5)\n",
    "ax = sns.jointplot(x='total_bill', y='tip', data=tips, color='orange', kind='reg')\n",
    "ax.fig.set_figwidth(10)\n",
    "ax.fig.set_figheight(10)\n",
    "sns.set(font_scale=1.0)\n",
    "ax.fig.savefig('plots/sns_jointplot.svg')"
   ]
  },
  {
   "cell_type": "code",
   "execution_count": null,
   "metadata": {},
   "outputs": [],
   "source": [
    "!open plots/sns_jointplot.svg"
   ]
  },
  {
   "cell_type": "markdown",
   "metadata": {},
   "source": [
    "Regretably, this cannot be combined with *hue* to split by different levels of a categorical.<br>"
   ]
  },
  {
   "cell_type": "code",
   "execution_count": null,
   "metadata": {},
   "outputs": [],
   "source": [
    "tips.day.cat.categories"
   ]
  },
  {
   "cell_type": "code",
   "execution_count": null,
   "metadata": {},
   "outputs": [],
   "source": [
    "axs.shape"
   ]
  },
  {
   "cell_type": "code",
   "execution_count": null,
   "metadata": {
    "scrolled": false
   },
   "outputs": [],
   "source": [
    "_, axs = plt.subplots(ncols=4, figsize=(30,7))\n",
    "colors = ['#9900cc', '#3333cc', '#e60073', '#ff9933']\n",
    "for ix,(grp,df) in enumerate(tips.groupby('day')): \n",
    "    p = sns.jointplot('total_bill', 'tip', kind='reg', data=df, color=colors[ix], ax=axs[ix])\n",
    "    plt.title(grp)"
   ]
  },
  {
   "cell_type": "markdown",
   "metadata": {},
   "source": [
    "## Kernel Density Plot"
   ]
  },
  {
   "cell_type": "code",
   "execution_count": null,
   "metadata": {},
   "outputs": [],
   "source": []
  },
  {
   "cell_type": "code",
   "execution_count": null,
   "metadata": {},
   "outputs": [],
   "source": []
  },
  {
   "cell_type": "markdown",
   "metadata": {},
   "source": [
    "## FaceGrid"
   ]
  },
  {
   "cell_type": "code",
   "execution_count": null,
   "metadata": {},
   "outputs": [],
   "source": [
    "ax = sns.FacetGrid(tips, col='day', height=5, aspect=0.6);\n",
    "ax.map(sns.barplot, \"sex\", \"total_bill\", order=['Male','Female'], color='orange', alpha=0.5);"
   ]
  },
  {
   "cell_type": "code",
   "execution_count": null,
   "metadata": {},
   "outputs": [],
   "source": []
  },
  {
   "cell_type": "markdown",
   "metadata": {},
   "source": [
    "# Modern Visualization Using JavaScript"
   ]
  },
  {
   "cell_type": "code",
   "execution_count": null,
   "metadata": {},
   "outputs": [],
   "source": []
  },
  {
   "cell_type": "markdown",
   "metadata": {},
   "source": [
    "## Bokeh"
   ]
  },
  {
   "cell_type": "markdown",
   "metadata": {},
   "source": [
    "Bokeh is an interactive visualization library for modern web browsers. It provides elegant, concise construction of versatile graphics, and affords high-performance interactivity over large or streaming datasets.<br><br>\n",
    "\n",
    "Bokeh can help anyone who would like to quickly and easily make interactive plots, dashboards, and data applications.<br><br>\n",
    "\n",
    "Bokeh exposes two interface levels to users:\n",
    "* bokeh.models: A low-level interface that provides the most flexibility to application developers.\n",
    "* bokeh.plotting: A higher-level interface centered around composing visual glyphs.\n",
    "\n",
    "I don't want to go too deep into the specifics, but it pays to have a rough understanding of the **components** and lingo of Bokeh.<br>\n",
    "* <span style=\"color:blue;font-weight:bold\">application</span>: a Bokeh application is a recipe for generating Bokeh documents. Typically this is Python code **run by a Bokeh server** when new sessions are created. The Bokeh server, open a whole new world of interactive dashboards, but is out of scope her.\n",
    "* <span style=\"color:blue;font-weight:bold\">BokehJS</span>: the JavaScript client library that actually renders the visuals and handles the UI interactions for Bokeh plots and widgets in the browser. Typically, users will not have to think about this aspect of Bokeh much (“We write the JavaScript, so you don’t have to!”) but it is good to have basic knowledge of this dichotomy.\n",
    "* <span style=\"color:blue;font-weight:bold\">documents</span>: organizing data structure for Bokeh applications. Documents contain all the Bokeh Models and data needed to render an interactive visualization or application in the browser.\n",
    "* <span style=\"color:blue;font-weight:bold\">embedding</span>: various methods of including Bokeh plots and widgets into web apps and pages, or the IPython notebook. \n",
    "* <span style=\"color:blue;font-weight:bold\">glyphs</span>: the basic visual building blocks of Bokeh plots, e.g. lines, rectangles, squares, wedges, patches, etc. The bokeh.plotting interface provides a convenient way to create plots centered around glyphs.\n",
    "* <span style=\"color:blue;font-weight:bold\">models</span>: lowest-level objects that comprise Bokeh “scenegraphs”. Most users will not use this level of interface to assemble plots directly. However, ultimately all Bokeh plots consist of collections of models, so it is important to understand them enough to configure their attributes and properties.\n",
    "* <span style=\"color:blue;font-weight:bold\">server</span>: the Bokeh server is an optional component that can be used for sharing and publishing Bokeh plots and apps, for handling streaming of large data sets, or for enabling sophisticated user interactions based off of widgets and selections.\n",
    "* <span style=\"color:blue;font-weight:bold\">widgets</span>: user interface elements outside of a Bokeh plot such as sliders, drop down menus, buttons, etc. Events and updates from widgets can inform additional computations, or cause Bokeh plots to update.\n",
    "\n",
    "Let's start with a simple example:"
   ]
  },
  {
   "cell_type": "markdown",
   "metadata": {},
   "source": [
    "## HoloViews"
   ]
  },
  {
   "cell_type": "code",
   "execution_count": null,
   "metadata": {},
   "outputs": [],
   "source": []
  },
  {
   "cell_type": "code",
   "execution_count": null,
   "metadata": {},
   "outputs": [],
   "source": []
  },
  {
   "cell_type": "code",
   "execution_count": null,
   "metadata": {},
   "outputs": [],
   "source": []
  }
 ],
 "metadata": {
  "kernelspec": {
   "display_name": "Python 3",
   "language": "python",
   "name": "python3"
  },
  "language_info": {
   "codemirror_mode": {
    "name": "ipython",
    "version": 3
   },
   "file_extension": ".py",
   "mimetype": "text/x-python",
   "name": "python",
   "nbconvert_exporter": "python",
   "pygments_lexer": "ipython3",
   "version": "3.7.6"
  },
  "toc": {
   "base_numbering": 1,
   "nav_menu": {},
   "number_sections": true,
   "sideBar": true,
   "skip_h1_title": false,
   "title_cell": "Table of Contents",
   "title_sidebar": "Contents",
   "toc_cell": false,
   "toc_position": {},
   "toc_section_display": true,
   "toc_window_display": false
  }
 },
 "nbformat": 4,
 "nbformat_minor": 4
}
