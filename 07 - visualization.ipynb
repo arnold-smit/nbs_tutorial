{
 "cells": [
  {
   "cell_type": "markdown",
   "metadata": {},
   "source": [
    "# Visualization"
   ]
  },
  {
   "cell_type": "markdown",
   "metadata": {},
   "source": [
    "The visualization landscape is diverse.<br>\n",
    "There are many libraries available:<br>\n",
    "![python visualization libraries](plots/PythonVisLandscape.jpg)"
   ]
  },
  {
   "cell_type": "markdown",
   "metadata": {},
   "source": [
    "There are roughly three areas of interest:\n",
    "* matplotlib and all derived packages like seaborn\n",
    "* packages build around JavaScript, which offer interactivity in the browser. There exist a lot of different packages, but D3 & Vega are definitely important ones.\n",
    "  * Bokeh\n",
    "  * Altair\n",
    "* packages build around OpenGL (or Vulcan) and WebGL which offer the highest speed but are usually overkill, mostly used for high computational load applications like real-time 3D image rendering with complex surfaces (games, medical imaging, ...). This group of tools is out of scope here.\n",
    "\n",
    "The developement are fast, causing a scattered landscape (as is clear from the plot above). There have been multiple efforts to unify this landscape, but not very successfull (I guess one of few downsides of open-source). An initiative with a lot of cloud, trying to encourage and bring together a diverse set of tools under a single website is [PyViz](https://pyviz.org/index.html). The goal is to make everyone doing viz in Python more productive."
   ]
  },
  {
   "cell_type": "markdown",
   "metadata": {
    "heading_collapsed": true
   },
   "source": [
    "# Visualization Using Pandas"
   ]
  },
  {
   "cell_type": "markdown",
   "metadata": {
    "hidden": true
   },
   "source": [
    "Lets start with some of the plotting functionality that comes with [pandas](https://pandas.pydata.org/pandas-docs/stable/user_guide/visualization.html).<br>\n",
    "The basic plotting functionality in pandas is implemented using Matplotlib.<br><br>\n",
    "Note: There is an interesting package, hvplot, that will generate better looking and more interactive JavaScript based versions using almost the the same syntax. The only thing you need to do is to import it:\n",
    "```python\n",
    "import hvplot.pandas\n",
    "```"
   ]
  },
  {
   "cell_type": "code",
   "execution_count": 4,
   "metadata": {
    "hidden": true
   },
   "outputs": [],
   "source": [
    "import numpy as np\n",
    "import pandas as pd"
   ]
  },
  {
   "cell_type": "code",
   "execution_count": 7,
   "metadata": {
    "hidden": true,
    "scrolled": true
   },
   "outputs": [
    {
     "name": "stdout",
     "output_type": "stream",
     "text": [
      "Help on class PlotAccessor in module pandas.plotting._core:\n",
      "\n",
      "class PlotAccessor(pandas.core.base.PandasObject)\n",
      " |  PlotAccessor(data)\n",
      " |  \n",
      " |  Make plots of Series or DataFrame.\n",
      " |  \n",
      " |  Uses the backend specified by the\n",
      " |  option ``plotting.backend``. By default, matplotlib is used.\n",
      " |  \n",
      " |  Parameters\n",
      " |  ----------\n",
      " |  data : Series or DataFrame\n",
      " |      The object for which the method is called.\n",
      " |  x : label or position, default None\n",
      " |      Only used if data is a DataFrame.\n",
      " |  y : label, position or list of label, positions, default None\n",
      " |      Allows plotting of one column versus another. Only used if data is a\n",
      " |      DataFrame.\n",
      " |  kind : str\n",
      " |      The kind of plot to produce:\n",
      " |  \n",
      " |      - 'line' : line plot (default)\n",
      " |      - 'bar' : vertical bar plot\n",
      " |      - 'barh' : horizontal bar plot\n",
      " |      - 'hist' : histogram\n",
      " |      - 'box' : boxplot\n",
      " |      - 'kde' : Kernel Density Estimation plot\n",
      " |      - 'density' : same as 'kde'\n",
      " |      - 'area' : area plot\n",
      " |      - 'pie' : pie plot\n",
      " |      - 'scatter' : scatter plot\n",
      " |      - 'hexbin' : hexbin plot.\n",
      " |  \n",
      " |  figsize : a tuple (width, height) in inches\n",
      " |  use_index : bool, default True\n",
      " |      Use index as ticks for x axis.\n",
      " |  title : str or list\n",
      " |      Title to use for the plot. If a string is passed, print the string\n",
      " |      at the top of the figure. If a list is passed and `subplots` is\n",
      " |      True, print each item in the list above the corresponding subplot.\n",
      " |  grid : bool, default None (matlab style default)\n",
      " |      Axis grid lines.\n",
      " |  legend : bool or {'reverse'}\n",
      " |      Place legend on axis subplots.\n",
      " |  style : list or dict\n",
      " |      The matplotlib line style per column.\n",
      " |  logx : bool or 'sym', default False\n",
      " |      Use log scaling or symlog scaling on x axis.\n",
      " |      .. versionchanged:: 0.25.0\n",
      " |  \n",
      " |  logy : bool or 'sym' default False\n",
      " |      Use log scaling or symlog scaling on y axis.\n",
      " |      .. versionchanged:: 0.25.0\n",
      " |  \n",
      " |  loglog : bool or 'sym', default False\n",
      " |      Use log scaling or symlog scaling on both x and y axes.\n",
      " |      .. versionchanged:: 0.25.0\n",
      " |  \n",
      " |  xticks : sequence\n",
      " |      Values to use for the xticks.\n",
      " |  yticks : sequence\n",
      " |      Values to use for the yticks.\n",
      " |  xlim : 2-tuple/list\n",
      " |  ylim : 2-tuple/list\n",
      " |  rot : int, default None\n",
      " |      Rotation for ticks (xticks for vertical, yticks for horizontal\n",
      " |      plots).\n",
      " |  fontsize : int, default None\n",
      " |      Font size for xticks and yticks.\n",
      " |  colormap : str or matplotlib colormap object, default None\n",
      " |      Colormap to select colors from. If string, load colormap with that\n",
      " |      name from matplotlib.\n",
      " |  colorbar : bool, optional\n",
      " |      If True, plot colorbar (only relevant for 'scatter' and 'hexbin'\n",
      " |      plots).\n",
      " |  position : float\n",
      " |      Specify relative alignments for bar plot layout.\n",
      " |      From 0 (left/bottom-end) to 1 (right/top-end). Default is 0.5\n",
      " |      (center).\n",
      " |  table : bool, Series or DataFrame, default False\n",
      " |      If True, draw a table using the data in the DataFrame and the data\n",
      " |      will be transposed to meet matplotlib's default layout.\n",
      " |      If a Series or DataFrame is passed, use passed data to draw a\n",
      " |      table.\n",
      " |  yerr : DataFrame, Series, array-like, dict and str\n",
      " |      See :ref:`Plotting with Error Bars <visualization.errorbars>` for\n",
      " |      detail.\n",
      " |  xerr : DataFrame, Series, array-like, dict and str\n",
      " |      Equivalent to yerr.\n",
      " |  mark_right : bool, default True\n",
      " |      When using a secondary_y axis, automatically mark the column\n",
      " |      labels with \"(right)\" in the legend.\n",
      " |  include_bool : bool, default is False\n",
      " |      If True, boolean values can be plotted.\n",
      " |  backend : str, default None\n",
      " |      Backend to use instead of the backend specified in the option\n",
      " |      ``plotting.backend``. For instance, 'matplotlib'. Alternatively, to\n",
      " |      specify the ``plotting.backend`` for the whole session, set\n",
      " |      ``pd.options.plotting.backend``.\n",
      " |  \n",
      " |      .. versionadded:: 1.0.0\n",
      " |  \n",
      " |  **kwargs\n",
      " |      Options to pass to matplotlib plotting method.\n",
      " |  \n",
      " |  Returns\n",
      " |  -------\n",
      " |  :class:`matplotlib.axes.Axes` or numpy.ndarray of them\n",
      " |      If the backend is not the default matplotlib one, the return value\n",
      " |      will be the object returned by the backend.\n",
      " |  \n",
      " |  Notes\n",
      " |  -----\n",
      " |  - See matplotlib documentation online for more on this subject\n",
      " |  - If `kind` = 'bar' or 'barh', you can specify relative alignments\n",
      " |    for bar plot layout by `position` keyword.\n",
      " |    From 0 (left/bottom-end) to 1 (right/top-end). Default is 0.5\n",
      " |    (center)\n",
      " |  \n",
      " |  Method resolution order:\n",
      " |      PlotAccessor\n",
      " |      pandas.core.base.PandasObject\n",
      " |      pandas.core.accessor.DirNamesMixin\n",
      " |      builtins.object\n",
      " |  \n",
      " |  Methods defined here:\n",
      " |  \n",
      " |  __call__(self, *args, **kwargs)\n",
      " |      Make plots of Series or DataFrame.\n",
      " |      \n",
      " |      Uses the backend specified by the\n",
      " |      option ``plotting.backend``. By default, matplotlib is used.\n",
      " |      \n",
      " |      Parameters\n",
      " |      ----------\n",
      " |      data : Series or DataFrame\n",
      " |          The object for which the method is called.\n",
      " |      x : label or position, default None\n",
      " |          Only used if data is a DataFrame.\n",
      " |      y : label, position or list of label, positions, default None\n",
      " |          Allows plotting of one column versus another. Only used if data is a\n",
      " |          DataFrame.\n",
      " |      kind : str\n",
      " |          The kind of plot to produce:\n",
      " |      \n",
      " |          - 'line' : line plot (default)\n",
      " |          - 'bar' : vertical bar plot\n",
      " |          - 'barh' : horizontal bar plot\n",
      " |          - 'hist' : histogram\n",
      " |          - 'box' : boxplot\n",
      " |          - 'kde' : Kernel Density Estimation plot\n",
      " |          - 'density' : same as 'kde'\n",
      " |          - 'area' : area plot\n",
      " |          - 'pie' : pie plot\n",
      " |          - 'scatter' : scatter plot\n",
      " |          - 'hexbin' : hexbin plot.\n",
      " |      \n",
      " |      figsize : a tuple (width, height) in inches\n",
      " |      use_index : bool, default True\n",
      " |          Use index as ticks for x axis.\n",
      " |      title : str or list\n",
      " |          Title to use for the plot. If a string is passed, print the string\n",
      " |          at the top of the figure. If a list is passed and `subplots` is\n",
      " |          True, print each item in the list above the corresponding subplot.\n",
      " |      grid : bool, default None (matlab style default)\n",
      " |          Axis grid lines.\n",
      " |      legend : bool or {'reverse'}\n",
      " |          Place legend on axis subplots.\n",
      " |      style : list or dict\n",
      " |          The matplotlib line style per column.\n",
      " |      logx : bool or 'sym', default False\n",
      " |          Use log scaling or symlog scaling on x axis.\n",
      " |          .. versionchanged:: 0.25.0\n",
      " |      \n",
      " |      logy : bool or 'sym' default False\n",
      " |          Use log scaling or symlog scaling on y axis.\n",
      " |          .. versionchanged:: 0.25.0\n",
      " |      \n",
      " |      loglog : bool or 'sym', default False\n",
      " |          Use log scaling or symlog scaling on both x and y axes.\n",
      " |          .. versionchanged:: 0.25.0\n",
      " |      \n",
      " |      xticks : sequence\n",
      " |          Values to use for the xticks.\n",
      " |      yticks : sequence\n",
      " |          Values to use for the yticks.\n",
      " |      xlim : 2-tuple/list\n",
      " |      ylim : 2-tuple/list\n",
      " |      rot : int, default None\n",
      " |          Rotation for ticks (xticks for vertical, yticks for horizontal\n",
      " |          plots).\n",
      " |      fontsize : int, default None\n",
      " |          Font size for xticks and yticks.\n",
      " |      colormap : str or matplotlib colormap object, default None\n",
      " |          Colormap to select colors from. If string, load colormap with that\n",
      " |          name from matplotlib.\n",
      " |      colorbar : bool, optional\n",
      " |          If True, plot colorbar (only relevant for 'scatter' and 'hexbin'\n",
      " |          plots).\n",
      " |      position : float\n",
      " |          Specify relative alignments for bar plot layout.\n",
      " |          From 0 (left/bottom-end) to 1 (right/top-end). Default is 0.5\n",
      " |          (center).\n",
      " |      table : bool, Series or DataFrame, default False\n",
      " |          If True, draw a table using the data in the DataFrame and the data\n",
      " |          will be transposed to meet matplotlib's default layout.\n",
      " |          If a Series or DataFrame is passed, use passed data to draw a\n",
      " |          table.\n",
      " |      yerr : DataFrame, Series, array-like, dict and str\n",
      " |          See :ref:`Plotting with Error Bars <visualization.errorbars>` for\n",
      " |          detail.\n",
      " |      xerr : DataFrame, Series, array-like, dict and str\n",
      " |          Equivalent to yerr.\n",
      " |      mark_right : bool, default True\n",
      " |          When using a secondary_y axis, automatically mark the column\n",
      " |          labels with \"(right)\" in the legend.\n",
      " |      include_bool : bool, default is False\n",
      " |          If True, boolean values can be plotted.\n",
      " |      backend : str, default None\n",
      " |          Backend to use instead of the backend specified in the option\n",
      " |          ``plotting.backend``. For instance, 'matplotlib'. Alternatively, to\n",
      " |          specify the ``plotting.backend`` for the whole session, set\n",
      " |          ``pd.options.plotting.backend``.\n",
      " |      \n",
      " |          .. versionadded:: 1.0.0\n",
      " |      \n",
      " |      **kwargs\n",
      " |          Options to pass to matplotlib plotting method.\n",
      " |      \n",
      " |      Returns\n",
      " |      -------\n",
      " |      :class:`matplotlib.axes.Axes` or numpy.ndarray of them\n",
      " |          If the backend is not the default matplotlib one, the return value\n",
      " |          will be the object returned by the backend.\n",
      " |      \n",
      " |      Notes\n",
      " |      -----\n",
      " |      - See matplotlib documentation online for more on this subject\n",
      " |      - If `kind` = 'bar' or 'barh', you can specify relative alignments\n",
      " |        for bar plot layout by `position` keyword.\n",
      " |        From 0 (left/bottom-end) to 1 (right/top-end). Default is 0.5\n",
      " |        (center)\n",
      " |  \n",
      " |  __init__(self, data)\n",
      " |      Initialize self.  See help(type(self)) for accurate signature.\n",
      " |  \n",
      " |  area(self, x=None, y=None, **kwargs)\n",
      " |      Draw a stacked area plot.\n",
      " |      \n",
      " |      An area plot displays quantitative data visually.\n",
      " |      This function wraps the matplotlib area function.\n",
      " |      \n",
      " |      Parameters\n",
      " |      ----------\n",
      " |      x : label or position, optional\n",
      " |          Coordinates for the X axis. By default uses the index.\n",
      " |      y : label or position, optional\n",
      " |          Column to plot. By default uses all columns.\n",
      " |      stacked : bool, default True\n",
      " |          Area plots are stacked by default. Set to False to create a\n",
      " |          unstacked plot.\n",
      " |      **kwargs\n",
      " |          Additional keyword arguments are documented in\n",
      " |          :meth:`DataFrame.plot`.\n",
      " |      \n",
      " |      Returns\n",
      " |      -------\n",
      " |      matplotlib.axes.Axes or numpy.ndarray\n",
      " |          Area plot, or array of area plots if subplots is True.\n",
      " |      \n",
      " |      See Also\n",
      " |      --------\n",
      " |      DataFrame.plot : Make plots of DataFrame using matplotlib / pylab.\n",
      " |      \n",
      " |      Examples\n",
      " |      --------\n",
      " |      Draw an area plot based on basic business metrics:\n",
      " |      \n",
      " |      .. plot::\n",
      " |          :context: close-figs\n",
      " |      \n",
      " |          >>> df = pd.DataFrame({\n",
      " |          ...     'sales': [3, 2, 3, 9, 10, 6],\n",
      " |          ...     'signups': [5, 5, 6, 12, 14, 13],\n",
      " |          ...     'visits': [20, 42, 28, 62, 81, 50],\n",
      " |          ... }, index=pd.date_range(start='2018/01/01', end='2018/07/01',\n",
      " |          ...                        freq='M'))\n",
      " |          >>> ax = df.plot.area()\n",
      " |      \n",
      " |      Area plots are stacked by default. To produce an unstacked plot,\n",
      " |      pass ``stacked=False``:\n",
      " |      \n",
      " |      .. plot::\n",
      " |          :context: close-figs\n",
      " |      \n",
      " |          >>> ax = df.plot.area(stacked=False)\n",
      " |      \n",
      " |      Draw an area plot for a single column:\n",
      " |      \n",
      " |      .. plot::\n",
      " |          :context: close-figs\n",
      " |      \n",
      " |          >>> ax = df.plot.area(y='sales')\n",
      " |      \n",
      " |      Draw with a different `x`:\n",
      " |      \n",
      " |      .. plot::\n",
      " |          :context: close-figs\n",
      " |      \n",
      " |          >>> df = pd.DataFrame({\n",
      " |          ...     'sales': [3, 2, 3],\n",
      " |          ...     'visits': [20, 42, 28],\n",
      " |          ...     'day': [1, 2, 3],\n",
      " |          ... })\n",
      " |          >>> ax = df.plot.area(x='day')\n",
      " |  \n",
      " |  bar(self, x=None, y=None, **kwargs)\n",
      " |      Vertical bar plot.\n",
      " |      \n",
      " |      A bar plot is a plot that presents categorical data with\n",
      " |      rectangular bars with lengths proportional to the values that they\n",
      " |      represent. A bar plot shows comparisons among discrete categories. One\n",
      " |      axis of the plot shows the specific categories being compared, and the\n",
      " |      other axis represents a measured value.\n",
      " |      \n",
      " |      Parameters\n",
      " |      ----------\n",
      " |      x : label or position, optional\n",
      " |          Allows plotting of one column versus another. If not specified,\n",
      " |          the index of the DataFrame is used.\n",
      " |      y : label or position, optional\n",
      " |          Allows plotting of one column versus another. If not specified,\n",
      " |          all numerical columns are used.\n",
      " |      **kwargs\n",
      " |          Additional keyword arguments are documented in\n",
      " |          :meth:`DataFrame.plot`.\n",
      " |      \n",
      " |      Returns\n",
      " |      -------\n",
      " |      matplotlib.axes.Axes or np.ndarray of them\n",
      " |          An ndarray is returned with one :class:`matplotlib.axes.Axes`\n",
      " |          per column when ``subplots=True``.\n",
      " |      \n",
      " |      See Also\n",
      " |      --------\n",
      " |      DataFrame.plot.barh : Horizontal bar plot.\n",
      " |      DataFrame.plot : Make plots of a DataFrame.\n",
      " |      matplotlib.pyplot.bar : Make a bar plot with matplotlib.\n",
      " |      \n",
      " |      Examples\n",
      " |      --------\n",
      " |      Basic plot.\n",
      " |      \n",
      " |      .. plot::\n",
      " |          :context: close-figs\n",
      " |      \n",
      " |          >>> df = pd.DataFrame({'lab':['A', 'B', 'C'], 'val':[10, 30, 20]})\n",
      " |          >>> ax = df.plot.bar(x='lab', y='val', rot=0)\n",
      " |      \n",
      " |      Plot a whole dataframe to a bar plot. Each column is assigned a\n",
      " |      distinct color, and each row is nested in a group along the\n",
      " |      horizontal axis.\n",
      " |      \n",
      " |      .. plot::\n",
      " |          :context: close-figs\n",
      " |      \n",
      " |          >>> speed = [0.1, 17.5, 40, 48, 52, 69, 88]\n",
      " |          >>> lifespan = [2, 8, 70, 1.5, 25, 12, 28]\n",
      " |          >>> index = ['snail', 'pig', 'elephant',\n",
      " |          ...          'rabbit', 'giraffe', 'coyote', 'horse']\n",
      " |          >>> df = pd.DataFrame({'speed': speed,\n",
      " |          ...                    'lifespan': lifespan}, index=index)\n",
      " |          >>> ax = df.plot.bar(rot=0)\n",
      " |      \n",
      " |      Instead of nesting, the figure can be split by column with\n",
      " |      ``subplots=True``. In this case, a :class:`numpy.ndarray` of\n",
      " |      :class:`matplotlib.axes.Axes` are returned.\n",
      " |      \n",
      " |      .. plot::\n",
      " |          :context: close-figs\n",
      " |      \n",
      " |          >>> axes = df.plot.bar(rot=0, subplots=True)\n",
      " |          >>> axes[1].legend(loc=2)  # doctest: +SKIP\n",
      " |      \n",
      " |      Plot a single column.\n",
      " |      \n",
      " |      .. plot::\n",
      " |          :context: close-figs\n",
      " |      \n",
      " |          >>> ax = df.plot.bar(y='speed', rot=0)\n",
      " |      \n",
      " |      Plot only selected categories for the DataFrame.\n",
      " |      \n",
      " |      .. plot::\n",
      " |          :context: close-figs\n",
      " |      \n",
      " |          >>> ax = df.plot.bar(x='lifespan', rot=0)\n",
      " |  \n",
      " |  barh(self, x=None, y=None, **kwargs)\n",
      " |      Make a horizontal bar plot.\n",
      " |      \n",
      " |      A horizontal bar plot is a plot that presents quantitative data with\n",
      " |      rectangular bars with lengths proportional to the values that they\n",
      " |      represent. A bar plot shows comparisons among discrete categories. One\n",
      " |      axis of the plot shows the specific categories being compared, and the\n",
      " |      other axis represents a measured value.\n",
      " |      \n",
      " |      Parameters\n",
      " |      ----------\n",
      " |      x : label or position, default DataFrame.index\n",
      " |          Column to be used for categories.\n",
      " |      y : label or position, default All numeric columns in dataframe\n",
      " |          Columns to be plotted from the DataFrame.\n",
      " |      **kwargs\n",
      " |          Keyword arguments to pass on to :meth:`DataFrame.plot`.\n",
      " |      \n",
      " |      Returns\n",
      " |      -------\n",
      " |      :class:`matplotlib.axes.Axes` or numpy.ndarray of them\n",
      " |      \n",
      " |      See Also\n",
      " |      --------\n",
      " |      DataFrame.plot.bar: Vertical bar plot.\n",
      " |      DataFrame.plot : Make plots of DataFrame using matplotlib.\n",
      " |      matplotlib.axes.Axes.bar : Plot a vertical bar plot using matplotlib.\n",
      " |      \n",
      " |      Examples\n",
      " |      --------\n",
      " |      Basic example\n",
      " |      \n",
      " |      .. plot::\n",
      " |          :context: close-figs\n",
      " |      \n",
      " |          >>> df = pd.DataFrame({'lab': ['A', 'B', 'C'], 'val': [10, 30, 20]})\n",
      " |          >>> ax = df.plot.barh(x='lab', y='val')\n",
      " |      \n",
      " |      Plot a whole DataFrame to a horizontal bar plot\n",
      " |      \n",
      " |      .. plot::\n",
      " |          :context: close-figs\n",
      " |      \n",
      " |          >>> speed = [0.1, 17.5, 40, 48, 52, 69, 88]\n",
      " |          >>> lifespan = [2, 8, 70, 1.5, 25, 12, 28]\n",
      " |          >>> index = ['snail', 'pig', 'elephant',\n",
      " |          ...          'rabbit', 'giraffe', 'coyote', 'horse']\n",
      " |          >>> df = pd.DataFrame({'speed': speed,\n",
      " |          ...                    'lifespan': lifespan}, index=index)\n",
      " |          >>> ax = df.plot.barh()\n",
      " |      \n",
      " |      Plot a column of the DataFrame to a horizontal bar plot\n",
      " |      \n",
      " |      .. plot::\n",
      " |          :context: close-figs\n",
      " |      \n",
      " |          >>> speed = [0.1, 17.5, 40, 48, 52, 69, 88]\n",
      " |          >>> lifespan = [2, 8, 70, 1.5, 25, 12, 28]\n",
      " |          >>> index = ['snail', 'pig', 'elephant',\n",
      " |          ...          'rabbit', 'giraffe', 'coyote', 'horse']\n",
      " |          >>> df = pd.DataFrame({'speed': speed,\n",
      " |          ...                    'lifespan': lifespan}, index=index)\n",
      " |          >>> ax = df.plot.barh(y='speed')\n",
      " |      \n",
      " |      Plot DataFrame versus the desired column\n",
      " |      \n",
      " |      .. plot::\n",
      " |          :context: close-figs\n",
      " |      \n",
      " |          >>> speed = [0.1, 17.5, 40, 48, 52, 69, 88]\n",
      " |          >>> lifespan = [2, 8, 70, 1.5, 25, 12, 28]\n",
      " |          >>> index = ['snail', 'pig', 'elephant',\n",
      " |          ...          'rabbit', 'giraffe', 'coyote', 'horse']\n",
      " |          >>> df = pd.DataFrame({'speed': speed,\n",
      " |          ...                    'lifespan': lifespan}, index=index)\n",
      " |          >>> ax = df.plot.barh(x='lifespan')\n",
      " |  \n",
      " |  box(self, by=None, **kwargs)\n",
      " |      Make a box plot of the DataFrame columns.\n",
      " |      \n",
      " |      A box plot is a method for graphically depicting groups of numerical\n",
      " |      data through their quartiles.\n",
      " |      The box extends from the Q1 to Q3 quartile values of the data,\n",
      " |      with a line at the median (Q2). The whiskers extend from the edges\n",
      " |      of box to show the range of the data. The position of the whiskers\n",
      " |      is set by default to 1.5*IQR (IQR = Q3 - Q1) from the edges of the\n",
      " |      box. Outlier points are those past the end of the whiskers.\n",
      " |      \n",
      " |      For further details see Wikipedia's\n",
      " |      entry for `boxplot <https://en.wikipedia.org/wiki/Box_plot>`__.\n",
      " |      \n",
      " |      A consideration when using this chart is that the box and the whiskers\n",
      " |      can overlap, which is very common when plotting small sets of data.\n",
      " |      \n",
      " |      Parameters\n",
      " |      ----------\n",
      " |      by : str or sequence\n",
      " |          Column in the DataFrame to group by.\n",
      " |      **kwargs\n",
      " |          Additional keywords are documented in\n",
      " |          :meth:`DataFrame.plot`.\n",
      " |      \n",
      " |      Returns\n",
      " |      -------\n",
      " |      :class:`matplotlib.axes.Axes` or numpy.ndarray of them\n",
      " |      \n",
      " |      See Also\n",
      " |      --------\n",
      " |      DataFrame.boxplot: Another method to draw a box plot.\n",
      " |      Series.plot.box: Draw a box plot from a Series object.\n",
      " |      matplotlib.pyplot.boxplot: Draw a box plot in matplotlib.\n",
      " |      \n",
      " |      Examples\n",
      " |      --------\n",
      " |      Draw a box plot from a DataFrame with four columns of randomly\n",
      " |      generated data.\n",
      " |      \n",
      " |      .. plot::\n",
      " |          :context: close-figs\n",
      " |      \n",
      " |          >>> data = np.random.randn(25, 4)\n",
      " |          >>> df = pd.DataFrame(data, columns=list('ABCD'))\n",
      " |          >>> ax = df.plot.box()\n",
      " |  \n",
      " |  density = kde(self, bw_method=None, ind=None, **kwargs)\n",
      " |  \n",
      " |  hexbin(self, x, y, C=None, reduce_C_function=None, gridsize=None, **kwargs)\n",
      " |      Generate a hexagonal binning plot.\n",
      " |      \n",
      " |      Generate a hexagonal binning plot of `x` versus `y`. If `C` is `None`\n",
      " |      (the default), this is a histogram of the number of occurrences\n",
      " |      of the observations at ``(x[i], y[i])``.\n",
      " |      \n",
      " |      If `C` is specified, specifies values at given coordinates\n",
      " |      ``(x[i], y[i])``. These values are accumulated for each hexagonal\n",
      " |      bin and then reduced according to `reduce_C_function`,\n",
      " |      having as default the NumPy's mean function (:meth:`numpy.mean`).\n",
      " |      (If `C` is specified, it must also be a 1-D sequence\n",
      " |      of the same length as `x` and `y`, or a column label.)\n",
      " |      \n",
      " |      Parameters\n",
      " |      ----------\n",
      " |      x : int or str\n",
      " |          The column label or position for x points.\n",
      " |      y : int or str\n",
      " |          The column label or position for y points.\n",
      " |      C : int or str, optional\n",
      " |          The column label or position for the value of `(x, y)` point.\n",
      " |      reduce_C_function : callable, default `np.mean`\n",
      " |          Function of one argument that reduces all the values in a bin to\n",
      " |          a single number (e.g. `np.mean`, `np.max`, `np.sum`, `np.std`).\n",
      " |      gridsize : int or tuple of (int, int), default 100\n",
      " |          The number of hexagons in the x-direction.\n",
      " |          The corresponding number of hexagons in the y-direction is\n",
      " |          chosen in a way that the hexagons are approximately regular.\n",
      " |          Alternatively, gridsize can be a tuple with two elements\n",
      " |          specifying the number of hexagons in the x-direction and the\n",
      " |          y-direction.\n",
      " |      **kwargs\n",
      " |          Additional keyword arguments are documented in\n",
      " |          :meth:`DataFrame.plot`.\n",
      " |      \n",
      " |      Returns\n",
      " |      -------\n",
      " |      matplotlib.AxesSubplot\n",
      " |          The matplotlib ``Axes`` on which the hexbin is plotted.\n",
      " |      \n",
      " |      See Also\n",
      " |      --------\n",
      " |      DataFrame.plot : Make plots of a DataFrame.\n",
      " |      matplotlib.pyplot.hexbin : Hexagonal binning plot using matplotlib,\n",
      " |          the matplotlib function that is used under the hood.\n",
      " |      \n",
      " |      Examples\n",
      " |      --------\n",
      " |      The following examples are generated with random data from\n",
      " |      a normal distribution.\n",
      " |      \n",
      " |      .. plot::\n",
      " |          :context: close-figs\n",
      " |      \n",
      " |          >>> n = 10000\n",
      " |          >>> df = pd.DataFrame({'x': np.random.randn(n),\n",
      " |          ...                    'y': np.random.randn(n)})\n",
      " |          >>> ax = df.plot.hexbin(x='x', y='y', gridsize=20)\n",
      " |      \n",
      " |      The next example uses `C` and `np.sum` as `reduce_C_function`.\n",
      " |      Note that `'observations'` values ranges from 1 to 5 but the result\n",
      " |      plot shows values up to more than 25. This is because of the\n",
      " |      `reduce_C_function`.\n",
      " |      \n",
      " |      .. plot::\n",
      " |          :context: close-figs\n",
      " |      \n",
      " |          >>> n = 500\n",
      " |          >>> df = pd.DataFrame({\n",
      " |          ...     'coord_x': np.random.uniform(-3, 3, size=n),\n",
      " |          ...     'coord_y': np.random.uniform(30, 50, size=n),\n",
      " |          ...     'observations': np.random.randint(1,5, size=n)\n",
      " |          ...     })\n",
      " |          >>> ax = df.plot.hexbin(x='coord_x',\n",
      " |          ...                     y='coord_y',\n",
      " |          ...                     C='observations',\n",
      " |          ...                     reduce_C_function=np.sum,\n",
      " |          ...                     gridsize=10,\n",
      " |          ...                     cmap=\"viridis\")\n",
      " |  \n",
      " |  hist(self, by=None, bins=10, **kwargs)\n",
      " |      Draw one histogram of the DataFrame's columns.\n",
      " |      \n",
      " |      A histogram is a representation of the distribution of data.\n",
      " |      This function groups the values of all given Series in the DataFrame\n",
      " |      into bins and draws all bins in one :class:`matplotlib.axes.Axes`.\n",
      " |      This is useful when the DataFrame's Series are in a similar scale.\n",
      " |      \n",
      " |      Parameters\n",
      " |      ----------\n",
      " |      by : str or sequence, optional\n",
      " |          Column in the DataFrame to group by.\n",
      " |      bins : int, default 10\n",
      " |          Number of histogram bins to be used.\n",
      " |      **kwargs\n",
      " |          Additional keyword arguments are documented in\n",
      " |          :meth:`DataFrame.plot`.\n",
      " |      \n",
      " |      Returns\n",
      " |      -------\n",
      " |      class:`matplotlib.AxesSubplot`\n",
      " |          Return a histogram plot.\n",
      " |      \n",
      " |      See Also\n",
      " |      --------\n",
      " |      DataFrame.hist : Draw histograms per DataFrame's Series.\n",
      " |      Series.hist : Draw a histogram with Series' data.\n",
      " |      \n",
      " |      Examples\n",
      " |      --------\n",
      " |      When we draw a dice 6000 times, we expect to get each value around 1000\n",
      " |      times. But when we draw two dices and sum the result, the distribution\n",
      " |      is going to be quite different. A histogram illustrates those\n",
      " |      distributions.\n",
      " |      \n",
      " |      .. plot::\n",
      " |          :context: close-figs\n",
      " |      \n",
      " |          >>> df = pd.DataFrame(\n",
      " |          ...     np.random.randint(1, 7, 6000),\n",
      " |          ...     columns = ['one'])\n",
      " |          >>> df['two'] = df['one'] + np.random.randint(1, 7, 6000)\n",
      " |          >>> ax = df.plot.hist(bins=12, alpha=0.5)\n",
      " |  \n",
      " |  kde(self, bw_method=None, ind=None, **kwargs)\n",
      " |      Generate Kernel Density Estimate plot using Gaussian kernels.\n",
      " |      \n",
      " |      In statistics, `kernel density estimation`_ (KDE) is a non-parametric\n",
      " |      way to estimate the probability density function (PDF) of a random\n",
      " |      variable. This function uses Gaussian kernels and includes automatic\n",
      " |      bandwidth determination.\n",
      " |      \n",
      " |      .. _kernel density estimation:\n",
      " |          https://en.wikipedia.org/wiki/Kernel_density_estimation\n",
      " |      \n",
      " |      Parameters\n",
      " |      ----------\n",
      " |      bw_method : str, scalar or callable, optional\n",
      " |          The method used to calculate the estimator bandwidth. This can be\n",
      " |          'scott', 'silverman', a scalar constant or a callable.\n",
      " |          If None (default), 'scott' is used.\n",
      " |          See :class:`scipy.stats.gaussian_kde` for more information.\n",
      " |      ind : NumPy array or int, optional\n",
      " |          Evaluation points for the estimated PDF. If None (default),\n",
      " |          1000 equally spaced points are used. If `ind` is a NumPy array, the\n",
      " |          KDE is evaluated at the points passed. If `ind` is an integer,\n",
      " |          `ind` number of equally spaced points are used.\n",
      " |      **kwargs\n",
      " |          Additional keyword arguments are documented in\n",
      " |          :meth:`pandas.%(this-datatype)s.plot`.\n",
      " |      \n",
      " |      Returns\n",
      " |      -------\n",
      " |      matplotlib.axes.Axes or numpy.ndarray of them\n",
      " |      \n",
      " |      See Also\n",
      " |      --------\n",
      " |      scipy.stats.gaussian_kde : Representation of a kernel-density\n",
      " |          estimate using Gaussian kernels. This is the function used\n",
      " |          internally to estimate the PDF.\n",
      " |      \n",
      " |      Examples\n",
      " |      --------\n",
      " |      Given a Series of points randomly sampled from an unknown\n",
      " |      distribution, estimate its PDF using KDE with automatic\n",
      " |      bandwidth determination and plot the results, evaluating them at\n",
      " |      1000 equally spaced points (default):\n",
      " |      \n",
      " |      .. plot::\n",
      " |          :context: close-figs\n",
      " |      \n",
      " |          >>> s = pd.Series([1, 2, 2.5, 3, 3.5, 4, 5])\n",
      " |          >>> ax = s.plot.kde()\n",
      " |      \n",
      " |      A scalar bandwidth can be specified. Using a small bandwidth value can\n",
      " |      lead to over-fitting, while using a large bandwidth value may result\n",
      " |      in under-fitting:\n",
      " |      \n",
      " |      .. plot::\n",
      " |          :context: close-figs\n",
      " |      \n",
      " |          >>> ax = s.plot.kde(bw_method=0.3)\n",
      " |      \n",
      " |      .. plot::\n",
      " |          :context: close-figs\n",
      " |      \n",
      " |          >>> ax = s.plot.kde(bw_method=3)\n",
      " |      \n",
      " |      Finally, the `ind` parameter determines the evaluation points for the\n",
      " |      plot of the estimated PDF:\n",
      " |      \n",
      " |      .. plot::\n",
      " |          :context: close-figs\n",
      " |      \n",
      " |          >>> ax = s.plot.kde(ind=[1, 2, 3, 4, 5])\n",
      " |      \n",
      " |      For DataFrame, it works in the same way:\n",
      " |      \n",
      " |      .. plot::\n",
      " |          :context: close-figs\n",
      " |      \n",
      " |          >>> df = pd.DataFrame({\n",
      " |          ...     'x': [1, 2, 2.5, 3, 3.5, 4, 5],\n",
      " |          ...     'y': [4, 4, 4.5, 5, 5.5, 6, 6],\n",
      " |          ... })\n",
      " |          >>> ax = df.plot.kde()\n",
      " |      \n",
      " |      A scalar bandwidth can be specified. Using a small bandwidth value can\n",
      " |      lead to over-fitting, while using a large bandwidth value may result\n",
      " |      in under-fitting:\n",
      " |      \n",
      " |      .. plot::\n",
      " |          :context: close-figs\n",
      " |      \n",
      " |          >>> ax = df.plot.kde(bw_method=0.3)\n",
      " |      \n",
      " |      .. plot::\n",
      " |          :context: close-figs\n",
      " |      \n",
      " |          >>> ax = df.plot.kde(bw_method=3)\n",
      " |      \n",
      " |      Finally, the `ind` parameter determines the evaluation points for the\n",
      " |      plot of the estimated PDF:\n",
      " |      \n",
      " |      .. plot::\n",
      " |          :context: close-figs\n",
      " |      \n",
      " |          >>> ax = df.plot.kde(ind=[1, 2, 3, 4, 5, 6])\n",
      " |  \n",
      " |  line(self, x=None, y=None, **kwargs)\n",
      " |      Plot Series or DataFrame as lines.\n",
      " |      \n",
      " |      This function is useful to plot lines using DataFrame's values\n",
      " |      as coordinates.\n",
      " |      \n",
      " |      Parameters\n",
      " |      ----------\n",
      " |      x : int or str, optional\n",
      " |          Columns to use for the horizontal axis.\n",
      " |          Either the location or the label of the columns to be used.\n",
      " |          By default, it will use the DataFrame indices.\n",
      " |      y : int, str, or list of them, optional\n",
      " |          The values to be plotted.\n",
      " |          Either the location or the label of the columns to be used.\n",
      " |          By default, it will use the remaining DataFrame numeric columns.\n",
      " |      **kwargs\n",
      " |          Keyword arguments to pass on to :meth:`DataFrame.plot`.\n",
      " |      \n",
      " |      Returns\n",
      " |      -------\n",
      " |      :class:`matplotlib.axes.Axes` or :class:`numpy.ndarray`\n",
      " |          Return an ndarray when ``subplots=True``.\n",
      " |      \n",
      " |      See Also\n",
      " |      --------\n",
      " |      matplotlib.pyplot.plot : Plot y versus x as lines and/or markers.\n",
      " |      \n",
      " |      Examples\n",
      " |      --------\n",
      " |      \n",
      " |      .. plot::\n",
      " |          :context: close-figs\n",
      " |      \n",
      " |          >>> s = pd.Series([1, 3, 2])\n",
      " |          >>> s.plot.line()\n",
      " |      \n",
      " |      .. plot::\n",
      " |          :context: close-figs\n",
      " |      \n",
      " |          The following example shows the populations for some animals\n",
      " |          over the years.\n",
      " |      \n",
      " |          >>> df = pd.DataFrame({\n",
      " |          ...    'pig': [20, 18, 489, 675, 1776],\n",
      " |          ...    'horse': [4, 25, 281, 600, 1900]\n",
      " |          ...    }, index=[1990, 1997, 2003, 2009, 2014])\n",
      " |          >>> lines = df.plot.line()\n",
      " |      \n",
      " |      .. plot::\n",
      " |         :context: close-figs\n",
      " |      \n",
      " |         An example with subplots, so an array of axes is returned.\n",
      " |      \n",
      " |         >>> axes = df.plot.line(subplots=True)\n",
      " |         >>> type(axes)\n",
      " |         <class 'numpy.ndarray'>\n",
      " |      \n",
      " |      .. plot::\n",
      " |          :context: close-figs\n",
      " |      \n",
      " |          The following example shows the relationship between both\n",
      " |          populations.\n",
      " |      \n",
      " |          >>> lines = df.plot.line(x='pig', y='horse')\n",
      " |  \n",
      " |  pie(self, **kwargs)\n",
      " |      Generate a pie plot.\n",
      " |      \n",
      " |      A pie plot is a proportional representation of the numerical data in a\n",
      " |      column. This function wraps :meth:`matplotlib.pyplot.pie` for the\n",
      " |      specified column. If no column reference is passed and\n",
      " |      ``subplots=True`` a pie plot is drawn for each numerical column\n",
      " |      independently.\n",
      " |      \n",
      " |      Parameters\n",
      " |      ----------\n",
      " |      y : int or label, optional\n",
      " |          Label or position of the column to plot.\n",
      " |          If not provided, ``subplots=True`` argument must be passed.\n",
      " |      **kwargs\n",
      " |          Keyword arguments to pass on to :meth:`DataFrame.plot`.\n",
      " |      \n",
      " |      Returns\n",
      " |      -------\n",
      " |      matplotlib.axes.Axes or np.ndarray of them\n",
      " |          A NumPy array is returned when `subplots` is True.\n",
      " |      \n",
      " |      See Also\n",
      " |      --------\n",
      " |      Series.plot.pie : Generate a pie plot for a Series.\n",
      " |      DataFrame.plot : Make plots of a DataFrame.\n",
      " |      \n",
      " |      Examples\n",
      " |      --------\n",
      " |      In the example below we have a DataFrame with the information about\n",
      " |      planet's mass and radius. We pass the the 'mass' column to the\n",
      " |      pie function to get a pie plot.\n",
      " |      \n",
      " |      .. plot::\n",
      " |          :context: close-figs\n",
      " |      \n",
      " |          >>> df = pd.DataFrame({'mass': [0.330, 4.87 , 5.97],\n",
      " |          ...                    'radius': [2439.7, 6051.8, 6378.1]},\n",
      " |          ...                   index=['Mercury', 'Venus', 'Earth'])\n",
      " |          >>> plot = df.plot.pie(y='mass', figsize=(5, 5))\n",
      " |      \n",
      " |      .. plot::\n",
      " |          :context: close-figs\n",
      " |      \n",
      " |          >>> plot = df.plot.pie(subplots=True, figsize=(6, 3))\n",
      " |  \n",
      " |  scatter(self, x, y, s=None, c=None, **kwargs)\n",
      " |      Create a scatter plot with varying marker point size and color.\n",
      " |      \n",
      " |      The coordinates of each point are defined by two dataframe columns and\n",
      " |      filled circles are used to represent each point. This kind of plot is\n",
      " |      useful to see complex correlations between two variables. Points could\n",
      " |      be for instance natural 2D coordinates like longitude and latitude in\n",
      " |      a map or, in general, any pair of metrics that can be plotted against\n",
      " |      each other.\n",
      " |      \n",
      " |      Parameters\n",
      " |      ----------\n",
      " |      x : int or str\n",
      " |          The column name or column position to be used as horizontal\n",
      " |          coordinates for each point.\n",
      " |      y : int or str\n",
      " |          The column name or column position to be used as vertical\n",
      " |          coordinates for each point.\n",
      " |      s : scalar or array_like, optional\n",
      " |          The size of each point. Possible values are:\n",
      " |      \n",
      " |          - A single scalar so all points have the same size.\n",
      " |      \n",
      " |          - A sequence of scalars, which will be used for each point's size\n",
      " |            recursively. For instance, when passing [2,14] all points size\n",
      " |            will be either 2 or 14, alternatively.\n",
      " |      \n",
      " |      c : str, int or array_like, optional\n",
      " |          The color of each point. Possible values are:\n",
      " |      \n",
      " |          - A single color string referred to by name, RGB or RGBA code,\n",
      " |            for instance 'red' or '#a98d19'.\n",
      " |      \n",
      " |          - A sequence of color strings referred to by name, RGB or RGBA\n",
      " |            code, which will be used for each point's color recursively. For\n",
      " |            instance ['green','yellow'] all points will be filled in green or\n",
      " |            yellow, alternatively.\n",
      " |      \n",
      " |          - A column name or position whose values will be used to color the\n",
      " |            marker points according to a colormap.\n",
      " |      \n",
      " |      **kwargs\n",
      " |          Keyword arguments to pass on to :meth:`DataFrame.plot`.\n",
      " |      \n",
      " |      Returns\n",
      " |      -------\n",
      " |      :class:`matplotlib.axes.Axes` or numpy.ndarray of them\n",
      " |      \n",
      " |      See Also\n",
      " |      --------\n",
      " |      matplotlib.pyplot.scatter : Scatter plot using multiple input data\n",
      " |          formats.\n",
      " |      \n",
      " |      Examples\n",
      " |      --------\n",
      " |      Let's see how to draw a scatter plot using coordinates from the values\n",
      " |      in a DataFrame's columns.\n",
      " |      \n",
      " |      .. plot::\n",
      " |          :context: close-figs\n",
      " |      \n",
      " |          >>> df = pd.DataFrame([[5.1, 3.5, 0], [4.9, 3.0, 0], [7.0, 3.2, 1],\n",
      " |          ...                    [6.4, 3.2, 1], [5.9, 3.0, 2]],\n",
      " |          ...                   columns=['length', 'width', 'species'])\n",
      " |          >>> ax1 = df.plot.scatter(x='length',\n",
      " |          ...                       y='width',\n",
      " |          ...                       c='DarkBlue')\n",
      " |      \n",
      " |      And now with the color determined by a column as well.\n",
      " |      \n",
      " |      .. plot::\n",
      " |          :context: close-figs\n",
      " |      \n",
      " |          >>> ax2 = df.plot.scatter(x='length',\n",
      " |          ...                       y='width',\n",
      " |          ...                       c='species',\n",
      " |          ...                       colormap='viridis')\n",
      " |  \n",
      " |  ----------------------------------------------------------------------\n",
      " |  Methods inherited from pandas.core.base.PandasObject:\n",
      " |  \n",
      " |  __repr__(self) -> str\n",
      " |      Return a string representation for a particular object.\n",
      " |  \n",
      " |  __sizeof__(self)\n",
      " |      Generates the total memory usage for an object that returns\n",
      " |      either a value or Series of values\n",
      " |  \n",
      " |  ----------------------------------------------------------------------\n",
      " |  Methods inherited from pandas.core.accessor.DirNamesMixin:\n",
      " |  \n",
      " |  __dir__(self)\n",
      " |      Provide method name lookup and completion.\n",
      " |      \n",
      " |      Notes\n",
      " |      -----\n",
      " |      Only provide 'public' methods.\n",
      " |  \n",
      " |  ----------------------------------------------------------------------\n",
      " |  Data descriptors inherited from pandas.core.accessor.DirNamesMixin:\n",
      " |  \n",
      " |  __dict__\n",
      " |      dictionary for instance variables (if defined)\n",
      " |  \n",
      " |  __weakref__\n",
      " |      list of weak references to the object (if defined)\n",
      " |  \n",
      " |  ----------------------------------------------------------------------\n",
      " |  Data and other attributes inherited from pandas.core.accessor.DirNamesMixin:\n",
      " |  \n",
      " |  __annotations__ = {'_accessors': typing.Set[str], '_deprecations': typ...\n",
      "\n"
     ]
    }
   ],
   "source": [
    "help(pd.DataFrame.plot)"
   ]
  },
  {
   "cell_type": "markdown",
   "metadata": {
    "heading_collapsed": true,
    "hidden": true
   },
   "source": [
    "## Simple scatter plot"
   ]
  },
  {
   "cell_type": "markdown",
   "metadata": {
    "hidden": true
   },
   "source": [
    "Give the x & y coordinates of the plot. Can also give a size and color column.<br>\n",
    "When using the size and color, need to pass in as series and not as column names (suspect this is a bug that will get fixed)."
   ]
  },
  {
   "cell_type": "code",
   "execution_count": 76,
   "metadata": {
    "hidden": true
   },
   "outputs": [],
   "source": [
    "df = pd.DataFrame({'x':np.random.randn(25), 'y':np.random.randn(25)})"
   ]
  },
  {
   "cell_type": "code",
   "execution_count": 77,
   "metadata": {
    "hidden": true
   },
   "outputs": [
    {
     "data": {
      "text/plain": [
       "<matplotlib.axes._subplots.AxesSubplot at 0x11c462e50>"
      ]
     },
     "execution_count": 77,
     "metadata": {},
     "output_type": "execute_result"
    },
    {
     "data": {
      "image/png": "[encoded data removed]",
      "text/plain": [
       "<Figure size 432x288 with 1 Axes>"
      ]
     },
     "metadata": {
      "needs_background": "light"
     },
     "output_type": "display_data"
    }
   ],
   "source": [
    "df.plot.scatter(x='x', y='y')"
   ]
  },
  {
   "cell_type": "code",
   "execution_count": 79,
   "metadata": {
    "hidden": true
   },
   "outputs": [
    {
     "data": {
      "text/plain": [
       "<matplotlib.axes._subplots.AxesSubplot at 0x11c586890>"
      ]
     },
     "execution_count": 79,
     "metadata": {},
     "output_type": "execute_result"
    },
    {
     "data": {
      "image/png": "[encoded data removed]",
      "text/plain": [
       "<Figure size 432x288 with 1 Axes>"
      ]
     },
     "metadata": {
      "needs_background": "light"
     },
     "output_type": "display_data"
    }
   ],
   "source": [
    "# s: size & c: color\n",
    "df.plot.scatter(x='x', y='y', s=100, c='red')"
   ]
  },
  {
   "cell_type": "code",
   "execution_count": 111,
   "metadata": {
    "hidden": true
   },
   "outputs": [
    {
     "data": {
      "text/plain": [
       "array([300, 100, 300, 300, 100, 200, 200, 100, 200, 300, 100, 300, 100,\n",
       "       100, 200, 100, 100, 200, 200, 300, 100, 100, 300, 100, 300])"
      ]
     },
     "execution_count": 111,
     "metadata": {},
     "output_type": "execute_result"
    }
   ],
   "source": [
    "np.random.choice([100,200,300], size=25)"
   ]
  },
  {
   "cell_type": "code",
   "execution_count": 242,
   "metadata": {
    "hidden": true
   },
   "outputs": [],
   "source": [
    "df = pd.DataFrame({'x':  np.random.randn(25), \n",
    "                   'y':  np.random.randn(25), \n",
    "                   'sz': np.random.choice([10,100,1000], size=25),\n",
    "                   'cl': np.random.choice(['red','blue','green','orange'], size=25)\n",
    "                  })"
   ]
  },
  {
   "cell_type": "code",
   "execution_count": 245,
   "metadata": {
    "hidden": true
   },
   "outputs": [
    {
     "data": {
      "text/plain": [
       "<matplotlib.axes._subplots.AxesSubplot at 0x1a2894d290>"
      ]
     },
     "execution_count": 245,
     "metadata": {},
     "output_type": "execute_result"
    },
    {
     "data": {
      "image/png": "[encoded data removed]",
      "text/plain": [
       "<Figure size 432x288 with 1 Axes>"
      ]
     },
     "metadata": {
      "needs_background": "light"
     },
     "output_type": "display_data"
    }
   ],
   "source": [
    "df.plot.scatter(x='x', y='y', s=df.sz, c=df.cl, alpha=0.4)"
   ]
  },
  {
   "cell_type": "markdown",
   "metadata": {
    "heading_collapsed": true,
    "hidden": true
   },
   "source": [
    "## TimeSeries"
   ]
  },
  {
   "cell_type": "markdown",
   "metadata": {
    "hidden": true
   },
   "source": [
    "Each column is a timeseries."
   ]
  },
  {
   "cell_type": "code",
   "execution_count": 230,
   "metadata": {
    "hidden": true
   },
   "outputs": [],
   "source": [
    "df = pd.read_csv('data/GOOG.csv', index_col='Date')"
   ]
  },
  {
   "cell_type": "code",
   "execution_count": 233,
   "metadata": {
    "hidden": true
   },
   "outputs": [],
   "source": [
    "df.index = pd.to_datetime(df.index)"
   ]
  },
  {
   "cell_type": "code",
   "execution_count": 240,
   "metadata": {
    "hidden": true
   },
   "outputs": [
    {
     "data": {
      "text/plain": [
       "<matplotlib.axes._subplots.AxesSubplot at 0x1a2989a610>"
      ]
     },
     "execution_count": 240,
     "metadata": {},
     "output_type": "execute_result"
    },
    {
     "data": {
      "image/png": "[encoded data removed]",
      "text/plain": [
       "<Figure size 432x288 with 1 Axes>"
      ]
     },
     "metadata": {
      "needs_background": "light"
     },
     "output_type": "display_data"
    }
   ],
   "source": [
    "df.loc[df.index.year >= 2013][['Low','High']].plot.line()"
   ]
  },
  {
   "cell_type": "markdown",
   "metadata": {
    "heading_collapsed": true,
    "hidden": true
   },
   "source": [
    "## Area plot"
   ]
  },
  {
   "cell_type": "markdown",
   "metadata": {
    "hidden": true
   },
   "source": [
    "Each column is a timeseries, that get stacked on top of each other and filling the area between."
   ]
  },
  {
   "cell_type": "code",
   "execution_count": 255,
   "metadata": {
    "hidden": true
   },
   "outputs": [],
   "source": [
    "dates = pd.date_range(start='2018/01/01', end='2018/05/01', freq='W')\n",
    "df = pd.DataFrame({\n",
    "    'soup':     np.random.choice(np.arange(10,21,5), size=len(dates)),\n",
    "    'chips':    np.random.choice(np.arange(10,31,5), size=len(dates)),\n",
    "    'sandwich': np.random.choice(np.arange(10,31,2), size=len(dates))\n",
    "}, index=dates)"
   ]
  },
  {
   "cell_type": "code",
   "execution_count": 269,
   "metadata": {
    "hidden": true
   },
   "outputs": [
    {
     "data": {
      "text/plain": [
       "<matplotlib.axes._subplots.AxesSubplot at 0x1a2a11f710>"
      ]
     },
     "execution_count": 269,
     "metadata": {},
     "output_type": "execute_result"
    },
    {
     "data": {
      "image/png": "[encoded data removed]",
      "text/plain": [
       "<Figure size 432x288 with 1 Axes>"
      ]
     },
     "metadata": {
      "needs_background": "light"
     },
     "output_type": "display_data"
    }
   ],
   "source": [
    "df.plot.area(color=['red','blue','orange'], legend='right', title='Total Sales')"
   ]
  },
  {
   "cell_type": "markdown",
   "metadata": {
    "heading_collapsed": true,
    "hidden": true
   },
   "source": [
    "## Pie Chart"
   ]
  },
  {
   "cell_type": "markdown",
   "metadata": {
    "hidden": true
   },
   "source": [
    "Produces a Pie for column `y` where each category is defined in a row with label row index."
   ]
  },
  {
   "cell_type": "code",
   "execution_count": 282,
   "metadata": {
    "hidden": true
   },
   "outputs": [
    {
     "data": {
      "text/html": [
       "<div>\n",
       "<style scoped>\n",
       "    .dataframe tbody tr th:only-of-type {\n",
       "        vertical-align: middle;\n",
       "    }\n",
       "\n",
       "    .dataframe tbody tr th {\n",
       "        vertical-align: top;\n",
       "    }\n",
       "\n",
       "    .dataframe thead th {\n",
       "        text-align: right;\n",
       "    }\n",
       "</style>\n",
       "<table border=\"1\" class=\"dataframe\">\n",
       "  <thead>\n",
       "    <tr style=\"text-align: right;\">\n",
       "      <th></th>\n",
       "      <th>count</th>\n",
       "      <th>ca_balance</th>\n",
       "    </tr>\n",
       "  </thead>\n",
       "  <tbody>\n",
       "    <tr>\n",
       "      <th>committed</th>\n",
       "      <td>0.4</td>\n",
       "      <td>2.000000e+09</td>\n",
       "    </tr>\n",
       "    <tr>\n",
       "      <th>not committed</th>\n",
       "      <td>0.6</td>\n",
       "      <td>5.000000e+08</td>\n",
       "    </tr>\n",
       "  </tbody>\n",
       "</table>\n",
       "</div>"
      ],
      "text/plain": [
       "               count    ca_balance\n",
       "committed        0.4  2.000000e+09\n",
       "not committed    0.6  5.000000e+08"
      ]
     },
     "execution_count": 282,
     "metadata": {},
     "output_type": "execute_result"
    }
   ],
   "source": [
    "df = pd.DataFrame({'count':  [0.4, 0.6], 'ca_balance': [2e9, 0.5e9]}, index=['committed', 'not committed'])\n",
    "df"
   ]
  },
  {
   "cell_type": "code",
   "execution_count": 283,
   "metadata": {
    "hidden": true
   },
   "outputs": [
    {
     "data": {
      "text/plain": [
       "array([<matplotlib.axes._subplots.AxesSubplot object at 0x1a2a719b10>,\n",
       "       <matplotlib.axes._subplots.AxesSubplot object at 0x1a2a7439d0>],\n",
       "      dtype=object)"
      ]
     },
     "execution_count": 283,
     "metadata": {},
     "output_type": "execute_result"
    },
    {
     "data": {
      "image/png": "[encoded data removed]",
      "text/plain": [
       "<Figure size 432x288 with 2 Axes>"
      ]
     },
     "metadata": {},
     "output_type": "display_data"
    }
   ],
   "source": [
    "df.plot.pie(subplots=True)"
   ]
  },
  {
   "cell_type": "code",
   "execution_count": 284,
   "metadata": {
    "hidden": true
   },
   "outputs": [],
   "source": [
    "# or, if we start with raw data ...\n",
    "df = pd.DataFrame({'committed': np.random.choice(['yes','no'], p=[0.7,0.3], size=100),\n",
    "                   'main':      np.random.choice(['yes','no','unknown'], p=[0.3,0.6,0.1], size=100)\n",
    "                  })"
   ]
  },
  {
   "cell_type": "code",
   "execution_count": 285,
   "metadata": {
    "hidden": true
   },
   "outputs": [
    {
     "data": {
      "text/plain": [
       "<matplotlib.axes._subplots.AxesSubplot at 0x1a2a807110>"
      ]
     },
     "execution_count": 285,
     "metadata": {},
     "output_type": "execute_result"
    },
    {
     "data": {
      "image/png": "[encoded data removed]",
      "text/plain": [
       "<Figure size 432x288 with 1 Axes>"
      ]
     },
     "metadata": {},
     "output_type": "display_data"
    }
   ],
   "source": [
    "# aggregate and then plot\n",
    "df.committed.value_counts().plot.pie()"
   ]
  },
  {
   "cell_type": "markdown",
   "metadata": {
    "heading_collapsed": true,
    "hidden": true
   },
   "source": [
    "## Heatmaps - Hexbin"
   ]
  },
  {
   "cell_type": "markdown",
   "metadata": {
    "hidden": true
   },
   "source": [
    "Scatterplots loose their meaning when a lot of data is plotted."
   ]
  },
  {
   "cell_type": "markdown",
   "metadata": {
    "hidden": true
   },
   "source": [
    "scatterplot lose their meaning when too many data points are involved"
   ]
  },
  {
   "cell_type": "code",
   "execution_count": 287,
   "metadata": {
    "hidden": true
   },
   "outputs": [],
   "source": [
    "df = pd.concat([\n",
    "    pd.DataFrame({'x': +1 + 0.7 * np.random.randn(10_000), 'y': +1 + 0.7 * np.random.randn(10_000)}),\n",
    "    pd.DataFrame({'x': -1 + 0.7 * np.random.randn(10_000), 'y': -1 + 0.7 * np.random.randn(10_000)}),\n",
    "])"
   ]
  },
  {
   "cell_type": "code",
   "execution_count": 288,
   "metadata": {
    "hidden": true
   },
   "outputs": [
    {
     "data": {
      "text/plain": [
       "<matplotlib.axes._subplots.AxesSubplot at 0x1a2a7fdf50>"
      ]
     },
     "execution_count": 288,
     "metadata": {},
     "output_type": "execute_result"
    },
    {
     "data": {
      "image/png": "[encoded data removed]",
      "text/plain": [
       "<Figure size 432x288 with 1 Axes>"
      ]
     },
     "metadata": {
      "needs_background": "light"
     },
     "output_type": "display_data"
    }
   ],
   "source": [
    "df.plot.scatter(x='x', y='y')"
   ]
  },
  {
   "cell_type": "code",
   "execution_count": 290,
   "metadata": {
    "hidden": true
   },
   "outputs": [
    {
     "data": {
      "text/plain": [
       "<matplotlib.axes._subplots.AxesSubplot at 0x1a2abdd9d0>"
      ]
     },
     "execution_count": 290,
     "metadata": {},
     "output_type": "execute_result"
    },
    {
     "data": {
      "image/png": "[encoded data removed]",
      "text/plain": [
       "<Figure size 432x288 with 1 Axes>"
      ]
     },
     "metadata": {
      "needs_background": "light"
     },
     "output_type": "display_data"
    }
   ],
   "source": [
    "## using alpha helps is this scenario\n",
    "df.plot.scatter(x='x', y='y', alpha=0.1)"
   ]
  },
  {
   "cell_type": "code",
   "execution_count": 291,
   "metadata": {
    "hidden": true
   },
   "outputs": [
    {
     "data": {
      "text/plain": [
       "<matplotlib.axes._subplots.AxesSubplot at 0x1a2aba8290>"
      ]
     },
     "execution_count": 291,
     "metadata": {},
     "output_type": "execute_result"
    },
    {
     "data": {
      "image/png": "[encoded data removed]",
      "text/plain": [
       "<Figure size 432x288 with 2 Axes>"
      ]
     },
     "metadata": {
      "needs_background": "light"
     },
     "output_type": "display_data"
    }
   ],
   "source": [
    "## but is is better to use a heatmap\n",
    "df.plot.hexbin(x='x', y='y', gridsize=20)"
   ]
  },
  {
   "cell_type": "markdown",
   "metadata": {
    "hidden": true
   },
   "source": [
    "Heatmaps are great tools and become more powerfull when there is more data. Exactly the case when scatterplots become less usefull. And, as an huge added bonus, they use a lot less memory when exported to a lot of formats, because they only store use the bincounts.  "
   ]
  },
  {
   "cell_type": "markdown",
   "metadata": {
    "heading_collapsed": true,
    "hidden": true
   },
   "source": [
    "## Histogram - KDE"
   ]
  },
  {
   "cell_type": "code",
   "execution_count": 293,
   "metadata": {
    "hidden": true
   },
   "outputs": [
    {
     "data": {
      "text/plain": [
       "<matplotlib.axes._subplots.AxesSubplot at 0x1a25a10790>"
      ]
     },
     "execution_count": 293,
     "metadata": {},
     "output_type": "execute_result"
    },
    {
     "data": {
      "image/png": "[encoded data removed]",
      "text/plain": [
       "<Figure size 432x288 with 1 Axes>"
      ]
     },
     "metadata": {
      "needs_background": "light"
     },
     "output_type": "display_data"
    }
   ],
   "source": [
    "df.x.plot.hist(bins=50)"
   ]
  },
  {
   "cell_type": "code",
   "execution_count": 217,
   "metadata": {
    "hidden": true
   },
   "outputs": [
    {
     "data": {
      "text/plain": [
       "<matplotlib.axes._subplots.AxesSubplot at 0x1a22da2050>"
      ]
     },
     "execution_count": 217,
     "metadata": {},
     "output_type": "execute_result"
    },
    {
     "data": {
      "image/png": "[encoded data removed]",
      "text/plain": [
       "<Figure size 432x288 with 1 Axes>"
      ]
     },
     "metadata": {
      "needs_background": "light"
     },
     "output_type": "display_data"
    }
   ],
   "source": [
    "## pandas also gives a convenient way to get the Kernel Density Estimation of a variable ...\n",
    "df.x.plot.kde()"
   ]
  },
  {
   "cell_type": "code",
   "execution_count": 201,
   "metadata": {
    "hidden": true
   },
   "outputs": [
    {
     "data": {
      "text/plain": [
       "<matplotlib.axes._subplots.AxesSubplot at 0x1a225ab610>"
      ]
     },
     "execution_count": 201,
     "metadata": {},
     "output_type": "execute_result"
    },
    {
     "data": {
      "image/png": "[encoded data removed]",
      "text/plain": [
       "<Figure size 432x288 with 2 Axes>"
      ]
     },
     "metadata": {
      "needs_background": "light"
     },
     "output_type": "display_data"
    }
   ],
   "source": [
    "df.plot.hexbin(x='x', y='y', gridsize=20)"
   ]
  },
  {
   "cell_type": "markdown",
   "metadata": {},
   "source": [
    "# Matplotlib"
   ]
  },
  {
   "cell_type": "markdown",
   "metadata": {},
   "source": [
    "In the examples above Pandas offered a convenient way to plot using the Matplotlib library.<br>\n",
    "Matplotlib has been the core libarary for plotting for many years. It is very powerfull and flexible, but also quite complex and code intensive to acchieve what you want. For this reason, many more user-friendly API have been developed. Seaborn is probably the best known one.<br>\n",
    "Allthough more convenient API's exist, it pays to have a good understanding of Matplotlib. It will make it a lot easier to finetune your visuals."
   ]
  },
  {
   "cell_type": "markdown",
   "metadata": {},
   "source": [
    "## Basics"
   ]
  },
  {
   "cell_type": "markdown",
   "metadata": {},
   "source": [
    "## Scatter Plots"
   ]
  },
  {
   "cell_type": "markdown",
   "metadata": {
    "heading_collapsed": true
   },
   "source": [
    "## Line Plots"
   ]
  },
  {
   "cell_type": "code",
   "execution_count": null,
   "metadata": {
    "hidden": true
   },
   "outputs": [],
   "source": [
    "# plot function\n",
    "# fill area\n",
    "# stacked plot"
   ]
  },
  {
   "cell_type": "code",
   "execution_count": null,
   "metadata": {
    "hidden": true
   },
   "outputs": [],
   "source": []
  },
  {
   "cell_type": "markdown",
   "metadata": {},
   "source": [
    "## Histograms"
   ]
  },
  {
   "cell_type": "markdown",
   "metadata": {},
   "source": [
    "## Stem Plots"
   ]
  },
  {
   "cell_type": "code",
   "execution_count": 1,
   "metadata": {},
   "outputs": [],
   "source": [
    "## simple\n",
    "# timeline example"
   ]
  },
  {
   "cell_type": "markdown",
   "metadata": {},
   "source": [
    "## "
   ]
  },
  {
   "cell_type": "code",
   "execution_count": null,
   "metadata": {},
   "outputs": [],
   "source": []
  },
  {
   "cell_type": "markdown",
   "metadata": {},
   "source": [
    "# Seaborn"
   ]
  },
  {
   "cell_type": "markdown",
   "metadata": {},
   "source": [
    "## Bubble Plot"
   ]
  },
  {
   "cell_type": "code",
   "execution_count": null,
   "metadata": {},
   "outputs": [],
   "source": []
  },
  {
   "cell_type": "markdown",
   "metadata": {},
   "source": [
    "## Kernel Density Plot"
   ]
  },
  {
   "cell_type": "code",
   "execution_count": null,
   "metadata": {},
   "outputs": [],
   "source": []
  },
  {
   "cell_type": "markdown",
   "metadata": {},
   "source": [
    "## Joint KDE Plot"
   ]
  },
  {
   "cell_type": "code",
   "execution_count": null,
   "metadata": {},
   "outputs": [],
   "source": []
  },
  {
   "cell_type": "markdown",
   "metadata": {},
   "source": [
    "# Modern Visualization Using JavaScript"
   ]
  },
  {
   "cell_type": "code",
   "execution_count": null,
   "metadata": {},
   "outputs": [],
   "source": []
  },
  {
   "cell_type": "markdown",
   "metadata": {},
   "source": [
    "## Bokeh"
   ]
  },
  {
   "cell_type": "code",
   "execution_count": null,
   "metadata": {},
   "outputs": [],
   "source": []
  },
  {
   "cell_type": "markdown",
   "metadata": {},
   "source": [
    "## HoloViews"
   ]
  },
  {
   "cell_type": "code",
   "execution_count": null,
   "metadata": {},
   "outputs": [],
   "source": []
  },
  {
   "cell_type": "code",
   "execution_count": null,
   "metadata": {},
   "outputs": [],
   "source": []
  },
  {
   "cell_type": "code",
   "execution_count": null,
   "metadata": {},
   "outputs": [],
   "source": []
  }
 ],
 "metadata": {
  "kernelspec": {
   "display_name": "Python 3",
   "language": "python",
   "name": "python3"
  },
  "language_info": {
   "codemirror_mode": {
    "name": "ipython",
    "version": 3
   },
   "file_extension": ".py",
   "mimetype": "text/x-python",
   "name": "python",
   "nbconvert_exporter": "python",
   "pygments_lexer": "ipython3",
   "version": "3.7.7"
  },
  "toc": {
   "base_numbering": 1,
   "nav_menu": {},
   "number_sections": true,
   "sideBar": true,
   "skip_h1_title": false,
   "title_cell": "Table of Contents",
   "title_sidebar": "Contents",
   "toc_cell": false,
   "toc_position": {},
   "toc_section_display": true,
   "toc_window_display": false
  }
 },
 "nbformat": 4,
 "nbformat_minor": 4
}
