{
 "cells": [
  {
   "cell_type": "markdown",
   "metadata": {},
   "source": [
    "# Using Python as a Calculator"
   ]
  },
  {
   "cell_type": "markdown",
   "metadata": {},
   "source": [
    "You can type an expression and it will write the result.<br><br>\n",
    "Expression syntax is straightforward: the operators +, -, * and / work just like in most other languages; parentheses (()) can be used for grouping."
   ]
  },
  {
   "cell_type": "code",
   "execution_count": null,
   "metadata": {},
   "outputs": [],
   "source": [
    "# CTRL+ENTER to evaluate a cell\n",
    "7 + 5"
   ]
  },
  {
   "cell_type": "markdown",
   "metadata": {},
   "source": [
    "<table>\n",
    "<tr><td>+</td><td>addition</td></tr>\n",
    "<tr><td>-</td><td>subtraction</td></tr>\n",
    "<tr><td>*</td><td>multiplication</td></tr>\n",
    "<tr><td>/</td><td>division</td></tr>\n",
    "<tr><td>%</td><td>modulus</td></tr>\n",
    "<tr><td>**</td><td>exponent/power</td></tr>\n",
    "<tr><td>//</td><td>floor devision</td></tr>\n",
    "</table>"
   ]
  },
  {
   "cell_type": "code",
   "execution_count": null,
   "metadata": {},
   "outputs": [],
   "source": [
    "7 ** 5"
   ]
  },
  {
   "cell_type": "code",
   "execution_count": null,
   "metadata": {},
   "outputs": [],
   "source": [
    "7 % 5"
   ]
  },
  {
   "cell_type": "code",
   "execution_count": null,
   "metadata": {},
   "outputs": [],
   "source": [
    "7 / 5"
   ]
  },
  {
   "cell_type": "markdown",
   "metadata": {},
   "source": [
    "## Everything in Python is an object"
   ]
  },
  {
   "cell_type": "markdown",
   "metadata": {},
   "source": [
    "This is really a quite deep fact of the language. When you get deeper into the language you will fully appreciate how deep this innocent statement goes. For now, just remember that you can allways ask what type an object is."
   ]
  },
  {
   "cell_type": "code",
   "execution_count": null,
   "metadata": {},
   "outputs": [],
   "source": [
    "type(33)"
   ]
  },
  {
   "cell_type": "code",
   "execution_count": null,
   "metadata": {},
   "outputs": [],
   "source": [
    "type(5.5)"
   ]
  },
  {
   "cell_type": "code",
   "execution_count": null,
   "metadata": {},
   "outputs": [],
   "source": [
    "type(6/3)"
   ]
  },
  {
   "cell_type": "code",
   "execution_count": null,
   "metadata": {},
   "outputs": [],
   "source": [
    "type(3+2.3j)"
   ]
  },
  {
   "cell_type": "markdown",
   "metadata": {},
   "source": [
    "# Integer"
   ]
  },
  {
   "cell_type": "markdown",
   "metadata": {},
   "source": [
    "The integer type represents a mathematical set of integers. These represent the whole numbers in an unlimited range, subject to available (virtual) memory only."
   ]
  },
  {
   "cell_type": "code",
   "execution_count": null,
   "metadata": {},
   "outputs": [],
   "source": [
    "2**128"
   ]
  },
  {
   "cell_type": "code",
   "execution_count": null,
   "metadata": {},
   "outputs": [],
   "source": [
    "type(2**128)"
   ]
  },
  {
   "cell_type": "markdown",
   "metadata": {},
   "source": [
    "A special case of the integers is the **boolean** type. These represent the truth values **False** and **True**. Boolean values behave like the values 0 (for False) and 1 (for True)."
   ]
  },
  {
   "cell_type": "code",
   "execution_count": null,
   "metadata": {},
   "outputs": [],
   "source": [
    "print(True,' => ',int(True))"
   ]
  },
  {
   "cell_type": "code",
   "execution_count": null,
   "metadata": {},
   "outputs": [],
   "source": [
    "print(False,' => ',int(False))"
   ]
  },
  {
   "cell_type": "code",
   "execution_count": null,
   "metadata": {},
   "outputs": [],
   "source": [
    "type(True)"
   ]
  },
  {
   "cell_type": "markdown",
   "metadata": {},
   "source": [
    "Logical operators"
   ]
  },
  {
   "cell_type": "code",
   "execution_count": null,
   "metadata": {},
   "outputs": [],
   "source": [
    "# == : not equal to\n",
    "3 == 3"
   ]
  },
  {
   "cell_type": "code",
   "execution_count": null,
   "metadata": {},
   "outputs": [],
   "source": [
    "# != : not equal to\n",
    "4 != 5"
   ]
  },
  {
   "cell_type": "markdown",
   "metadata": {},
   "source": [
    "Bitwise operators"
   ]
  },
  {
   "cell_type": "code",
   "execution_count": null,
   "metadata": {},
   "outputs": [],
   "source": [
    "# << shift left\n",
    "# 11 = 1011 (1 * 2**3 + 0 * 2**2 + 1 * 2**1 + 1 * 2**0 = 8 + 0 + 2 + 1 = 11\n",
    "# 11 << 2 = 101100 = 32 + 0 + 8 + 4 + 0 + 0 = 44\n",
    "11 << 2"
   ]
  },
  {
   "cell_type": "code",
   "execution_count": null,
   "metadata": {},
   "outputs": [],
   "source": [
    "# << shift right\n",
    "# 11 >> 1 = 101 = 4 + 0 + 1 = 5\n",
    "11 >> 1"
   ]
  },
  {
   "cell_type": "code",
   "execution_count": null,
   "metadata": {},
   "outputs": [],
   "source": [
    "# & bitwise and\n",
    "# 11 & 12 = 1011 & 1100 = 1000 = 8\n",
    "11 & 12"
   ]
  },
  {
   "cell_type": "markdown",
   "metadata": {},
   "source": [
    "# Float"
   ]
  },
  {
   "cell_type": "markdown",
   "metadata": {},
   "source": [
    "Python also has machine-level **double precision floating point numbers**. You are at the mercy of the underlying machine architecture (and C or Java implementation) for the accepted range and handling of overflow."
   ]
  },
  {
   "cell_type": "code",
   "execution_count": null,
   "metadata": {},
   "outputs": [],
   "source": [
    "type(3.14159265358)"
   ]
  },
  {
   "cell_type": "code",
   "execution_count": null,
   "metadata": {},
   "outputs": [],
   "source": [
    "## floats can overflow!\n",
    "print(2.0**1023.99999)\n",
    "print(2.0**1024)"
   ]
  },
  {
   "cell_type": "code",
   "execution_count": null,
   "metadata": {},
   "outputs": [],
   "source": [
    "pi = 3.14159265358"
   ]
  },
  {
   "cell_type": "code",
   "execution_count": null,
   "metadata": {},
   "outputs": [],
   "source": [
    "## use dir to list the attributes / methods of an object --> everything is an object\n",
    "dir(pi)"
   ]
  },
  {
   "cell_type": "code",
   "execution_count": null,
   "metadata": {},
   "outputs": [],
   "source": [
    "pi.as_integer_ratio()"
   ]
  },
  {
   "cell_type": "markdown",
   "metadata": {},
   "source": [
    "## Complex Numbers"
   ]
  },
  {
   "cell_type": "code",
   "execution_count": null,
   "metadata": {},
   "outputs": [],
   "source": [
    "(5.0 + 3.0j) * (1.0 + 1.5j)"
   ]
  },
  {
   "cell_type": "code",
   "execution_count": null,
   "metadata": {},
   "outputs": [],
   "source": [
    "type(_)"
   ]
  },
  {
   "cell_type": "markdown",
   "metadata": {},
   "source": [
    "![complex](plots/complex_number.png)"
   ]
  },
  {
   "cell_type": "markdown",
   "metadata": {},
   "source": [
    "Because of the trigonometric identities:<br>\n",
    "$\\cos(a)\\cos(b)-\\sin(a)\\sin(b)=\\cos(a+b)$<br>\n",
    "$\\cos(a)\\sin(b)+\\sin(a)\\cos(b)=\\sin(a+b)$<br>\n",
    "Multiplication in polar notation (a scaled vector on the unit circle) can be written as:<br>\n",
    "$z_1 = r_1 (\\cos(\\phi_1) + i \\sin(\\phi_1)$ and<br>\n",
    "$z_2 = r_2 (\\cos(\\phi_2) + i \\sin(\\phi_2)$<br>\n",
    "$z_1 z_2 = r_1 r_2 (\\cos(\\phi_1 + \\phi_2) + i \\sin(\\phi_1 + \\phi_2)$<br><br>\n",
    "note the $\\LaTeX$ :-)"
   ]
  },
  {
   "cell_type": "markdown",
   "metadata": {},
   "source": [
    "# Mathematical functions"
   ]
  },
  {
   "cell_type": "markdown",
   "metadata": {},
   "source": [
    "The math module provides access to the mathematical functions defined by the C standard (cmath).<br><br>\n",
    "These functions cannot be used with complex numbers;<br>\n",
    "use the functions of the same name from the cmath module if you require support for complex numbers.<br><br>\n",
    "To see the list of functions in the math module see: [math](https://docs.python.org/3/library/math.html)"
   ]
  },
  {
   "cell_type": "code",
   "execution_count": null,
   "metadata": {},
   "outputs": [],
   "source": [
    "import math"
   ]
  },
  {
   "cell_type": "code",
   "execution_count": null,
   "metadata": {},
   "outputs": [],
   "source": [
    "dir(math)"
   ]
  },
  {
   "cell_type": "code",
   "execution_count": null,
   "metadata": {
    "scrolled": true
   },
   "outputs": [],
   "source": [
    "math.cos(2*math.pi)"
   ]
  },
  {
   "cell_type": "code",
   "execution_count": null,
   "metadata": {},
   "outputs": [],
   "source": [
    "math.sin(math.pi/2)"
   ]
  },
  {
   "cell_type": "code",
   "execution_count": null,
   "metadata": {},
   "outputs": [],
   "source": [
    "math.modf(5.33)"
   ]
  },
  {
   "cell_type": "code",
   "execution_count": null,
   "metadata": {},
   "outputs": [],
   "source": [
    "my_fraction, my_whole = math.modf(5.33)\n",
    "print('Whole number: ', my_whole, ' & Fraction: ', my_fraction)"
   ]
  },
  {
   "cell_type": "code",
   "execution_count": null,
   "metadata": {},
   "outputs": [],
   "source": [
    "math.factorial(6)"
   ]
  },
  {
   "cell_type": "code",
   "execution_count": null,
   "metadata": {},
   "outputs": [],
   "source": [
    "# the gamma function is the real version of factorial: n! == gamma(n+1)\n",
    "math.gamma(7.0)"
   ]
  },
  {
   "cell_type": "code",
   "execution_count": null,
   "metadata": {},
   "outputs": [],
   "source": [
    "from scipy.stats import norm"
   ]
  },
  {
   "cell_type": "code",
   "execution_count": null,
   "metadata": {},
   "outputs": [],
   "source": [
    "norm.cdf(1)"
   ]
  },
  {
   "cell_type": "markdown",
   "metadata": {},
   "source": [
    "# User defined functions"
   ]
  },
  {
   "cell_type": "markdown",
   "metadata": {},
   "source": [
    "The keyword **def** introduces a function definition. It must be followed by the function name and the parenthesized list of formal parameters. The statements that form the body of the function start at the next line, and must be indented.<br>\n",
    "\n",
    "The first statement of the function body can optionally be a string literal; this string literal is the function’s documentation string, or docstring.<br>\n",
    "\n",
    "Docstrings automatically produce online or printed documentation, or let the user interactively browse through code; it’s good practice to include docstrings in code that you write, so make a habit of it."
   ]
  },
  {
   "cell_type": "code",
   "execution_count": null,
   "metadata": {},
   "outputs": [],
   "source": [
    "def my_ncdf(x):\n",
    "    return((1/2)*(1 + math.erf(x/math.sqrt(2))))"
   ]
  },
  {
   "cell_type": "markdown",
   "metadata": {},
   "source": [
    "$\\Phi(x,\\mu,\\sigma) = \\frac{1}{2} (1 + $Erf$(\\frac{x - \\mu}{\\sigma \\sqrt{2}}))$\n",
    "so with $\\mu=0$ and $\\sigma=1$ --> $\\frac{1}{2} (1 + $Erf$(\\frac{x}{\\sqrt{2}}))$"
   ]
  },
  {
   "cell_type": "code",
   "execution_count": null,
   "metadata": {},
   "outputs": [],
   "source": [
    "my_ncdf(1) - norm.cdf(1)"
   ]
  },
  {
   "cell_type": "code",
   "execution_count": null,
   "metadata": {},
   "outputs": [],
   "source": [
    "def times2(val):\n",
    "    '''This function takes a val and returns val * 2'''\n",
    "    return(2*val)"
   ]
  },
  {
   "cell_type": "code",
   "execution_count": null,
   "metadata": {},
   "outputs": [],
   "source": [
    "times2(42.0)"
   ]
  },
  {
   "cell_type": "code",
   "execution_count": null,
   "metadata": {},
   "outputs": [],
   "source": [
    "help(times2)"
   ]
  },
  {
   "cell_type": "markdown",
   "metadata": {},
   "source": [
    "# String"
   ]
  },
  {
   "cell_type": "code",
   "execution_count": null,
   "metadata": {},
   "outputs": [],
   "source": [
    "s = 'this is a very nice string'"
   ]
  },
  {
   "cell_type": "code",
   "execution_count": null,
   "metadata": {},
   "outputs": [],
   "source": [
    "type(s)"
   ]
  },
  {
   "cell_type": "code",
   "execution_count": null,
   "metadata": {},
   "outputs": [],
   "source": [
    "dir(s)"
   ]
  },
  {
   "cell_type": "code",
   "execution_count": null,
   "metadata": {},
   "outputs": [],
   "source": [
    "s.upper()"
   ]
  },
  {
   "cell_type": "code",
   "execution_count": null,
   "metadata": {},
   "outputs": [],
   "source": [
    "s.split()"
   ]
  },
  {
   "cell_type": "code",
   "execution_count": null,
   "metadata": {},
   "outputs": [],
   "source": [
    "s.replace('very ', '')"
   ]
  },
  {
   "cell_type": "code",
   "execution_count": null,
   "metadata": {
    "scrolled": true
   },
   "outputs": [],
   "source": [
    "' '.join(s.replace('very ', '').replace('a ','').split()[::-1])"
   ]
  },
  {
   "cell_type": "code",
   "execution_count": null,
   "metadata": {
    "scrolled": true
   },
   "outputs": [],
   "source": [
    "'this is a ' + 'very ' + 'dull example'"
   ]
  },
  {
   "cell_type": "code",
   "execution_count": null,
   "metadata": {
    "scrolled": true
   },
   "outputs": [],
   "source": [
    "'this is a ' + 'very ' * 5 + 'exciting example'"
   ]
  },
  {
   "cell_type": "markdown",
   "metadata": {},
   "source": [
    "There are two important extra libraries that are used very frequently.<br>\n",
    "<pre>\n",
    "import string\n",
    "import re\n",
    "</pre>"
   ]
  },
  {
   "cell_type": "markdown",
   "metadata": {},
   "source": [
    "Python provides multiple ways to format and create strings.<br>\n",
    "As an aside, Python does not support dates without importing support for it (there are a couple of powerfull data / datetime libraries). The most standard one is: datetime"
   ]
  },
  {
   "cell_type": "code",
   "execution_count": null,
   "metadata": {},
   "outputs": [],
   "source": [
    "from datetime import date, datetime"
   ]
  },
  {
   "cell_type": "code",
   "execution_count": null,
   "metadata": {
    "scrolled": false
   },
   "outputs": [],
   "source": [
    "## the old way\n",
    "'Hello %s, today is your %d day on planet earth' % ('Arnold', (datetime.now().date() - date(1969,3,26)).days)"
   ]
  },
  {
   "cell_type": "markdown",
   "metadata": {
    "scrolled": true
   },
   "source": [
    "A more modern way is to use the string.format().<br>\n",
    "Basically you put placeholders in you string and pass in the rteplacements as arguments."
   ]
  },
  {
   "cell_type": "code",
   "execution_count": null,
   "metadata": {},
   "outputs": [],
   "source": [
    "'Hello {}, today is your {}\\'s year on planet earth'.format('Arnold', datetime.now().date().year - 1969)\n",
    "## as an aside note the \\' to escape the '"
   ]
  },
  {
   "cell_type": "markdown",
   "metadata": {},
   "source": [
    "This is a much more generic and flexible way to construct strings.<br>\n",
    "Within the brackets you can put format specifiers and you can name the placeholders (so {1} corresconds to the second argument passed into .format)"
   ]
  },
  {
   "cell_type": "code",
   "execution_count": null,
   "metadata": {},
   "outputs": [],
   "source": [
    "print('{0:0>5}: line 1\\n{1: <5}: line 2\\n{2}: line 3'.format(1, 'two', 'three'))"
   ]
  },
  {
   "cell_type": "markdown",
   "metadata": {},
   "source": [
    "The newest and most convenient way, since python 3.6, are the so-called f-strings. F-strings allow you to put an expression directly into the curly braces."
   ]
  },
  {
   "cell_type": "markdown",
   "metadata": {},
   "source": [
    "v1 = 1\n",
    "v2 = 'two'\n",
    "v3 = 'three'\n",
    "print(f'{v1:0>5}: line 1\\n{v2: <5}: line 2\\n{v3}: line 3')"
   ]
  },
  {
   "cell_type": "markdown",
   "metadata": {},
   "source": [
    "# Some final remarks"
   ]
  },
  {
   "cell_type": "markdown",
   "metadata": {},
   "source": [
    "Python is a dynamically typed language. Meaning the interpreter will deduce and set the type information from the code at run time.<br>\n",
    "A variable is linked to a piece of memory that contains some data, that we can reference by name.<br>\n",
    "So, when we create a variable var and asign it the value 42, the interpreter will correctly reserve a piece of memory to keep the bit representation of the integer 42<br>"
   ]
  },
  {
   "cell_type": "code",
   "execution_count": null,
   "metadata": {},
   "outputs": [],
   "source": [
    "var1 = 42"
   ]
  },
  {
   "cell_type": "markdown",
   "metadata": {},
   "source": [
    "The actual memeory location of _var1_ is obtained by _id(var1)_"
   ]
  },
  {
   "cell_type": "code",
   "execution_count": null,
   "metadata": {},
   "outputs": [],
   "source": [
    "print(f'The variable var has value {var1} and is located at memory address {id(var1)}')"
   ]
  },
  {
   "cell_type": "markdown",
   "metadata": {},
   "source": [
    "When you assign a new value to an int, a new piece of memory is allocated (and the old memory is released for the garbage collector to reclaim)"
   ]
  },
  {
   "cell_type": "code",
   "execution_count": null,
   "metadata": {},
   "outputs": [],
   "source": [
    "var1 += 1"
   ]
  },
  {
   "cell_type": "code",
   "execution_count": null,
   "metadata": {},
   "outputs": [],
   "source": [
    "print(f'The variable var has value {var1} and is located at memory address {id(var1)}')"
   ]
  },
  {
   "cell_type": "markdown",
   "metadata": {},
   "source": [
    "When you create a new variable and set it equal to some other variable, you create a new name that points to the same memory."
   ]
  },
  {
   "cell_type": "code",
   "execution_count": null,
   "metadata": {},
   "outputs": [],
   "source": [
    "var2 = var1"
   ]
  },
  {
   "cell_type": "code",
   "execution_count": null,
   "metadata": {},
   "outputs": [],
   "source": [
    "print(f'The variable var has value {var2} and is located at memory address {id(var2)}')"
   ]
  },
  {
   "cell_type": "code",
   "execution_count": null,
   "metadata": {},
   "outputs": [],
   "source": [
    "var3 = 5.55\n",
    "print(f'The variable var3 has value {var3} and is located at memory address {id(var3)}')\n",
    "var3 = 1.11\n",
    "print(f'The variable var3 has value {var3} and is located at memory address {id(var3)}')"
   ]
  },
  {
   "cell_type": "code",
   "execution_count": null,
   "metadata": {},
   "outputs": [],
   "source": [
    "var4 = 'fizz'\n",
    "print(f'The variable var4 has value {var4} and is located at memory address {id(var4)}')\n",
    "var5 = var4\n",
    "print(f'The variable var5 has value {var5} and is located at memory address {id(var5)}')"
   ]
  },
  {
   "cell_type": "markdown",
   "metadata": {},
   "source": [
    "Python objects are reference counted, and the garbage collector will only clean up a memory if no variable is pointing to it anymore.<br>\n",
    "So, if _var5_ is re-assigned, it will cause the new value to be stored in a newly allocated bit of memory. However, since _var4_ still holds a reference to this memory, and the memory is therefore not garbage collected.<br>\n"
   ]
  },
  {
   "cell_type": "code",
   "execution_count": null,
   "metadata": {},
   "outputs": [],
   "source": [
    "var5 = 'newval'\n",
    "print(f'The variable var5 has value {var5} and is located at memory address {id(var5)}')\n",
    "print(f'The variable var4 has value {var4} and is located at memory address {id(var4)}')"
   ]
  }
 ],
 "metadata": {
  "kernelspec": {
   "display_name": "Python 3",
   "language": "python",
   "name": "python3"
  },
  "language_info": {
   "codemirror_mode": {
    "name": "ipython",
    "version": 3
   },
   "file_extension": ".py",
   "mimetype": "text/x-python",
   "name": "python",
   "nbconvert_exporter": "python",
   "pygments_lexer": "ipython3",
   "version": "3.6.7"
  }
 },
 "nbformat": 4,
 "nbformat_minor": 2
}
