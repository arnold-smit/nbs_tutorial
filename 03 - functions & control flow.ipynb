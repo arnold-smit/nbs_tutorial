{
 "cells": [
  {
   "cell_type": "markdown",
   "metadata": {},
   "source": [
    "# Functions Revisited"
   ]
  },
  {
   "cell_type": "markdown",
   "metadata": {},
   "source": [
    "A function is a **group of statements that executes upon request**. Python provides many built-in functions and allows programmers to define their own functions. A request to execute a function is known as a function call.<br><br>\n",
    "In Python, **a function always returns a result value**, either None or a value that represents the results of its computation.<br><br>\n",
    "Functions defined within class statements are called methods. These methods will be covered later, but the general coverage of functions here also applies to methods."
   ]
  },
  {
   "cell_type": "markdown",
   "metadata": {},
   "source": [
    "## Define a function using: _def name()_"
   ]
  },
  {
   "cell_type": "code",
   "execution_count": null,
   "metadata": {},
   "outputs": [],
   "source": [
    "def my_function():\n",
    "    pass"
   ]
  },
  {
   "cell_type": "code",
   "execution_count": null,
   "metadata": {},
   "outputs": [],
   "source": [
    "dir()"
   ]
  },
  {
   "cell_type": "code",
   "execution_count": null,
   "metadata": {},
   "outputs": [],
   "source": [
    "## a function that does not explicitly returns anything --> returns None\n",
    "my_function()"
   ]
  },
  {
   "cell_type": "code",
   "execution_count": null,
   "metadata": {},
   "outputs": [],
   "source": [
    "my_function.__name__"
   ]
  },
  {
   "cell_type": "code",
   "execution_count": null,
   "metadata": {},
   "outputs": [],
   "source": [
    "def my_function():\n",
    "    my_int = 42\n",
    "    return(my_int)"
   ]
  },
  {
   "cell_type": "code",
   "execution_count": null,
   "metadata": {},
   "outputs": [],
   "source": [
    "my_function()"
   ]
  },
  {
   "cell_type": "code",
   "execution_count": null,
   "metadata": {},
   "outputs": [],
   "source": [
    "return_value = my_function()\n",
    "return_value"
   ]
  },
  {
   "cell_type": "markdown",
   "metadata": {},
   "source": [
    "### Some subtle intracacies"
   ]
  },
  {
   "cell_type": "code",
   "execution_count": null,
   "metadata": {},
   "outputs": [],
   "source": [
    "## variables within a function are first looked up in local scope and when it doen not find the variable,\n",
    "## Python looks in the scope of the caller\n",
    "my_int = 42\n",
    "\n",
    "def my_function1():\n",
    "    print(f'my_int inside the function scope = {my_int} (at adress {id(my_int)})')\n",
    "    print(f'the local variables are (dictionary of local variables): {locals()}')\n",
    "\n",
    "my_function1()\n",
    "\n",
    "print(f'my_int outside the function scope = {my_int} (at adress {id(my_int)})')"
   ]
  },
  {
   "cell_type": "code",
   "execution_count": null,
   "metadata": {},
   "outputs": [],
   "source": [
    "## the moment you use an assign statment a variable gets created ion the local scope\n",
    "## so, below we end up with two seperate variables my_int\n",
    "\n",
    "def my_function2():\n",
    "    my_int = 84\n",
    "    print(f'my_int inside the function scope = {my_int} (at adress {id(my_int)})')\n",
    "    print(f'the local variables are (dictionary of local variables): {locals()}')\n",
    "\n",
    "my_function2()\n",
    "\n",
    "print(f'my_int outside the function scope = {my_int} (at adress {id(my_int)})')"
   ]
  },
  {
   "cell_type": "code",
   "execution_count": null,
   "metadata": {},
   "outputs": [],
   "source": [
    "## to use global variables within a function's local scope, \n",
    "## you need to explicitly define the variable as global\n",
    "my_int = 42\n",
    "\n",
    "def my_function():\n",
    "    global my_int\n",
    "    my_int = 84\n",
    "    print(f'the local variables are (dictionary of local variables): {locals()}')\n",
    "\n",
    "my_function()\n",
    "\n",
    "print(f'my_int at adress {id(my_int)} is now: {my_int}')"
   ]
  },
  {
   "cell_type": "markdown",
   "metadata": {},
   "source": [
    "## Arguments"
   ]
  },
  {
   "cell_type": "markdown",
   "metadata": {},
   "source": [
    "A function can take arguments between the parentheses (), also known as **parameters**. The identifyers separated by commas (,) provide the names of the parameters in the local function scope."
   ]
  },
  {
   "cell_type": "code",
   "execution_count": null,
   "metadata": {},
   "outputs": [],
   "source": [
    "def my_function(value, multiplication):\n",
    "    ret = value * multiplication\n",
    "    return(ret)"
   ]
  },
  {
   "cell_type": "code",
   "execution_count": null,
   "metadata": {},
   "outputs": [],
   "source": [
    "my_function(42, 2)"
   ]
  },
  {
   "cell_type": "code",
   "execution_count": null,
   "metadata": {},
   "outputs": [],
   "source": [
    "[my_function(42, mf) for mf in range(6)]"
   ]
  },
  {
   "cell_type": "markdown",
   "metadata": {},
   "source": [
    "Parameters can be given a default value using the _parameter = values_ syntax.<br>\n",
    "The one rule is that parameters without default values precede parameters with default values."
   ]
  },
  {
   "cell_type": "code",
   "execution_count": null,
   "metadata": {},
   "outputs": [],
   "source": [
    "def my_function(value, multiplication=2):\n",
    "    ret = value * multiplication\n",
    "    return(ret)"
   ]
  },
  {
   "cell_type": "code",
   "execution_count": null,
   "metadata": {},
   "outputs": [],
   "source": [
    "## relying on the default\n",
    "my_function(42)"
   ]
  },
  {
   "cell_type": "code",
   "execution_count": null,
   "metadata": {},
   "outputs": [],
   "source": [
    "## but you can still use another value\n",
    "my_function(42, 4)"
   ]
  },
  {
   "cell_type": "markdown",
   "metadata": {},
   "source": [
    "Arguments are passed by value. "
   ]
  },
  {
   "cell_type": "code",
   "execution_count": null,
   "metadata": {},
   "outputs": [],
   "source": [
    "my_int = 42\n",
    "def my_function(value, multiplication):\n",
    "    value = value * multiplication\n",
    "\n",
    "print(my_int)\n",
    "my_function(my_int, 3)\n",
    "print(my_int)"
   ]
  },
  {
   "cell_type": "markdown",
   "metadata": {},
   "source": [
    "#### changeing a mutable type will mutate the object passed"
   ]
  },
  {
   "cell_type": "code",
   "execution_count": null,
   "metadata": {},
   "outputs": [],
   "source": [
    "def my_function(values):\n",
    "    for ix in range(len(values)):\n",
    "        values[ix] *= 2"
   ]
  },
  {
   "cell_type": "code",
   "execution_count": null,
   "metadata": {},
   "outputs": [],
   "source": [
    "my_ints = [1,42,101]\n",
    "print(my_ints)\n",
    "my_function(my_ints)\n",
    "print(my_ints)"
   ]
  },
  {
   "cell_type": "markdown",
   "metadata": {},
   "source": [
    "#### changeing an unmutable type will throw an exception"
   ]
  },
  {
   "cell_type": "code",
   "execution_count": null,
   "metadata": {},
   "outputs": [],
   "source": [
    "my_ints = (1,42,101)\n",
    "print(my_ints)\n",
    "my_function(my_ints)\n",
    "print(my_ints)"
   ]
  },
  {
   "cell_type": "markdown",
   "metadata": {},
   "source": [
    "#### changeing an unmutable primitive type will create a new local copy, leaving the original unchanged"
   ]
  },
  {
   "cell_type": "code",
   "execution_count": null,
   "metadata": {},
   "outputs": [],
   "source": [
    "my_int = 42\n",
    "def my_function(value):\n",
    "    value = 84\n",
    "my_function(my_ints)\n",
    "print(my_int)"
   ]
  },
  {
   "cell_type": "markdown",
   "metadata": {},
   "source": [
    "## Functions as Arguments"
   ]
  },
  {
   "cell_type": "markdown",
   "metadata": {},
   "source": [
    "In Python functions are first class citezens, meaning you can assign a function to a variable, pass a function as an argument, and return a function from a function."
   ]
  },
  {
   "cell_type": "code",
   "execution_count": null,
   "metadata": {},
   "outputs": [],
   "source": [
    "def add2args(a1,a2): return(a1+a2)\n",
    "def sub2args(a1,a2): return(a1-a2)\n",
    "def mul2args(a1,a2): return(a1*a2)\n",
    "def div2args(a1,a2): return(a1/a2)"
   ]
  },
  {
   "cell_type": "code",
   "execution_count": null,
   "metadata": {},
   "outputs": [],
   "source": [
    "print(' Add = ', add2args(5,10), '\\n',\n",
    "       'Sub = ', sub2args(5,10), '\\n',\n",
    "       'Mul = ', mul2args(5,10), '\\n',\n",
    "       'Div = ', div2args(5,10), '\\n'\n",
    "     )"
   ]
  },
  {
   "cell_type": "code",
   "execution_count": null,
   "metadata": {},
   "outputs": [],
   "source": [
    "def do_oper(a1, a2, oper):\n",
    "    return(oper(a1,a2))"
   ]
  },
  {
   "cell_type": "code",
   "execution_count": null,
   "metadata": {},
   "outputs": [],
   "source": [
    "print(' Add = ', do_oper(5,10, add2args), '\\n',\n",
    "       'Sub = ', do_oper(5,10, sub2args), '\\n',\n",
    "       'Mul = ', do_oper(5,10, mul2args), '\\n',\n",
    "       'Div = ', do_oper(5,10, div2args), '\\n'\n",
    "     )"
   ]
  },
  {
   "cell_type": "markdown",
   "metadata": {},
   "source": [
    "## Decorators"
   ]
  },
  {
   "cell_type": "code",
   "execution_count": null,
   "metadata": {},
   "outputs": [],
   "source": [
    "import time"
   ]
  },
  {
   "cell_type": "code",
   "execution_count": null,
   "metadata": {},
   "outputs": [],
   "source": [
    "def wait_a_second(n): \n",
    "    time.sleep(n)\n",
    "    print(f'Waited {n} seconds')"
   ]
  },
  {
   "cell_type": "code",
   "execution_count": null,
   "metadata": {},
   "outputs": [],
   "source": [
    "wait_a_second(2)"
   ]
  },
  {
   "cell_type": "markdown",
   "metadata": {},
   "source": [
    "Now, lets create a function that 'wraps' a function.<br>\n",
    "The returned function, executes a function, but does some timings and write the time it took to run the function ..."
   ]
  },
  {
   "cell_type": "code",
   "execution_count": null,
   "metadata": {},
   "outputs": [],
   "source": [
    "def time_it(fnct):\n",
    "    def timed_function(*args, **kwargs):\n",
    "        t0 = time.time()\n",
    "        ret = fnct(*args, **kwargs)\n",
    "        t1 = time.time()\n",
    "        print(f'function took {t1-t0} seconds')\n",
    "        return(ret)\n",
    "    return(timed_function)"
   ]
  },
  {
   "cell_type": "code",
   "execution_count": null,
   "metadata": {},
   "outputs": [],
   "source": [
    "## call time_it ... the function that returns a function\n",
    "## pass in the wait_a_second function\n",
    "## assign the returned function (the one that does the timings around the function call) to a variable wait\n",
    "## now wait is a function that calls wait_a_second(n) but 'decorates' it with some pre/post execution code\n",
    "wait = time_it(wait_a_second)"
   ]
  },
  {
   "cell_type": "code",
   "execution_count": null,
   "metadata": {},
   "outputs": [],
   "source": [
    "## let's see it in action\n",
    "wait(2)"
   ]
  },
  {
   "cell_type": "code",
   "execution_count": null,
   "metadata": {},
   "outputs": [],
   "source": [
    "wait(5)"
   ]
  },
  {
   "cell_type": "markdown",
   "metadata": {},
   "source": [
    "Python has a shorthand notation for this: **decorators**.<br>\n",
    "This is a more advanced feature of Python & this topic is deeper than discussed here. But, in it's simplest form it fits in here<br>\n",
    "Using the Python decorator natation:"
   ]
  },
  {
   "cell_type": "code",
   "execution_count": null,
   "metadata": {},
   "outputs": [],
   "source": [
    "@time_it\n",
    "def wait_n_seconds(n): time.sleep(n)"
   ]
  },
  {
   "cell_type": "code",
   "execution_count": null,
   "metadata": {},
   "outputs": [],
   "source": [
    "wait_n_seconds(3)"
   ]
  },
  {
   "cell_type": "markdown",
   "metadata": {},
   "source": [
    "Let's do a more interesting example: compute exp(x) using a tailor expansion\n",
    "$$e^x = \\sum_{n=0}^{\\infty} \\frac{x^n}{n!}$$"
   ]
  },
  {
   "cell_type": "code",
   "execution_count": null,
   "metadata": {},
   "outputs": [],
   "source": [
    "from math import exp, factorial"
   ]
  },
  {
   "cell_type": "code",
   "execution_count": null,
   "metadata": {},
   "outputs": [],
   "source": [
    "factorial(4)"
   ]
  },
  {
   "cell_type": "code",
   "execution_count": null,
   "metadata": {},
   "outputs": [],
   "source": [
    "@time_it\n",
    "def tailor_approx_exp(x,n): return(sum([ x**i / factorial(i) for i in range(n) ]))"
   ]
  },
  {
   "cell_type": "code",
   "execution_count": null,
   "metadata": {
    "scrolled": true
   },
   "outputs": [],
   "source": [
    "for terms in range(1,15):\n",
    "    tae = tailor_approx_exp(3.7,terms)\n",
    "    me  = exp(3.7)\n",
    "    print(f'exp(1.5) using math.exp = {me} & using tailor_approx_exp = {tae} (abs diff = {tae-me} or {100*(tae-me)/me:.2f}%)')"
   ]
  },
  {
   "cell_type": "code",
   "execution_count": null,
   "metadata": {
    "scrolled": true
   },
   "outputs": [],
   "source": [
    "%timeit exp(3.7)"
   ]
  },
  {
   "cell_type": "markdown",
   "metadata": {},
   "source": [
    "Probably two lessons here:\n",
    "* using math.exp() takes 10^-8 seconds and the very very naive taylor expansion 10^-5 second --> order of 3 slower !!!\n",
    "* the decorator I wrote using the time libarary is very crude and not really usable to time execution times below micro seconds "
   ]
  },
  {
   "cell_type": "markdown",
   "metadata": {},
   "source": [
    "## Anonymous functions"
   ]
  },
  {
   "cell_type": "markdown",
   "metadata": {},
   "source": [
    "A anonymous function, aka lambda function, is a function defined without a name.<br>\n",
    "<pre>\n",
    "    lambda arguments: expression\n",
    "</pre>\n",
    "Lambda functions can have any number of arguments but only one expression. The expression is evaluated and returned. Lambda functions can be used wherever function objects are required."
   ]
  },
  {
   "cell_type": "code",
   "execution_count": null,
   "metadata": {},
   "outputs": [],
   "source": [
    "lambda x: 2*x"
   ]
  },
  {
   "cell_type": "markdown",
   "metadata": {},
   "source": [
    "In ipython the _ is a placeholder for the output of the previous cell execution, ... here an anonymous function"
   ]
  },
  {
   "cell_type": "code",
   "execution_count": null,
   "metadata": {},
   "outputs": [],
   "source": [
    "_(3)"
   ]
  },
  {
   "cell_type": "code",
   "execution_count": null,
   "metadata": {},
   "outputs": [],
   "source": [
    "times2 = lambda x: 2 * x"
   ]
  },
  {
   "cell_type": "markdown",
   "metadata": {},
   "source": [
    "These lambda functions are generally used as argument to a higher-order function (a function that takes in other functions as arguments)."
   ]
  },
  {
   "cell_type": "code",
   "execution_count": null,
   "metadata": {},
   "outputs": [],
   "source": [
    "## assume we have a list of mathematicians and want to sort on surname\n",
    "mathematicians = ['Alan Turing', \n",
    "                  'Bertrand Russell', \n",
    "                  'Friedrich Gauss', \n",
    "                  'Daniel Bernoulli',\n",
    "                  'Edward Witten',\n",
    "                  'Henri Poincaré',\n",
    "                  'Joseph Fourier'\n",
    "                 ]"
   ]
  },
  {
   "cell_type": "code",
   "execution_count": null,
   "metadata": {},
   "outputs": [],
   "source": [
    "sorted(mathematicians)"
   ]
  },
  {
   "cell_type": "code",
   "execution_count": null,
   "metadata": {},
   "outputs": [],
   "source": [
    "## sorted: return a new list containing all items from the iterable in ascending order.\n",
    "## --> a custom key function can be supplied to customize the sort order\n",
    "sorted(mathematicians, key = lambda x: x.split(' ')[1])"
   ]
  },
  {
   "cell_type": "markdown",
   "metadata": {},
   "source": [
    "## Documenting your functions: Docstring"
   ]
  },
  {
   "cell_type": "markdown",
   "metadata": {},
   "source": [
    "Python **docstring** is the documentation string which is the string literal that occurs in the class, module, function or method definition, **as a first statement** .<br><br>\n",
    "Docstrings are an integral part of the language and accessible from the doc attribute for any of the Python object and also with the built-in help() function can come in handy."
   ]
  },
  {
   "cell_type": "code",
   "execution_count": null,
   "metadata": {},
   "outputs": [],
   "source": [
    "def a_very_well_documented_function(arg1, arg2):\n",
    "    '''\n",
    "    This function does nothing.\n",
    "\n",
    "    :param arg1: arg1 *simply ignored*\n",
    "    :type arg1: str\n",
    "    :param arg2: arg2 is also **simply ignored**\n",
    "    :type arg2: int\n",
    "\n",
    "    Please look at [https://devguide.python.org/documenting/] for more info\n",
    "    '''\n",
    "    pass"
   ]
  },
  {
   "cell_type": "code",
   "execution_count": null,
   "metadata": {},
   "outputs": [],
   "source": [
    "help(a_very_well_documented_function)"
   ]
  },
  {
   "cell_type": "code",
   "execution_count": null,
   "metadata": {},
   "outputs": [],
   "source": [
    "a_very_well_documented_function()"
   ]
  },
  {
   "cell_type": "markdown",
   "metadata": {},
   "source": [
    "# Control Flow"
   ]
  },
  {
   "cell_type": "markdown",
   "metadata": {},
   "source": [
    "A program’s **control** flow is **the order in which the program’s code executes**. The control flow of a Python program is regulated by conditional statements, loops, and function calls."
   ]
  },
  {
   "cell_type": "markdown",
   "metadata": {},
   "source": [
    "## If\n",
    "<pre>\n",
    "if condition1:\n",
    "    do something\n",
    "    ...\n",
    "elif condition2:\n",
    "    do something else\n",
    "    ...\n",
    "else:\n",
    "    and now for something different\n",
    "    ...\n",
    "</pre>"
   ]
  },
  {
   "cell_type": "code",
   "execution_count": null,
   "metadata": {},
   "outputs": [],
   "source": [
    "if sea_water_temp_in_dC <= 10:\n",
    "    print('Too cold')"
   ]
  },
  {
   "cell_type": "code",
   "execution_count": null,
   "metadata": {},
   "outputs": [],
   "source": [
    "sea_water_temp_in_dC = 20\n",
    "\n",
    "if sea_water_temp_in_dC <= 15:\n",
    "    print('Too cold')\n",
    "elif sea_water_temp_in_dC > 30:\n",
    "    print('Too hot')\n",
    "else:\n",
    "    print('Just right')"
   ]
  },
  {
   "cell_type": "code",
   "execution_count": null,
   "metadata": {},
   "outputs": [],
   "source": [
    "## ternary expression\n",
    "speed = 29\n",
    "points = 3 if speed>30 else 0\n",
    "points"
   ]
  },
  {
   "cell_type": "markdown",
   "metadata": {},
   "source": [
    "## While\n",
    "<pre>\n",
    "while condition:\n",
    "   do something\n",
    "   do more\n",
    "   and some more\n",
    "</pre>\n",
    "While loop executes some block of code until condition is not longer met. Possibly executing zero times."
   ]
  },
  {
   "cell_type": "code",
   "execution_count": null,
   "metadata": {},
   "outputs": [],
   "source": [
    "ix = 1\n",
    "while ix <= 3:\n",
    "    print(ix)\n",
    "    ix += 1"
   ]
  },
  {
   "cell_type": "code",
   "execution_count": null,
   "metadata": {},
   "outputs": [],
   "source": [
    "ix = 5\n",
    "while ix <= 3:\n",
    "    print(ix)\n",
    "    ix += 1"
   ]
  },
  {
   "cell_type": "code",
   "execution_count": null,
   "metadata": {},
   "outputs": [],
   "source": [
    "import numpy as np"
   ]
  },
  {
   "cell_type": "code",
   "execution_count": null,
   "metadata": {},
   "outputs": [],
   "source": [
    "num2guess = np.random.randint(low=1, high=10)\n",
    "guess = 0\n",
    "ntry = 0\n",
    "while guess != num2guess:\n",
    "    if ntry == 0:\n",
    "        guess = int(input('Guess a number between 1 and 10: '))\n",
    "    else:\n",
    "        if guess > num2guess:\n",
    "            guess = int(input(f'Its smaller than {guess}, have another go: '))\n",
    "        else:\n",
    "            guess = int(input(f'Its bigger than {guess}, have another go: '))\n",
    "    ntry += 1\n",
    "print(f'You guessed it in {ntry} guesses')"
   ]
  },
  {
   "cell_type": "markdown",
   "metadata": {},
   "source": [
    "## For\n",
    "<pre>\n",
    "for element in iterator:\n",
    "   do something with the element\n",
    "   do some more\n",
    "   and ... some more\n",
    "</pre>\n",
    "For loops are  loop is often used when "
   ]
  },
  {
   "cell_type": "markdown",
   "metadata": {},
   "source": [
    "Write a program that prints the numbers from 1 to 17.<br>\n",
    "But for multiples of three print \"**Fizz**\" instead of the number and<br>\n",
    "for the multiples of five print \"**Buzz**\".<br>\n",
    "For numbers which are multiples of both three and five print \"**FizzBuzz**\"."
   ]
  },
  {
   "cell_type": "code",
   "execution_count": null,
   "metadata": {},
   "outputs": [],
   "source": [
    "for ix in range(1,18):\n",
    "    if (ix%5==0) & (ix%3==0):\n",
    "        print('FizzBuzz')\n",
    "    elif (ix%3==0):\n",
    "        print('Fizz')\n",
    "    elif (ix%5==0):\n",
    "        print('Buzz')\n",
    "    else:\n",
    "        print(ix)"
   ]
  },
  {
   "cell_type": "markdown",
   "metadata": {},
   "source": [
    "## Breaking out of a loop: Break and Continue"
   ]
  },
  {
   "cell_type": "code",
   "execution_count": null,
   "metadata": {},
   "outputs": [],
   "source": [
    "ix = 0\n",
    "while True:\n",
    "    ix += 1\n",
    "    if (ix%5==0) & (ix%3==0):\n",
    "        print(ix, 'FizzBuzz')\n",
    "        break\n",
    "    elif (ix%3==0):\n",
    "        print(ix, 'Fizz')\n",
    "    elif (ix%5==0):\n",
    "        print(ix, 'Buzz')\n",
    "    else:\n",
    "        continue"
   ]
  },
  {
   "cell_type": "markdown",
   "metadata": {},
   "source": [
    "# Execrcises"
   ]
  },
  {
   "cell_type": "markdown",
   "metadata": {},
   "source": [
    "### Multiplication Tables\n",
    "\n",
    "1. Print the first 4 rows of the multiplication tables for 11, 12, 13 (1 * 11, 2 * 11, 3 * 11, 4 * 11, 1 * 12, ...)\n",
    "2. Write a function **print_multiplication_table** to print entries i to j for the multiplication table of _m_\n",
    "3. Replicate the output of 1\n",
    "4. Rewrite the function to return a key-value pair where the key is m and the value is a list of [i,m,i*m]\n",
    "5. Create a dict with the tables from (1)"
   ]
  },
  {
   "cell_type": "code",
   "execution_count": null,
   "metadata": {},
   "outputs": [],
   "source": [
    "## type your answer --> execute %load cell below to see solution!"
   ]
  },
  {
   "cell_type": "code",
   "execution_count": null,
   "metadata": {},
   "outputs": [],
   "source": [
    "%load answers/03-exercise-01-01.txt"
   ]
  },
  {
   "cell_type": "code",
   "execution_count": null,
   "metadata": {},
   "outputs": [],
   "source": [
    "## type your answer --> execute %load cell below to see solution!"
   ]
  },
  {
   "cell_type": "code",
   "execution_count": null,
   "metadata": {},
   "outputs": [],
   "source": [
    "%load answers/03-exercise-01-02.txt"
   ]
  },
  {
   "cell_type": "code",
   "execution_count": null,
   "metadata": {},
   "outputs": [],
   "source": [
    "## test the function\n",
    "print_multiplication_table(10,5,9)"
   ]
  },
  {
   "cell_type": "code",
   "execution_count": null,
   "metadata": {},
   "outputs": [],
   "source": [
    "## type your answer --> execute %load cell below to see solution!"
   ]
  },
  {
   "cell_type": "code",
   "execution_count": null,
   "metadata": {},
   "outputs": [],
   "source": [
    "%load answers/03-exercise-01-03.txt"
   ]
  },
  {
   "cell_type": "code",
   "execution_count": null,
   "metadata": {},
   "outputs": [],
   "source": [
    "## type your answer --> execute %load cell below to see solution!"
   ]
  },
  {
   "cell_type": "code",
   "execution_count": null,
   "metadata": {},
   "outputs": [],
   "source": [
    "%load answers/03-exercise-01-04.txt"
   ]
  },
  {
   "cell_type": "code",
   "execution_count": null,
   "metadata": {},
   "outputs": [],
   "source": [
    "## type your answer --> execute %load cell below to see solution!"
   ]
  },
  {
   "cell_type": "code",
   "execution_count": null,
   "metadata": {},
   "outputs": [],
   "source": [
    "%load answers/03-exercise-01-05.txt"
   ]
  },
  {
   "cell_type": "code",
   "execution_count": null,
   "metadata": {},
   "outputs": [],
   "source": [
    "## type your answer --> execute %load cell below to see solution!"
   ]
  },
  {
   "cell_type": "code",
   "execution_count": null,
   "metadata": {},
   "outputs": [],
   "source": [
    "%load answers/03-exercise-01-06.txt"
   ]
  },
  {
   "cell_type": "markdown",
   "metadata": {},
   "source": [
    "### Word Length\n",
    "\n",
    "In the data directory, there is a json file _words_dictionary.json_ containing English words:\n",
    "1. Read the first 5 lines to see the format\n",
    "2. Use the json package to read in the file // hint look at json.load\n",
    "3. Change the value of each entry in the dictionary to the word length\n",
    "4. Keep only the palindromes // hint use dictionary comprehension\n",
    "5. Show the 10 longest palindromes // hint sort by value & print top 10"
   ]
  },
  {
   "cell_type": "code",
   "execution_count": null,
   "metadata": {},
   "outputs": [],
   "source": [
    "## type your answer --> execute %load cell below to see solution!"
   ]
  },
  {
   "cell_type": "code",
   "execution_count": null,
   "metadata": {},
   "outputs": [],
   "source": [
    "%load answers//03-exercise-02-01.txt"
   ]
  },
  {
   "cell_type": "code",
   "execution_count": null,
   "metadata": {},
   "outputs": [],
   "source": [
    "## need to import the json library and look at the functions\n",
    "import json\n",
    "dir(json)"
   ]
  },
  {
   "cell_type": "code",
   "execution_count": null,
   "metadata": {},
   "outputs": [],
   "source": [
    "json.load??"
   ]
  },
  {
   "cell_type": "code",
   "execution_count": null,
   "metadata": {},
   "outputs": [],
   "source": [
    "## type your answer --> execute %load cell below to see solution!"
   ]
  },
  {
   "cell_type": "code",
   "execution_count": null,
   "metadata": {},
   "outputs": [],
   "source": [
    "%load answers//03-exercise-02-02.txt"
   ]
  },
  {
   "cell_type": "code",
   "execution_count": null,
   "metadata": {},
   "outputs": [],
   "source": [
    "type(data)"
   ]
  },
  {
   "cell_type": "code",
   "execution_count": null,
   "metadata": {},
   "outputs": [],
   "source": [
    "dir(data)"
   ]
  },
  {
   "cell_type": "code",
   "execution_count": null,
   "metadata": {},
   "outputs": [],
   "source": [
    "len(data.keys())"
   ]
  },
  {
   "cell_type": "code",
   "execution_count": null,
   "metadata": {},
   "outputs": [],
   "source": [
    "## type your answer --> execute %load cell below to see solution!"
   ]
  },
  {
   "cell_type": "code",
   "execution_count": null,
   "metadata": {},
   "outputs": [],
   "source": [
    "%load answers//03-exercise-02-03.txt"
   ]
  },
  {
   "cell_type": "code",
   "execution_count": null,
   "metadata": {},
   "outputs": [],
   "source": [
    "## type your answer --> execute %load cell below to see solution!"
   ]
  },
  {
   "cell_type": "code",
   "execution_count": null,
   "metadata": {},
   "outputs": [],
   "source": [
    "%load answers//03-exercise-02-04.txt"
   ]
  },
  {
   "cell_type": "markdown",
   "metadata": {},
   "source": [
    "This starts to get more advanced, so you need loads of extra help:\n",
    "1. Goolge is your friend: python sort dictionary by value\n",
    "2. Set you on the correct path: the function sorted\n",
    "3. Get help on sorted: sorted?\n",
    "4. Can pass in a custom function to customize the sort order --> here we want to sort by value\n",
    "5. Use a lambda expression (anonymous function) to pass in this funtion on the fly"
   ]
  },
  {
   "cell_type": "code",
   "execution_count": null,
   "metadata": {},
   "outputs": [],
   "source": [
    "sorted??"
   ]
  },
  {
   "cell_type": "code",
   "execution_count": null,
   "metadata": {},
   "outputs": [],
   "source": [
    "## type your answer --> execute %load cell below to see solution!"
   ]
  },
  {
   "cell_type": "code",
   "execution_count": null,
   "metadata": {},
   "outputs": [],
   "source": [
    "%load answers//03-exercise-02-05.txt"
   ]
  },
  {
   "cell_type": "code",
   "execution_count": null,
   "metadata": {},
   "outputs": [],
   "source": [
    "sorted_palindromes[:10]"
   ]
  }
 ],
 "metadata": {
  "kernelspec": {
   "display_name": "Python 3",
   "language": "python",
   "name": "python3"
  },
  "language_info": {
   "codemirror_mode": {
    "name": "ipython",
    "version": 3
   },
   "file_extension": ".py",
   "mimetype": "text/x-python",
   "name": "python",
   "nbconvert_exporter": "python",
   "pygments_lexer": "ipython3",
   "version": "3.6.7"
  }
 },
 "nbformat": 4,
 "nbformat_minor": 2
}
