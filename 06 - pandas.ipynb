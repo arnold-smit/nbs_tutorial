{
 "cells": [
  {
   "cell_type": "markdown",
   "metadata": {},
   "source": [
    "# Pandas"
   ]
  },
  {
   "cell_type": "code",
   "execution_count": 1,
   "metadata": {},
   "outputs": [],
   "source": [
    "import pandas as pd\n",
    "import numpy  as np\n",
    "import matplotlib.pyplot as plt\n",
    "%matplotlib inline"
   ]
  },
  {
   "cell_type": "code",
   "execution_count": null,
   "metadata": {},
   "outputs": [],
   "source": [
    "help(pd)"
   ]
  },
  {
   "cell_type": "markdown",
   "metadata": {},
   "source": [
    "Like the data.frame in R, the functionality offered by pandas revolves around in-memory data manipulation.<br><br>\n",
    "There are two important classes defined in the pandas library:\n",
    "1. **Series**, a one-dimensional ndarray with *labeled axis* (including time series) & \n",
    "2. **DataFrame**, a two-dimensional size-mutable, potentially heterogeneous tabular data structure with *labeled axes*\n",
    "\n",
    "DataFrames can be thought of as a dict-like container for Series objects. The *labeled axes* a.k.a. indices is what makes pandas fast and powerfull, but also sometimes confusing if you come from you are used to other datasets like R's data.frame. Give yourself time to get used to the concepts, it will  be worth it."
   ]
  },
  {
   "cell_type": "markdown",
   "metadata": {
    "heading_collapsed": true
   },
   "source": [
    "# Series"
   ]
  },
  {
   "cell_type": "markdown",
   "metadata": {
    "hidden": true
   },
   "source": [
    "A series (think time-series) is a sequence of values where the elements are labelled **with an index**.<br>\n",
    "You can think of a Series a generalized 1D numpy array.<br>\n",
    "When no index is explicitly specified, pandas uses by default the sequence 0 ... n.<br>\n",
    "When working with timeseries the index is usually a timestamp.<br>"
   ]
  },
  {
   "cell_type": "code",
   "execution_count": 2,
   "metadata": {
    "hidden": true,
    "scrolled": true
   },
   "outputs": [
    {
     "data": {
      "text/plain": [
       "0    2\n",
       "1    5\n",
       "2    3\n",
       "3    4\n",
       "Name: My First Series, dtype: int64"
      ]
     },
     "execution_count": 2,
     "metadata": {},
     "output_type": "execute_result"
    }
   ],
   "source": [
    "## the easiest to create a Series is probably\n",
    "s1 = pd.Series([2,5,3,4], name='My First Series')\n",
    "s1\n",
    "## note the column on the left (0, ..., 3) is the index column"
   ]
  },
  {
   "cell_type": "markdown",
   "metadata": {
    "hidden": true
   },
   "source": [
    "## Main Components"
   ]
  },
  {
   "cell_type": "code",
   "execution_count": 3,
   "metadata": {
    "hidden": true
   },
   "outputs": [
    {
     "name": "stdout",
     "output_type": "stream",
     "text": [
      "Name         : My First Series\n",
      "Values       : <class 'numpy.ndarray'> with values [2 5 3 4]\n",
      "Index/Labels : RangeIndex(start=0, stop=4, step=1)\n",
      "Data Type    : int64\n"
     ]
    }
   ],
   "source": [
    "## The main pandas objects consist of three major parts\n",
    "print('Name         :', s1.name)\n",
    "print('Values       :', type(s1.values), 'with values', s1.values)\n",
    "print('Index/Labels :', s1.index)\n",
    "print('Data Type    :', s1.dtype)"
   ]
  },
  {
   "cell_type": "markdown",
   "metadata": {
    "hidden": true
   },
   "source": [
    "A Series can be viewed as a **generalized numpy array**.<br>\n",
    "As shown above the actual data in a series lives in a numpy.ndarray.<br>\n",
    "The difference is that pandas Series (& DataFrames) have row **labels contained as an index**.<br>\n",
    "An index can be seen as an immutable array.<br>\n",
    "Another way of thinking about a Series is as a specialized dictionary, where the index values are the keys mapping to the Series values."
   ]
  },
  {
   "cell_type": "markdown",
   "metadata": {
    "heading_collapsed": true
   },
   "source": [
    "# Data Types"
   ]
  },
  {
   "cell_type": "markdown",
   "metadata": {
    "hidden": true
   },
   "source": [
    "Before we dive into the ways pandas can be used to manipulate data, I want to touch on the types of data that can live in a pandas Series / DataFrame.\n",
    "<br><br>\n",
    "Pandas is build on top of NumPy. Therefore pandas offers all the datatypes NumPy offers.<br>\n",
    "A numpy array consists of a contigeous linear collection of elements. When the elements are integer, or float, or some other type that uses a given number of bits in memory, pandas is fast and efficient.<br>\n",
    "As in any other language, when the elements are of variable length, what gets captured is the reference. The actual memory used is allocated outside the array.<br>\n",
    "Take strings, strings typically have variable lengths. So when we have a column of strings pandas stores an array of string objects, consisting of some string properties, like: length & location there the actual bits live, & ... Lets get an example:"
   ]
  },
  {
   "cell_type": "code",
   "execution_count": 27,
   "metadata": {
    "hidden": true
   },
   "outputs": [
    {
     "data": {
      "text/plain": [
       "0          disagree\n",
       "1           neutral\n",
       "2             agree\n",
       "3    strongly agree\n",
       "4          disagree\n",
       "dtype: object"
      ]
     },
     "execution_count": 27,
     "metadata": {},
     "output_type": "execute_result"
    }
   ],
   "source": [
    "## don't worry to much if you do not understand all syntax here\n",
    "answcat = ['strongly disagree', 'disagree', 'neutral', 'agree', 'strongly agree']\n",
    "s1 = pd.Series(np.random.choice(answcat,p=[0.2]*5,size=50))\n",
    "s1.head()"
   ]
  },
  {
   "cell_type": "markdown",
   "metadata": {
    "hidden": true
   },
   "source": [
    "Note that the dtype = object. This is pandas way of telling you that it is keeping object references.<br>\n",
    "To explain this a bit further, lets look at the memory_uasege():"
   ]
  },
  {
   "cell_type": "code",
   "execution_count": 16,
   "metadata": {
    "hidden": true,
    "scrolled": true
   },
   "outputs": [
    {
     "data": {
      "text/plain": [
       "528"
      ]
     },
     "execution_count": 16,
     "metadata": {},
     "output_type": "execute_result"
    }
   ],
   "source": [
    "s1.memory_usage()"
   ]
  },
  {
   "cell_type": "markdown",
   "metadata": {
    "hidden": true
   },
   "source": [
    "This memory usage describes what the actual numpy arrays uses, but does not count the actual memory taken by the strings. To get that do: "
   ]
  },
  {
   "cell_type": "code",
   "execution_count": 28,
   "metadata": {
    "hidden": true
   },
   "outputs": [
    {
     "data": {
      "text/plain": [
       "3442"
      ]
     },
     "execution_count": 28,
     "metadata": {},
     "output_type": "execute_result"
    }
   ],
   "source": [
    "usage_as_strings = s1.memory_usage(deep=True)\n",
    "usage_as_strings"
   ]
  },
  {
   "cell_type": "markdown",
   "metadata": {
    "heading_collapsed": true,
    "hidden": true
   },
   "source": [
    "## Categorical Data"
   ]
  },
  {
   "cell_type": "markdown",
   "metadata": {
    "hidden": true
   },
   "source": [
    "Here's where the categorical type comes in. Instead of storing the actual strings, it stores integers that serve as contain an index into some lookup table of actual values, more or less like:"
   ]
  },
  {
   "cell_type": "code",
   "execution_count": 22,
   "metadata": {
    "hidden": true
   },
   "outputs": [
    {
     "data": {
      "text/plain": [
       "array([['3', 'strongly disagree'],\n",
       "       ['5', 'strongly disagree'],\n",
       "       ['1', 'disagree'],\n",
       "       ['2', 'agree'],\n",
       "       ['1', 'strongly agree'],\n",
       "       ['5', 'strongly disagree'],\n",
       "       ['3', 'strongly disagree'],\n",
       "       ['5', 'strongly agree'],\n",
       "       ['5', 'neutral'],\n",
       "       ['5', 'strongly disagree']], dtype='<U21')"
      ]
     },
     "execution_count": 22,
     "metadata": {},
     "output_type": "execute_result"
    }
   ],
   "source": [
    "anscat_categorical = {1:'strongly disagree', 2:'disagree', 3:'neutral', 4:'agree', 5:'strongly agree'}\n",
    "example_short = np.random.choice(range(1,6),p=[0.2]*5,size=10)\n",
    "example_long  = np.array([anscat_categorical[e] for e in example])\n",
    "np.vstack([example_short, example_long]).T"
   ]
  },
  {
   "cell_type": "markdown",
   "metadata": {
    "hidden": true
   },
   "source": [
    "A way to make the variable *categorical* in pandas is using the astype('categorical'):"
   ]
  },
  {
   "cell_type": "code",
   "execution_count": 31,
   "metadata": {
    "hidden": true
   },
   "outputs": [
    {
     "data": {
      "text/plain": [
       "0          disagree\n",
       "1           neutral\n",
       "2             agree\n",
       "3    strongly agree\n",
       "4          disagree\n",
       "dtype: category\n",
       "Categories (5, object): [agree, disagree, neutral, strongly agree, strongly disagree]"
      ]
     },
     "execution_count": 31,
     "metadata": {},
     "output_type": "execute_result"
    }
   ],
   "source": [
    "s1 = s1.astype('category')\n",
    "s1[:5]"
   ]
  },
  {
   "cell_type": "markdown",
   "metadata": {
    "hidden": true
   },
   "source": [
    "As you can see, the dtype is now **category** with possible values listed.<br>\n",
    "Moreover, the memory usage is now:"
   ]
  },
  {
   "cell_type": "code",
   "execution_count": 32,
   "metadata": {
    "hidden": true
   },
   "outputs": [
    {
     "name": "stdout",
     "output_type": "stream",
     "text": [
      "The usage as category = 674 which is 19.58%\n"
     ]
    }
   ],
   "source": [
    "usage_as_category = s1.memory_usage(deep=True)\n",
    "print(f'The usage as category = {usage_as_category} which is {100*usage_as_category/usage_as_strings:.2f}%')"
   ]
  },
  {
   "cell_type": "markdown",
   "metadata": {
    "hidden": true
   },
   "source": [
    "We are only using 20% of the memory, in real world examples this is much more dramatic (if the number of possible strings is small). Apart from this gain in memory, all sort of other data manipulations become much faster (grouping, aggregations, selections, ...)"
   ]
  },
  {
   "cell_type": "markdown",
   "metadata": {
    "heading_collapsed": true
   },
   "source": [
    "# Index"
   ]
  },
  {
   "cell_type": "markdown",
   "metadata": {
    "heading_collapsed": true,
    "hidden": true
   },
   "source": [
    "## RangeIndex"
   ]
  },
  {
   "cell_type": "markdown",
   "metadata": {
    "hidden": true
   },
   "source": [
    "Pandas automatically creates an index if none is given. The index created will be a RangeIndex, representing a sequence of integers."
   ]
  },
  {
   "cell_type": "code",
   "execution_count": null,
   "metadata": {
    "hidden": true,
    "scrolled": false
   },
   "outputs": [],
   "source": [
    "s1 = pd.Series([7,5,3], name='My Series')\n",
    "print(s1,'\\n')\n",
    "print(s1.index)"
   ]
  },
  {
   "cell_type": "markdown",
   "metadata": {
    "hidden": true
   },
   "source": [
    "Apart from the default index that gets created if you do not supply one, you can create one explicitely."
   ]
  },
  {
   "cell_type": "code",
   "execution_count": null,
   "metadata": {
    "hidden": true
   },
   "outputs": [],
   "source": [
    "## we also get a RangeIndex when we specify: index=range(...)\n",
    "s1 = pd.Series([7,5,3], name='My Series', index=range(5,8))\n",
    "print(s1,'\\n')\n",
    "print(s1.index)"
   ]
  },
  {
   "cell_type": "markdown",
   "metadata": {
    "hidden": true
   },
   "source": [
    "The index values relates to a specific element, and does not change if an element is removed:"
   ]
  },
  {
   "cell_type": "code",
   "execution_count": null,
   "metadata": {
    "hidden": true
   },
   "outputs": [],
   "source": [
    "## drop returns a new Series with the specific index value removed, but leave the original unchanged, unless ...\n",
    "## the argument inplace=True is given.\n",
    "s1.drop(6, inplace=True)\n",
    "s1"
   ]
  },
  {
   "cell_type": "markdown",
   "metadata": {
    "hidden": true
   },
   "source": [
    "The remaining elements keep their index value.<br>\n",
    "Also note that RangeIndex(start=5, stop=8, step=1) can no longer be valid.<br>\n",
    "Under the hood, pandas managed this by changing the index type:"
   ]
  },
  {
   "cell_type": "code",
   "execution_count": null,
   "metadata": {
    "hidden": true
   },
   "outputs": [],
   "source": [
    "s1.index"
   ]
  },
  {
   "cell_type": "markdown",
   "metadata": {
    "hidden": true
   },
   "source": [
    "There is a whole hierarchy of Index classes defined in pandas.<br> \n",
    "For daily use, you let pandas take care of the details."
   ]
  },
  {
   "cell_type": "code",
   "execution_count": null,
   "metadata": {
    "hidden": true
   },
   "outputs": [],
   "source": [
    "## for the interested, or when you need it, you can find out much about the hierarchy using the %pserach magic\n",
    "%psearch pd.core.indexes.[a-zA-Z]*"
   ]
  },
  {
   "cell_type": "markdown",
   "metadata": {
    "heading_collapsed": true,
    "hidden": true
   },
   "source": [
    "## Index: Any Hashable Type"
   ]
  },
  {
   "cell_type": "markdown",
   "metadata": {
    "hidden": true
   },
   "source": [
    "An index doesn't have to be integer based. It can be, and often is, strings:"
   ]
  },
  {
   "cell_type": "code",
   "execution_count": null,
   "metadata": {
    "hidden": true
   },
   "outputs": [],
   "source": [
    "s1 = pd.Series([7,5,3], name='My Series', index=['Jan','Feb','Mar'])\n",
    "print(s1,'\\n')\n",
    "print(type(s1.index), s1.index)"
   ]
  },
  {
   "cell_type": "markdown",
   "metadata": {
    "hidden": true
   },
   "source": [
    "Actually, an **index can be any hashable data type**.<br><br>\n",
    "A hashable data type is a data type that provides the method \\_\\_hash\\_\\_(). Roughly speaking all primitive data types are hashable and the unmutable collections are hashable as well. As examples, lists and dicts are not allowed, but you could use a tuple as an index."
   ]
  },
  {
   "cell_type": "code",
   "execution_count": null,
   "metadata": {
    "hidden": true
   },
   "outputs": [],
   "source": [
    "## many types are hashable in Python: like strings\n",
    "'a string'.__hash__()"
   ]
  },
  {
   "cell_type": "code",
   "execution_count": null,
   "metadata": {
    "hidden": true
   },
   "outputs": [],
   "source": [
    "## or, more adventurous, functions\n",
    "def greater_than_two(a): return(a>2)\n",
    "greater_than_two.__hash__()"
   ]
  },
  {
   "cell_type": "code",
   "execution_count": null,
   "metadata": {
    "hidden": true
   },
   "outputs": [],
   "source": [
    "## or tuples\n",
    "(1,2,3).__hash__()\n",
    "## please note that tuples are also used in MultiIndex (discussed below), so the syntax has some gotcha's"
   ]
  },
  {
   "cell_type": "code",
   "execution_count": null,
   "metadata": {
    "hidden": true
   },
   "outputs": [],
   "source": [
    "## as an example: to create a Series with an index of type tuple \n",
    "s1 = pd.Series([11,22,33], name='s1', index=[(1,1),(2,2),(3,3)])\n",
    "print(s1,'\\n')\n",
    "print(type(s1.index))"
   ]
  },
  {
   "cell_type": "markdown",
   "metadata": {
    "hidden": true
   },
   "source": [
    "Also, an index does not have to be unique:"
   ]
  },
  {
   "cell_type": "code",
   "execution_count": null,
   "metadata": {
    "hidden": true
   },
   "outputs": [],
   "source": [
    "## note: list('aba') --> ['a','b','a']\n",
    "s3 = pd.Series([1,2,3], name='s1', index=list('aba'))\n",
    "s3"
   ]
  },
  {
   "cell_type": "markdown",
   "metadata": {
    "heading_collapsed": true,
    "hidden": true
   },
   "source": [
    "## DateTimeIndex"
   ]
  },
  {
   "cell_type": "markdown",
   "metadata": {
    "hidden": true
   },
   "source": [
    "An important type of index used in **time series** is the **DatetimeIndex**.<br>\n",
    "The DatetimeIndex class provides lots of functionality around date time based indices.<br><br>\n",
    "Pandas provides some usefull functions to generate these, like **date_range**:"
   ]
  },
  {
   "cell_type": "code",
   "execution_count": null,
   "metadata": {
    "hidden": true
   },
   "outputs": [],
   "source": [
    "## to create an index of a sequence of consecutive days, use freq='D'\n",
    "pd.date_range(start='2019-03-26', end='2019-04-02', freq='D')"
   ]
  },
  {
   "cell_type": "markdown",
   "metadata": {
    "hidden": true
   },
   "source": [
    "So if we have data containing daily maximum temperatures, a natural way to store this is given by:"
   ]
  },
  {
   "cell_type": "code",
   "execution_count": null,
   "metadata": {
    "hidden": true
   },
   "outputs": [],
   "source": [
    "idx = pd.date_range(start='2019-03-26', end='2019-04-02', freq='D')\n",
    "daily_max_temp_degree_c = pd.Series([12,13,14,13,15,14,15,15], name='Daily Max Temp C', index=idx)\n",
    "daily_max_temp_degree_c"
   ]
  },
  {
   "cell_type": "markdown",
   "metadata": {
    "hidden": true
   },
   "source": [
    "It is also possible to specify multiples in the *freq=* notation:"
   ]
  },
  {
   "cell_type": "code",
   "execution_count": null,
   "metadata": {
    "hidden": true
   },
   "outputs": [],
   "source": [
    "## so every Monday from 2019-03-25 to 2019-04-05 is - the day_name() method returns the day name ...\n",
    "print('Check: 2019-03-25 is a', pd.to_datetime('2019-03-25').day_name())\n",
    "## to define multiples, put an integer before the period, so: freq='D' is daily and freq='7D' is weekly\n",
    "pd.date_range(start='2019-03-25', end='2019-04-15', freq='7D')\n",
    "## note that '2019-04-15' is included"
   ]
  },
  {
   "cell_type": "code",
   "execution_count": null,
   "metadata": {
    "hidden": true
   },
   "outputs": [],
   "source": [
    "## or let's say we want two Mondays\n",
    "pd.date_range(start='2019-03-25', periods=2, freq='7D')"
   ]
  },
  {
   "cell_type": "code",
   "execution_count": null,
   "metadata": {
    "hidden": true,
    "scrolled": true
   },
   "outputs": [],
   "source": [
    "## or something with working days using freq='C'\n",
    "idx = pd.date_range(start='2019-03-26', end='2019-04-02', freq='C')\n",
    "pd.Series([f\"{dt.day_name()} work {hr}Hr {':-)' if (hr<8) else ':-('}\" for dt,hr in zip(idx, [8,8,8,3,8,8])], \n",
    "          name='Work Pattern', \n",
    "          index=idx)"
   ]
  },
  {
   "cell_type": "markdown",
   "metadata": {
    "hidden": true
   },
   "source": [
    "[Link](https://pandas.pydata.org/pandas-docs/stable/user_guide/timeseries.html#timeseries-offset-aliases) to more info on frequency aliases."
   ]
  },
  {
   "cell_type": "markdown",
   "metadata": {
    "hidden": true
   },
   "source": [
    "Pandas provides usefull methods to down/upsample timeseries using **resample**:"
   ]
  },
  {
   "cell_type": "code",
   "execution_count": null,
   "metadata": {
    "hidden": true
   },
   "outputs": [],
   "source": [
    "## create a slightly bigger Series, to demonstrate down sampling\n",
    "s4  = pd.Series(np.random.randn(35), index=pd.date_range(start='2019-03-26', periods=35, freq='D'))\n",
    "s4.head(n=7)"
   ]
  },
  {
   "cell_type": "code",
   "execution_count": null,
   "metadata": {
    "hidden": true
   },
   "outputs": [],
   "source": [
    "## to down sample to one record per week --> taking the last value of the week\n",
    "s4.resample('W', label='right').last()\n",
    "## label='right' means: the interval is labelled using the 'ending Sunday'\n",
    "## .last() means: take the last value in the interval -- other option: first, mean, median, ..."
   ]
  },
  {
   "cell_type": "code",
   "execution_count": null,
   "metadata": {
    "hidden": true,
    "scrolled": true
   },
   "outputs": [],
   "source": [
    "## check what pandas is doing ... selecting the Sunday's --> see discussion on selection later :-)\n",
    "s4.loc[s4.index.day_name() == 'Sunday']"
   ]
  },
  {
   "cell_type": "code",
   "execution_count": null,
   "metadata": {
    "hidden": true
   },
   "outputs": [],
   "source": [
    "## more generically, instead of using one of the many predefined methods, like: last, first, mean, std, ...\n",
    "## we could define our own aggregation function, for instance: lag 1 autocorrelation:\n",
    "def my_aggregation_fun(srs): return(np.NaN if (len(srs)<4) else srs.autocorr(lag=1)) ## NaN is len < 4\n",
    "s4.resample('M', label='right').agg(my_aggregation_fun)"
   ]
  },
  {
   "cell_type": "markdown",
   "metadata": {
    "hidden": true
   },
   "source": [
    "*.resample()*:\n",
    "1. *splits* the series into a set of smaller series (as defined by the first argument),\n",
    "2. *apply* the function, here my_aggregation_fun, and \n",
    "3. *combines* the result back into a resulting Series.\n",
    "\n",
    "This **split-apply-combine** pattern is present everywhere in data-science workflows, and pandas has some nice syntax to do this using *groupby()* on which more later."
   ]
  },
  {
   "cell_type": "markdown",
   "metadata": {
    "heading_collapsed": true,
    "hidden": true
   },
   "source": [
    "## Index Viewed As Set"
   ]
  },
  {
   "cell_type": "markdown",
   "metadata": {
    "hidden": true
   },
   "source": [
    "In many ways an index behaves like a set:"
   ]
  },
  {
   "cell_type": "code",
   "execution_count": null,
   "metadata": {
    "hidden": true
   },
   "outputs": [],
   "source": [
    "s51 = pd.Series([7,5,3,7,1], index=pd.Index([1,2,3,4,5]))\n",
    "s52 = pd.Series([4,6,3,2,8], index=pd.Index([    3,4,5,6,7]))"
   ]
  },
  {
   "cell_type": "code",
   "execution_count": null,
   "metadata": {
    "hidden": true
   },
   "outputs": [],
   "source": [
    "## when using the in operator, pandas checks if the element in the index\n",
    "print(f'check: 7 in s51 gives: {7 in s51}')\n",
    "print(f'check: 2 in s51 gives: {2 in s51}')\n",
    "## equivalent to: _ in s51.index"
   ]
  },
  {
   "cell_type": "markdown",
   "metadata": {
    "hidden": true
   },
   "source": [
    "More, specifically, the operators: &, |, and ^ behave like set operations"
   ]
  },
  {
   "cell_type": "code",
   "execution_count": null,
   "metadata": {
    "hidden": true
   },
   "outputs": [],
   "source": [
    "## the indices that are in both sets --> logical AND\n",
    "s51.index & s52.index"
   ]
  },
  {
   "cell_type": "code",
   "execution_count": null,
   "metadata": {
    "hidden": true
   },
   "outputs": [],
   "source": [
    "## the indices that are in either sets --> logical OR\n",
    "s51.index | s52.index"
   ]
  },
  {
   "cell_type": "code",
   "execution_count": null,
   "metadata": {
    "hidden": true
   },
   "outputs": [],
   "source": [
    "## the indices that are in only one of the sets --> logical XOR\n",
    "s51.index ^ s52.index"
   ]
  },
  {
   "cell_type": "markdown",
   "metadata": {
    "hidden": true
   },
   "source": [
    "**GOTCHA**: an index behaves like an *immutable array* for the math operators: -, +, \\*, and /"
   ]
  },
  {
   "cell_type": "code",
   "execution_count": null,
   "metadata": {
    "hidden": true
   },
   "outputs": [],
   "source": [
    "print(s51.index + s52.index)\n",
    "print(s51.index - s52.index)\n",
    "print(s51.index * s52.index)\n",
    "print(s51.index / s52.index)"
   ]
  },
  {
   "cell_type": "markdown",
   "metadata": {
    "heading_collapsed": true,
    "hidden": true
   },
   "source": [
    "## MultiIndex"
   ]
  },
  {
   "cell_type": "markdown",
   "metadata": {
    "hidden": true
   },
   "source": [
    "Finally, an index can have multiple levels.<br>\n",
    "As an example assume we have end of month data on accounts.<br>\n",
    "Using the from_arrays() method on the MultiIndex class:<br>"
   ]
  },
  {
   "cell_type": "code",
   "execution_count": null,
   "metadata": {
    "hidden": true
   },
   "outputs": [],
   "source": [
    "s6  = pd.Series(np.random.randn(9), \n",
    "                name    = 'Fictitious Balance', \n",
    "                index   = pd.MultiIndex.from_arrays([  [1,1,1,2,2,2,3,3,3], \n",
    "                                                       ['201801','201802','201803']*3\n",
    "                                                    ], \n",
    "                                                    names=['account','yyyymm']\n",
    "                                                   )\n",
    "                columns = pd.MultiIndex.from_arrays([  ['atm']*3 + ['contactless']*3 + ['mobile']*3,\n",
    "                                                       ['nr','vol','avg']*3\n",
    "                                                    ], \n",
    "                                                    names=['account','yyyymm']\n",
    "                                                   )\n",
    "              )\n",
    "s6"
   ]
  },
  {
   "cell_type": "code",
   "execution_count": null,
   "metadata": {
    "hidden": true
   },
   "outputs": [],
   "source": [
    "['atm']*3,['contactless']*3,['mobile']*3"
   ]
  },
  {
   "cell_type": "markdown",
   "metadata": {
    "hidden": true
   },
   "source": [
    "This becomes rather usefull when selecting or aggregating:"
   ]
  },
  {
   "cell_type": "code",
   "execution_count": null,
   "metadata": {
    "hidden": true
   },
   "outputs": [],
   "source": [
    "s6.loc[:,'201803']"
   ]
  },
  {
   "cell_type": "markdown",
   "metadata": {
    "hidden": true
   },
   "source": [
    "Many aggregation methods defined on the Series (and DataFrames) take *level=* as argument:"
   ]
  },
  {
   "cell_type": "code",
   "execution_count": null,
   "metadata": {
    "hidden": true
   },
   "outputs": [],
   "source": [
    "## aggregate by account\n",
    "s6.sum(level='account')"
   ]
  },
  {
   "cell_type": "code",
   "execution_count": null,
   "metadata": {
    "hidden": true,
    "scrolled": true
   },
   "outputs": [],
   "source": [
    "## aggregate by year/month\n",
    "s6.sum(level='yyyymm')"
   ]
  },
  {
   "cell_type": "markdown",
   "metadata": {
    "hidden": true
   },
   "source": [
    "There will be more on aggregating, slicing, & dicing data later on. For now, observe that MultiIndex (or hierarchical indexing) can lead to natural / readable syntax."
   ]
  },
  {
   "cell_type": "markdown",
   "metadata": {
    "heading_collapsed": true
   },
   "source": [
    "# DataFrame"
   ]
  },
  {
   "cell_type": "markdown",
   "metadata": {
    "hidden": true
   },
   "source": [
    "The **DataFrame** lies at the hart of many Data Science workflows. It holds a two-dimensional table of data where each column can be be of a different data type. A DataFrame is build from a set of Series, all sharing the same index.<br><br>\n",
    "Let's start by creating a DataFrame from two Series:"
   ]
  },
  {
   "cell_type": "code",
   "execution_count": null,
   "metadata": {
    "hidden": true
   },
   "outputs": [],
   "source": [
    "## lets create some random data\n",
    "s1 = pd.Series(np.random.randn(4), name='series1', index=[1,2,3,4])\n",
    "s2 = pd.Series(np.random.randn(4), name='series2', index=[3,4,5,6])\n",
    "s3 = pd.Series(np.random.randn(4), name='series2', index=[5,6,7,8])\n",
    "## the __init__() method of DataFrame accepts a dict of Series\n",
    "df = pd.DataFrame({'s1': s1, 's2': s2, 's3': s3})\n",
    "df"
   ]
  },
  {
   "cell_type": "markdown",
   "metadata": {
    "hidden": true
   },
   "source": [
    "Note that pandas automatically lines up the indices and fills with NaN where the values are missing!"
   ]
  },
  {
   "cell_type": "markdown",
   "metadata": {
    "heading_collapsed": true,
    "hidden": true
   },
   "source": [
    "## Main Components"
   ]
  },
  {
   "cell_type": "markdown",
   "metadata": {
    "hidden": true
   },
   "source": [
    "Just like with Series, the three important part of a DataFrame are:\n",
    "* columns ==> column index\n",
    "* index   ==> row index\n",
    "* values  ==> the data"
   ]
  },
  {
   "cell_type": "code",
   "execution_count": null,
   "metadata": {
    "hidden": true
   },
   "outputs": [],
   "source": [
    "df.columns"
   ]
  },
  {
   "cell_type": "code",
   "execution_count": null,
   "metadata": {
    "hidden": true
   },
   "outputs": [],
   "source": [
    "df.index"
   ]
  },
  {
   "cell_type": "code",
   "execution_count": null,
   "metadata": {
    "hidden": true
   },
   "outputs": [],
   "source": [
    "df.values"
   ]
  },
  {
   "cell_type": "markdown",
   "metadata": {
    "hidden": true
   },
   "source": [
    "To get some summary information regarding the DataFrame, use *.info()*:"
   ]
  },
  {
   "cell_type": "code",
   "execution_count": null,
   "metadata": {
    "hidden": true
   },
   "outputs": [],
   "source": [
    "df.info()"
   ]
  },
  {
   "cell_type": "markdown",
   "metadata": {
    "heading_collapsed": true
   },
   "source": [
    "# Selecting Data"
   ]
  },
  {
   "cell_type": "markdown",
   "metadata": {
    "hidden": true
   },
   "source": [
    "We already used indexing / slicing / selecting data from a Series.<br>\n",
    "In the following we will take a deep-dive into selecting data from a DataFrame.<br><br>\n",
    "\n",
    "There are two ways to reference elements of the series:\n",
    "1. **.loc[]** & **.at[]**: using **index values** & \n",
    "2. **.iloc[]** & **.iat[]**: **location based** (n-th element & not element with index n)\n",
    "\n",
    "Note: it is also possible to use the **[]** operator directly.<br>\n",
    "But, it can be confusing. To be discussed last, once the basics are nailed down\n",
    "<br><br>\n",
    "Direct use of operator[] is usefull in the Notebook, but discouraged in production code.<br>\n",
    "(from the docs) ... *since the type of the data to be accessed isn’t known in advance, directly using standard operators has some optimization limits. For production code, we recommended that you take advantage of the optimized pandas data access methods exposed in this chapter*."
   ]
  },
  {
   "cell_type": "markdown",
   "metadata": {
    "heading_collapsed": true,
    "hidden": true
   },
   "source": [
    "## Single Element"
   ]
  },
  {
   "cell_type": "markdown",
   "metadata": {
    "hidden": true
   },
   "source": [
    "Let's look at some simple examples: *.at[]* & *.iat[]*"
   ]
  },
  {
   "cell_type": "code",
   "execution_count": null,
   "metadata": {
    "hidden": true
   },
   "outputs": [],
   "source": [
    "## element with row index = 1 and column (index) = s1 (position 0, 0)\n",
    "df.at[1,'s1']"
   ]
  },
  {
   "cell_type": "code",
   "execution_count": null,
   "metadata": {
    "hidden": true
   },
   "outputs": [],
   "source": [
    "## the same element now using it's position 0, 0\n",
    "df.iat[0,0]"
   ]
  },
  {
   "cell_type": "markdown",
   "metadata": {
    "hidden": true
   },
   "source": [
    "This is basically all you can do with *.at[]* and *.iat[]*.<br>\n",
    "They are simple and fast, but less flexible as *.loc[]* and *.iloc[]*.<br>\n",
    "You could do the same thing using *.loc[]* and *.iloc[]*:"
   ]
  },
  {
   "cell_type": "code",
   "execution_count": null,
   "metadata": {
    "hidden": true
   },
   "outputs": [],
   "source": [
    "df.loc[1,'s1']"
   ]
  },
  {
   "cell_type": "code",
   "execution_count": null,
   "metadata": {
    "hidden": true
   },
   "outputs": [],
   "source": [
    "df.iloc[0,0]"
   ]
  },
  {
   "cell_type": "markdown",
   "metadata": {
    "hidden": true
   },
   "source": [
    "But *.loc[]* and *.iloc[]* can also deal with more complicated selections.\n",
    "<br><br>\n",
    "The use case for *.at[]* & *.iat[]* is simply speed ...\n",
    "<br><br>\n",
    "*From the documentation*: Since indexing with **.loc[]** & **.iloc[]** must handle a lot of cases (single-label access, slicing, boolean indexing, etc.), it has a bit of overhead in order to figure out what you’re asking for. If you only want to access a scalar value, the fastest way is to use the **at[]** and **iat[]** methods."
   ]
  },
  {
   "cell_type": "markdown",
   "metadata": {
    "heading_collapsed": true,
    "hidden": true
   },
   "source": [
    "### Timeit"
   ]
  },
  {
   "cell_type": "code",
   "execution_count": null,
   "metadata": {
    "hidden": true
   },
   "outputs": [],
   "source": [
    "rs = pd.Series(0,range(10000))\n",
    "df = pd.DataFrame(np.random.randn(10000,2))"
   ]
  },
  {
   "cell_type": "code",
   "execution_count": null,
   "metadata": {
    "hidden": true
   },
   "outputs": [],
   "source": [
    "%%timeit\n",
    "for i in rs.index: rs.loc[i] = df.loc[i,0] + df.loc[i,1]"
   ]
  },
  {
   "cell_type": "code",
   "execution_count": null,
   "metadata": {
    "hidden": true
   },
   "outputs": [],
   "source": [
    "%%timeit\n",
    "for i in range(10000): rs.iloc[i] = df.iloc[i,0] + df.iloc[i,1]"
   ]
  },
  {
   "cell_type": "code",
   "execution_count": null,
   "metadata": {
    "hidden": true
   },
   "outputs": [],
   "source": [
    "%%timeit\n",
    "for i in rs.index: rs.at[i] = df.at[i,0] + df.at[i,1]"
   ]
  },
  {
   "cell_type": "code",
   "execution_count": null,
   "metadata": {
    "hidden": true
   },
   "outputs": [],
   "source": [
    "%%timeit\n",
    "for i in range(10000): rs.iat[i] = df.iat[i,0] + df.iat[i,1]"
   ]
  },
  {
   "cell_type": "markdown",
   "metadata": {
    "hidden": true
   },
   "source": [
    "The *.at[]* and *.iat[]* show some pretty good speedups here ...\n",
    "<br><br>\n",
    "But ... you should **always use 'vectorized computation'** in pandas and numpy (and R and probably any intepreted language that does not have compiler optimizations to make it fast), as show below:"
   ]
  },
  {
   "cell_type": "code",
   "execution_count": null,
   "metadata": {
    "hidden": true
   },
   "outputs": [],
   "source": [
    "%%timeit\n",
    "rs = df.sum(axis=1)"
   ]
  },
  {
   "cell_type": "markdown",
   "metadata": {
    "hidden": true
   },
   "source": [
    "Below we delve into more complex selection mechanisms that allow for vecorized computations on mor complex sub-selections."
   ]
  },
  {
   "cell_type": "markdown",
   "metadata": {
    "heading_collapsed": true,
    "hidden": true
   },
   "source": [
    "## Boolean Indexing"
   ]
  },
  {
   "cell_type": "markdown",
   "metadata": {
    "hidden": true
   },
   "source": [
    "A pattern often used is boolean indexing. To quickly select a subset where some condition holds, we pass in a Series (or array or list) of boolean values.<br>\n",
    "In pandas boolean indexing is supported using *.loc[]*:"
   ]
  },
  {
   "cell_type": "code",
   "execution_count": null,
   "metadata": {
    "hidden": true
   },
   "outputs": [],
   "source": [
    "df = pd.DataFrame(np.random.randn(10,3), columns=['c1','c2','c3'])\n",
    "df"
   ]
  },
  {
   "cell_type": "code",
   "execution_count": null,
   "metadata": {
    "hidden": true
   },
   "outputs": [],
   "source": [
    "## define a simple expression that returns a Series of booleans where column c1 > 0\n",
    "df.c1 > 0"
   ]
  },
  {
   "cell_type": "code",
   "execution_count": null,
   "metadata": {
    "hidden": true
   },
   "outputs": [],
   "source": [
    "## to select all the rows where this condition is True\n",
    "df.loc[df.c1 > 0]"
   ]
  },
  {
   "cell_type": "markdown",
   "metadata": {
    "hidden": true
   },
   "source": [
    "If you want to use multiple conditions, you **must wrap each condition in ()**:"
   ]
  },
  {
   "cell_type": "code",
   "execution_count": null,
   "metadata": {
    "hidden": true
   },
   "outputs": [],
   "source": [
    "df.loc[(df.c1 > 0) & (df.c3 < 0)]"
   ]
  },
  {
   "cell_type": "markdown",
   "metadata": {
    "hidden": true
   },
   "source": [
    "Another way of doing the same is using the query method:"
   ]
  },
  {
   "cell_type": "code",
   "execution_count": null,
   "metadata": {
    "hidden": true
   },
   "outputs": [],
   "source": [
    "df.query('c1 > 0 & c3 < 0')"
   ]
  },
  {
   "cell_type": "markdown",
   "metadata": {
    "hidden": true
   },
   "source": [
    "This way of working with your data is what makes pandas work. If you work with poandas (or numpy, R data frames, or ...) you need to become familiar at this way of working. Working with loops will slow your code down and make it much less readable and maintainable.\n",
    "<br><br>\n",
    "Let's replace all the negative elements with 0, the bad way and the good way:"
   ]
  },
  {
   "cell_type": "code",
   "execution_count": null,
   "metadata": {
    "hidden": true
   },
   "outputs": [],
   "source": [
    "df = pd.DataFrame(np.random.randn(10000,2), columns=['c1','c2'])\n",
    "df.head()"
   ]
  },
  {
   "cell_type": "code",
   "execution_count": null,
   "metadata": {
    "hidden": true
   },
   "outputs": [],
   "source": [
    "%%timeit\n",
    "## The BAD way. Don't do this!!!!\n",
    "res = df.copy()\n",
    "for row_index in range(res.shape[0]):\n",
    "    for col_index in range(res.shape[1]):\n",
    "        if res.iat[row_index,col_index] < 0:\n",
    "            res.iat[row_index,col_index] = 0"
   ]
  },
  {
   "cell_type": "code",
   "execution_count": null,
   "metadata": {
    "hidden": true
   },
   "outputs": [],
   "source": [
    "res = df.copy()\n",
    "for _, col_as_series in res.items(): col_as_series.loc[col_as_series<0]=0\n",
    "res.head()"
   ]
  },
  {
   "cell_type": "code",
   "execution_count": null,
   "metadata": {
    "hidden": true
   },
   "outputs": [],
   "source": [
    "%%timeit\n",
    "## A better way ...\n",
    "res = df.copy()\n",
    "## loop over columns (more on iterating over Series and DataFrames later)\n",
    "for _, col in res.items():\n",
    "    ## select elements where col < 0 is True and replace with 0\n",
    "    col.loc[ col < 0 ] = 0"
   ]
  },
  {
   "cell_type": "code",
   "execution_count": null,
   "metadata": {
    "hidden": true
   },
   "outputs": [],
   "source": [
    "%%timeit\n",
    "## The Good way. Instead do this!!!!\n",
    "res = df.copy()\n",
    "## shorter, prettier, and arguably more readable ...\n",
    "res.where( res < 0, 0 )"
   ]
  },
  {
   "cell_type": "markdown",
   "metadata": {
    "heading_collapsed": true,
    "hidden": true
   },
   "source": [
    "## Using List or Array"
   ]
  },
  {
   "cell_type": "code",
   "execution_count": null,
   "metadata": {
    "hidden": true
   },
   "outputs": [],
   "source": [
    "df = pd.DataFrame(np.random.randn(10,3), columns=['c1','c2','c3'])\n",
    "df"
   ]
  },
  {
   "cell_type": "code",
   "execution_count": null,
   "metadata": {
    "hidden": true,
    "scrolled": true
   },
   "outputs": [],
   "source": [
    "df.loc[[1,6,7,9]]"
   ]
  },
  {
   "cell_type": "code",
   "execution_count": null,
   "metadata": {
    "hidden": true
   },
   "outputs": [],
   "source": [
    "df.loc[[1,6,7,9],['c3','c1']]"
   ]
  },
  {
   "cell_type": "code",
   "execution_count": null,
   "metadata": {
    "hidden": true
   },
   "outputs": [],
   "source": [
    "## note that negative index values are allowed\n",
    "df.iloc[[3,2,1], [-1,-2]]"
   ]
  },
  {
   "cell_type": "markdown",
   "metadata": {
    "heading_collapsed": true,
    "hidden": true
   },
   "source": [
    "## Slicing"
   ]
  },
  {
   "cell_type": "markdown",
   "metadata": {
    "hidden": true
   },
   "source": [
    "Pandas can select data using the slice notation *lower*:*upper*:*step*<br><br>\n",
    "**GOTCHA**: index-based slicing using .loc[] **includes** the upper bound!!"
   ]
  },
  {
   "cell_type": "code",
   "execution_count": null,
   "metadata": {
    "hidden": true
   },
   "outputs": [],
   "source": [
    "df = pd.DataFrame(np.random.randint(low=1, high=9, size=(5,5)), columns=['c1','c2','c3','c4','c5'])\n",
    "df"
   ]
  },
  {
   "cell_type": "code",
   "execution_count": null,
   "metadata": {
    "hidden": true,
    "scrolled": true
   },
   "outputs": [],
   "source": [
    "## rows with index values 1,2, & 3 (upper bound included in index slicing)\n",
    "df.loc[1:3]"
   ]
  },
  {
   "cell_type": "code",
   "execution_count": null,
   "metadata": {
    "hidden": true
   },
   "outputs": [],
   "source": [
    "## rows at position 1 & 2 (upper bound not included in position slicing)\n",
    "df.iloc[1:3]"
   ]
  },
  {
   "cell_type": "code",
   "execution_count": null,
   "metadata": {
    "hidden": true,
    "scrolled": true
   },
   "outputs": [],
   "source": [
    "df.loc[1:3,'c1':'c4']"
   ]
  },
  {
   "cell_type": "code",
   "execution_count": null,
   "metadata": {
    "hidden": true
   },
   "outputs": [],
   "source": [
    "## first two rows by first two columns\n",
    "df.iloc[:2,:2]"
   ]
  },
  {
   "cell_type": "markdown",
   "metadata": {
    "hidden": true
   },
   "source": [
    "Since the index does not have to consist of unique values and the index does not have to be increasing or decreasing, slicing with **index** can fail or give unexpected results.<br>\n",
    "The process is to obtain a index slice is:\n",
    "1. get unique position of left value (throws KeyError if not unique)\n",
    "2. get unique position of right value (throws KeyError if not unique)\n",
    "3. return the sequence between these positions"
   ]
  },
  {
   "cell_type": "code",
   "execution_count": null,
   "metadata": {
    "hidden": true
   },
   "outputs": [],
   "source": [
    "## lets create a series with an index that is not strictly increasing or decreasing and contains duplicate values \n",
    "df = pd.Series([1,2,3,4,5,6,7,8],index=list('acdfebae'))\n",
    "## index value 'a' not unique\n",
    "try:\n",
    "    print(df.loc['a':'d'])\n",
    "except Exception as e:\n",
    "    print(e)\n",
    "## index value 'e' not unique\n",
    "try:\n",
    "    print(df.loc['b':'e'])\n",
    "except Exception as e:\n",
    "    print(e)\n",
    "## index values 'f' & 'b' unique, but ... does this make sense?\n",
    "try:\n",
    "    print(df.loc['f':'b'])\n",
    "except Exception as e:\n",
    "    print(e)"
   ]
  },
  {
   "cell_type": "code",
   "execution_count": null,
   "metadata": {
    "hidden": true
   },
   "outputs": [],
   "source": [
    "df.index.is_unique"
   ]
  },
  {
   "cell_type": "code",
   "execution_count": null,
   "metadata": {
    "hidden": true
   },
   "outputs": [],
   "source": [
    "df.index.is_monotonic"
   ]
  },
  {
   "cell_type": "markdown",
   "metadata": {
    "hidden": true
   },
   "source": [
    "Slicing using the **position** based syntax is always unambiguous!"
   ]
  },
  {
   "cell_type": "markdown",
   "metadata": {
    "heading_collapsed": true,
    "hidden": true
   },
   "source": [
    "## Callable Function"
   ]
  },
  {
   "cell_type": "markdown",
   "metadata": {
    "hidden": true
   },
   "source": [
    "Finally, you can pass in a function (or callable) that takes one argument (the calling Series or DataFrame) and returns valid output for indexing."
   ]
  },
  {
   "cell_type": "code",
   "execution_count": null,
   "metadata": {
    "hidden": true
   },
   "outputs": [],
   "source": [
    "np.random.seed(1)\n",
    "df = pd.DataFrame(np.random.randint(low=1, high=9, size=(5,5)), columns=['c1','c2','c3','c4','c5'])\n",
    "df"
   ]
  },
  {
   "cell_type": "code",
   "execution_count": null,
   "metadata": {
    "hidden": true
   },
   "outputs": [],
   "source": [
    "## all rows that have a column max\n",
    "def select_rows_with_1s(df): \n",
    "    return((df==1).sum(axis=1) > 0)\n",
    "\n",
    "## all rows that have a column containing a column max\n",
    "def select_rows_with_column_max(df):\n",
    "    return(set(df.idxmax(axis=0)))\n",
    "\n",
    "## put the functions in a dict\n",
    "funs = {'1': select_rows_with_1s, '2': select_rows_with_column_max}"
   ]
  },
  {
   "cell_type": "code",
   "execution_count": null,
   "metadata": {
    "hidden": true
   },
   "outputs": [],
   "source": [
    "ixfun = input('''\n",
    "1: to select all rows that have at least one 1\n",
    "2: to select all rows that contain a column max\n",
    "Choose your function: ''')\n",
    "\n",
    "df.loc[ funs[ixfun] ]"
   ]
  },
  {
   "cell_type": "markdown",
   "metadata": {
    "heading_collapsed": true,
    "hidden": true
   },
   "source": [
    "## Shortcut: [] directly on DataFrame[]"
   ]
  },
  {
   "cell_type": "markdown",
   "metadata": {
    "hidden": true
   },
   "source": [
    "Finally, you can use the syntax *DataFrame[]*. This syntax is **very** confusing if you do not understand the basics. The behaviour of *DataFrame[]* depends on the arguments given:"
   ]
  },
  {
   "cell_type": "code",
   "execution_count": null,
   "metadata": {
    "hidden": true
   },
   "outputs": [],
   "source": [
    "## lets create a dataframe that shows of the behaviour.\n",
    "## spend some time in understanding this, it will pay off!!\n",
    "df = pd.DataFrame(np.random.randn(5,3), index=[1,2,3,4,5], columns=[1,2,3])\n",
    "df"
   ]
  },
  {
   "cell_type": "markdown",
   "metadata": {
    "hidden": true
   },
   "source": [
    "Single value --> argument interpreted as column index value / name"
   ]
  },
  {
   "cell_type": "code",
   "execution_count": null,
   "metadata": {
    "hidden": true
   },
   "outputs": [],
   "source": [
    "df[1]"
   ]
  },
  {
   "cell_type": "markdown",
   "metadata": {
    "hidden": true
   },
   "source": [
    "List of values --> argument interpreted as list of column index values / column names"
   ]
  },
  {
   "cell_type": "code",
   "execution_count": null,
   "metadata": {
    "hidden": true
   },
   "outputs": [],
   "source": [
    "df[[3,1]]"
   ]
  },
  {
   "cell_type": "markdown",
   "metadata": {
    "hidden": true
   },
   "source": [
    "List of booleans --> argument interpreted as list of booleans for the rows"
   ]
  },
  {
   "cell_type": "code",
   "execution_count": null,
   "metadata": {
    "hidden": true
   },
   "outputs": [],
   "source": [
    "df[[True,False,False,True,False]]"
   ]
  },
  {
   "cell_type": "markdown",
   "metadata": {
    "hidden": true
   },
   "source": [
    "Slice --> argument interpreted as a row slice using position (0-based)"
   ]
  },
  {
   "cell_type": "code",
   "execution_count": null,
   "metadata": {
    "hidden": true
   },
   "outputs": [],
   "source": [
    "## position 1 is the second row & since we are doing positional slicing the upper bound 4 is excluded\n",
    "df[1:4]\n",
    "## note: 1,2,3 (excluding 4) in position have index values: 2,3,4"
   ]
  },
  {
   "cell_type": "markdown",
   "metadata": {
    "hidden": true
   },
   "source": [
    "You often see these selections chained:"
   ]
  },
  {
   "cell_type": "code",
   "execution_count": null,
   "metadata": {
    "hidden": true
   },
   "outputs": [],
   "source": [
    "df[[True,False,False,True,False]][[3,1]]"
   ]
  },
  {
   "cell_type": "markdown",
   "metadata": {
    "hidden": true
   },
   "source": [
    "In summary:\n",
    "\n",
    "| DataFrame[] | DataFrame.loc[] / DataFrame.iloc[] | position / index |\n",
    "| --- | --- | --- |\n",
    "| df[1] | df.loc[:,1] | index based |\n",
    "| df[[1,2]] | df.loc[:,[1,2]] | index based |\n",
    "| df[[True, False, ...]] | df.loc[[True, False, ...],:] | n/a |\n",
    "| df[1:4] | df.iloc[1:4,:] | position based |"
   ]
  },
  {
   "cell_type": "markdown",
   "metadata": {
    "hidden": true
   },
   "source": [
    "Two final remarks:\n",
    "1. when column names do not clash with the Python reserved words / special characters then<br>\n",
    "```df['col1']``` is equivalent to ```df.col1``` (**this get used all the time!**)\n",
    "2. use: ```df[condition] = replacement``` to replace all values in a DataFrame base on a matrix of booleans"
   ]
  },
  {
   "cell_type": "code",
   "execution_count": null,
   "metadata": {
    "hidden": true
   },
   "outputs": [],
   "source": [
    "df.rename(columns={1:'col1',2:'col2',3:'col3'}, inplace=True)\n",
    "df"
   ]
  },
  {
   "cell_type": "code",
   "execution_count": null,
   "metadata": {
    "hidden": true
   },
   "outputs": [],
   "source": [
    "df.col2"
   ]
  },
  {
   "cell_type": "code",
   "execution_count": null,
   "metadata": {
    "hidden": true
   },
   "outputs": [],
   "source": [
    "df < 0"
   ]
  },
  {
   "cell_type": "code",
   "execution_count": null,
   "metadata": {
    "hidden": true
   },
   "outputs": [],
   "source": [
    "df[df<0] = 0\n",
    "df"
   ]
  },
  {
   "cell_type": "markdown",
   "metadata": {
    "heading_collapsed": true,
    "hidden": true
   },
   "source": [
    "## Non-Existing Row/Column Index"
   ]
  },
  {
   "cell_type": "markdown",
   "metadata": {
    "hidden": true
   },
   "source": [
    "Referencing a key that does not exist, will throw a KeyError exception.<br>\n",
    "Assigning to a key that does not exist, will add the index and assign the value!"
   ]
  },
  {
   "cell_type": "code",
   "execution_count": null,
   "metadata": {
    "hidden": true
   },
   "outputs": [],
   "source": [
    "df = pd.DataFrame(42,index=['a','b'],columns=['c1','c2'])\n",
    "try: \n",
    "    print(df.loc['c'])\n",
    "except KeyError as e:\n",
    "    print('KeyError exception --> key missing:', e,)"
   ]
  },
  {
   "cell_type": "code",
   "execution_count": null,
   "metadata": {
    "hidden": true
   },
   "outputs": [],
   "source": [
    "df.loc['c','c2'] = 42\n",
    "df"
   ]
  },
  {
   "cell_type": "code",
   "execution_count": null,
   "metadata": {
    "hidden": true
   },
   "outputs": [],
   "source": [
    "df.loc['c','c3'] = 42\n",
    "df"
   ]
  },
  {
   "cell_type": "code",
   "execution_count": null,
   "metadata": {
    "hidden": true
   },
   "outputs": [],
   "source": [
    "df.loc[:,'c4'] = 84\n",
    "df"
   ]
  },
  {
   "cell_type": "markdown",
   "metadata": {
    "hidden": true
   },
   "source": [
    "Note that since a DataFrame is a collection of Series, indexed by their name (aka column name):\n",
    "* adding a column using the above syntax is efficient\n",
    "* adding a row by using the above syntax is very inefficient. Worse case:\n",
    "  * a new numpy.array for each column needs to be made\n",
    "  * all the data needs to be copied over\n",
    "  * the original deleted (by the garbage collector at some later point)"
   ]
  },
  {
   "cell_type": "markdown",
   "metadata": {
    "heading_collapsed": true,
    "hidden": true
   },
   "source": [
    "## IndexSlice For Complex MultiIndex Cases"
   ]
  },
  {
   "cell_type": "markdown",
   "metadata": {
    "hidden": true
   },
   "source": [
    "In certain complex multi-index cases slicing is not possible using tuple notation.<br>\n",
    "More specifically when you want to keep one level of a multi index fixed and slice other levels.<br>\n",
    "This sound complicated, so lets generate an example:"
   ]
  },
  {
   "cell_type": "code",
   "execution_count": null,
   "metadata": {
    "hidden": true
   },
   "outputs": [],
   "source": [
    "df = pd.DataFrame( np.random.randn(15,9), \n",
    "                   index   = pd.MultiIndex.from_arrays([  [1]*5 + [2]*5 + [3]*5, \n",
    "                                                          ['201801','201802','201803','201804','201805']*3\n",
    "                                                       ], \n",
    "                                                       names=['account','yyyymm']\n",
    "                                                      ),\n",
    "                   columns = pd.MultiIndex.from_arrays([  ['atm']*3 + ['contactless']*3 + ['mobile']*3,\n",
    "                                                          ['nr','vol','avg']*3\n",
    "                                                       ], \n",
    "                                                       names=['account','yyyymm']\n",
    "                                                      )\n",
    "                 )\n",
    "df"
   ]
  },
  {
   "cell_type": "code",
   "execution_count": null,
   "metadata": {
    "hidden": true
   },
   "outputs": [],
   "source": [
    "df.index.levels"
   ]
  },
  {
   "cell_type": "code",
   "execution_count": null,
   "metadata": {
    "hidden": true
   },
   "outputs": [],
   "source": [
    "df.columns.levels"
   ]
  },
  {
   "cell_type": "markdown",
   "metadata": {
    "hidden": true
   },
   "source": [
    "Lets assume we want the atm data for accounts 1 & 2:"
   ]
  },
  {
   "cell_type": "code",
   "execution_count": null,
   "metadata": {
    "hidden": true
   },
   "outputs": [],
   "source": [
    "df.loc[1:2,'atm']"
   ]
  },
  {
   "cell_type": "markdown",
   "metadata": {
    "hidden": true
   },
   "source": [
    "So selections on levels[0] are straightforward, the problem occurs when we want to incorporate different levels. The *.loc[]* can deal with one or two parameters, not more ...\n",
    "<br><br>\n",
    "Lets assume we want the 'avg' data for yyyymm: '201801', '201802', & '201803'<br>\n",
    "What we want is using the tuple natation like:<br>\n",
    "```\n",
    "df.loc[(:,['201801','201802','201803']),(:,'avg')]\n",
    "```"
   ]
  },
  {
   "cell_type": "code",
   "execution_count": null,
   "metadata": {
    "hidden": true
   },
   "outputs": [],
   "source": [
    "df.loc[(:,'201801':'201803']),(:,'avg')]"
   ]
  },
  {
   "cell_type": "markdown",
   "metadata": {
    "hidden": true
   },
   "source": [
    "The slice operator : does not work inside the tuple brackets.<br>\n",
    "This is where the IndexSlice class comes in, we can pass IndexSlice objects into *.loc[]*, where each IndexSlice can be a complex definition of rows / columns to select:"
   ]
  },
  {
   "cell_type": "code",
   "execution_count": null,
   "metadata": {
    "hidden": true
   },
   "outputs": [],
   "source": [
    "df.loc[ pd.IndexSlice[:, ['201801','201802','201803']],\n",
    "        pd.IndexSlice[:, 'avg']\n",
    "      ]"
   ]
  },
  {
   "cell_type": "markdown",
   "metadata": {
    "heading_collapsed": true
   },
   "source": [
    "# Copy Or View"
   ]
  },
  {
   "cell_type": "markdown",
   "metadata": {
    "hidden": true
   },
   "source": [
    "Most methods in pandas will return a copy of the data, but not always!<br>\n",
    "This is a potential minefield in pandas<br><br>\n",
    "\n",
    "Here's the rules:\n",
    "1. If **inplace=True** is provided, it will **modify in-place** (only some operations)\n",
    "2. An indexer that **sets** using (.loc[]/.iloc[]/.at[]/.iat[] = ) will **set inplace**.\n",
    "3. An indexer that gets **(part of a) Series** / **complete DataFrame** is **almost always a view**.\n",
    "4. An indexer that gets a **more complicated subset** of the original is always a **copy**.\n",
    "5. All **operations** / **methods** generate a **copy**."
   ]
  },
  {
   "cell_type": "code",
   "execution_count": null,
   "metadata": {
    "hidden": true
   },
   "outputs": [],
   "source": [
    "## generate some toy data\n",
    "s1 = pd.Series(np.random.randn(3), name='s1', index=[0,1,2])\n",
    "s2 = pd.Series(['a','b','c'],      name='s2', index=[1,2,3])\n",
    "df = pd.DataFrame({'s1': s1, 's2': s2})\n",
    "df"
   ]
  },
  {
   "cell_type": "code",
   "execution_count": null,
   "metadata": {
    "hidden": true
   },
   "outputs": [],
   "source": [
    "## rule 3: get part of single Series --> view\n",
    "tmp = df.loc[:3,'s1']\n",
    "df.loc[1,'s1'] = 99\n",
    "tmp"
   ]
  },
  {
   "cell_type": "code",
   "execution_count": null,
   "metadata": {
    "hidden": true
   },
   "outputs": [],
   "source": [
    "## rule 3: complete DataFrame --> view\n",
    "tmp = df\n",
    "df.loc[2,'s2'] = 'X'\n",
    "tmp"
   ]
  },
  {
   "cell_type": "code",
   "execution_count": null,
   "metadata": {
    "hidden": true
   },
   "outputs": [],
   "source": [
    "## rule 4: subset of rows and columns --> copy\n",
    "tmp = df.loc[:3,['s1','s2']]\n",
    "df.loc[2,'s1'] = 66\n",
    "tmp"
   ]
  },
  {
   "cell_type": "code",
   "execution_count": null,
   "metadata": {
    "hidden": true
   },
   "outputs": [],
   "source": [
    "df"
   ]
  },
  {
   "cell_type": "markdown",
   "metadata": {
    "hidden": true
   },
   "source": [
    "One question that pops up often on StackOverFlow is about the dreaded SettingWithCopyWarning:"
   ]
  },
  {
   "cell_type": "code",
   "execution_count": null,
   "metadata": {
    "hidden": true
   },
   "outputs": [],
   "source": [
    "df[3:4]['s1'] = 33"
   ]
  },
  {
   "cell_type": "markdown",
   "metadata": {
    "hidden": true
   },
   "source": [
    "Since df[3:4]['s1'] returns a copy, and the pandas can deduce that an element is being set ... it warns you that you are setting an element on a temporary copy ... probably not what you were expecting. This error occurs regularly when you are chaining multiple selections.<br><br>\n",
    "Another form of this error is when you create a varaiable from a view, and later change a value. It's pandas way of warning you: you're about to change the value of the original by setting a value on the view ..."
   ]
  },
  {
   "cell_type": "code",
   "execution_count": null,
   "metadata": {
    "hidden": true
   },
   "outputs": [],
   "source": [
    "tmp = df[2:4]['s2']\n",
    "## more code here\n",
    "tmp.iloc[0] = 'X'\n",
    "df"
   ]
  },
  {
   "cell_type": "markdown",
   "metadata": {
    "heading_collapsed": true
   },
   "source": [
    "# Operators"
   ]
  },
  {
   "cell_type": "markdown",
   "metadata": {
    "hidden": true
   },
   "source": [
    "In many object oriented programming language you can override the behaviour of operators like: +, -, /, \\*, ... for classes. It's what makes NumPy and SciPy (or Matlab, or ...) so elegant for computation.\n",
    "<br><br>\n",
    "Just like in NumPy, where a calling an operation on an array returns an array, in pandas many operations are defined for Series and DataFrames and return Series or DataFrames."
   ]
  },
  {
   "cell_type": "markdown",
   "metadata": {
    "heading_collapsed": true,
    "hidden": true
   },
   "source": [
    "## Logical"
   ]
  },
  {
   "cell_type": "markdown",
   "metadata": {
    "hidden": true
   },
   "source": [
    "We have allready used these throughout ..."
   ]
  },
  {
   "cell_type": "code",
   "execution_count": null,
   "metadata": {
    "hidden": true
   },
   "outputs": [],
   "source": [
    "s1 = pd.Series([-1,3,-2,5,8])\n",
    "s1 > 0"
   ]
  },
  {
   "cell_type": "code",
   "execution_count": null,
   "metadata": {
    "hidden": true
   },
   "outputs": [],
   "source": [
    "type(s1 > 0)"
   ]
  },
  {
   "cell_type": "code",
   "execution_count": null,
   "metadata": {
    "hidden": true
   },
   "outputs": [],
   "source": [
    "df = pd.DataFrame([[-1,3],[-2,5],[8,-2]])\n",
    "df > 0"
   ]
  },
  {
   "cell_type": "markdown",
   "metadata": {
    "heading_collapsed": true,
    "hidden": true
   },
   "source": [
    "## Mathematical"
   ]
  },
  {
   "cell_type": "code",
   "execution_count": null,
   "metadata": {
    "hidden": true
   },
   "outputs": [],
   "source": [
    "(s1 + 5) // 3"
   ]
  },
  {
   "cell_type": "markdown",
   "metadata": {
    "hidden": true
   },
   "source": [
    "Since Series and DataFrames consist of NumPy arrays, we can do things like:"
   ]
  },
  {
   "cell_type": "code",
   "execution_count": null,
   "metadata": {
    "hidden": true
   },
   "outputs": [],
   "source": [
    "(s1 - np.mean(s1)) / np.std(s1)"
   ]
  },
  {
   "cell_type": "code",
   "execution_count": null,
   "metadata": {
    "hidden": true
   },
   "outputs": [],
   "source": [
    "type((s1 - np.mean(s1)) / np.std(s1))"
   ]
  },
  {
   "cell_type": "markdown",
   "metadata": {
    "hidden": true
   },
   "source": [
    "Or lets say we want to normalize a column in a DataFrame to [0,1]:"
   ]
  },
  {
   "cell_type": "code",
   "execution_count": null,
   "metadata": {
    "hidden": true
   },
   "outputs": [],
   "source": [
    "df = pd.DataFrame(np.random.randint(1,51,size=(5,2)), columns=['r1','r2'])\n",
    "df"
   ]
  },
  {
   "cell_type": "code",
   "execution_count": null,
   "metadata": {
    "hidden": true
   },
   "outputs": [],
   "source": [
    "## note that we can add a column by assignment, see section 5.7\n",
    "df['r1_norm'] = (df.r1 - np.min(df.r1)) / (np.max(df.r1) - np.min(df.r1))\n",
    "df"
   ]
  },
  {
   "cell_type": "markdown",
   "metadata": {
    "heading_collapsed": true
   },
   "source": [
    "# Methods"
   ]
  },
  {
   "cell_type": "markdown",
   "metadata": {
    "hidden": true
   },
   "source": [
    "Many methods defined for numpy arrays are also implemented for Series.<br>\n",
    "For instance, instead of using the Numpy min & max we could do:"
   ]
  },
  {
   "cell_type": "code",
   "execution_count": null,
   "metadata": {
    "hidden": true
   },
   "outputs": [],
   "source": [
    "df['r2_norm'] = (df.r2 - df.r2.min()) / (df.r2.max() - df.r2.min())\n",
    "df"
   ]
  },
  {
   "cell_type": "markdown",
   "metadata": {
    "hidden": true
   },
   "source": [
    "Most methods that use aggregation in their computation have an **axis=** argument. This is used to indicate we want the aggregation column-wise, over axis=0, or row-wise, over axis=1. Note if you do not supply the argument, pandas will use the default axis=0:"
   ]
  },
  {
   "cell_type": "code",
   "execution_count": null,
   "metadata": {
    "hidden": true
   },
   "outputs": [],
   "source": [
    "df.sum() ## df.sum(axis=0)"
   ]
  },
  {
   "cell_type": "code",
   "execution_count": null,
   "metadata": {
    "hidden": true
   },
   "outputs": [],
   "source": [
    "df.sum(axis=1)"
   ]
  },
  {
   "cell_type": "markdown",
   "metadata": {
    "hidden": true
   },
   "source": [
    "So to compute the column-wise Z-score:"
   ]
  },
  {
   "cell_type": "code",
   "execution_count": null,
   "metadata": {
    "hidden": true
   },
   "outputs": [],
   "source": [
    "(df - df.sum()) / df.std()"
   ]
  },
  {
   "cell_type": "markdown",
   "metadata": {
    "hidden": true
   },
   "source": [
    "Or, for the row-wise Z-score:"
   ]
  },
  {
   "cell_type": "code",
   "execution_count": null,
   "metadata": {
    "hidden": true
   },
   "outputs": [],
   "source": [
    "df"
   ]
  },
  {
   "cell_type": "code",
   "execution_count": null,
   "metadata": {
    "hidden": true
   },
   "outputs": [],
   "source": [
    "## note the [:,np.newaxis] syntax from NumPy\n",
    "## this 'virtually' expands the the column vector into a matrix with the column repeated\n",
    "(df - df.sum(axis=1)[:,np.newaxis]) / df.std(axis=1)[:,np.newaxis]"
   ]
  },
  {
   "cell_type": "markdown",
   "metadata": {
    "hidden": true
   },
   "source": [
    "There are on the other hand a whole host of extra methods defined on pandas Series (and DataFrame's).\n",
    "<br><br>\n",
    "Below we give a few examples, only touching a small subset of capabilities. But, as before, once you understand the basics, you can figure out how to solve specific problems as and when they appear (with the help of google, stackoverflow, ...)."
   ]
  },
  {
   "cell_type": "markdown",
   "metadata": {
    "heading_collapsed": true,
    "hidden": true
   },
   "source": [
    "## Predefined Methods"
   ]
  },
  {
   "cell_type": "code",
   "execution_count": null,
   "metadata": {
    "hidden": true
   },
   "outputs": [],
   "source": [
    "df = pd.DataFrame(np.random.randint(1,4,size=(10,5)), columns=['c1','c2','c3','c4','c5'])"
   ]
  },
  {
   "cell_type": "code",
   "execution_count": null,
   "metadata": {
    "hidden": true
   },
   "outputs": [],
   "source": [
    "## row median\n",
    "df.median(axis=1)"
   ]
  },
  {
   "cell_type": "code",
   "execution_count": null,
   "metadata": {
    "hidden": true,
    "scrolled": true
   },
   "outputs": [],
   "source": [
    "## quantiles for each column\n",
    "df.quantile(q=[0.25])"
   ]
  },
  {
   "cell_type": "code",
   "execution_count": null,
   "metadata": {
    "hidden": true
   },
   "outputs": [],
   "source": [
    "## Series methos: the frequency of unique values\n",
    "df.c1.value_counts(ascending=True)"
   ]
  },
  {
   "cell_type": "code",
   "execution_count": null,
   "metadata": {
    "hidden": true
   },
   "outputs": [],
   "source": [
    "## Series method: timeseries specific stats\n",
    "df.c1.autocorr(lag=1)"
   ]
  },
  {
   "cell_type": "code",
   "execution_count": null,
   "metadata": {
    "hidden": true
   },
   "outputs": [],
   "source": [
    "## auto-correlation is the correlation between a series and itself shifted by lag\n",
    "## as in:\n",
    "df.c1.corr(df.c1.shift(periods=-1))"
   ]
  },
  {
   "cell_type": "code",
   "execution_count": null,
   "metadata": {
    "hidden": true
   },
   "outputs": [],
   "source": [
    "## use map to recode from one set of values to another\n",
    "mf = pd.Series(['Male','Female','Female','Male','Female'])\n",
    "pd.concat([mf,mf.map({'Female':1, 'Male':2})], axis=1)"
   ]
  },
  {
   "cell_type": "markdown",
   "metadata": {
    "hidden": true
   },
   "source": [
    "Instead of a dict containing the mappings, the *map()* method can also be called with a function:"
   ]
  },
  {
   "cell_type": "code",
   "execution_count": null,
   "metadata": {
    "hidden": true
   },
   "outputs": [],
   "source": [
    "mf.map(lambda x: 1 if (x=='Female') else 2)"
   ]
  },
  {
   "cell_type": "markdown",
   "metadata": {
    "hidden": true
   },
   "source": [
    "This makes *map()* rather powerfull and a good bridge to the next section. In case a pre-canned method does not exist, it is straightforward to implement the functionality yourself using *apply* & *agg*."
   ]
  },
  {
   "cell_type": "markdown",
   "metadata": {
    "heading_collapsed": true,
    "hidden": true
   },
   "source": [
    "## DIY: applymap, apply, agg"
   ]
  },
  {
   "cell_type": "markdown",
   "metadata": {
    "hidden": true
   },
   "source": [
    "When a computation is not supplied out of the box, you can implement it efficiently in pandas using: applymap, apply, & agg."
   ]
  },
  {
   "cell_type": "markdown",
   "metadata": {
    "hidden": true
   },
   "source": [
    "To apply an arbitrary function to each element in a Series use applymap:"
   ]
  },
  {
   "cell_type": "code",
   "execution_count": null,
   "metadata": {
    "hidden": true
   },
   "outputs": [],
   "source": [
    "df.applymap(lambda x: np.random.choice([-1,1],p=[0.5,0.5]) * x)"
   ]
  },
  {
   "cell_type": "code",
   "execution_count": null,
   "metadata": {
    "hidden": true
   },
   "outputs": [],
   "source": [
    "## apply with axis=0 --> calls the function once for each column \n",
    "df.apply(lambda x: x.shape, axis=0)"
   ]
  },
  {
   "cell_type": "code",
   "execution_count": null,
   "metadata": {
    "hidden": true
   },
   "outputs": [],
   "source": [
    "## apply with axis=0 --> calls the function once for each row\n",
    "df.apply(lambda x: x.shape, axis=1)"
   ]
  },
  {
   "cell_type": "code",
   "execution_count": null,
   "metadata": {
    "hidden": true
   },
   "outputs": [],
   "source": [
    "## apply with axis=0 --> calls the function once for each row --> for each row randomly take three elements\n",
    "df.apply(lambda x: x.sample(n=3), axis=1)"
   ]
  },
  {
   "cell_type": "markdown",
   "metadata": {
    "hidden": true
   },
   "source": [
    "Note that when the function returns a Series, and the Series get concatenated into a DataFrame, the result will line up the rows based on the column index. You could add a **.reset_index(drop=True)** to make sure all the row sample Series have index=[0,1,2]:"
   ]
  },
  {
   "cell_type": "code",
   "execution_count": null,
   "metadata": {
    "hidden": true
   },
   "outputs": [],
   "source": [
    "df.apply(  lambda x: x.sample(n=3).reset_index(drop=True), \n",
    "           axis=1\n",
    "        )"
   ]
  },
  {
   "cell_type": "markdown",
   "metadata": {
    "hidden": true
   },
   "source": [
    "Use **agg()** to aggregate over an axis:"
   ]
  },
  {
   "cell_type": "code",
   "execution_count": null,
   "metadata": {
    "hidden": true
   },
   "outputs": [],
   "source": [
    "df.agg(['min','max'],axis=1)"
   ]
  },
  {
   "cell_type": "code",
   "execution_count": null,
   "metadata": {
    "hidden": true
   },
   "outputs": [],
   "source": [
    "df.agg(['min','max'],axis=0)"
   ]
  },
  {
   "cell_type": "code",
   "execution_count": null,
   "metadata": {
    "hidden": true,
    "scrolled": true
   },
   "outputs": [],
   "source": [
    "df.agg(np.quantile, axis=0, q=[0.25,0.5,0.75]).rename(index={0:'Q25',1:'Q50',2:'Q75'})"
   ]
  },
  {
   "cell_type": "markdown",
   "metadata": {
    "heading_collapsed": true,
    "hidden": true
   },
   "source": [
    "## Windowing: rolling()"
   ]
  },
  {
   "cell_type": "markdown",
   "metadata": {
    "hidden": true
   },
   "source": [
    "Instead of applying a function to each element or each column or each row, you can apply a function to a rolling window of data:"
   ]
  },
  {
   "cell_type": "code",
   "execution_count": null,
   "metadata": {
    "hidden": true
   },
   "outputs": [],
   "source": [
    "## if you want to apply the sum over a window of three elements where two elements exist\n",
    "df.rolling(3,min_periods=1).median()"
   ]
  },
  {
   "cell_type": "code",
   "execution_count": 5,
   "metadata": {
    "hidden": true
   },
   "outputs": [
    {
     "data": {
      "text/plain": [
       "<matplotlib.axes._subplots.AxesSubplot at 0x7f66c5225a90>"
      ]
     },
     "execution_count": 5,
     "metadata": {},
     "output_type": "execute_result"
    },
    {
     "data": {
      "image/png": "[encoded data removed]",
      "text/plain": [
       "<Figure size 864x360 with 1 Axes>"
      ]
     },
     "metadata": {
      "needs_background": "light"
     },
     "output_type": "display_data"
    }
   ],
   "source": [
    "dti = pd.date_range(start='2019-01-01 12:00:00', periods=50, freq='4H')\n",
    "srs = pd.Series(20*(np.random.rand(50)-0.5).cumsum(), index=dti)\n",
    "## smooth by taking a rolling mean over 12 hr\n",
    "srs_smoothed = srs.rolling('12H').mean();\n",
    "## put both series in a DataFrame\n",
    "df = pd.DataFrame({'raw':srs,'smoothed':srs_smoothed})\n",
    "## and plot\n",
    "df.plot(figsize=(12,5))"
   ]
  },
  {
   "cell_type": "markdown",
   "metadata": {
    "heading_collapsed": true,
    "hidden": true
   },
   "source": [
    "## Windowing using an arbitrary function"
   ]
  },
  {
   "cell_type": "markdown",
   "metadata": {
    "hidden": true
   },
   "source": [
    "Just like **apply()** on the whole Series / DataFrame, you can use apply() on the rolling window.<br>\n",
    "Lets say you are not happy with taking the mean, but you want to weigh based on time delta ..."
   ]
  },
  {
   "cell_type": "code",
   "execution_count": 16,
   "metadata": {
    "hidden": true
   },
   "outputs": [
    {
     "data": {
      "text/plain": [
       "<matplotlib.axes._subplots.AxesSubplot at 0x7f66c4da15d0>"
      ]
     },
     "execution_count": 16,
     "metadata": {},
     "output_type": "execute_result"
    },
    {
     "data": {
      "image/png": "[encoded data removed]",
      "text/plain": [
       "<Figure size 864x360 with 1 Axes>"
      ]
     },
     "metadata": {
      "needs_background": "light"
     },
     "output_type": "display_data"
    }
   ],
   "source": [
    "df['smooth2'] = srs.rolling(5)\\\n",
    "                   .apply(  lambda vec: np.dot(vec,np.array([1,2,3,4,5])/15), \n",
    "                            raw=True\n",
    "                         )\n",
    "df.plot(figsize=(12,5))"
   ]
  },
  {
   "cell_type": "markdown",
   "metadata": {
    "hidden": true
   },
   "source": [
    "And as before, you can also use **agg()**. When calling agg() on a Series, you can pass in a dict with multiple functions:"
   ]
  },
  {
   "cell_type": "code",
   "execution_count": 17,
   "metadata": {
    "hidden": true,
    "scrolled": true
   },
   "outputs": [
    {
     "data": {
      "text/html": [
       "<div>\n",
       "<style scoped>\n",
       "    .dataframe tbody tr th:only-of-type {\n",
       "        vertical-align: middle;\n",
       "    }\n",
       "\n",
       "    .dataframe tbody tr th {\n",
       "        vertical-align: top;\n",
       "    }\n",
       "\n",
       "    .dataframe thead th {\n",
       "        text-align: right;\n",
       "    }\n",
       "</style>\n",
       "<table border=\"1\" class=\"dataframe\">\n",
       "  <thead>\n",
       "    <tr style=\"text-align: right;\">\n",
       "      <th></th>\n",
       "      <th>median</th>\n",
       "      <th>range</th>\n",
       "    </tr>\n",
       "  </thead>\n",
       "  <tbody>\n",
       "    <tr>\n",
       "      <th>2019-01-01 12:00:00</th>\n",
       "      <td>-0.415186</td>\n",
       "      <td>0.000000</td>\n",
       "    </tr>\n",
       "    <tr>\n",
       "      <th>2019-01-01 16:00:00</th>\n",
       "      <td>1.247414</td>\n",
       "      <td>3.325198</td>\n",
       "    </tr>\n",
       "    <tr>\n",
       "      <th>2019-01-01 20:00:00</th>\n",
       "      <td>2.910013</td>\n",
       "      <td>5.375367</td>\n",
       "    </tr>\n",
       "    <tr>\n",
       "      <th>2019-01-02 00:00:00</th>\n",
       "      <td>4.960182</td>\n",
       "      <td>2.666958</td>\n",
       "    </tr>\n",
       "    <tr>\n",
       "      <th>2019-01-02 04:00:00</th>\n",
       "      <td>4.960182</td>\n",
       "      <td>4.866401</td>\n",
       "    </tr>\n",
       "    <tr>\n",
       "      <th>2019-01-02 08:00:00</th>\n",
       "      <td>0.710570</td>\n",
       "      <td>11.489013</td>\n",
       "    </tr>\n",
       "    <tr>\n",
       "      <th>2019-01-02 12:00:00</th>\n",
       "      <td>0.710570</td>\n",
       "      <td>8.371748</td>\n",
       "    </tr>\n",
       "    <tr>\n",
       "      <th>2019-01-02 16:00:00</th>\n",
       "      <td>2.459706</td>\n",
       "      <td>15.564748</td>\n",
       "    </tr>\n",
       "    <tr>\n",
       "      <th>2019-01-02 20:00:00</th>\n",
       "      <td>6.370103</td>\n",
       "      <td>7.193000</td>\n",
       "    </tr>\n",
       "    <tr>\n",
       "      <th>2019-01-03 00:00:00</th>\n",
       "      <td>6.370103</td>\n",
       "      <td>10.594279</td>\n",
       "    </tr>\n",
       "    <tr>\n",
       "      <th>2019-01-03 04:00:00</th>\n",
       "      <td>1.806798</td>\n",
       "      <td>7.311676</td>\n",
       "    </tr>\n",
       "    <tr>\n",
       "      <th>2019-01-03 08:00:00</th>\n",
       "      <td>1.806798</td>\n",
       "      <td>2.837426</td>\n",
       "    </tr>\n",
       "    <tr>\n",
       "      <th>2019-01-03 12:00:00</th>\n",
       "      <td>1.895853</td>\n",
       "      <td>7.855379</td>\n",
       "    </tr>\n",
       "    <tr>\n",
       "      <th>2019-01-03 16:00:00</th>\n",
       "      <td>4.569451</td>\n",
       "      <td>7.766325</td>\n",
       "    </tr>\n",
       "    <tr>\n",
       "      <th>2019-01-03 20:00:00</th>\n",
       "      <td>9.662178</td>\n",
       "      <td>8.098660</td>\n",
       "    </tr>\n",
       "    <tr>\n",
       "      <th>2019-01-04 00:00:00</th>\n",
       "      <td>4.569451</td>\n",
       "      <td>9.946472</td>\n",
       "    </tr>\n",
       "    <tr>\n",
       "      <th>2019-01-04 04:00:00</th>\n",
       "      <td>2.721639</td>\n",
       "      <td>17.975351</td>\n",
       "    </tr>\n",
       "    <tr>\n",
       "      <th>2019-01-04 08:00:00</th>\n",
       "      <td>-2.384629</td>\n",
       "      <td>8.028878</td>\n",
       "    </tr>\n",
       "    <tr>\n",
       "      <th>2019-01-04 12:00:00</th>\n",
       "      <td>-5.307239</td>\n",
       "      <td>4.134120</td>\n",
       "    </tr>\n",
       "    <tr>\n",
       "      <th>2019-01-04 16:00:00</th>\n",
       "      <td>-6.518749</td>\n",
       "      <td>12.051274</td>\n",
       "    </tr>\n",
       "    <tr>\n",
       "      <th>2019-01-04 20:00:00</th>\n",
       "      <td>-7.404814</td>\n",
       "      <td>7.917154</td>\n",
       "    </tr>\n",
       "    <tr>\n",
       "      <th>2019-01-05 00:00:00</th>\n",
       "      <td>-12.757704</td>\n",
       "      <td>7.031088</td>\n",
       "    </tr>\n",
       "    <tr>\n",
       "      <th>2019-01-05 04:00:00</th>\n",
       "      <td>-7.404814</td>\n",
       "      <td>7.731017</td>\n",
       "    </tr>\n",
       "    <tr>\n",
       "      <th>2019-01-05 08:00:00</th>\n",
       "      <td>-11.940546</td>\n",
       "      <td>7.731017</td>\n",
       "    </tr>\n",
       "    <tr>\n",
       "      <th>2019-01-05 12:00:00</th>\n",
       "      <td>-11.940546</td>\n",
       "      <td>12.514128</td>\n",
       "    </tr>\n",
       "    <tr>\n",
       "      <th>2019-01-05 16:00:00</th>\n",
       "      <td>-14.782366</td>\n",
       "      <td>5.600269</td>\n",
       "    </tr>\n",
       "    <tr>\n",
       "      <th>2019-01-05 20:00:00</th>\n",
       "      <td>-14.782366</td>\n",
       "      <td>8.184779</td>\n",
       "    </tr>\n",
       "    <tr>\n",
       "      <th>2019-01-06 00:00:00</th>\n",
       "      <td>-12.559994</td>\n",
       "      <td>5.426330</td>\n",
       "    </tr>\n",
       "    <tr>\n",
       "      <th>2019-01-06 04:00:00</th>\n",
       "      <td>-9.356036</td>\n",
       "      <td>9.908813</td>\n",
       "    </tr>\n",
       "    <tr>\n",
       "      <th>2019-01-06 08:00:00</th>\n",
       "      <td>-2.872932</td>\n",
       "      <td>9.908813</td>\n",
       "    </tr>\n",
       "    <tr>\n",
       "      <th>2019-01-06 12:00:00</th>\n",
       "      <td>-2.651181</td>\n",
       "      <td>2.597089</td>\n",
       "    </tr>\n",
       "    <tr>\n",
       "      <th>2019-01-06 16:00:00</th>\n",
       "      <td>-0.275843</td>\n",
       "      <td>8.355191</td>\n",
       "    </tr>\n",
       "    <tr>\n",
       "      <th>2019-01-06 20:00:00</th>\n",
       "      <td>-0.275843</td>\n",
       "      <td>8.427919</td>\n",
       "    </tr>\n",
       "    <tr>\n",
       "      <th>2019-01-07 00:00:00</th>\n",
       "      <td>-2.945660</td>\n",
       "      <td>13.256064</td>\n",
       "    </tr>\n",
       "    <tr>\n",
       "      <th>2019-01-07 04:00:00</th>\n",
       "      <td>-4.723652</td>\n",
       "      <td>4.828146</td>\n",
       "    </tr>\n",
       "    <tr>\n",
       "      <th>2019-01-07 08:00:00</th>\n",
       "      <td>-6.695221</td>\n",
       "      <td>3.050153</td>\n",
       "    </tr>\n",
       "    <tr>\n",
       "      <th>2019-01-07 12:00:00</th>\n",
       "      <td>-5.334292</td>\n",
       "      <td>1.971569</td>\n",
       "    </tr>\n",
       "    <tr>\n",
       "      <th>2019-01-07 16:00:00</th>\n",
       "      <td>-5.334292</td>\n",
       "      <td>7.381909</td>\n",
       "    </tr>\n",
       "    <tr>\n",
       "      <th>2019-01-07 20:00:00</th>\n",
       "      <td>-5.334292</td>\n",
       "      <td>6.183679</td>\n",
       "    </tr>\n",
       "    <tr>\n",
       "      <th>2019-01-08 00:00:00</th>\n",
       "      <td>-5.496991</td>\n",
       "      <td>12.562460</td>\n",
       "    </tr>\n",
       "    <tr>\n",
       "      <th>2019-01-08 04:00:00</th>\n",
       "      <td>-11.875772</td>\n",
       "      <td>8.752594</td>\n",
       "    </tr>\n",
       "    <tr>\n",
       "      <th>2019-01-08 08:00:00</th>\n",
       "      <td>-14.249585</td>\n",
       "      <td>9.217353</td>\n",
       "    </tr>\n",
       "    <tr>\n",
       "      <th>2019-01-08 12:00:00</th>\n",
       "      <td>-21.093124</td>\n",
       "      <td>11.711012</td>\n",
       "    </tr>\n",
       "    <tr>\n",
       "      <th>2019-01-08 16:00:00</th>\n",
       "      <td>-25.960597</td>\n",
       "      <td>14.617335</td>\n",
       "    </tr>\n",
       "    <tr>\n",
       "      <th>2019-01-08 20:00:00</th>\n",
       "      <td>-28.720139</td>\n",
       "      <td>9.749862</td>\n",
       "    </tr>\n",
       "    <tr>\n",
       "      <th>2019-01-09 00:00:00</th>\n",
       "      <td>-28.720139</td>\n",
       "      <td>16.296399</td>\n",
       "    </tr>\n",
       "    <tr>\n",
       "      <th>2019-01-09 04:00:00</th>\n",
       "      <td>-19.414060</td>\n",
       "      <td>18.847980</td>\n",
       "    </tr>\n",
       "    <tr>\n",
       "      <th>2019-01-09 08:00:00</th>\n",
       "      <td>-17.939234</td>\n",
       "      <td>9.541901</td>\n",
       "    </tr>\n",
       "    <tr>\n",
       "      <th>2019-01-09 12:00:00</th>\n",
       "      <td>-17.939234</td>\n",
       "      <td>8.222721</td>\n",
       "    </tr>\n",
       "    <tr>\n",
       "      <th>2019-01-09 16:00:00</th>\n",
       "      <td>-18.094880</td>\n",
       "      <td>1.782410</td>\n",
       "    </tr>\n",
       "  </tbody>\n",
       "</table>\n",
       "</div>"
      ],
      "text/plain": [
       "                        median      range\n",
       "2019-01-01 12:00:00  -0.415186   0.000000\n",
       "2019-01-01 16:00:00   1.247414   3.325198\n",
       "2019-01-01 20:00:00   2.910013   5.375367\n",
       "2019-01-02 00:00:00   4.960182   2.666958\n",
       "2019-01-02 04:00:00   4.960182   4.866401\n",
       "2019-01-02 08:00:00   0.710570  11.489013\n",
       "2019-01-02 12:00:00   0.710570   8.371748\n",
       "2019-01-02 16:00:00   2.459706  15.564748\n",
       "2019-01-02 20:00:00   6.370103   7.193000\n",
       "2019-01-03 00:00:00   6.370103  10.594279\n",
       "2019-01-03 04:00:00   1.806798   7.311676\n",
       "2019-01-03 08:00:00   1.806798   2.837426\n",
       "2019-01-03 12:00:00   1.895853   7.855379\n",
       "2019-01-03 16:00:00   4.569451   7.766325\n",
       "2019-01-03 20:00:00   9.662178   8.098660\n",
       "2019-01-04 00:00:00   4.569451   9.946472\n",
       "2019-01-04 04:00:00   2.721639  17.975351\n",
       "2019-01-04 08:00:00  -2.384629   8.028878\n",
       "2019-01-04 12:00:00  -5.307239   4.134120\n",
       "2019-01-04 16:00:00  -6.518749  12.051274\n",
       "2019-01-04 20:00:00  -7.404814   7.917154\n",
       "2019-01-05 00:00:00 -12.757704   7.031088\n",
       "2019-01-05 04:00:00  -7.404814   7.731017\n",
       "2019-01-05 08:00:00 -11.940546   7.731017\n",
       "2019-01-05 12:00:00 -11.940546  12.514128\n",
       "2019-01-05 16:00:00 -14.782366   5.600269\n",
       "2019-01-05 20:00:00 -14.782366   8.184779\n",
       "2019-01-06 00:00:00 -12.559994   5.426330\n",
       "2019-01-06 04:00:00  -9.356036   9.908813\n",
       "2019-01-06 08:00:00  -2.872932   9.908813\n",
       "2019-01-06 12:00:00  -2.651181   2.597089\n",
       "2019-01-06 16:00:00  -0.275843   8.355191\n",
       "2019-01-06 20:00:00  -0.275843   8.427919\n",
       "2019-01-07 00:00:00  -2.945660  13.256064\n",
       "2019-01-07 04:00:00  -4.723652   4.828146\n",
       "2019-01-07 08:00:00  -6.695221   3.050153\n",
       "2019-01-07 12:00:00  -5.334292   1.971569\n",
       "2019-01-07 16:00:00  -5.334292   7.381909\n",
       "2019-01-07 20:00:00  -5.334292   6.183679\n",
       "2019-01-08 00:00:00  -5.496991  12.562460\n",
       "2019-01-08 04:00:00 -11.875772   8.752594\n",
       "2019-01-08 08:00:00 -14.249585   9.217353\n",
       "2019-01-08 12:00:00 -21.093124  11.711012\n",
       "2019-01-08 16:00:00 -25.960597  14.617335\n",
       "2019-01-08 20:00:00 -28.720139   9.749862\n",
       "2019-01-09 00:00:00 -28.720139  16.296399\n",
       "2019-01-09 04:00:00 -19.414060  18.847980\n",
       "2019-01-09 08:00:00 -17.939234   9.541901\n",
       "2019-01-09 12:00:00 -17.939234   8.222721\n",
       "2019-01-09 16:00:00 -18.094880   1.782410"
      ]
     },
     "execution_count": 17,
     "metadata": {},
     "output_type": "execute_result"
    }
   ],
   "source": [
    "## same thing, but now using the more generic agg() method (which will work on any function)\n",
    "df[:10].raw\\\n",
    "       .rolling(3, min_periods=1)\\\n",
    "       .agg({'median': lambda vec: np.median(vec), \n",
    "             'range':  lambda vec: max(vec)-min(vec)\n",
    "            })"
   ]
  },
  {
   "cell_type": "markdown",
   "metadata": {
    "hidden": true
   },
   "source": [
    "I hope you get the flexibility of pandas now. It might not be suited as a big-data tool out of the box, and it does have its downside (my biggest annoyance is not having null's for integers). But, once you get fluent in manipulating your data with pandas, there's nothing really like it :-)"
   ]
  },
  {
   "cell_type": "markdown",
   "metadata": {},
   "source": [
    "# Changeing Shape"
   ]
  },
  {
   "cell_type": "markdown",
   "metadata": {},
   "source": [
    "There is a good paper by [Hadley Wickham](https://vita.had.co.nz/papers/tidy-data.pdf) on so called 'tidy' data. In practice, data comes in all shapes and sizes, and cleaning, massaging and prepping data into a shape that is usefull for analyzing and visualization takes up most of the time in Data Science workflows.\n",
    "<br><br>\n",
    "In tidy data:\n",
    "1. Each variable forms a column.\n",
    "2. Each observation forms a row.\n",
    "3. Each type of observational unit forms a table."
   ]
  },
  {
   "cell_type": "markdown",
   "metadata": {},
   "source": [
    "## Prep Data: Read + Some String Manipulation"
   ]
  },
  {
   "cell_type": "code",
   "execution_count": 165,
   "metadata": {},
   "outputs": [
    {
     "data": {
      "text/html": [
       "<div>\n",
       "<style scoped>\n",
       "    .dataframe tbody tr th:only-of-type {\n",
       "        vertical-align: middle;\n",
       "    }\n",
       "\n",
       "    .dataframe tbody tr th {\n",
       "        vertical-align: top;\n",
       "    }\n",
       "\n",
       "    .dataframe thead th {\n",
       "        text-align: right;\n",
       "    }\n",
       "</style>\n",
       "<table border=\"1\" class=\"dataframe\">\n",
       "  <thead>\n",
       "    <tr style=\"text-align: right;\">\n",
       "      <th></th>\n",
       "      <th>Country Name</th>\n",
       "      <th>Indicator Name</th>\n",
       "      <th>Year</th>\n",
       "      <th>Value</th>\n",
       "    </tr>\n",
       "  </thead>\n",
       "  <tbody>\n",
       "    <tr>\n",
       "      <th>0</th>\n",
       "      <td>Arab World</td>\n",
       "      <td>Agriculture, value added (% of GDP)</td>\n",
       "      <td>1952</td>\n",
       "      <td>NaN</td>\n",
       "    </tr>\n",
       "    <tr>\n",
       "      <th>1</th>\n",
       "      <td>Arab World</td>\n",
       "      <td>CO2 emissions (metric tons per capita)</td>\n",
       "      <td>1952</td>\n",
       "      <td>NaN</td>\n",
       "    </tr>\n",
       "    <tr>\n",
       "      <th>2</th>\n",
       "      <td>Arab World</td>\n",
       "      <td>Domestic credit provided by financial sector (...</td>\n",
       "      <td>1952</td>\n",
       "      <td>NaN</td>\n",
       "    </tr>\n",
       "    <tr>\n",
       "      <th>3</th>\n",
       "      <td>Arab World</td>\n",
       "      <td>Electric power consumption (kWh per capita)</td>\n",
       "      <td>1952</td>\n",
       "      <td>NaN</td>\n",
       "    </tr>\n",
       "    <tr>\n",
       "      <th>4</th>\n",
       "      <td>Arab World</td>\n",
       "      <td>Energy use (kg of oil equivalent per capita)</td>\n",
       "      <td>1952</td>\n",
       "      <td>NaN</td>\n",
       "    </tr>\n",
       "  </tbody>\n",
       "</table>\n",
       "</div>"
      ],
      "text/plain": [
       "  Country Name                                     Indicator Name  Year  Value\n",
       "0   Arab World                Agriculture, value added (% of GDP)  1952    NaN\n",
       "1   Arab World             CO2 emissions (metric tons per capita)  1952    NaN\n",
       "2   Arab World  Domestic credit provided by financial sector (...  1952    NaN\n",
       "3   Arab World        Electric power consumption (kWh per capita)  1952    NaN\n",
       "4   Arab World       Energy use (kg of oil equivalent per capita)  1952    NaN"
      ]
     },
     "execution_count": 165,
     "metadata": {},
     "output_type": "execute_result"
    }
   ],
   "source": [
    "df = pd.read_csv('data/countrystats.csv')\n",
    "df.head()"
   ]
  },
  {
   "cell_type": "markdown",
   "metadata": {},
   "source": [
    "In the countrystats data it looks like the  'Indicator Name' column contains many variables. From a 'tidy'\n",
    "data point of view the different indicators should all have their own column ..."
   ]
  },
  {
   "cell_type": "code",
   "execution_count": 104,
   "metadata": {},
   "outputs": [
    {
     "data": {
      "text/plain": [
       "Military expenditure (% of GDP)                            3168\n",
       "Time required to start a business (days)                   3168\n",
       "Electric power consumption (kWh per capita)                3168\n",
       "Exports of goods and services (% of GDP)                   3168\n",
       "Tax revenue (% of GDP)                                     3168\n",
       "Inflation, GDP deflator (annual %)                         3168\n",
       "Gross enrollment ratio, primary, both sexes (%)            3168\n",
       "Prevalence of HIV, total (% of population ages 15-49)      3168\n",
       "Income share held by lowest 20%                            3168\n",
       "Industry, value added (% of GDP)                           3168\n",
       "Net lending (+) / net borrowing (-) (% of GDP)             3168\n",
       "Population density (people per sq. km of land area)        3168\n",
       "Domestic credit provided by financial sector (% of GDP)    3168\n",
       "Life expectancy at birth, total (years)                    3168\n",
       "Internet users (per 100 people)                            3168\n",
       "GDP growth (annual %)                                      3168\n",
       "Revenue, excluding grants (% of GDP)                       3168\n",
       "Agriculture, value added (% of GDP)                        3168\n",
       "Mobile cellular subscriptions (per 100 people)             3168\n",
       "Gross enrolment ratio, secondary, both sexes (%)           3168\n",
       "Energy use (kg of oil equivalent per capita)               3168\n",
       "Fertility rate, total (births per woman)                   3168\n",
       "CO2 emissions (metric tons per capita)                     3168\n",
       "GNI per capita, PPP (current international $)              3168\n",
       "High-technology exports (% of manufactured exports)        3168\n",
       "Services, etc., value added (% of GDP)                     3168\n",
       "Imports of goods and services (% of GDP)                   3168\n",
       "Name: Indicator Name, dtype: int64"
      ]
     },
     "execution_count": 104,
     "metadata": {},
     "output_type": "execute_result"
    }
   ],
   "source": [
    "df['Indicator Name'].value_counts()"
   ]
  },
  {
   "cell_type": "markdown",
   "metadata": {},
   "source": [
    "Lets first clean up the names, so they can be used as column names. To do string manipulation in pandas, we use the string accessor **.str**. Here it is slightly more involved, looks like we want to define a seperate function to do the string manipulation and then ccall *apply()*.\n",
    "<br><br>\n",
    "The function needs to:\n",
    "1. convert to lower case\n",
    "2. split the string on a character other than space or [a-z] and take the first\n",
    "3. strip the whitespace\n",
    "4. replace remaining spaces for underscores"
   ]
  },
  {
   "cell_type": "code",
   "execution_count": 166,
   "metadata": {},
   "outputs": [],
   "source": [
    "## probably easiest to use a regular expression\n",
    "import re\n",
    "## define the function to be applied to all the strings\n",
    "def indicator_name_to_col_name(s):\n",
    "    return re.split('[^ a-z0-9]',s.lower())[0].strip().replace(' ','_')\n",
    "## do it!\n",
    "df['Indicator Name'] = df['Indicator Name'].apply(indicator_name_to_col_name)"
   ]
  },
  {
   "cell_type": "code",
   "execution_count": 167,
   "metadata": {},
   "outputs": [],
   "source": [
    "## rename the columns\n",
    "df.rename(columns={'Country Name':   'location',\n",
    "                   'Indicator Name': 'indicator',\n",
    "                   'Year':           'year',\n",
    "                   'Value':          'value'\n",
    "                  },\n",
    "          inplace=True\n",
    "         )"
   ]
  },
  {
   "cell_type": "markdown",
   "metadata": {},
   "source": [
    "For the purpose of showing the functionality, lets prune the data:"
   ]
  },
  {
   "cell_type": "code",
   "execution_count": 168,
   "metadata": {},
   "outputs": [],
   "source": [
    "df = df[  (df.location.isin(['Argentina','Sweden','United Kingdom'])) & \n",
    "          (df.year > 1990) &\n",
    "          df.indicator.isin(['agriculture', 'services', 'tax_revenue'])\n",
    "       ]"
   ]
  },
  {
   "cell_type": "code",
   "execution_count": 169,
   "metadata": {},
   "outputs": [
    {
     "data": {
      "text/html": [
       "<div>\n",
       "<style scoped>\n",
       "    .dataframe tbody tr th:only-of-type {\n",
       "        vertical-align: middle;\n",
       "    }\n",
       "\n",
       "    .dataframe tbody tr th {\n",
       "        vertical-align: top;\n",
       "    }\n",
       "\n",
       "    .dataframe thead th {\n",
       "        text-align: right;\n",
       "    }\n",
       "</style>\n",
       "<table border=\"1\" class=\"dataframe\">\n",
       "  <thead>\n",
       "    <tr style=\"text-align: right;\">\n",
       "      <th></th>\n",
       "      <th>location</th>\n",
       "      <th>indicator</th>\n",
       "      <th>year</th>\n",
       "      <th>value</th>\n",
       "    </tr>\n",
       "  </thead>\n",
       "  <tbody>\n",
       "    <tr>\n",
       "      <th>58482</th>\n",
       "      <td>Argentina</td>\n",
       "      <td>agriculture</td>\n",
       "      <td>1992</td>\n",
       "      <td>5.990787</td>\n",
       "    </tr>\n",
       "    <tr>\n",
       "      <th>58506</th>\n",
       "      <td>Argentina</td>\n",
       "      <td>services</td>\n",
       "      <td>1992</td>\n",
       "      <td>63.325216</td>\n",
       "    </tr>\n",
       "    <tr>\n",
       "      <th>58507</th>\n",
       "      <td>Argentina</td>\n",
       "      <td>tax_revenue</td>\n",
       "      <td>1992</td>\n",
       "      <td>5.547922</td>\n",
       "    </tr>\n",
       "    <tr>\n",
       "      <th>63342</th>\n",
       "      <td>Sweden</td>\n",
       "      <td>agriculture</td>\n",
       "      <td>1992</td>\n",
       "      <td>2.878552</td>\n",
       "    </tr>\n",
       "    <tr>\n",
       "      <th>63366</th>\n",
       "      <td>Sweden</td>\n",
       "      <td>services</td>\n",
       "      <td>1992</td>\n",
       "      <td>68.331841</td>\n",
       "    </tr>\n",
       "    <tr>\n",
       "      <th>63367</th>\n",
       "      <td>Sweden</td>\n",
       "      <td>tax_revenue</td>\n",
       "      <td>1992</td>\n",
       "      <td>17.387012</td>\n",
       "    </tr>\n",
       "    <tr>\n",
       "      <th>63828</th>\n",
       "      <td>United Kingdom</td>\n",
       "      <td>agriculture</td>\n",
       "      <td>1992</td>\n",
       "      <td>1.343506</td>\n",
       "    </tr>\n",
       "    <tr>\n",
       "      <th>63852</th>\n",
       "      <td>United Kingdom</td>\n",
       "      <td>services</td>\n",
       "      <td>1992</td>\n",
       "      <td>70.630330</td>\n",
       "    </tr>\n",
       "    <tr>\n",
       "      <th>63853</th>\n",
       "      <td>United Kingdom</td>\n",
       "      <td>tax_revenue</td>\n",
       "      <td>1992</td>\n",
       "      <td>24.280316</td>\n",
       "    </tr>\n",
       "    <tr>\n",
       "      <th>65610</th>\n",
       "      <td>Argentina</td>\n",
       "      <td>agriculture</td>\n",
       "      <td>1997</td>\n",
       "      <td>5.673367</td>\n",
       "    </tr>\n",
       "  </tbody>\n",
       "</table>\n",
       "</div>"
      ],
      "text/plain": [
       "             location    indicator  year      value\n",
       "58482       Argentina  agriculture  1992   5.990787\n",
       "58506       Argentina     services  1992  63.325216\n",
       "58507       Argentina  tax_revenue  1992   5.547922\n",
       "63342          Sweden  agriculture  1992   2.878552\n",
       "63366          Sweden     services  1992  68.331841\n",
       "63367          Sweden  tax_revenue  1992  17.387012\n",
       "63828  United Kingdom  agriculture  1992   1.343506\n",
       "63852  United Kingdom     services  1992  70.630330\n",
       "63853  United Kingdom  tax_revenue  1992  24.280316\n",
       "65610       Argentina  agriculture  1997   5.673367"
      ]
     },
     "execution_count": 169,
     "metadata": {},
     "output_type": "execute_result"
    }
   ],
   "source": [
    "df.head(n=10)"
   ]
  },
  {
   "cell_type": "markdown",
   "metadata": {},
   "source": [
    "## Unstack"
   ]
  },
  {
   "cell_type": "markdown",
   "metadata": {},
   "source": [
    "Use unstack to 'unstack' a level of the row index by moving it to the column index.<br>\n",
    "Sound complicated, it is not:\n",
    "1. create a more meaningfull index for the DataFrame: location, indicator, year\n",
    "2. unstack the indicator"
   ]
  },
  {
   "cell_type": "code",
   "execution_count": 170,
   "metadata": {},
   "outputs": [],
   "source": [
    "## step (1) create the multi-index\n",
    "df.set_index(['location','year','indicator'], inplace=True)"
   ]
  },
  {
   "cell_type": "code",
   "execution_count": 188,
   "metadata": {
    "scrolled": true
   },
   "outputs": [
    {
     "data": {
      "text/html": [
       "<div>\n",
       "<style scoped>\n",
       "    .dataframe tbody tr th:only-of-type {\n",
       "        vertical-align: middle;\n",
       "    }\n",
       "\n",
       "    .dataframe tbody tr th {\n",
       "        vertical-align: top;\n",
       "    }\n",
       "\n",
       "    .dataframe thead th {\n",
       "        text-align: right;\n",
       "    }\n",
       "</style>\n",
       "<table border=\"1\" class=\"dataframe\">\n",
       "  <thead>\n",
       "    <tr style=\"text-align: right;\">\n",
       "      <th></th>\n",
       "      <th>year</th>\n",
       "      <th>indicator</th>\n",
       "      <th>Argentina</th>\n",
       "      <th>Sweden</th>\n",
       "      <th>United Kingdom</th>\n",
       "    </tr>\n",
       "  </thead>\n",
       "  <tbody>\n",
       "    <tr>\n",
       "      <th>0</th>\n",
       "      <td>1992</td>\n",
       "      <td>agriculture</td>\n",
       "      <td>5.990787</td>\n",
       "      <td>2.878552</td>\n",
       "      <td>1.343506</td>\n",
       "    </tr>\n",
       "    <tr>\n",
       "      <th>1</th>\n",
       "      <td>1992</td>\n",
       "      <td>services</td>\n",
       "      <td>63.325216</td>\n",
       "      <td>68.331841</td>\n",
       "      <td>70.630330</td>\n",
       "    </tr>\n",
       "    <tr>\n",
       "      <th>2</th>\n",
       "      <td>1992</td>\n",
       "      <td>tax_revenue</td>\n",
       "      <td>5.547922</td>\n",
       "      <td>17.387012</td>\n",
       "      <td>24.280316</td>\n",
       "    </tr>\n",
       "    <tr>\n",
       "      <th>3</th>\n",
       "      <td>1997</td>\n",
       "      <td>agriculture</td>\n",
       "      <td>5.673367</td>\n",
       "      <td>2.416412</td>\n",
       "      <td>1.107222</td>\n",
       "    </tr>\n",
       "    <tr>\n",
       "      <th>4</th>\n",
       "      <td>1997</td>\n",
       "      <td>services</td>\n",
       "      <td>64.798081</td>\n",
       "      <td>67.168772</td>\n",
       "      <td>71.911238</td>\n",
       "    </tr>\n",
       "    <tr>\n",
       "      <th>5</th>\n",
       "      <td>1997</td>\n",
       "      <td>tax_revenue</td>\n",
       "      <td>8.690086</td>\n",
       "      <td>27.680374</td>\n",
       "      <td>24.013399</td>\n",
       "    </tr>\n",
       "    <tr>\n",
       "      <th>6</th>\n",
       "      <td>2002</td>\n",
       "      <td>agriculture</td>\n",
       "      <td>10.822087</td>\n",
       "      <td>1.842202</td>\n",
       "      <td>0.803050</td>\n",
       "    </tr>\n",
       "    <tr>\n",
       "      <th>7</th>\n",
       "      <td>2002</td>\n",
       "      <td>services</td>\n",
       "      <td>56.777627</td>\n",
       "      <td>68.610732</td>\n",
       "      <td>75.595317</td>\n",
       "    </tr>\n",
       "    <tr>\n",
       "      <th>8</th>\n",
       "      <td>2002</td>\n",
       "      <td>tax_revenue</td>\n",
       "      <td>9.818958</td>\n",
       "      <td>26.852696</td>\n",
       "      <td>25.077431</td>\n",
       "    </tr>\n",
       "    <tr>\n",
       "      <th>9</th>\n",
       "      <td>2007</td>\n",
       "      <td>agriculture</td>\n",
       "      <td>8.781971</td>\n",
       "      <td>1.585659</td>\n",
       "      <td>0.628423</td>\n",
       "    </tr>\n",
       "    <tr>\n",
       "      <th>10</th>\n",
       "      <td>2007</td>\n",
       "      <td>services</td>\n",
       "      <td>58.906741</td>\n",
       "      <td>68.095541</td>\n",
       "      <td>77.829828</td>\n",
       "    </tr>\n",
       "    <tr>\n",
       "      <th>11</th>\n",
       "      <td>2007</td>\n",
       "      <td>tax_revenue</td>\n",
       "      <td>NaN</td>\n",
       "      <td>28.448860</td>\n",
       "      <td>25.783890</td>\n",
       "    </tr>\n",
       "  </tbody>\n",
       "</table>\n",
       "</div>"
      ],
      "text/plain": [
       "    year    indicator  Argentina     Sweden  United Kingdom\n",
       "0   1992  agriculture   5.990787   2.878552        1.343506\n",
       "1   1992     services  63.325216  68.331841       70.630330\n",
       "2   1992  tax_revenue   5.547922  17.387012       24.280316\n",
       "3   1997  agriculture   5.673367   2.416412        1.107222\n",
       "4   1997     services  64.798081  67.168772       71.911238\n",
       "5   1997  tax_revenue   8.690086  27.680374       24.013399\n",
       "6   2002  agriculture  10.822087   1.842202        0.803050\n",
       "7   2002     services  56.777627  68.610732       75.595317\n",
       "8   2002  tax_revenue   9.818958  26.852696       25.077431\n",
       "9   2007  agriculture   8.781971   1.585659        0.628423\n",
       "10  2007     services  58.906741  68.095541       77.829828\n",
       "11  2007  tax_revenue        NaN  28.448860       25.783890"
      ]
     },
     "execution_count": 188,
     "metadata": {},
     "output_type": "execute_result"
    }
   ],
   "source": [
    "unstack_loc = df['value'].unstack(level='location')\n",
    "## clean up the multi index\n",
    "unstack_loc.columns.rename(None, inplace=True)\n",
    "unstack_loc.reset_index(inplace=True)\n",
    "## print the result\n",
    "unstack_loc"
   ]
  },
  {
   "cell_type": "code",
   "execution_count": 190,
   "metadata": {},
   "outputs": [
    {
     "data": {
      "text/html": [
       "<div>\n",
       "<style scoped>\n",
       "    .dataframe tbody tr th:only-of-type {\n",
       "        vertical-align: middle;\n",
       "    }\n",
       "\n",
       "    .dataframe tbody tr th {\n",
       "        vertical-align: top;\n",
       "    }\n",
       "\n",
       "    .dataframe thead th {\n",
       "        text-align: right;\n",
       "    }\n",
       "</style>\n",
       "<table border=\"1\" class=\"dataframe\">\n",
       "  <thead>\n",
       "    <tr style=\"text-align: right;\">\n",
       "      <th></th>\n",
       "      <th>location</th>\n",
       "      <th>indicator</th>\n",
       "      <th>1992</th>\n",
       "      <th>1997</th>\n",
       "      <th>2002</th>\n",
       "      <th>2007</th>\n",
       "    </tr>\n",
       "  </thead>\n",
       "  <tbody>\n",
       "    <tr>\n",
       "      <th>0</th>\n",
       "      <td>Argentina</td>\n",
       "      <td>agriculture</td>\n",
       "      <td>5.990787</td>\n",
       "      <td>5.673367</td>\n",
       "      <td>10.822087</td>\n",
       "      <td>8.781971</td>\n",
       "    </tr>\n",
       "    <tr>\n",
       "      <th>1</th>\n",
       "      <td>Argentina</td>\n",
       "      <td>services</td>\n",
       "      <td>63.325216</td>\n",
       "      <td>64.798081</td>\n",
       "      <td>56.777627</td>\n",
       "      <td>58.906741</td>\n",
       "    </tr>\n",
       "    <tr>\n",
       "      <th>2</th>\n",
       "      <td>Argentina</td>\n",
       "      <td>tax_revenue</td>\n",
       "      <td>5.547922</td>\n",
       "      <td>8.690086</td>\n",
       "      <td>9.818958</td>\n",
       "      <td>NaN</td>\n",
       "    </tr>\n",
       "    <tr>\n",
       "      <th>3</th>\n",
       "      <td>Sweden</td>\n",
       "      <td>agriculture</td>\n",
       "      <td>2.878552</td>\n",
       "      <td>2.416412</td>\n",
       "      <td>1.842202</td>\n",
       "      <td>1.585659</td>\n",
       "    </tr>\n",
       "    <tr>\n",
       "      <th>4</th>\n",
       "      <td>Sweden</td>\n",
       "      <td>services</td>\n",
       "      <td>68.331841</td>\n",
       "      <td>67.168772</td>\n",
       "      <td>68.610732</td>\n",
       "      <td>68.095541</td>\n",
       "    </tr>\n",
       "    <tr>\n",
       "      <th>5</th>\n",
       "      <td>Sweden</td>\n",
       "      <td>tax_revenue</td>\n",
       "      <td>17.387012</td>\n",
       "      <td>27.680374</td>\n",
       "      <td>26.852696</td>\n",
       "      <td>28.448860</td>\n",
       "    </tr>\n",
       "    <tr>\n",
       "      <th>6</th>\n",
       "      <td>United Kingdom</td>\n",
       "      <td>agriculture</td>\n",
       "      <td>1.343506</td>\n",
       "      <td>1.107222</td>\n",
       "      <td>0.803050</td>\n",
       "      <td>0.628423</td>\n",
       "    </tr>\n",
       "    <tr>\n",
       "      <th>7</th>\n",
       "      <td>United Kingdom</td>\n",
       "      <td>services</td>\n",
       "      <td>70.630330</td>\n",
       "      <td>71.911238</td>\n",
       "      <td>75.595317</td>\n",
       "      <td>77.829828</td>\n",
       "    </tr>\n",
       "    <tr>\n",
       "      <th>8</th>\n",
       "      <td>United Kingdom</td>\n",
       "      <td>tax_revenue</td>\n",
       "      <td>24.280316</td>\n",
       "      <td>24.013399</td>\n",
       "      <td>25.077431</td>\n",
       "      <td>25.783890</td>\n",
       "    </tr>\n",
       "  </tbody>\n",
       "</table>\n",
       "</div>"
      ],
      "text/plain": [
       "         location    indicator       1992       1997       2002       2007\n",
       "0       Argentina  agriculture   5.990787   5.673367  10.822087   8.781971\n",
       "1       Argentina     services  63.325216  64.798081  56.777627  58.906741\n",
       "2       Argentina  tax_revenue   5.547922   8.690086   9.818958        NaN\n",
       "3          Sweden  agriculture   2.878552   2.416412   1.842202   1.585659\n",
       "4          Sweden     services  68.331841  67.168772  68.610732  68.095541\n",
       "5          Sweden  tax_revenue  17.387012  27.680374  26.852696  28.448860\n",
       "6  United Kingdom  agriculture   1.343506   1.107222   0.803050   0.628423\n",
       "7  United Kingdom     services  70.630330  71.911238  75.595317  77.829828\n",
       "8  United Kingdom  tax_revenue  24.280316  24.013399  25.077431  25.783890"
      ]
     },
     "execution_count": 190,
     "metadata": {},
     "output_type": "execute_result"
    }
   ],
   "source": [
    "unstack_yr = df['value'].unstack(level='year')\n",
    "## clean up the multi index\n",
    "unstack_yr.columns.rename(None, inplace=True)\n",
    "unstack_yr.reset_index(inplace=True)\n",
    "## print the result\n",
    "unstack_yr"
   ]
  },
  {
   "cell_type": "code",
   "execution_count": 191,
   "metadata": {},
   "outputs": [
    {
     "data": {
      "text/html": [
       "<div>\n",
       "<style scoped>\n",
       "    .dataframe tbody tr th:only-of-type {\n",
       "        vertical-align: middle;\n",
       "    }\n",
       "\n",
       "    .dataframe tbody tr th {\n",
       "        vertical-align: top;\n",
       "    }\n",
       "\n",
       "    .dataframe thead th {\n",
       "        text-align: right;\n",
       "    }\n",
       "</style>\n",
       "<table border=\"1\" class=\"dataframe\">\n",
       "  <thead>\n",
       "    <tr style=\"text-align: right;\">\n",
       "      <th></th>\n",
       "      <th>location</th>\n",
       "      <th>year</th>\n",
       "      <th>agriculture</th>\n",
       "      <th>services</th>\n",
       "      <th>tax_revenue</th>\n",
       "    </tr>\n",
       "  </thead>\n",
       "  <tbody>\n",
       "    <tr>\n",
       "      <th>0</th>\n",
       "      <td>Argentina</td>\n",
       "      <td>1992</td>\n",
       "      <td>5.990787</td>\n",
       "      <td>63.325216</td>\n",
       "      <td>5.547922</td>\n",
       "    </tr>\n",
       "    <tr>\n",
       "      <th>1</th>\n",
       "      <td>Argentina</td>\n",
       "      <td>1997</td>\n",
       "      <td>5.673367</td>\n",
       "      <td>64.798081</td>\n",
       "      <td>8.690086</td>\n",
       "    </tr>\n",
       "    <tr>\n",
       "      <th>2</th>\n",
       "      <td>Argentina</td>\n",
       "      <td>2002</td>\n",
       "      <td>10.822087</td>\n",
       "      <td>56.777627</td>\n",
       "      <td>9.818958</td>\n",
       "    </tr>\n",
       "    <tr>\n",
       "      <th>3</th>\n",
       "      <td>Argentina</td>\n",
       "      <td>2007</td>\n",
       "      <td>8.781971</td>\n",
       "      <td>58.906741</td>\n",
       "      <td>NaN</td>\n",
       "    </tr>\n",
       "    <tr>\n",
       "      <th>4</th>\n",
       "      <td>Sweden</td>\n",
       "      <td>1992</td>\n",
       "      <td>2.878552</td>\n",
       "      <td>68.331841</td>\n",
       "      <td>17.387012</td>\n",
       "    </tr>\n",
       "    <tr>\n",
       "      <th>5</th>\n",
       "      <td>Sweden</td>\n",
       "      <td>1997</td>\n",
       "      <td>2.416412</td>\n",
       "      <td>67.168772</td>\n",
       "      <td>27.680374</td>\n",
       "    </tr>\n",
       "    <tr>\n",
       "      <th>6</th>\n",
       "      <td>Sweden</td>\n",
       "      <td>2002</td>\n",
       "      <td>1.842202</td>\n",
       "      <td>68.610732</td>\n",
       "      <td>26.852696</td>\n",
       "    </tr>\n",
       "    <tr>\n",
       "      <th>7</th>\n",
       "      <td>Sweden</td>\n",
       "      <td>2007</td>\n",
       "      <td>1.585659</td>\n",
       "      <td>68.095541</td>\n",
       "      <td>28.448860</td>\n",
       "    </tr>\n",
       "    <tr>\n",
       "      <th>8</th>\n",
       "      <td>United Kingdom</td>\n",
       "      <td>1992</td>\n",
       "      <td>1.343506</td>\n",
       "      <td>70.630330</td>\n",
       "      <td>24.280316</td>\n",
       "    </tr>\n",
       "    <tr>\n",
       "      <th>9</th>\n",
       "      <td>United Kingdom</td>\n",
       "      <td>1997</td>\n",
       "      <td>1.107222</td>\n",
       "      <td>71.911238</td>\n",
       "      <td>24.013399</td>\n",
       "    </tr>\n",
       "    <tr>\n",
       "      <th>10</th>\n",
       "      <td>United Kingdom</td>\n",
       "      <td>2002</td>\n",
       "      <td>0.803050</td>\n",
       "      <td>75.595317</td>\n",
       "      <td>25.077431</td>\n",
       "    </tr>\n",
       "    <tr>\n",
       "      <th>11</th>\n",
       "      <td>United Kingdom</td>\n",
       "      <td>2007</td>\n",
       "      <td>0.628423</td>\n",
       "      <td>77.829828</td>\n",
       "      <td>25.783890</td>\n",
       "    </tr>\n",
       "  </tbody>\n",
       "</table>\n",
       "</div>"
      ],
      "text/plain": [
       "          location  year  agriculture   services  tax_revenue\n",
       "0        Argentina  1992     5.990787  63.325216     5.547922\n",
       "1        Argentina  1997     5.673367  64.798081     8.690086\n",
       "2        Argentina  2002    10.822087  56.777627     9.818958\n",
       "3        Argentina  2007     8.781971  58.906741          NaN\n",
       "4           Sweden  1992     2.878552  68.331841    17.387012\n",
       "5           Sweden  1997     2.416412  67.168772    27.680374\n",
       "6           Sweden  2002     1.842202  68.610732    26.852696\n",
       "7           Sweden  2007     1.585659  68.095541    28.448860\n",
       "8   United Kingdom  1992     1.343506  70.630330    24.280316\n",
       "9   United Kingdom  1997     1.107222  71.911238    24.013399\n",
       "10  United Kingdom  2002     0.803050  75.595317    25.077431\n",
       "11  United Kingdom  2007     0.628423  77.829828    25.783890"
      ]
     },
     "execution_count": 191,
     "metadata": {},
     "output_type": "execute_result"
    }
   ],
   "source": [
    "unstack_ind = df['value'].unstack(level=2)\n",
    "## clean up the multi index\n",
    "unstack_ind.columns.rename(None, inplace=True)\n",
    "unstack_ind.reset_index(inplace=True)\n",
    "## print the result\n",
    "unstack_ind"
   ]
  },
  {
   "cell_type": "code",
   "execution_count": 207,
   "metadata": {},
   "outputs": [],
   "source": [
    "##df['value'].unstack(level=2)\\\n",
    "##           .pipe(lambda df: df.columns.rename(None, inplace=True); df)\n",
    "##           .pipe(lambda df: df.reset_index(inplace=True); df)"
   ]
  },
  {
   "cell_type": "markdown",
   "metadata": {},
   "source": [
    "## Stack"
   ]
  },
  {
   "cell_type": "markdown",
   "metadata": {},
   "source": [
    "As expected, stack does the exact oposite:"
   ]
  },
  {
   "cell_type": "code",
   "execution_count": 218,
   "metadata": {},
   "outputs": [
    {
     "data": {
      "text/html": [
       "<div>\n",
       "<style scoped>\n",
       "    .dataframe tbody tr th:only-of-type {\n",
       "        vertical-align: middle;\n",
       "    }\n",
       "\n",
       "    .dataframe tbody tr th {\n",
       "        vertical-align: top;\n",
       "    }\n",
       "\n",
       "    .dataframe thead th {\n",
       "        text-align: right;\n",
       "    }\n",
       "</style>\n",
       "<table border=\"1\" class=\"dataframe\">\n",
       "  <thead>\n",
       "    <tr style=\"text-align: right;\">\n",
       "      <th></th>\n",
       "      <th>location</th>\n",
       "      <th>year</th>\n",
       "      <th>indicator</th>\n",
       "      <th>value</th>\n",
       "    </tr>\n",
       "  </thead>\n",
       "  <tbody>\n",
       "    <tr>\n",
       "      <th>0</th>\n",
       "      <td>Argentina</td>\n",
       "      <td>1992</td>\n",
       "      <td>agriculture</td>\n",
       "      <td>5.990787</td>\n",
       "    </tr>\n",
       "    <tr>\n",
       "      <th>1</th>\n",
       "      <td>Argentina</td>\n",
       "      <td>1992</td>\n",
       "      <td>services</td>\n",
       "      <td>63.325216</td>\n",
       "    </tr>\n",
       "    <tr>\n",
       "      <th>2</th>\n",
       "      <td>Argentina</td>\n",
       "      <td>1992</td>\n",
       "      <td>tax_revenue</td>\n",
       "      <td>5.547922</td>\n",
       "    </tr>\n",
       "    <tr>\n",
       "      <th>3</th>\n",
       "      <td>Argentina</td>\n",
       "      <td>1997</td>\n",
       "      <td>agriculture</td>\n",
       "      <td>5.673367</td>\n",
       "    </tr>\n",
       "    <tr>\n",
       "      <th>4</th>\n",
       "      <td>Argentina</td>\n",
       "      <td>1997</td>\n",
       "      <td>services</td>\n",
       "      <td>64.798081</td>\n",
       "    </tr>\n",
       "    <tr>\n",
       "      <th>5</th>\n",
       "      <td>Argentina</td>\n",
       "      <td>1997</td>\n",
       "      <td>tax_revenue</td>\n",
       "      <td>8.690086</td>\n",
       "    </tr>\n",
       "    <tr>\n",
       "      <th>6</th>\n",
       "      <td>Argentina</td>\n",
       "      <td>2002</td>\n",
       "      <td>agriculture</td>\n",
       "      <td>10.822087</td>\n",
       "    </tr>\n",
       "    <tr>\n",
       "      <th>7</th>\n",
       "      <td>Argentina</td>\n",
       "      <td>2002</td>\n",
       "      <td>services</td>\n",
       "      <td>56.777627</td>\n",
       "    </tr>\n",
       "    <tr>\n",
       "      <th>8</th>\n",
       "      <td>Argentina</td>\n",
       "      <td>2002</td>\n",
       "      <td>tax_revenue</td>\n",
       "      <td>9.818958</td>\n",
       "    </tr>\n",
       "    <tr>\n",
       "      <th>9</th>\n",
       "      <td>Argentina</td>\n",
       "      <td>2007</td>\n",
       "      <td>agriculture</td>\n",
       "      <td>8.781971</td>\n",
       "    </tr>\n",
       "    <tr>\n",
       "      <th>10</th>\n",
       "      <td>Argentina</td>\n",
       "      <td>2007</td>\n",
       "      <td>services</td>\n",
       "      <td>58.906741</td>\n",
       "    </tr>\n",
       "    <tr>\n",
       "      <th>11</th>\n",
       "      <td>Sweden</td>\n",
       "      <td>1992</td>\n",
       "      <td>agriculture</td>\n",
       "      <td>2.878552</td>\n",
       "    </tr>\n",
       "    <tr>\n",
       "      <th>12</th>\n",
       "      <td>Sweden</td>\n",
       "      <td>1992</td>\n",
       "      <td>services</td>\n",
       "      <td>68.331841</td>\n",
       "    </tr>\n",
       "    <tr>\n",
       "      <th>13</th>\n",
       "      <td>Sweden</td>\n",
       "      <td>1992</td>\n",
       "      <td>tax_revenue</td>\n",
       "      <td>17.387012</td>\n",
       "    </tr>\n",
       "    <tr>\n",
       "      <th>14</th>\n",
       "      <td>Sweden</td>\n",
       "      <td>1997</td>\n",
       "      <td>agriculture</td>\n",
       "      <td>2.416412</td>\n",
       "    </tr>\n",
       "    <tr>\n",
       "      <th>15</th>\n",
       "      <td>Sweden</td>\n",
       "      <td>1997</td>\n",
       "      <td>services</td>\n",
       "      <td>67.168772</td>\n",
       "    </tr>\n",
       "    <tr>\n",
       "      <th>16</th>\n",
       "      <td>Sweden</td>\n",
       "      <td>1997</td>\n",
       "      <td>tax_revenue</td>\n",
       "      <td>27.680374</td>\n",
       "    </tr>\n",
       "    <tr>\n",
       "      <th>17</th>\n",
       "      <td>Sweden</td>\n",
       "      <td>2002</td>\n",
       "      <td>agriculture</td>\n",
       "      <td>1.842202</td>\n",
       "    </tr>\n",
       "    <tr>\n",
       "      <th>18</th>\n",
       "      <td>Sweden</td>\n",
       "      <td>2002</td>\n",
       "      <td>services</td>\n",
       "      <td>68.610732</td>\n",
       "    </tr>\n",
       "    <tr>\n",
       "      <th>19</th>\n",
       "      <td>Sweden</td>\n",
       "      <td>2002</td>\n",
       "      <td>tax_revenue</td>\n",
       "      <td>26.852696</td>\n",
       "    </tr>\n",
       "    <tr>\n",
       "      <th>20</th>\n",
       "      <td>Sweden</td>\n",
       "      <td>2007</td>\n",
       "      <td>agriculture</td>\n",
       "      <td>1.585659</td>\n",
       "    </tr>\n",
       "    <tr>\n",
       "      <th>21</th>\n",
       "      <td>Sweden</td>\n",
       "      <td>2007</td>\n",
       "      <td>services</td>\n",
       "      <td>68.095541</td>\n",
       "    </tr>\n",
       "    <tr>\n",
       "      <th>22</th>\n",
       "      <td>Sweden</td>\n",
       "      <td>2007</td>\n",
       "      <td>tax_revenue</td>\n",
       "      <td>28.448860</td>\n",
       "    </tr>\n",
       "    <tr>\n",
       "      <th>23</th>\n",
       "      <td>United Kingdom</td>\n",
       "      <td>1992</td>\n",
       "      <td>agriculture</td>\n",
       "      <td>1.343506</td>\n",
       "    </tr>\n",
       "    <tr>\n",
       "      <th>24</th>\n",
       "      <td>United Kingdom</td>\n",
       "      <td>1992</td>\n",
       "      <td>services</td>\n",
       "      <td>70.630330</td>\n",
       "    </tr>\n",
       "    <tr>\n",
       "      <th>25</th>\n",
       "      <td>United Kingdom</td>\n",
       "      <td>1992</td>\n",
       "      <td>tax_revenue</td>\n",
       "      <td>24.280316</td>\n",
       "    </tr>\n",
       "    <tr>\n",
       "      <th>26</th>\n",
       "      <td>United Kingdom</td>\n",
       "      <td>1997</td>\n",
       "      <td>agriculture</td>\n",
       "      <td>1.107222</td>\n",
       "    </tr>\n",
       "    <tr>\n",
       "      <th>27</th>\n",
       "      <td>United Kingdom</td>\n",
       "      <td>1997</td>\n",
       "      <td>services</td>\n",
       "      <td>71.911238</td>\n",
       "    </tr>\n",
       "    <tr>\n",
       "      <th>28</th>\n",
       "      <td>United Kingdom</td>\n",
       "      <td>1997</td>\n",
       "      <td>tax_revenue</td>\n",
       "      <td>24.013399</td>\n",
       "    </tr>\n",
       "    <tr>\n",
       "      <th>29</th>\n",
       "      <td>United Kingdom</td>\n",
       "      <td>2002</td>\n",
       "      <td>agriculture</td>\n",
       "      <td>0.803050</td>\n",
       "    </tr>\n",
       "    <tr>\n",
       "      <th>30</th>\n",
       "      <td>United Kingdom</td>\n",
       "      <td>2002</td>\n",
       "      <td>services</td>\n",
       "      <td>75.595317</td>\n",
       "    </tr>\n",
       "    <tr>\n",
       "      <th>31</th>\n",
       "      <td>United Kingdom</td>\n",
       "      <td>2002</td>\n",
       "      <td>tax_revenue</td>\n",
       "      <td>25.077431</td>\n",
       "    </tr>\n",
       "    <tr>\n",
       "      <th>32</th>\n",
       "      <td>United Kingdom</td>\n",
       "      <td>2007</td>\n",
       "      <td>agriculture</td>\n",
       "      <td>0.628423</td>\n",
       "    </tr>\n",
       "    <tr>\n",
       "      <th>33</th>\n",
       "      <td>United Kingdom</td>\n",
       "      <td>2007</td>\n",
       "      <td>services</td>\n",
       "      <td>77.829828</td>\n",
       "    </tr>\n",
       "    <tr>\n",
       "      <th>34</th>\n",
       "      <td>United Kingdom</td>\n",
       "      <td>2007</td>\n",
       "      <td>tax_revenue</td>\n",
       "      <td>25.783890</td>\n",
       "    </tr>\n",
       "  </tbody>\n",
       "</table>\n",
       "</div>"
      ],
      "text/plain": [
       "          location  year    indicator      value\n",
       "0        Argentina  1992  agriculture   5.990787\n",
       "1        Argentina  1992     services  63.325216\n",
       "2        Argentina  1992  tax_revenue   5.547922\n",
       "3        Argentina  1997  agriculture   5.673367\n",
       "4        Argentina  1997     services  64.798081\n",
       "5        Argentina  1997  tax_revenue   8.690086\n",
       "6        Argentina  2002  agriculture  10.822087\n",
       "7        Argentina  2002     services  56.777627\n",
       "8        Argentina  2002  tax_revenue   9.818958\n",
       "9        Argentina  2007  agriculture   8.781971\n",
       "10       Argentina  2007     services  58.906741\n",
       "11          Sweden  1992  agriculture   2.878552\n",
       "12          Sweden  1992     services  68.331841\n",
       "13          Sweden  1992  tax_revenue  17.387012\n",
       "14          Sweden  1997  agriculture   2.416412\n",
       "15          Sweden  1997     services  67.168772\n",
       "16          Sweden  1997  tax_revenue  27.680374\n",
       "17          Sweden  2002  agriculture   1.842202\n",
       "18          Sweden  2002     services  68.610732\n",
       "19          Sweden  2002  tax_revenue  26.852696\n",
       "20          Sweden  2007  agriculture   1.585659\n",
       "21          Sweden  2007     services  68.095541\n",
       "22          Sweden  2007  tax_revenue  28.448860\n",
       "23  United Kingdom  1992  agriculture   1.343506\n",
       "24  United Kingdom  1992     services  70.630330\n",
       "25  United Kingdom  1992  tax_revenue  24.280316\n",
       "26  United Kingdom  1997  agriculture   1.107222\n",
       "27  United Kingdom  1997     services  71.911238\n",
       "28  United Kingdom  1997  tax_revenue  24.013399\n",
       "29  United Kingdom  2002  agriculture   0.803050\n",
       "30  United Kingdom  2002     services  75.595317\n",
       "31  United Kingdom  2002  tax_revenue  25.077431\n",
       "32  United Kingdom  2007  agriculture   0.628423\n",
       "33  United Kingdom  2007     services  77.829828\n",
       "34  United Kingdom  2007  tax_revenue  25.783890"
      ]
     },
     "execution_count": 218,
     "metadata": {},
     "output_type": "execute_result"
    }
   ],
   "source": [
    "orig_stacked = unstack_ind.set_index(['location','year'])\\\n",
    "                          .stack()\\\n",
    "                          .reset_index()\\\n",
    "                          .rename(columns={'level_2':'indicator',0:'value'})\n",
    "orig_stacked"
   ]
  },
  {
   "cell_type": "markdown",
   "metadata": {},
   "source": [
    "## Pivot Table"
   ]
  },
  {
   "cell_type": "markdown",
   "metadata": {},
   "source": [
    "# Merging"
   ]
  },
  {
   "cell_type": "code",
   "execution_count": null,
   "metadata": {},
   "outputs": [],
   "source": []
  },
  {
   "cell_type": "markdown",
   "metadata": {},
   "source": [
    "# Split-Apply-Combine"
   ]
  },
  {
   "cell_type": "code",
   "execution_count": null,
   "metadata": {},
   "outputs": [],
   "source": [
    "df = pd.read_csv('data/drinksbycountry.csv')"
   ]
  },
  {
   "cell_type": "code",
   "execution_count": null,
   "metadata": {},
   "outputs": [],
   "source": [
    "df.head()"
   ]
  },
  {
   "cell_type": "code",
   "execution_count": null,
   "metadata": {},
   "outputs": [],
   "source": [
    "df.to_csv('data/drinksbycountry.csv',index=False)"
   ]
  },
  {
   "cell_type": "markdown",
   "metadata": {
    "heading_collapsed": true
   },
   "source": [
    "## GroupBy"
   ]
  },
  {
   "cell_type": "code",
   "execution_count": null,
   "metadata": {
    "hidden": true
   },
   "outputs": [],
   "source": []
  },
  {
   "cell_type": "code",
   "execution_count": null,
   "metadata": {
    "hidden": true
   },
   "outputs": [],
   "source": []
  },
  {
   "cell_type": "code",
   "execution_count": null,
   "metadata": {
    "hidden": true
   },
   "outputs": [],
   "source": []
  },
  {
   "cell_type": "markdown",
   "metadata": {
    "heading_collapsed": true
   },
   "source": [
    "# Basic Visualizing"
   ]
  },
  {
   "cell_type": "markdown",
   "metadata": {
    "hidden": true
   },
   "source": [
    "Jupyter / pandas has some usefull facitilies to highlight elements in the output.<br>\n",
    "It also has some plot methods directly defined on the Series / DataFrame.<br>"
   ]
  },
  {
   "cell_type": "code",
   "execution_count": null,
   "metadata": {
    "hidden": true
   },
   "outputs": [],
   "source": [
    "## lets create a DataFrame with the same row & column index\n",
    "df = pd.DataFrame(np.random.randn(4,3), index=[1,2,3,4], columns=[1,2,3])\n",
    "df"
   ]
  },
  {
   "cell_type": "code",
   "execution_count": null,
   "metadata": {
    "hidden": true
   },
   "outputs": [],
   "source": [
    "## return some css styling based on the value\n",
    "def vis_highlight_negative(cell):\n",
    "    return(f\"{'color: blue' if (cell < -1) else 'color: black'}; \" +\n",
    "           f\"{'background: yellow' if (cell < -1) else ''}\"\n",
    "          )"
   ]
  },
  {
   "cell_type": "code",
   "execution_count": null,
   "metadata": {
    "hidden": true
   },
   "outputs": [],
   "source": [
    "## applymap: function gets called for each cell in the DataFrame\n",
    "df.style.applymap(vis_highlight_negative)"
   ]
  },
  {
   "cell_type": "code",
   "execution_count": null,
   "metadata": {
    "hidden": true
   },
   "outputs": [],
   "source": [
    "def vis_highlight_column_max(srs):\n",
    "    cmax = srs.max()\n",
    "    cmin = srs.min()\n",
    "    bg   = {0: '', 1: 'background: red', 2: 'background: green'}\n",
    "    return([bg[1*(cell==cmin) + 2*(cell==cmax)] for cell in srs])"
   ]
  },
  {
   "cell_type": "code",
   "execution_count": null,
   "metadata": {
    "hidden": true
   },
   "outputs": [],
   "source": [
    "df.style.apply(vis_highlight_column_max)"
   ]
  },
  {
   "cell_type": "markdown",
   "metadata": {
    "hidden": true
   },
   "source": [
    "Timeseries plots"
   ]
  },
  {
   "cell_type": "code",
   "execution_count": null,
   "metadata": {
    "hidden": true
   },
   "outputs": [],
   "source": [
    "srs = pd.Series(np.random.randn(12).cumsum(), index=pd.date_range(start='31-01-2019', freq='M', periods=12))"
   ]
  },
  {
   "cell_type": "code",
   "execution_count": null,
   "metadata": {
    "hidden": true
   },
   "outputs": [],
   "source": [
    "srs.plot();"
   ]
  },
  {
   "cell_type": "code",
   "execution_count": null,
   "metadata": {
    "hidden": true
   },
   "outputs": [],
   "source": [
    "srs.plot(figsize=(12,5), color='red', grid=(True,True));"
   ]
  },
  {
   "cell_type": "code",
   "execution_count": null,
   "metadata": {
    "hidden": true
   },
   "outputs": [],
   "source": []
  },
  {
   "cell_type": "markdown",
   "metadata": {},
   "source": [
    "# Read / Write External Data"
   ]
  },
  {
   "cell_type": "code",
   "execution_count": null,
   "metadata": {},
   "outputs": [],
   "source": []
  },
  {
   "cell_type": "code",
   "execution_count": null,
   "metadata": {},
   "outputs": [],
   "source": [
    "df1 = pd.read_csv('data/Xbox 3-day auctions.csv')"
   ]
  },
  {
   "cell_type": "code",
   "execution_count": null,
   "metadata": {},
   "outputs": [],
   "source": [
    "df2 = df1.loc[df1.bidder == 'parakeet2004']\n",
    "df2"
   ]
  },
  {
   "cell_type": "code",
   "execution_count": null,
   "metadata": {},
   "outputs": [],
   "source": [
    "df = pd.read_csv('https://gist.githubusercontent.com/chriddyp/'\n",
    "                 'cb5392c35661370d95f300086accea51/raw/'\n",
    "                 '8e0768211f6b747c0db42a9ce9a0937dafcbd8b2/'\n",
    "                 'indicators.csv')"
   ]
  },
  {
   "cell_type": "code",
   "execution_count": null,
   "metadata": {},
   "outputs": [],
   "source": [
    "df.drop(columns='Unnamed: 0', inplace=True)"
   ]
  },
  {
   "cell_type": "code",
   "execution_count": null,
   "metadata": {},
   "outputs": [],
   "source": [
    "df.head()"
   ]
  },
  {
   "cell_type": "code",
   "execution_count": null,
   "metadata": {},
   "outputs": [],
   "source": [
    "df.to_csv('data/countrystats.csv', index=False)"
   ]
  },
  {
   "cell_type": "code",
   "execution_count": null,
   "metadata": {},
   "outputs": [],
   "source": [
    "df = pd.read_csv('data/countrystats.csv')"
   ]
  },
  {
   "cell_type": "code",
   "execution_count": null,
   "metadata": {},
   "outputs": [],
   "source": [
    "df.dtypes"
   ]
  }
 ],
 "metadata": {
  "kernelspec": {
   "display_name": "Python 3",
   "language": "python",
   "name": "python3"
  },
  "language_info": {
   "codemirror_mode": {
    "name": "ipython",
    "version": 3
   },
   "file_extension": ".py",
   "mimetype": "text/x-python",
   "name": "python",
   "nbconvert_exporter": "python",
   "pygments_lexer": "ipython3",
   "version": "3.7.5"
  },
  "toc": {
   "base_numbering": 1,
   "nav_menu": {},
   "number_sections": true,
   "sideBar": true,
   "skip_h1_title": false,
   "title_cell": "Table of Contents",
   "title_sidebar": "Contents",
   "toc_cell": false,
   "toc_position": {},
   "toc_section_display": true,
   "toc_window_display": false
  }
 },
 "nbformat": 4,
 "nbformat_minor": 2
}
