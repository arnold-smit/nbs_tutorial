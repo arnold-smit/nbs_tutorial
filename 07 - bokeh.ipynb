{
 "cells": [
  {
   "cell_type": "code",
   "execution_count": 1,
   "metadata": {},
   "outputs": [],
   "source": [
    "import numpy  as np\n",
    "import pandas as pd"
   ]
  },
  {
   "cell_type": "markdown",
   "metadata": {},
   "source": [
    "# Bokeh The Basics"
   ]
  },
  {
   "cell_type": "code",
   "execution_count": 2,
   "metadata": {},
   "outputs": [
    {
     "data": {
      "text/html": [
       "\n",
       "    <div class=\"bk-root\">\n",
       "        <a href=\"https://bokeh.org\" target=\"_blank\" class=\"bk-logo bk-logo-small bk-logo-notebook\"></a>\n",
       "        <span id=\"1001\">Loading BokehJS ...</span>\n",
       "    </div>"
      ]
     },
     "metadata": {},
     "output_type": "display_data"
    },
    {
     "data": {
      "application/javascript": [
       "\n",
       "(function(root) {\n",
       "  function now() {\n",
       "    return new Date();\n",
       "  }\n",
       "\n",
       "  var force = true;\n",
       "\n",
       "  if (typeof root._bokeh_onload_callbacks === \"undefined\" || force === true) {\n",
       "    root._bokeh_onload_callbacks = [];\n",
       "    root._bokeh_is_loading = undefined;\n",
       "  }\n",
       "\n",
       "  var JS_MIME_TYPE = 'application/javascript';\n",
       "  var HTML_MIME_TYPE = 'text/html';\n",
       "  var EXEC_MIME_TYPE = 'application/vnd.bokehjs_exec.v0+json';\n",
       "  var CLASS_NAME = 'output_bokeh rendered_html';\n",
       "\n",
       "  /**\n",
       "   * Render data to the DOM node\n",
       "   */\n",
       "  function render(props, node) {\n",
       "    var script = document.createElement(\"script\");\n",
       "    node.appendChild(script);\n",
       "  }\n",
       "\n",
       "  /**\n",
       "   * Handle when an output is cleared or removed\n",
       "   */\n",
       "  function handleClearOutput(event, handle) {\n",
       "    var cell = handle.cell;\n",
       "\n",
       "    var id = cell.output_area._bokeh_element_id;\n",
       "    var server_id = cell.output_area._bokeh_server_id;\n",
       "    // Clean up Bokeh references\n",
       "    if (id != null && id in Bokeh.index) {\n",
       "      Bokeh.index[id].model.document.clear();\n",
       "      delete Bokeh.index[id];\n",
       "    }\n",
       "\n",
       "    if (server_id !== undefined) {\n",
       "      // Clean up Bokeh references\n",
       "      var cmd = \"from bokeh.io.state import curstate; print(curstate().uuid_to_server['\" + server_id + \"'].get_sessions()[0].document.roots[0]._id)\";\n",
       "      cell.notebook.kernel.execute(cmd, {\n",
       "        iopub: {\n",
       "          output: function(msg) {\n",
       "            var id = msg.content.text.trim();\n",
       "            if (id in Bokeh.index) {\n",
       "              Bokeh.index[id].model.document.clear();\n",
       "              delete Bokeh.index[id];\n",
       "            }\n",
       "          }\n",
       "        }\n",
       "      });\n",
       "      // Destroy server and session\n",
       "      var cmd = \"import bokeh.io.notebook as ion; ion.destroy_server('\" + server_id + \"')\";\n",
       "      cell.notebook.kernel.execute(cmd);\n",
       "    }\n",
       "  }\n",
       "\n",
       "  /**\n",
       "   * Handle when a new output is added\n",
       "   */\n",
       "  function handleAddOutput(event, handle) {\n",
       "    var output_area = handle.output_area;\n",
       "    var output = handle.output;\n",
       "\n",
       "    // limit handleAddOutput to display_data with EXEC_MIME_TYPE content only\n",
       "    if ((output.output_type != \"display_data\") || (!output.data.hasOwnProperty(EXEC_MIME_TYPE))) {\n",
       "      return\n",
       "    }\n",
       "\n",
       "    var toinsert = output_area.element.find(\".\" + CLASS_NAME.split(' ')[0]);\n",
       "\n",
       "    if (output.metadata[EXEC_MIME_TYPE][\"id\"] !== undefined) {\n",
       "      toinsert[toinsert.length - 1].firstChild.textContent = output.data[JS_MIME_TYPE];\n",
       "      // store reference to embed id on output_area\n",
       "      output_area._bokeh_element_id = output.metadata[EXEC_MIME_TYPE][\"id\"];\n",
       "    }\n",
       "    if (output.metadata[EXEC_MIME_TYPE][\"server_id\"] !== undefined) {\n",
       "      var bk_div = document.createElement(\"div\");\n",
       "      bk_div.innerHTML = output.data[HTML_MIME_TYPE];\n",
       "      var script_attrs = bk_div.children[0].attributes;\n",
       "      for (var i = 0; i < script_attrs.length; i++) {\n",
       "        toinsert[toinsert.length - 1].firstChild.setAttribute(script_attrs[i].name, script_attrs[i].value);\n",
       "        toinsert[toinsert.length - 1].firstChild.textContent = bk_div.children[0].textContent\n",
       "      }\n",
       "      // store reference to server id on output_area\n",
       "      output_area._bokeh_server_id = output.metadata[EXEC_MIME_TYPE][\"server_id\"];\n",
       "    }\n",
       "  }\n",
       "\n",
       "  function register_renderer(events, OutputArea) {\n",
       "\n",
       "    function append_mime(data, metadata, element) {\n",
       "      // create a DOM node to render to\n",
       "      var toinsert = this.create_output_subarea(\n",
       "        metadata,\n",
       "        CLASS_NAME,\n",
       "        EXEC_MIME_TYPE\n",
       "      );\n",
       "      this.keyboard_manager.register_events(toinsert);\n",
       "      // Render to node\n",
       "      var props = {data: data, metadata: metadata[EXEC_MIME_TYPE]};\n",
       "      render(props, toinsert[toinsert.length - 1]);\n",
       "      element.append(toinsert);\n",
       "      return toinsert\n",
       "    }\n",
       "\n",
       "    /* Handle when an output is cleared or removed */\n",
       "    events.on('clear_output.CodeCell', handleClearOutput);\n",
       "    events.on('delete.Cell', handleClearOutput);\n",
       "\n",
       "    /* Handle when a new output is added */\n",
       "    events.on('output_added.OutputArea', handleAddOutput);\n",
       "\n",
       "    /**\n",
       "     * Register the mime type and append_mime function with output_area\n",
       "     */\n",
       "    OutputArea.prototype.register_mime_type(EXEC_MIME_TYPE, append_mime, {\n",
       "      /* Is output safe? */\n",
       "      safe: true,\n",
       "      /* Index of renderer in `output_area.display_order` */\n",
       "      index: 0\n",
       "    });\n",
       "  }\n",
       "\n",
       "  // register the mime type if in Jupyter Notebook environment and previously unregistered\n",
       "  if (root.Jupyter !== undefined) {\n",
       "    var events = require('base/js/events');\n",
       "    var OutputArea = require('notebook/js/outputarea').OutputArea;\n",
       "\n",
       "    if (OutputArea.prototype.mime_types().indexOf(EXEC_MIME_TYPE) == -1) {\n",
       "      register_renderer(events, OutputArea);\n",
       "    }\n",
       "  }\n",
       "\n",
       "  \n",
       "  if (typeof (root._bokeh_timeout) === \"undefined\" || force === true) {\n",
       "    root._bokeh_timeout = Date.now() + 5000;\n",
       "    root._bokeh_failed_load = false;\n",
       "  }\n",
       "\n",
       "  var NB_LOAD_WARNING = {'data': {'text/html':\n",
       "     \"<div style='background-color: #fdd'>\\n\"+\n",
       "     \"<p>\\n\"+\n",
       "     \"BokehJS does not appear to have successfully loaded. If loading BokehJS from CDN, this \\n\"+\n",
       "     \"may be due to a slow or bad network connection. Possible fixes:\\n\"+\n",
       "     \"</p>\\n\"+\n",
       "     \"<ul>\\n\"+\n",
       "     \"<li>re-rerun `output_notebook()` to attempt to load from CDN again, or</li>\\n\"+\n",
       "     \"<li>use INLINE resources instead, as so:</li>\\n\"+\n",
       "     \"</ul>\\n\"+\n",
       "     \"<code>\\n\"+\n",
       "     \"from bokeh.resources import INLINE\\n\"+\n",
       "     \"output_notebook(resources=INLINE)\\n\"+\n",
       "     \"</code>\\n\"+\n",
       "     \"</div>\"}};\n",
       "\n",
       "  function display_loaded() {\n",
       "    var el = document.getElementById(\"1001\");\n",
       "    if (el != null) {\n",
       "      el.textContent = \"BokehJS is loading...\";\n",
       "    }\n",
       "    if (root.Bokeh !== undefined) {\n",
       "      if (el != null) {\n",
       "        el.textContent = \"BokehJS \" + root.Bokeh.version + \" successfully loaded.\";\n",
       "      }\n",
       "    } else if (Date.now() < root._bokeh_timeout) {\n",
       "      setTimeout(display_loaded, 100)\n",
       "    }\n",
       "  }\n",
       "\n",
       "\n",
       "  function run_callbacks() {\n",
       "    try {\n",
       "      root._bokeh_onload_callbacks.forEach(function(callback) {\n",
       "        if (callback != null)\n",
       "          callback();\n",
       "      });\n",
       "    } finally {\n",
       "      delete root._bokeh_onload_callbacks\n",
       "    }\n",
       "    console.debug(\"Bokeh: all callbacks have finished\");\n",
       "  }\n",
       "\n",
       "  function load_libs(css_urls, js_urls, callback) {\n",
       "    if (css_urls == null) css_urls = [];\n",
       "    if (js_urls == null) js_urls = [];\n",
       "\n",
       "    root._bokeh_onload_callbacks.push(callback);\n",
       "    if (root._bokeh_is_loading > 0) {\n",
       "      console.debug(\"Bokeh: BokehJS is being loaded, scheduling callback at\", now());\n",
       "      return null;\n",
       "    }\n",
       "    if (js_urls == null || js_urls.length === 0) {\n",
       "      run_callbacks();\n",
       "      return null;\n",
       "    }\n",
       "    console.debug(\"Bokeh: BokehJS not loaded, scheduling load and callback at\", now());\n",
       "    root._bokeh_is_loading = css_urls.length + js_urls.length;\n",
       "\n",
       "    function on_load() {\n",
       "      root._bokeh_is_loading--;\n",
       "      if (root._bokeh_is_loading === 0) {\n",
       "        console.debug(\"Bokeh: all BokehJS libraries/stylesheets loaded\");\n",
       "        run_callbacks()\n",
       "      }\n",
       "    }\n",
       "\n",
       "    function on_error() {\n",
       "      console.error(\"failed to load \" + url);\n",
       "    }\n",
       "\n",
       "    for (var i = 0; i < css_urls.length; i++) {\n",
       "      var url = css_urls[i];\n",
       "      const element = document.createElement(\"link\");\n",
       "      element.onload = on_load;\n",
       "      element.onerror = on_error;\n",
       "      element.rel = \"stylesheet\";\n",
       "      element.type = \"text/css\";\n",
       "      element.href = url;\n",
       "      console.debug(\"Bokeh: injecting link tag for BokehJS stylesheet: \", url);\n",
       "      document.body.appendChild(element);\n",
       "    }\n",
       "\n",
       "    const hashes = {\"https://cdn.bokeh.org/bokeh/release/bokeh-2.1.0.min.js\": \"YobFyzPeVUsFQydHkJGsJL1kyfHnWxOlPc3EwaV22TmBaeGoXHLWx5aRRVPS9xlE\", \"https://cdn.bokeh.org/bokeh/release/bokeh-widgets-2.1.0.min.js\": \"NuAg9+TcTQQqvQCTtkCneRrpkTiMhhfiq0KHiBzx8ECiKiLWXHN6i6ia3q7b3eHu\", \"https://cdn.bokeh.org/bokeh/release/bokeh-tables-2.1.0.min.js\": \"uMVqQc8JqHitD67bXTn9a06Mrk3EiHRaZ18EJENQenAKJ/KL71SakdXYomZQpGRr\", \"https://cdn.bokeh.org/bokeh/release/bokeh-gl-2.1.0.min.js\": \"u+eGuEXC8aw0VSCm2mH+b/tQEAitUOYiR1H6SuIVEdUmXsf4vN8m/SmXpmjb7U/X\"};\n",
       "\n",
       "    for (var i = 0; i < js_urls.length; i++) {\n",
       "      var url = js_urls[i];\n",
       "      var element = document.createElement('script');\n",
       "      element.onload = on_load;\n",
       "      element.onerror = on_error;\n",
       "      element.async = false;\n",
       "      element.src = url;\n",
       "      if (url in hashes) {\n",
       "        element.crossOrigin = \"anonymous\";\n",
       "        element.integrity = \"sha384-\" + hashes[url];\n",
       "      }\n",
       "      console.debug(\"Bokeh: injecting script tag for BokehJS library: \", url);\n",
       "      document.head.appendChild(element);\n",
       "    }\n",
       "  };\n",
       "\n",
       "  function inject_raw_css(css) {\n",
       "    const element = document.createElement(\"style\");\n",
       "    element.appendChild(document.createTextNode(css));\n",
       "    document.body.appendChild(element);\n",
       "  }\n",
       "\n",
       "  \n",
       "  var js_urls = [\"https://cdn.bokeh.org/bokeh/release/bokeh-2.1.0.min.js\", \"https://cdn.bokeh.org/bokeh/release/bokeh-widgets-2.1.0.min.js\", \"https://cdn.bokeh.org/bokeh/release/bokeh-tables-2.1.0.min.js\", \"https://cdn.bokeh.org/bokeh/release/bokeh-gl-2.1.0.min.js\"];\n",
       "  var css_urls = [];\n",
       "  \n",
       "\n",
       "  var inline_js = [\n",
       "    function(Bokeh) {\n",
       "      Bokeh.set_log_level(\"info\");\n",
       "    },\n",
       "    function(Bokeh) {\n",
       "    \n",
       "    \n",
       "    }\n",
       "  ];\n",
       "\n",
       "  function run_inline_js() {\n",
       "    \n",
       "    if (root.Bokeh !== undefined || force === true) {\n",
       "      \n",
       "    for (var i = 0; i < inline_js.length; i++) {\n",
       "      inline_js[i].call(root, root.Bokeh);\n",
       "    }\n",
       "    if (force === true) {\n",
       "        display_loaded();\n",
       "      }} else if (Date.now() < root._bokeh_timeout) {\n",
       "      setTimeout(run_inline_js, 100);\n",
       "    } else if (!root._bokeh_failed_load) {\n",
       "      console.log(\"Bokeh: BokehJS failed to load within specified timeout.\");\n",
       "      root._bokeh_failed_load = true;\n",
       "    } else if (force !== true) {\n",
       "      var cell = $(document.getElementById(\"1001\")).parents('.cell').data().cell;\n",
       "      cell.output_area.append_execute_result(NB_LOAD_WARNING)\n",
       "    }\n",
       "\n",
       "  }\n",
       "\n",
       "  if (root._bokeh_is_loading === 0) {\n",
       "    console.debug(\"Bokeh: BokehJS loaded, going straight to plotting\");\n",
       "    run_inline_js();\n",
       "  } else {\n",
       "    load_libs(css_urls, js_urls, function() {\n",
       "      console.debug(\"Bokeh: BokehJS plotting callback run at\", now());\n",
       "      run_inline_js();\n",
       "    });\n",
       "  }\n",
       "}(window));"
      ],
      "application/vnd.bokehjs_load.v0+json": "\n(function(root) {\n  function now() {\n    return new Date();\n  }\n\n  var force = true;\n\n  if (typeof root._bokeh_onload_callbacks === \"undefined\" || force === true) {\n    root._bokeh_onload_callbacks = [];\n    root._bokeh_is_loading = undefined;\n  }\n\n  \n\n  \n  if (typeof (root._bokeh_timeout) === \"undefined\" || force === true) {\n    root._bokeh_timeout = Date.now() + 5000;\n    root._bokeh_failed_load = false;\n  }\n\n  var NB_LOAD_WARNING = {'data': {'text/html':\n     \"<div style='background-color: #fdd'>\\n\"+\n     \"<p>\\n\"+\n     \"BokehJS does not appear to have successfully loaded. If loading BokehJS from CDN, this \\n\"+\n     \"may be due to a slow or bad network connection. Possible fixes:\\n\"+\n     \"</p>\\n\"+\n     \"<ul>\\n\"+\n     \"<li>re-rerun `output_notebook()` to attempt to load from CDN again, or</li>\\n\"+\n     \"<li>use INLINE resources instead, as so:</li>\\n\"+\n     \"</ul>\\n\"+\n     \"<code>\\n\"+\n     \"from bokeh.resources import INLINE\\n\"+\n     \"output_notebook(resources=INLINE)\\n\"+\n     \"</code>\\n\"+\n     \"</div>\"}};\n\n  function display_loaded() {\n    var el = document.getElementById(\"1001\");\n    if (el != null) {\n      el.textContent = \"BokehJS is loading...\";\n    }\n    if (root.Bokeh !== undefined) {\n      if (el != null) {\n        el.textContent = \"BokehJS \" + root.Bokeh.version + \" successfully loaded.\";\n      }\n    } else if (Date.now() < root._bokeh_timeout) {\n      setTimeout(display_loaded, 100)\n    }\n  }\n\n\n  function run_callbacks() {\n    try {\n      root._bokeh_onload_callbacks.forEach(function(callback) {\n        if (callback != null)\n          callback();\n      });\n    } finally {\n      delete root._bokeh_onload_callbacks\n    }\n    console.debug(\"Bokeh: all callbacks have finished\");\n  }\n\n  function load_libs(css_urls, js_urls, callback) {\n    if (css_urls == null) css_urls = [];\n    if (js_urls == null) js_urls = [];\n\n    root._bokeh_onload_callbacks.push(callback);\n    if (root._bokeh_is_loading > 0) {\n      console.debug(\"Bokeh: BokehJS is being loaded, scheduling callback at\", now());\n      return null;\n    }\n    if (js_urls == null || js_urls.length === 0) {\n      run_callbacks();\n      return null;\n    }\n    console.debug(\"Bokeh: BokehJS not loaded, scheduling load and callback at\", now());\n    root._bokeh_is_loading = css_urls.length + js_urls.length;\n\n    function on_load() {\n      root._bokeh_is_loading--;\n      if (root._bokeh_is_loading === 0) {\n        console.debug(\"Bokeh: all BokehJS libraries/stylesheets loaded\");\n        run_callbacks()\n      }\n    }\n\n    function on_error() {\n      console.error(\"failed to load \" + url);\n    }\n\n    for (var i = 0; i < css_urls.length; i++) {\n      var url = css_urls[i];\n      const element = document.createElement(\"link\");\n      element.onload = on_load;\n      element.onerror = on_error;\n      element.rel = \"stylesheet\";\n      element.type = \"text/css\";\n      element.href = url;\n      console.debug(\"Bokeh: injecting link tag for BokehJS stylesheet: \", url);\n      document.body.appendChild(element);\n    }\n\n    const hashes = {\"https://cdn.bokeh.org/bokeh/release/bokeh-2.1.0.min.js\": \"YobFyzPeVUsFQydHkJGsJL1kyfHnWxOlPc3EwaV22TmBaeGoXHLWx5aRRVPS9xlE\", \"https://cdn.bokeh.org/bokeh/release/bokeh-widgets-2.1.0.min.js\": \"NuAg9+TcTQQqvQCTtkCneRrpkTiMhhfiq0KHiBzx8ECiKiLWXHN6i6ia3q7b3eHu\", \"https://cdn.bokeh.org/bokeh/release/bokeh-tables-2.1.0.min.js\": \"uMVqQc8JqHitD67bXTn9a06Mrk3EiHRaZ18EJENQenAKJ/KL71SakdXYomZQpGRr\", \"https://cdn.bokeh.org/bokeh/release/bokeh-gl-2.1.0.min.js\": \"u+eGuEXC8aw0VSCm2mH+b/tQEAitUOYiR1H6SuIVEdUmXsf4vN8m/SmXpmjb7U/X\"};\n\n    for (var i = 0; i < js_urls.length; i++) {\n      var url = js_urls[i];\n      var element = document.createElement('script');\n      element.onload = on_load;\n      element.onerror = on_error;\n      element.async = false;\n      element.src = url;\n      if (url in hashes) {\n        element.crossOrigin = \"anonymous\";\n        element.integrity = \"sha384-\" + hashes[url];\n      }\n      console.debug(\"Bokeh: injecting script tag for BokehJS library: \", url);\n      document.head.appendChild(element);\n    }\n  };\n\n  function inject_raw_css(css) {\n    const element = document.createElement(\"style\");\n    element.appendChild(document.createTextNode(css));\n    document.body.appendChild(element);\n  }\n\n  \n  var js_urls = [\"https://cdn.bokeh.org/bokeh/release/bokeh-2.1.0.min.js\", \"https://cdn.bokeh.org/bokeh/release/bokeh-widgets-2.1.0.min.js\", \"https://cdn.bokeh.org/bokeh/release/bokeh-tables-2.1.0.min.js\", \"https://cdn.bokeh.org/bokeh/release/bokeh-gl-2.1.0.min.js\"];\n  var css_urls = [];\n  \n\n  var inline_js = [\n    function(Bokeh) {\n      Bokeh.set_log_level(\"info\");\n    },\n    function(Bokeh) {\n    \n    \n    }\n  ];\n\n  function run_inline_js() {\n    \n    if (root.Bokeh !== undefined || force === true) {\n      \n    for (var i = 0; i < inline_js.length; i++) {\n      inline_js[i].call(root, root.Bokeh);\n    }\n    if (force === true) {\n        display_loaded();\n      }} else if (Date.now() < root._bokeh_timeout) {\n      setTimeout(run_inline_js, 100);\n    } else if (!root._bokeh_failed_load) {\n      console.log(\"Bokeh: BokehJS failed to load within specified timeout.\");\n      root._bokeh_failed_load = true;\n    } else if (force !== true) {\n      var cell = $(document.getElementById(\"1001\")).parents('.cell').data().cell;\n      cell.output_area.append_execute_result(NB_LOAD_WARNING)\n    }\n\n  }\n\n  if (root._bokeh_is_loading === 0) {\n    console.debug(\"Bokeh: BokehJS loaded, going straight to plotting\");\n    run_inline_js();\n  } else {\n    load_libs(css_urls, js_urls, function() {\n      console.debug(\"Bokeh: BokehJS plotting callback run at\", now());\n      run_inline_js();\n    });\n  }\n}(window));"
     },
     "metadata": {},
     "output_type": "display_data"
    }
   ],
   "source": [
    "from bokeh.plotting import figure, show, output_notebook\n",
    "output_notebook()"
   ]
  },
  {
   "cell_type": "markdown",
   "metadata": {},
   "source": [
    "When I say the basics, I mean basic understanding of the Bokeh structure. And not the basic usage.<br>\n",
    "Just like with *Matplotlib* where you can jump straight in and become a master of copy & paste through Google and Stackoverflow,<br>\n",
    "it pays to give yourself a couple of hours to build up some understanding of how it all hangs together.<br><br>\n",
    "\n",
    "Bokeh consists of a Javascript part and a Python part. But, unlike other librarries that wrap some Javascript library,<br>\n",
    "Bokeh is written specifically for Python. The Bokeh JavaScript library is exists to realize what is expressed in Python, without the need to learn Javascript ...<br><br>\n",
    "\n",
    "Bokeh can be used in Jupyter notebook, but also as a stand-alone server. When run as a server the 'applications' have a fully functional two way interaction between actions at client-side (JavaScript) and the Python interpreter on the server side.<br><br>\n",
    "\n",
    "Runnig Bokeh as a server is currently not possible within Nationwide, so I won't go into it. But it is needed when you want to create rich interactive dashboards. I will show here some usage of Bokeh in the notebook. In the notebook you will miss the full two-way interaction. But, what you can do is make interactive plots as long as the interactions are driven by JavaScript and CSS.<br><br>\n",
    "\n",
    "The simplest thing to start with in Bokeh is the higher level plotting API, where basically, just like with Matplotlib you sart by creating a figure ..."
   ]
  },
  {
   "cell_type": "code",
   "execution_count": 94,
   "metadata": {},
   "outputs": [
    {
     "data": {
      "text/plain": [
       "bokeh.plotting.figure.Figure"
      ]
     },
     "execution_count": 94,
     "metadata": {},
     "output_type": "execute_result"
    }
   ],
   "source": [
    "p = figure()\n",
    "type(p)"
   ]
  },
  {
   "cell_type": "markdown",
   "metadata": {
    "jupyter": {
     "outputs_hidden": true
    }
   },
   "source": [
    "Bokeh comprises a graph into objects that represent all the different parts of the plot: grids, axes, glyphs, etc.<br><br>\n",
    "Since we are using the figure interface here (instead of the lower level models interface), we get a **Figure** which is a **subclass** of a **Plot** that simplifies plot creation with default axes, grids, tools, etc.<br><br>\n",
    "\n",
    "A Figure in turn consists of GlyphRenederer's (or at a lower level: a Plot consist of Renderers at a lower level) ...\n",
    "\n",
    "![](bokeh_hierarchy.svg)"
   ]
  },
  {
   "cell_type": "markdown",
   "metadata": {},
   "source": [
    "To actually render the figure, you need to call show (and pass in the figure you want rendered).<br>\n",
    "Currently, the graph is empty, so not terribly exciting..."
   ]
  },
  {
   "cell_type": "code",
   "execution_count": 95,
   "metadata": {},
   "outputs": [
    {
     "name": "stderr",
     "output_type": "stream",
     "text": [
      "WARNING:bokeh.core.validation.check:W-1000 (MISSING_RENDERERS): Plot has no renderers: Figure(id='3999', ...)\n"
     ]
    },
    {
     "data": {
      "text/html": [
       "\n",
       "\n",
       "\n",
       "\n",
       "\n",
       "\n",
       "  <div class=\"bk-root\" id=\"ef63be99-d692-468b-a64a-e6dd3027f37e\" data-root-id=\"3999\"></div>\n"
      ]
     },
     "metadata": {},
     "output_type": "display_data"
    },
    {
     "data": {
      "application/javascript": [
       "(function(root) {\n",
       "  function embed_document(root) {\n",
       "    \n",
       "  var docs_json = {\"375213ad-9beb-4351-934a-20644924ec4d\":{\"roots\":{\"references\":[{\"attributes\":{\"below\":[{\"id\":\"4008\"}],\"center\":[{\"id\":\"4011\"},{\"id\":\"4015\"}],\"left\":[{\"id\":\"4012\"}],\"title\":{\"id\":\"4089\"},\"toolbar\":{\"id\":\"4023\"},\"x_range\":{\"id\":\"4000\"},\"x_scale\":{\"id\":\"4004\"},\"y_range\":{\"id\":\"4002\"},\"y_scale\":{\"id\":\"4006\"}},\"id\":\"3999\",\"subtype\":\"Figure\",\"type\":\"Plot\"},{\"attributes\":{\"formatter\":{\"id\":\"4090\"},\"ticker\":{\"id\":\"4013\"}},\"id\":\"4012\",\"type\":\"LinearAxis\"},{\"attributes\":{\"formatter\":{\"id\":\"4092\"},\"ticker\":{\"id\":\"4009\"}},\"id\":\"4008\",\"type\":\"LinearAxis\"},{\"attributes\":{},\"id\":\"4092\",\"type\":\"BasicTickFormatter\"},{\"attributes\":{},\"id\":\"4090\",\"type\":\"BasicTickFormatter\"},{\"attributes\":{\"axis\":{\"id\":\"4012\"},\"dimension\":1,\"ticker\":null},\"id\":\"4015\",\"type\":\"Grid\"},{\"attributes\":{},\"id\":\"4002\",\"type\":\"DataRange1d\"},{\"attributes\":{\"axis\":{\"id\":\"4008\"},\"ticker\":null},\"id\":\"4011\",\"type\":\"Grid\"},{\"attributes\":{\"text\":\"\"},\"id\":\"4089\",\"type\":\"Title\"},{\"attributes\":{},\"id\":\"4016\",\"type\":\"PanTool\"},{\"attributes\":{},\"id\":\"4020\",\"type\":\"ResetTool\"},{\"attributes\":{},\"id\":\"4006\",\"type\":\"LinearScale\"},{\"attributes\":{},\"id\":\"4000\",\"type\":\"DataRange1d\"},{\"attributes\":{},\"id\":\"4017\",\"type\":\"WheelZoomTool\"},{\"attributes\":{},\"id\":\"4009\",\"type\":\"BasicTicker\"},{\"attributes\":{\"overlay\":{\"id\":\"4022\"}},\"id\":\"4018\",\"type\":\"BoxZoomTool\"},{\"attributes\":{\"active_drag\":\"auto\",\"active_inspect\":\"auto\",\"active_multi\":null,\"active_scroll\":\"auto\",\"active_tap\":\"auto\",\"tools\":[{\"id\":\"4016\"},{\"id\":\"4017\"},{\"id\":\"4018\"},{\"id\":\"4019\"},{\"id\":\"4020\"},{\"id\":\"4021\"}]},\"id\":\"4023\",\"type\":\"Toolbar\"},{\"attributes\":{\"bottom_units\":\"screen\",\"fill_alpha\":0.5,\"fill_color\":\"lightgrey\",\"left_units\":\"screen\",\"level\":\"overlay\",\"line_alpha\":1.0,\"line_color\":\"black\",\"line_dash\":[4,4],\"line_width\":2,\"right_units\":\"screen\",\"top_units\":\"screen\"},\"id\":\"4022\",\"type\":\"BoxAnnotation\"},{\"attributes\":{},\"id\":\"4019\",\"type\":\"SaveTool\"},{\"attributes\":{},\"id\":\"4004\",\"type\":\"LinearScale\"},{\"attributes\":{},\"id\":\"4013\",\"type\":\"BasicTicker\"},{\"attributes\":{},\"id\":\"4021\",\"type\":\"HelpTool\"}],\"root_ids\":[\"3999\"]},\"title\":\"Bokeh Application\",\"version\":\"2.1.0\"}};\n",
       "  var render_items = [{\"docid\":\"375213ad-9beb-4351-934a-20644924ec4d\",\"root_ids\":[\"3999\"],\"roots\":{\"3999\":\"ef63be99-d692-468b-a64a-e6dd3027f37e\"}}];\n",
       "  root.Bokeh.embed.embed_items_notebook(docs_json, render_items);\n",
       "\n",
       "  }\n",
       "  if (root.Bokeh !== undefined) {\n",
       "    embed_document(root);\n",
       "  } else {\n",
       "    var attempts = 0;\n",
       "    var timer = setInterval(function(root) {\n",
       "      if (root.Bokeh !== undefined) {\n",
       "        clearInterval(timer);\n",
       "        embed_document(root);\n",
       "      } else {\n",
       "        attempts++;\n",
       "        if (attempts > 100) {\n",
       "          clearInterval(timer);\n",
       "          console.log(\"Bokeh: ERROR: Unable to run BokehJS code because BokehJS library is missing\");\n",
       "        }\n",
       "      }\n",
       "    }, 10, root)\n",
       "  }\n",
       "})(window);"
      ],
      "application/vnd.bokehjs_exec.v0+json": ""
     },
     "metadata": {
      "application/vnd.bokehjs_exec.v0+json": {
       "id": "3999"
      }
     },
     "output_type": "display_data"
    }
   ],
   "source": [
    "## currently the plot is empty, no renderers! \n",
    "show(p)"
   ]
  },
  {
   "cell_type": "markdown",
   "metadata": {},
   "source": [
    "Do note the toolbar on the right. The Figure contains a bunch of tools (PanTool, SaveTool, ZoomTool, ...) that are working out ogf the box on whatever gets rendered.<br>\n",
    "Let's make the plot a bit more exciting by adding a line (a line is one of the many glyph renderers):"
   ]
  },
  {
   "cell_type": "code",
   "execution_count": 96,
   "metadata": {},
   "outputs": [
    {
     "data": {
      "text/html": [
       "<div style=\"display: table;\"><div style=\"display: table-row;\"><div style=\"display: table-cell;\"><b title=\"bokeh.models.renderers.GlyphRenderer\">GlyphRenderer</b>(</div><div style=\"display: table-cell;\">id&nbsp;=&nbsp;'4140', <span id=\"4210\" style=\"cursor: pointer;\">&hellip;)</span></div></div><div class=\"4209\" style=\"display: none;\"><div style=\"display: table-cell;\"></div><div style=\"display: table-cell;\">data_source&nbsp;=&nbsp;ColumnDataSource(id='4137', ...),</div></div><div class=\"4209\" style=\"display: none;\"><div style=\"display: table-cell;\"></div><div style=\"display: table-cell;\">glyph&nbsp;=&nbsp;Line(id='4138', ...),</div></div><div class=\"4209\" style=\"display: none;\"><div style=\"display: table-cell;\"></div><div style=\"display: table-cell;\">hover_glyph&nbsp;=&nbsp;None,</div></div><div class=\"4209\" style=\"display: none;\"><div style=\"display: table-cell;\"></div><div style=\"display: table-cell;\">js_event_callbacks&nbsp;=&nbsp;{},</div></div><div class=\"4209\" style=\"display: none;\"><div style=\"display: table-cell;\"></div><div style=\"display: table-cell;\">js_property_callbacks&nbsp;=&nbsp;{},</div></div><div class=\"4209\" style=\"display: none;\"><div style=\"display: table-cell;\"></div><div style=\"display: table-cell;\">level&nbsp;=&nbsp;'glyph',</div></div><div class=\"4209\" style=\"display: none;\"><div style=\"display: table-cell;\"></div><div style=\"display: table-cell;\">muted&nbsp;=&nbsp;False,</div></div><div class=\"4209\" style=\"display: none;\"><div style=\"display: table-cell;\"></div><div style=\"display: table-cell;\">muted_glyph&nbsp;=&nbsp;None,</div></div><div class=\"4209\" style=\"display: none;\"><div style=\"display: table-cell;\"></div><div style=\"display: table-cell;\">name&nbsp;=&nbsp;'myline1',</div></div><div class=\"4209\" style=\"display: none;\"><div style=\"display: table-cell;\"></div><div style=\"display: table-cell;\">nonselection_glyph&nbsp;=&nbsp;Line(id='4139', ...),</div></div><div class=\"4209\" style=\"display: none;\"><div style=\"display: table-cell;\"></div><div style=\"display: table-cell;\">selection_glyph&nbsp;=&nbsp;None,</div></div><div class=\"4209\" style=\"display: none;\"><div style=\"display: table-cell;\"></div><div style=\"display: table-cell;\">subscribed_events&nbsp;=&nbsp;[],</div></div><div class=\"4209\" style=\"display: none;\"><div style=\"display: table-cell;\"></div><div style=\"display: table-cell;\">tags&nbsp;=&nbsp;[],</div></div><div class=\"4209\" style=\"display: none;\"><div style=\"display: table-cell;\"></div><div style=\"display: table-cell;\">view&nbsp;=&nbsp;CDSView(id='4141', ...),</div></div><div class=\"4209\" style=\"display: none;\"><div style=\"display: table-cell;\"></div><div style=\"display: table-cell;\">visible&nbsp;=&nbsp;True,</div></div><div class=\"4209\" style=\"display: none;\"><div style=\"display: table-cell;\"></div><div style=\"display: table-cell;\">x_range_name&nbsp;=&nbsp;'default',</div></div><div class=\"4209\" style=\"display: none;\"><div style=\"display: table-cell;\"></div><div style=\"display: table-cell;\">y_range_name&nbsp;=&nbsp;'default')</div></div></div>\n",
       "<script>\n",
       "(function() {\n",
       "  var expanded = false;\n",
       "  var ellipsis = document.getElementById(\"4210\");\n",
       "  ellipsis.addEventListener(\"click\", function() {\n",
       "    var rows = document.getElementsByClassName(\"4209\");\n",
       "    for (var i = 0; i < rows.length; i++) {\n",
       "      var el = rows[i];\n",
       "      el.style.display = expanded ? \"none\" : \"table-row\";\n",
       "    }\n",
       "    ellipsis.innerHTML = expanded ? \"&hellip;)\" : \"&lsaquo;&lsaquo;&lsaquo;\";\n",
       "    expanded = !expanded;\n",
       "  });\n",
       "})();\n",
       "</script>\n"
      ],
      "text/plain": [
       "GlyphRenderer(id='4140', ...)"
      ]
     },
     "execution_count": 96,
     "metadata": {},
     "output_type": "execute_result"
    }
   ],
   "source": [
    "x = [1,2,3,4,5]\n",
    "y = np.random.randn(5)\n",
    "p.line(x=x,y=y,name='myline1')"
   ]
  },
  {
   "cell_type": "markdown",
   "metadata": {},
   "source": [
    "There a two really usefull methods to remember:\n",
    "1. **properties()**: a generic way to list the properties in Bokeh, works on many classes\n",
    "2. **renderers**: the list of renderes defined for the Figure (Plot)\n",
    "\n",
    "Using these, will give you great control over what is available on the Graph object hierarchy."
   ]
  },
  {
   "cell_type": "code",
   "execution_count": 40,
   "metadata": {},
   "outputs": [
    {
     "data": {
      "text/plain": [
       "[GlyphRenderer(id='2025', ...)]"
      ]
     },
     "execution_count": 40,
     "metadata": {},
     "output_type": "execute_result"
    }
   ],
   "source": [
    "p.renderers"
   ]
  },
  {
   "cell_type": "markdown",
   "metadata": {},
   "source": [
    "So, above we see that the Figure now has one renderer. But the beauty about Bokeh is, we can add many more glyphs.<br>\n",
    "Let's add some points to the *p* to make it more interesting. See the [docs](https://docs.bokeh.org/en/latest/docs/reference/plotting.html?highlight=figure#bokeh.plotting.figure.Figure) for a list of *glyphs*"
   ]
  },
  {
   "cell_type": "code",
   "execution_count": 97,
   "metadata": {},
   "outputs": [
    {
     "data": {
      "text/html": [
       "\n",
       "\n",
       "\n",
       "\n",
       "\n",
       "\n",
       "  <div class=\"bk-root\" id=\"cdb3b553-11b7-45c0-9c33-e6250e44725d\" data-root-id=\"3999\"></div>\n"
      ]
     },
     "metadata": {},
     "output_type": "display_data"
    },
    {
     "data": {
      "application/javascript": [
       "(function(root) {\n",
       "  function embed_document(root) {\n",
       "    \n",
       "  var docs_json = {\"b3a4a923-6fd0-4466-81ce-32befce4275d\":{\"roots\":{\"references\":[{\"attributes\":{\"below\":[{\"id\":\"4008\"}],\"center\":[{\"id\":\"4011\"},{\"id\":\"4015\"}],\"left\":[{\"id\":\"4012\"}],\"renderers\":[{\"id\":\"4140\"},{\"id\":\"4214\"}],\"title\":{\"id\":\"4089\"},\"toolbar\":{\"id\":\"4023\"},\"x_range\":{\"id\":\"4000\"},\"x_scale\":{\"id\":\"4004\"},\"y_range\":{\"id\":\"4002\"},\"y_scale\":{\"id\":\"4006\"}},\"id\":\"3999\",\"subtype\":\"Figure\",\"type\":\"Plot\"},{\"attributes\":{\"formatter\":{\"id\":\"4090\"},\"ticker\":{\"id\":\"4013\"}},\"id\":\"4012\",\"type\":\"LinearAxis\"},{\"attributes\":{\"data\":{\"x\":[1,2,3,4,5],\"y\":{\"__ndarray__\":\"YJwAqbEr5b/VM6UfJorsP/g/05ovY/w/5GYha1pc1b9fDnWmT632Pw==\",\"dtype\":\"float64\",\"order\":\"little\",\"shape\":[5]}},\"selected\":{\"id\":\"4208\"},\"selection_policy\":{\"id\":\"4207\"}},\"id\":\"4137\",\"type\":\"ColumnDataSource\"},{\"attributes\":{\"formatter\":{\"id\":\"4092\"},\"ticker\":{\"id\":\"4009\"}},\"id\":\"4008\",\"type\":\"LinearAxis\"},{\"attributes\":{},\"id\":\"4092\",\"type\":\"BasicTickFormatter\"},{\"attributes\":{\"line_color\":\"#1f77b4\",\"x\":{\"field\":\"x\"},\"y\":{\"field\":\"y\"}},\"id\":\"4138\",\"type\":\"Line\"},{\"attributes\":{\"fill_alpha\":{\"value\":0.1},\"fill_color\":{\"value\":\"orange\"},\"line_alpha\":{\"value\":0.1},\"line_color\":{\"value\":\"#1f77b4\"},\"size\":{\"field\":\"size\",\"units\":\"screen\"},\"x\":{\"field\":\"x\"},\"y\":{\"field\":\"y\"}},\"id\":\"4213\",\"type\":\"Diamond\"},{\"attributes\":{},\"id\":\"4090\",\"type\":\"BasicTickFormatter\"},{\"attributes\":{\"axis\":{\"id\":\"4012\"},\"dimension\":1,\"ticker\":null},\"id\":\"4015\",\"type\":\"Grid\"},{\"attributes\":{},\"id\":\"4002\",\"type\":\"DataRange1d\"},{\"attributes\":{\"axis\":{\"id\":\"4008\"},\"ticker\":null},\"id\":\"4011\",\"type\":\"Grid\"},{\"attributes\":{\"fill_color\":{\"value\":\"orange\"},\"line_color\":{\"value\":\"#1f77b4\"},\"size\":{\"field\":\"size\",\"units\":\"screen\"},\"x\":{\"field\":\"x\"},\"y\":{\"field\":\"y\"}},\"id\":\"4212\",\"type\":\"Diamond\"},{\"attributes\":{\"text\":\"\"},\"id\":\"4089\",\"type\":\"Title\"},{\"attributes\":{},\"id\":\"4016\",\"type\":\"PanTool\"},{\"attributes\":{},\"id\":\"4020\",\"type\":\"ResetTool\"},{\"attributes\":{\"data_source\":{\"id\":\"4137\"},\"glyph\":{\"id\":\"4138\"},\"hover_glyph\":null,\"muted_glyph\":null,\"name\":\"myline1\",\"nonselection_glyph\":{\"id\":\"4139\"},\"selection_glyph\":null,\"view\":{\"id\":\"4141\"}},\"id\":\"4140\",\"type\":\"GlyphRenderer\"},{\"attributes\":{\"source\":{\"id\":\"4211\"}},\"id\":\"4215\",\"type\":\"CDSView\"},{\"attributes\":{},\"id\":\"4006\",\"type\":\"LinearScale\"},{\"attributes\":{\"line_alpha\":0.1,\"line_color\":\"#1f77b4\",\"x\":{\"field\":\"x\"},\"y\":{\"field\":\"y\"}},\"id\":\"4139\",\"type\":\"Line\"},{\"attributes\":{},\"id\":\"4207\",\"type\":\"UnionRenderers\"},{\"attributes\":{},\"id\":\"4000\",\"type\":\"DataRange1d\"},{\"attributes\":{},\"id\":\"4017\",\"type\":\"WheelZoomTool\"},{\"attributes\":{},\"id\":\"4009\",\"type\":\"BasicTicker\"},{\"attributes\":{\"overlay\":{\"id\":\"4022\"}},\"id\":\"4018\",\"type\":\"BoxZoomTool\"},{\"attributes\":{\"active_drag\":\"auto\",\"active_inspect\":\"auto\",\"active_multi\":null,\"active_scroll\":\"auto\",\"active_tap\":\"auto\",\"tools\":[{\"id\":\"4016\"},{\"id\":\"4017\"},{\"id\":\"4018\"},{\"id\":\"4019\"},{\"id\":\"4020\"},{\"id\":\"4021\"}]},\"id\":\"4023\",\"type\":\"Toolbar\"},{\"attributes\":{},\"id\":\"4284\",\"type\":\"Selection\"},{\"attributes\":{\"data_source\":{\"id\":\"4211\"},\"glyph\":{\"id\":\"4212\"},\"hover_glyph\":null,\"muted_glyph\":null,\"nonselection_glyph\":{\"id\":\"4213\"},\"selection_glyph\":null,\"view\":{\"id\":\"4215\"}},\"id\":\"4214\",\"type\":\"GlyphRenderer\"},{\"attributes\":{\"bottom_units\":\"screen\",\"fill_alpha\":0.5,\"fill_color\":\"lightgrey\",\"left_units\":\"screen\",\"level\":\"overlay\",\"line_alpha\":1.0,\"line_color\":\"black\",\"line_dash\":[4,4],\"line_width\":2,\"right_units\":\"screen\",\"top_units\":\"screen\"},\"id\":\"4022\",\"type\":\"BoxAnnotation\"},{\"attributes\":{},\"id\":\"4019\",\"type\":\"SaveTool\"},{\"attributes\":{},\"id\":\"4004\",\"type\":\"LinearScale\"},{\"attributes\":{\"source\":{\"id\":\"4137\"}},\"id\":\"4141\",\"type\":\"CDSView\"},{\"attributes\":{},\"id\":\"4208\",\"type\":\"Selection\"},{\"attributes\":{},\"id\":\"4013\",\"type\":\"BasicTicker\"},{\"attributes\":{},\"id\":\"4283\",\"type\":\"UnionRenderers\"},{\"attributes\":{\"data\":{\"size\":[10,20,30,40,50],\"x\":[1,2,3,4,5],\"y\":{\"__ndarray__\":\"YJwAqbEr5b/VM6UfJorsP/g/05ovY/w/5GYha1pc1b9fDnWmT632Pw==\",\"dtype\":\"float64\",\"order\":\"little\",\"shape\":[5]}},\"selected\":{\"id\":\"4284\"},\"selection_policy\":{\"id\":\"4283\"}},\"id\":\"4211\",\"type\":\"ColumnDataSource\"},{\"attributes\":{},\"id\":\"4021\",\"type\":\"HelpTool\"}],\"root_ids\":[\"3999\"]},\"title\":\"Bokeh Application\",\"version\":\"2.1.0\"}};\n",
       "  var render_items = [{\"docid\":\"b3a4a923-6fd0-4466-81ce-32befce4275d\",\"root_ids\":[\"3999\"],\"roots\":{\"3999\":\"cdb3b553-11b7-45c0-9c33-e6250e44725d\"}}];\n",
       "  root.Bokeh.embed.embed_items_notebook(docs_json, render_items);\n",
       "\n",
       "  }\n",
       "  if (root.Bokeh !== undefined) {\n",
       "    embed_document(root);\n",
       "  } else {\n",
       "    var attempts = 0;\n",
       "    var timer = setInterval(function(root) {\n",
       "      if (root.Bokeh !== undefined) {\n",
       "        clearInterval(timer);\n",
       "        embed_document(root);\n",
       "      } else {\n",
       "        attempts++;\n",
       "        if (attempts > 100) {\n",
       "          clearInterval(timer);\n",
       "          console.log(\"Bokeh: ERROR: Unable to run BokehJS code because BokehJS library is missing\");\n",
       "        }\n",
       "      }\n",
       "    }, 10, root)\n",
       "  }\n",
       "})(window);"
      ],
      "application/vnd.bokehjs_exec.v0+json": ""
     },
     "metadata": {
      "application/vnd.bokehjs_exec.v0+json": {
       "id": "3999"
      }
     },
     "output_type": "display_data"
    }
   ],
   "source": [
    "p.diamond(x=x, y=y, fill_color='orange', size=[10*val for val in x])\n",
    "show(p)"
   ]
  },
  {
   "cell_type": "code",
   "execution_count": 42,
   "metadata": {},
   "outputs": [
    {
     "data": {
      "text/plain": [
       "[GlyphRenderer(id='2025', ...), GlyphRenderer(id='2063', ...)]"
      ]
     },
     "execution_count": 42,
     "metadata": {},
     "output_type": "execute_result"
    }
   ],
   "source": [
    "p.renderers"
   ]
  },
  {
   "cell_type": "markdown",
   "metadata": {},
   "source": [
    "Also let's have a look at what gets exposed, so we can tweak it ..."
   ]
  },
  {
   "cell_type": "code",
   "execution_count": 98,
   "metadata": {},
   "outputs": [
    {
     "data": {
      "text/plain": [
       "{'data_source',\n",
       " 'glyph',\n",
       " 'hover_glyph',\n",
       " 'js_event_callbacks',\n",
       " 'js_property_callbacks',\n",
       " 'level',\n",
       " 'muted',\n",
       " 'muted_glyph',\n",
       " 'name',\n",
       " 'nonselection_glyph',\n",
       " 'selection_glyph',\n",
       " 'subscribed_events',\n",
       " 'tags',\n",
       " 'view',\n",
       " 'visible',\n",
       " 'x_range_name',\n",
       " 'y_range_name'}"
      ]
     },
     "execution_count": 98,
     "metadata": {},
     "output_type": "execute_result"
    }
   ],
   "source": [
    "p.renderers[0].properties()"
   ]
  },
  {
   "cell_type": "code",
   "execution_count": 44,
   "metadata": {},
   "outputs": [
    {
     "data": {
      "text/plain": [
       "{'js_event_callbacks',\n",
       " 'js_property_callbacks',\n",
       " 'line_alpha',\n",
       " 'line_cap',\n",
       " 'line_color',\n",
       " 'line_dash',\n",
       " 'line_dash_offset',\n",
       " 'line_join',\n",
       " 'line_width',\n",
       " 'name',\n",
       " 'subscribed_events',\n",
       " 'tags',\n",
       " 'x',\n",
       " 'y'}"
      ]
     },
     "execution_count": 44,
     "metadata": {},
     "output_type": "execute_result"
    }
   ],
   "source": [
    "p.renderers[0].glyph.properties()"
   ]
  },
  {
   "cell_type": "code",
   "execution_count": 99,
   "metadata": {},
   "outputs": [
    {
     "data": {
      "text/html": [
       "\n",
       "\n",
       "\n",
       "\n",
       "\n",
       "\n",
       "  <div class=\"bk-root\" id=\"ebbc046a-c8db-4bf2-baa9-e1f0f31432f2\" data-root-id=\"3999\"></div>\n"
      ]
     },
     "metadata": {},
     "output_type": "display_data"
    },
    {
     "data": {
      "application/javascript": [
       "(function(root) {\n",
       "  function embed_document(root) {\n",
       "    \n",
       "  var docs_json = {\"8265987a-ec5f-4991-bab3-232ff3485a04\":{\"roots\":{\"references\":[{\"attributes\":{\"below\":[{\"id\":\"4008\"}],\"center\":[{\"id\":\"4011\"},{\"id\":\"4015\"}],\"left\":[{\"id\":\"4012\"}],\"renderers\":[{\"id\":\"4140\"},{\"id\":\"4214\"}],\"title\":{\"id\":\"4089\"},\"toolbar\":{\"id\":\"4023\"},\"x_range\":{\"id\":\"4000\"},\"x_scale\":{\"id\":\"4004\"},\"y_range\":{\"id\":\"4002\"},\"y_scale\":{\"id\":\"4006\"}},\"id\":\"3999\",\"subtype\":\"Figure\",\"type\":\"Plot\"},{\"attributes\":{\"formatter\":{\"id\":\"4090\"},\"ticker\":{\"id\":\"4013\"}},\"id\":\"4012\",\"type\":\"LinearAxis\"},{\"attributes\":{\"data\":{\"x\":[1,2,3,4,5],\"y\":{\"__ndarray__\":\"YJwAqbEr5b/VM6UfJorsP/g/05ovY/w/5GYha1pc1b9fDnWmT632Pw==\",\"dtype\":\"float64\",\"order\":\"little\",\"shape\":[5]}},\"selected\":{\"id\":\"4208\"},\"selection_policy\":{\"id\":\"4207\"}},\"id\":\"4137\",\"type\":\"ColumnDataSource\"},{\"attributes\":{\"formatter\":{\"id\":\"4092\"},\"ticker\":{\"id\":\"4009\"}},\"id\":\"4008\",\"type\":\"LinearAxis\"},{\"attributes\":{},\"id\":\"4092\",\"type\":\"BasicTickFormatter\"},{\"attributes\":{\"line_color\":\"red\",\"line_dash\":[2,4,6,4],\"line_width\":4,\"x\":{\"field\":\"x\"},\"y\":{\"field\":\"y\"}},\"id\":\"4138\",\"type\":\"Line\"},{\"attributes\":{\"fill_alpha\":{\"value\":0.1},\"fill_color\":{\"value\":\"orange\"},\"line_alpha\":{\"value\":0.1},\"line_color\":{\"value\":\"#1f77b4\"},\"size\":{\"field\":\"size\",\"units\":\"screen\"},\"x\":{\"field\":\"x\"},\"y\":{\"field\":\"y\"}},\"id\":\"4213\",\"type\":\"Diamond\"},{\"attributes\":{},\"id\":\"4090\",\"type\":\"BasicTickFormatter\"},{\"attributes\":{\"axis\":{\"id\":\"4012\"},\"dimension\":1,\"ticker\":null},\"id\":\"4015\",\"type\":\"Grid\"},{\"attributes\":{},\"id\":\"4002\",\"type\":\"DataRange1d\"},{\"attributes\":{\"axis\":{\"id\":\"4008\"},\"ticker\":null},\"id\":\"4011\",\"type\":\"Grid\"},{\"attributes\":{\"fill_color\":{\"value\":\"orange\"},\"line_color\":{\"value\":\"#1f77b4\"},\"size\":{\"field\":\"size\",\"units\":\"screen\"},\"x\":{\"field\":\"x\"},\"y\":{\"field\":\"y\"}},\"id\":\"4212\",\"type\":\"Diamond\"},{\"attributes\":{\"text\":\"\"},\"id\":\"4089\",\"type\":\"Title\"},{\"attributes\":{},\"id\":\"4016\",\"type\":\"PanTool\"},{\"attributes\":{},\"id\":\"4020\",\"type\":\"ResetTool\"},{\"attributes\":{\"data_source\":{\"id\":\"4137\"},\"glyph\":{\"id\":\"4138\"},\"hover_glyph\":null,\"muted_glyph\":null,\"name\":\"myline1\",\"nonselection_glyph\":{\"id\":\"4139\"},\"selection_glyph\":null,\"view\":{\"id\":\"4141\"}},\"id\":\"4140\",\"type\":\"GlyphRenderer\"},{\"attributes\":{\"source\":{\"id\":\"4211\"}},\"id\":\"4215\",\"type\":\"CDSView\"},{\"attributes\":{},\"id\":\"4006\",\"type\":\"LinearScale\"},{\"attributes\":{\"line_alpha\":0.1,\"line_color\":\"#1f77b4\",\"x\":{\"field\":\"x\"},\"y\":{\"field\":\"y\"}},\"id\":\"4139\",\"type\":\"Line\"},{\"attributes\":{},\"id\":\"4207\",\"type\":\"UnionRenderers\"},{\"attributes\":{},\"id\":\"4000\",\"type\":\"DataRange1d\"},{\"attributes\":{},\"id\":\"4017\",\"type\":\"WheelZoomTool\"},{\"attributes\":{},\"id\":\"4009\",\"type\":\"BasicTicker\"},{\"attributes\":{\"overlay\":{\"id\":\"4022\"}},\"id\":\"4018\",\"type\":\"BoxZoomTool\"},{\"attributes\":{\"active_drag\":\"auto\",\"active_inspect\":\"auto\",\"active_multi\":null,\"active_scroll\":\"auto\",\"active_tap\":\"auto\",\"tools\":[{\"id\":\"4016\"},{\"id\":\"4017\"},{\"id\":\"4018\"},{\"id\":\"4019\"},{\"id\":\"4020\"},{\"id\":\"4021\"}]},\"id\":\"4023\",\"type\":\"Toolbar\"},{\"attributes\":{},\"id\":\"4284\",\"type\":\"Selection\"},{\"attributes\":{\"data_source\":{\"id\":\"4211\"},\"glyph\":{\"id\":\"4212\"},\"hover_glyph\":null,\"muted_glyph\":null,\"nonselection_glyph\":{\"id\":\"4213\"},\"selection_glyph\":null,\"view\":{\"id\":\"4215\"}},\"id\":\"4214\",\"type\":\"GlyphRenderer\"},{\"attributes\":{\"bottom_units\":\"screen\",\"fill_alpha\":0.5,\"fill_color\":\"lightgrey\",\"left_units\":\"screen\",\"level\":\"overlay\",\"line_alpha\":1.0,\"line_color\":\"black\",\"line_dash\":[4,4],\"line_width\":2,\"right_units\":\"screen\",\"top_units\":\"screen\"},\"id\":\"4022\",\"type\":\"BoxAnnotation\"},{\"attributes\":{},\"id\":\"4019\",\"type\":\"SaveTool\"},{\"attributes\":{},\"id\":\"4004\",\"type\":\"LinearScale\"},{\"attributes\":{\"source\":{\"id\":\"4137\"}},\"id\":\"4141\",\"type\":\"CDSView\"},{\"attributes\":{},\"id\":\"4208\",\"type\":\"Selection\"},{\"attributes\":{},\"id\":\"4013\",\"type\":\"BasicTicker\"},{\"attributes\":{},\"id\":\"4283\",\"type\":\"UnionRenderers\"},{\"attributes\":{\"data\":{\"size\":[10,20,30,40,50],\"x\":[1,2,3,4,5],\"y\":{\"__ndarray__\":\"YJwAqbEr5b/VM6UfJorsP/g/05ovY/w/5GYha1pc1b9fDnWmT632Pw==\",\"dtype\":\"float64\",\"order\":\"little\",\"shape\":[5]}},\"selected\":{\"id\":\"4284\"},\"selection_policy\":{\"id\":\"4283\"}},\"id\":\"4211\",\"type\":\"ColumnDataSource\"},{\"attributes\":{},\"id\":\"4021\",\"type\":\"HelpTool\"}],\"root_ids\":[\"3999\"]},\"title\":\"Bokeh Application\",\"version\":\"2.1.0\"}};\n",
       "  var render_items = [{\"docid\":\"8265987a-ec5f-4991-bab3-232ff3485a04\",\"root_ids\":[\"3999\"],\"roots\":{\"3999\":\"ebbc046a-c8db-4bf2-baa9-e1f0f31432f2\"}}];\n",
       "  root.Bokeh.embed.embed_items_notebook(docs_json, render_items);\n",
       "\n",
       "  }\n",
       "  if (root.Bokeh !== undefined) {\n",
       "    embed_document(root);\n",
       "  } else {\n",
       "    var attempts = 0;\n",
       "    var timer = setInterval(function(root) {\n",
       "      if (root.Bokeh !== undefined) {\n",
       "        clearInterval(timer);\n",
       "        embed_document(root);\n",
       "      } else {\n",
       "        attempts++;\n",
       "        if (attempts > 100) {\n",
       "          clearInterval(timer);\n",
       "          console.log(\"Bokeh: ERROR: Unable to run BokehJS code because BokehJS library is missing\");\n",
       "        }\n",
       "      }\n",
       "    }, 10, root)\n",
       "  }\n",
       "})(window);"
      ],
      "application/vnd.bokehjs_exec.v0+json": ""
     },
     "metadata": {
      "application/vnd.bokehjs_exec.v0+json": {
       "id": "3999"
      }
     },
     "output_type": "display_data"
    }
   ],
   "source": [
    "p.renderers[0].glyph.line_width = 4\n",
    "p.renderers[0].glyph.line_color = 'red'\n",
    "p.renderers[0].glyph.line_dash  = 'dotdash'\n",
    "show(p)"
   ]
  },
  {
   "cell_type": "markdown",
   "metadata": {},
   "source": [
    "And, to get some practice in, let's see what we can tweak on the Figure ..."
   ]
  },
  {
   "cell_type": "code",
   "execution_count": 46,
   "metadata": {},
   "outputs": [
    {
     "data": {
      "text/plain": [
       "{'above',\n",
       " 'align',\n",
       " 'aspect_ratio',\n",
       " 'aspect_scale',\n",
       " 'background',\n",
       " 'background_fill_alpha',\n",
       " 'background_fill_color',\n",
       " 'below',\n",
       " 'border_fill_alpha',\n",
       " 'border_fill_color',\n",
       " 'center',\n",
       " 'css_classes',\n",
       " 'disabled',\n",
       " 'extra_x_ranges',\n",
       " 'extra_y_ranges',\n",
       " 'frame_height',\n",
       " 'frame_width',\n",
       " 'height',\n",
       " 'height_policy',\n",
       " 'hidpi',\n",
       " 'inner_height',\n",
       " 'inner_width',\n",
       " 'js_event_callbacks',\n",
       " 'js_property_callbacks',\n",
       " 'left',\n",
       " 'lod_factor',\n",
       " 'lod_interval',\n",
       " 'lod_threshold',\n",
       " 'lod_timeout',\n",
       " 'margin',\n",
       " 'match_aspect',\n",
       " 'max_height',\n",
       " 'max_width',\n",
       " 'min_border',\n",
       " 'min_border_bottom',\n",
       " 'min_border_left',\n",
       " 'min_border_right',\n",
       " 'min_border_top',\n",
       " 'min_height',\n",
       " 'min_width',\n",
       " 'name',\n",
       " 'outer_height',\n",
       " 'outer_width',\n",
       " 'outline_line_alpha',\n",
       " 'outline_line_cap',\n",
       " 'outline_line_color',\n",
       " 'outline_line_dash',\n",
       " 'outline_line_dash_offset',\n",
       " 'outline_line_join',\n",
       " 'outline_line_width',\n",
       " 'output_backend',\n",
       " 'plot_height',\n",
       " 'plot_width',\n",
       " 'renderers',\n",
       " 'reset_policy',\n",
       " 'right',\n",
       " 'sizing_mode',\n",
       " 'subscribed_events',\n",
       " 'tags',\n",
       " 'title',\n",
       " 'title_location',\n",
       " 'toolbar',\n",
       " 'toolbar_location',\n",
       " 'toolbar_sticky',\n",
       " 'visible',\n",
       " 'width',\n",
       " 'width_policy',\n",
       " 'x_range',\n",
       " 'x_scale',\n",
       " 'y_range',\n",
       " 'y_scale'}"
      ]
     },
     "execution_count": 46,
     "metadata": {},
     "output_type": "execute_result"
    }
   ],
   "source": [
    "p.properties()"
   ]
  },
  {
   "cell_type": "markdown",
   "metadata": {},
   "source": [
    "Let's play around ..."
   ]
  },
  {
   "cell_type": "code",
   "execution_count": 100,
   "metadata": {},
   "outputs": [
    {
     "data": {
      "text/html": [
       "\n",
       "\n",
       "\n",
       "\n",
       "\n",
       "\n",
       "  <div class=\"bk-root\" id=\"766446cc-b318-4b0b-b54a-addc1c7f7609\" data-root-id=\"3999\"></div>\n"
      ]
     },
     "metadata": {},
     "output_type": "display_data"
    },
    {
     "data": {
      "application/javascript": [
       "(function(root) {\n",
       "  function embed_document(root) {\n",
       "    \n",
       "  var docs_json = {\"caecbf2e-98b3-4ed8-b9cc-b0fa4c80b5d4\":{\"roots\":{\"references\":[{\"attributes\":{\"background_fill_alpha\":0.5,\"background_fill_color\":\"#a3a3c2\",\"below\":[{\"id\":\"4008\"}],\"center\":[{\"id\":\"4011\"},{\"id\":\"4015\"}],\"height\":300,\"left\":[{\"id\":\"4012\"}],\"renderers\":[{\"id\":\"4140\"},{\"id\":\"4214\"}],\"title\":{\"id\":\"4089\"},\"toolbar\":{\"id\":\"4023\"},\"width\":600,\"x_range\":{\"id\":\"4000\"},\"x_scale\":{\"id\":\"4004\"},\"y_range\":{\"id\":\"4002\"},\"y_scale\":{\"id\":\"4006\"}},\"id\":\"3999\",\"subtype\":\"Figure\",\"type\":\"Plot\"},{\"attributes\":{\"formatter\":{\"id\":\"4090\"},\"ticker\":{\"id\":\"4013\"}},\"id\":\"4012\",\"type\":\"LinearAxis\"},{\"attributes\":{\"data\":{\"x\":[1,2,3,4,5],\"y\":{\"__ndarray__\":\"YJwAqbEr5b/VM6UfJorsP/g/05ovY/w/5GYha1pc1b9fDnWmT632Pw==\",\"dtype\":\"float64\",\"order\":\"little\",\"shape\":[5]}},\"selected\":{\"id\":\"4208\"},\"selection_policy\":{\"id\":\"4207\"}},\"id\":\"4137\",\"type\":\"ColumnDataSource\"},{\"attributes\":{\"formatter\":{\"id\":\"4092\"},\"ticker\":{\"id\":\"4009\"}},\"id\":\"4008\",\"type\":\"LinearAxis\"},{\"attributes\":{},\"id\":\"4092\",\"type\":\"BasicTickFormatter\"},{\"attributes\":{\"line_color\":\"red\",\"line_dash\":[2,4,6,4],\"line_width\":4,\"x\":{\"field\":\"x\"},\"y\":{\"field\":\"y\"}},\"id\":\"4138\",\"type\":\"Line\"},{\"attributes\":{\"fill_alpha\":{\"value\":0.1},\"fill_color\":{\"value\":\"orange\"},\"line_alpha\":{\"value\":0.1},\"line_color\":{\"value\":\"#1f77b4\"},\"size\":{\"field\":\"size\",\"units\":\"screen\"},\"x\":{\"field\":\"x\"},\"y\":{\"field\":\"y\"}},\"id\":\"4213\",\"type\":\"Diamond\"},{\"attributes\":{},\"id\":\"4090\",\"type\":\"BasicTickFormatter\"},{\"attributes\":{\"axis\":{\"id\":\"4012\"},\"dimension\":1,\"ticker\":null},\"id\":\"4015\",\"type\":\"Grid\"},{\"attributes\":{},\"id\":\"4002\",\"type\":\"DataRange1d\"},{\"attributes\":{\"axis\":{\"id\":\"4008\"},\"ticker\":null},\"id\":\"4011\",\"type\":\"Grid\"},{\"attributes\":{\"fill_color\":{\"value\":\"orange\"},\"line_color\":{\"value\":\"#1f77b4\"},\"size\":{\"field\":\"size\",\"units\":\"screen\"},\"x\":{\"field\":\"x\"},\"y\":{\"field\":\"y\"}},\"id\":\"4212\",\"type\":\"Diamond\"},{\"attributes\":{\"text\":\"\"},\"id\":\"4089\",\"type\":\"Title\"},{\"attributes\":{},\"id\":\"4016\",\"type\":\"PanTool\"},{\"attributes\":{},\"id\":\"4020\",\"type\":\"ResetTool\"},{\"attributes\":{\"data_source\":{\"id\":\"4137\"},\"glyph\":{\"id\":\"4138\"},\"hover_glyph\":null,\"muted_glyph\":null,\"name\":\"myline1\",\"nonselection_glyph\":{\"id\":\"4139\"},\"selection_glyph\":null,\"view\":{\"id\":\"4141\"}},\"id\":\"4140\",\"type\":\"GlyphRenderer\"},{\"attributes\":{\"source\":{\"id\":\"4211\"}},\"id\":\"4215\",\"type\":\"CDSView\"},{\"attributes\":{},\"id\":\"4006\",\"type\":\"LinearScale\"},{\"attributes\":{\"line_alpha\":0.1,\"line_color\":\"#1f77b4\",\"x\":{\"field\":\"x\"},\"y\":{\"field\":\"y\"}},\"id\":\"4139\",\"type\":\"Line\"},{\"attributes\":{},\"id\":\"4207\",\"type\":\"UnionRenderers\"},{\"attributes\":{},\"id\":\"4000\",\"type\":\"DataRange1d\"},{\"attributes\":{},\"id\":\"4017\",\"type\":\"WheelZoomTool\"},{\"attributes\":{},\"id\":\"4009\",\"type\":\"BasicTicker\"},{\"attributes\":{\"overlay\":{\"id\":\"4022\"}},\"id\":\"4018\",\"type\":\"BoxZoomTool\"},{\"attributes\":{\"active_drag\":\"auto\",\"active_inspect\":\"auto\",\"active_multi\":null,\"active_scroll\":\"auto\",\"active_tap\":\"auto\",\"tools\":[{\"id\":\"4016\"},{\"id\":\"4017\"},{\"id\":\"4018\"},{\"id\":\"4019\"},{\"id\":\"4020\"},{\"id\":\"4021\"}]},\"id\":\"4023\",\"type\":\"Toolbar\"},{\"attributes\":{},\"id\":\"4284\",\"type\":\"Selection\"},{\"attributes\":{\"data_source\":{\"id\":\"4211\"},\"glyph\":{\"id\":\"4212\"},\"hover_glyph\":null,\"muted_glyph\":null,\"nonselection_glyph\":{\"id\":\"4213\"},\"selection_glyph\":null,\"view\":{\"id\":\"4215\"}},\"id\":\"4214\",\"type\":\"GlyphRenderer\"},{\"attributes\":{\"bottom_units\":\"screen\",\"fill_alpha\":0.5,\"fill_color\":\"lightgrey\",\"left_units\":\"screen\",\"level\":\"overlay\",\"line_alpha\":1.0,\"line_color\":\"black\",\"line_dash\":[4,4],\"line_width\":2,\"right_units\":\"screen\",\"top_units\":\"screen\"},\"id\":\"4022\",\"type\":\"BoxAnnotation\"},{\"attributes\":{},\"id\":\"4019\",\"type\":\"SaveTool\"},{\"attributes\":{},\"id\":\"4004\",\"type\":\"LinearScale\"},{\"attributes\":{\"source\":{\"id\":\"4137\"}},\"id\":\"4141\",\"type\":\"CDSView\"},{\"attributes\":{},\"id\":\"4208\",\"type\":\"Selection\"},{\"attributes\":{},\"id\":\"4013\",\"type\":\"BasicTicker\"},{\"attributes\":{},\"id\":\"4283\",\"type\":\"UnionRenderers\"},{\"attributes\":{\"data\":{\"size\":[10,20,30,40,50],\"x\":[1,2,3,4,5],\"y\":{\"__ndarray__\":\"YJwAqbEr5b/VM6UfJorsP/g/05ovY/w/5GYha1pc1b9fDnWmT632Pw==\",\"dtype\":\"float64\",\"order\":\"little\",\"shape\":[5]}},\"selected\":{\"id\":\"4284\"},\"selection_policy\":{\"id\":\"4283\"}},\"id\":\"4211\",\"type\":\"ColumnDataSource\"},{\"attributes\":{},\"id\":\"4021\",\"type\":\"HelpTool\"}],\"root_ids\":[\"3999\"]},\"title\":\"Bokeh Application\",\"version\":\"2.1.0\"}};\n",
       "  var render_items = [{\"docid\":\"caecbf2e-98b3-4ed8-b9cc-b0fa4c80b5d4\",\"root_ids\":[\"3999\"],\"roots\":{\"3999\":\"766446cc-b318-4b0b-b54a-addc1c7f7609\"}}];\n",
       "  root.Bokeh.embed.embed_items_notebook(docs_json, render_items);\n",
       "\n",
       "  }\n",
       "  if (root.Bokeh !== undefined) {\n",
       "    embed_document(root);\n",
       "  } else {\n",
       "    var attempts = 0;\n",
       "    var timer = setInterval(function(root) {\n",
       "      if (root.Bokeh !== undefined) {\n",
       "        clearInterval(timer);\n",
       "        embed_document(root);\n",
       "      } else {\n",
       "        attempts++;\n",
       "        if (attempts > 100) {\n",
       "          clearInterval(timer);\n",
       "          console.log(\"Bokeh: ERROR: Unable to run BokehJS code because BokehJS library is missing\");\n",
       "        }\n",
       "      }\n",
       "    }, 10, root)\n",
       "  }\n",
       "})(window);"
      ],
      "application/vnd.bokehjs_exec.v0+json": ""
     },
     "metadata": {
      "application/vnd.bokehjs_exec.v0+json": {
       "id": "3999"
      }
     },
     "output_type": "display_data"
    }
   ],
   "source": [
    "p.background_fill_color = '#a3a3c2'\n",
    "p.background_fill_alpha = 0.5\n",
    "p.width = 600\n",
    "p.height = 300\n",
    "show(p)"
   ]
  },
  {
   "cell_type": "markdown",
   "metadata": {},
   "source": [
    "Or, we could play with the properties on the GlyphRenderers ..."
   ]
  },
  {
   "cell_type": "code",
   "execution_count": 101,
   "metadata": {},
   "outputs": [
    {
     "data": {
      "text/html": [
       "\n",
       "\n",
       "\n",
       "\n",
       "\n",
       "\n",
       "  <div class=\"bk-root\" id=\"4dca04a3-f4fa-495c-9586-cf8e498219bc\" data-root-id=\"3999\"></div>\n"
      ]
     },
     "metadata": {},
     "output_type": "display_data"
    },
    {
     "data": {
      "application/javascript": [
       "(function(root) {\n",
       "  function embed_document(root) {\n",
       "    \n",
       "  var docs_json = {\"54d921e5-3129-4ec5-8342-f5f288d80e22\":{\"roots\":{\"references\":[{\"attributes\":{\"background_fill_alpha\":0.5,\"background_fill_color\":\"#a3a3c2\",\"below\":[{\"id\":\"4008\"}],\"center\":[{\"id\":\"4011\"},{\"id\":\"4015\"}],\"height\":300,\"left\":[{\"id\":\"4012\"}],\"renderers\":[{\"id\":\"4140\"},{\"id\":\"4214\"}],\"title\":{\"id\":\"4089\"},\"toolbar\":{\"id\":\"4023\"},\"width\":600,\"x_range\":{\"id\":\"4000\"},\"x_scale\":{\"id\":\"4004\"},\"y_range\":{\"id\":\"4002\"},\"y_scale\":{\"id\":\"4006\"}},\"id\":\"3999\",\"subtype\":\"Figure\",\"type\":\"Plot\"},{\"attributes\":{\"formatter\":{\"id\":\"4090\"},\"ticker\":{\"id\":\"4013\"}},\"id\":\"4012\",\"type\":\"LinearAxis\"},{\"attributes\":{\"data\":{\"x\":[1,2,3,4,5],\"y\":{\"__ndarray__\":\"YJwAqbEr5b/VM6UfJorsP/g/05ovY/w/5GYha1pc1b9fDnWmT632Pw==\",\"dtype\":\"float64\",\"order\":\"little\",\"shape\":[5]}},\"selected\":{\"id\":\"4208\"},\"selection_policy\":{\"id\":\"4207\"}},\"id\":\"4137\",\"type\":\"ColumnDataSource\"},{\"attributes\":{\"formatter\":{\"id\":\"4092\"},\"ticker\":{\"id\":\"4009\"}},\"id\":\"4008\",\"type\":\"LinearAxis\"},{\"attributes\":{},\"id\":\"4092\",\"type\":\"BasicTickFormatter\"},{\"attributes\":{\"line_color\":\"red\",\"line_dash\":[2,4,6,4],\"line_width\":4,\"x\":{\"field\":\"x\"},\"y\":{\"field\":\"y\"}},\"id\":\"4138\",\"type\":\"Line\"},{\"attributes\":{\"fill_alpha\":{\"value\":0.1},\"fill_color\":{\"value\":\"orange\"},\"line_alpha\":{\"value\":0.1},\"line_color\":{\"value\":\"#1f77b4\"},\"size\":{\"field\":\"size\",\"units\":\"screen\"},\"x\":{\"field\":\"x\"},\"y\":{\"field\":\"y\"}},\"id\":\"4213\",\"type\":\"Diamond\"},{\"attributes\":{},\"id\":\"4090\",\"type\":\"BasicTickFormatter\"},{\"attributes\":{\"axis\":{\"id\":\"4012\"},\"dimension\":1,\"ticker\":null},\"id\":\"4015\",\"type\":\"Grid\"},{\"attributes\":{},\"id\":\"4002\",\"type\":\"DataRange1d\"},{\"attributes\":{\"axis\":{\"id\":\"4008\"},\"ticker\":null},\"id\":\"4011\",\"type\":\"Grid\"},{\"attributes\":{\"fill_color\":{\"value\":\"orange\"},\"line_color\":{\"value\":\"#ff3300\"},\"line_width\":{\"value\":4},\"size\":{\"field\":\"size\",\"units\":\"screen\"},\"x\":{\"field\":\"x\"},\"y\":{\"field\":\"y\"}},\"id\":\"4212\",\"type\":\"Diamond\"},{\"attributes\":{\"text\":\"\"},\"id\":\"4089\",\"type\":\"Title\"},{\"attributes\":{},\"id\":\"4016\",\"type\":\"PanTool\"},{\"attributes\":{},\"id\":\"4020\",\"type\":\"ResetTool\"},{\"attributes\":{\"data_source\":{\"id\":\"4137\"},\"glyph\":{\"id\":\"4138\"},\"hover_glyph\":null,\"muted_glyph\":null,\"name\":\"myline1\",\"nonselection_glyph\":{\"id\":\"4139\"},\"selection_glyph\":null,\"view\":{\"id\":\"4141\"}},\"id\":\"4140\",\"type\":\"GlyphRenderer\"},{\"attributes\":{\"source\":{\"id\":\"4211\"}},\"id\":\"4215\",\"type\":\"CDSView\"},{\"attributes\":{},\"id\":\"4006\",\"type\":\"LinearScale\"},{\"attributes\":{\"line_alpha\":0.1,\"line_color\":\"#1f77b4\",\"x\":{\"field\":\"x\"},\"y\":{\"field\":\"y\"}},\"id\":\"4139\",\"type\":\"Line\"},{\"attributes\":{},\"id\":\"4207\",\"type\":\"UnionRenderers\"},{\"attributes\":{},\"id\":\"4000\",\"type\":\"DataRange1d\"},{\"attributes\":{},\"id\":\"4017\",\"type\":\"WheelZoomTool\"},{\"attributes\":{},\"id\":\"4009\",\"type\":\"BasicTicker\"},{\"attributes\":{\"overlay\":{\"id\":\"4022\"}},\"id\":\"4018\",\"type\":\"BoxZoomTool\"},{\"attributes\":{\"active_drag\":\"auto\",\"active_inspect\":\"auto\",\"active_multi\":null,\"active_scroll\":\"auto\",\"active_tap\":\"auto\",\"tools\":[{\"id\":\"4016\"},{\"id\":\"4017\"},{\"id\":\"4018\"},{\"id\":\"4019\"},{\"id\":\"4020\"},{\"id\":\"4021\"}]},\"id\":\"4023\",\"type\":\"Toolbar\"},{\"attributes\":{},\"id\":\"4284\",\"type\":\"Selection\"},{\"attributes\":{\"data_source\":{\"id\":\"4211\"},\"glyph\":{\"id\":\"4212\"},\"hover_glyph\":null,\"muted_glyph\":null,\"nonselection_glyph\":{\"id\":\"4213\"},\"selection_glyph\":null,\"view\":{\"id\":\"4215\"}},\"id\":\"4214\",\"type\":\"GlyphRenderer\"},{\"attributes\":{\"bottom_units\":\"screen\",\"fill_alpha\":0.5,\"fill_color\":\"lightgrey\",\"left_units\":\"screen\",\"level\":\"overlay\",\"line_alpha\":1.0,\"line_color\":\"black\",\"line_dash\":[4,4],\"line_width\":2,\"right_units\":\"screen\",\"top_units\":\"screen\"},\"id\":\"4022\",\"type\":\"BoxAnnotation\"},{\"attributes\":{},\"id\":\"4019\",\"type\":\"SaveTool\"},{\"attributes\":{},\"id\":\"4004\",\"type\":\"LinearScale\"},{\"attributes\":{\"source\":{\"id\":\"4137\"}},\"id\":\"4141\",\"type\":\"CDSView\"},{\"attributes\":{},\"id\":\"4208\",\"type\":\"Selection\"},{\"attributes\":{},\"id\":\"4013\",\"type\":\"BasicTicker\"},{\"attributes\":{},\"id\":\"4283\",\"type\":\"UnionRenderers\"},{\"attributes\":{\"data\":{\"size\":[10,20,30,40,50],\"x\":[1,2,3,4,5],\"y\":{\"__ndarray__\":\"YJwAqbEr5b/VM6UfJorsP/g/05ovY/w/5GYha1pc1b9fDnWmT632Pw==\",\"dtype\":\"float64\",\"order\":\"little\",\"shape\":[5]}},\"selected\":{\"id\":\"4284\"},\"selection_policy\":{\"id\":\"4283\"}},\"id\":\"4211\",\"type\":\"ColumnDataSource\"},{\"attributes\":{},\"id\":\"4021\",\"type\":\"HelpTool\"}],\"root_ids\":[\"3999\"]},\"title\":\"Bokeh Application\",\"version\":\"2.1.0\"}};\n",
       "  var render_items = [{\"docid\":\"54d921e5-3129-4ec5-8342-f5f288d80e22\",\"root_ids\":[\"3999\"],\"roots\":{\"3999\":\"4dca04a3-f4fa-495c-9586-cf8e498219bc\"}}];\n",
       "  root.Bokeh.embed.embed_items_notebook(docs_json, render_items);\n",
       "\n",
       "  }\n",
       "  if (root.Bokeh !== undefined) {\n",
       "    embed_document(root);\n",
       "  } else {\n",
       "    var attempts = 0;\n",
       "    var timer = setInterval(function(root) {\n",
       "      if (root.Bokeh !== undefined) {\n",
       "        clearInterval(timer);\n",
       "        embed_document(root);\n",
       "      } else {\n",
       "        attempts++;\n",
       "        if (attempts > 100) {\n",
       "          clearInterval(timer);\n",
       "          console.log(\"Bokeh: ERROR: Unable to run BokehJS code because BokehJS library is missing\");\n",
       "        }\n",
       "      }\n",
       "    }, 10, root)\n",
       "  }\n",
       "})(window);"
      ],
      "application/vnd.bokehjs_exec.v0+json": ""
     },
     "metadata": {
      "application/vnd.bokehjs_exec.v0+json": {
       "id": "3999"
      }
     },
     "output_type": "display_data"
    }
   ],
   "source": [
    "p.renderers[1].glyph.line_color = '#ff3300'\n",
    "p.renderers[1].glyph.line_width = 4\n",
    "show(p)"
   ]
  },
  {
   "cell_type": "markdown",
   "metadata": {},
   "source": [
    "That's almost it for the deep-dive. The last part that I want to mention is how Bokeh stores the data.<br>\n",
    "To understand this let's do some digging:"
   ]
  },
  {
   "cell_type": "code",
   "execution_count": 49,
   "metadata": {},
   "outputs": [
    {
     "data": {
      "text/plain": [
       "{'data_source',\n",
       " 'glyph',\n",
       " 'hover_glyph',\n",
       " 'js_event_callbacks',\n",
       " 'js_property_callbacks',\n",
       " 'level',\n",
       " 'muted',\n",
       " 'muted_glyph',\n",
       " 'name',\n",
       " 'nonselection_glyph',\n",
       " 'selection_glyph',\n",
       " 'subscribed_events',\n",
       " 'tags',\n",
       " 'view',\n",
       " 'visible',\n",
       " 'x_range_name',\n",
       " 'y_range_name'}"
      ]
     },
     "execution_count": 49,
     "metadata": {},
     "output_type": "execute_result"
    }
   ],
   "source": [
    "p.renderers[0].properties()"
   ]
  },
  {
   "cell_type": "markdown",
   "metadata": {},
   "source": [
    "Specifically, note the data_source property. What is it?"
   ]
  },
  {
   "cell_type": "code",
   "execution_count": 102,
   "metadata": {},
   "outputs": [
    {
     "data": {
      "text/html": [
       "<div style=\"display: table;\"><div style=\"display: table-row;\"><div style=\"display: table-cell;\"><b title=\"bokeh.models.sources.ColumnDataSource\">ColumnDataSource</b>(</div><div style=\"display: table-cell;\">id&nbsp;=&nbsp;'4137', <span id=\"4550\" style=\"cursor: pointer;\">&hellip;)</span></div></div><div class=\"4549\" style=\"display: none;\"><div style=\"display: table-cell;\"></div><div style=\"display: table-cell;\">data&nbsp;=&nbsp;{'y': {'__ndarray__': 'YJwAqbEr5b/VM6UfJorsP/g/05ovY/w/5GYha1pc1b9fDnWmT632Pw==', 'shape': (5,), 'dtype': 'float64', 'order': 'little'}, 'x': [1, 2, 3, 4, 5]},</div></div><div class=\"4549\" style=\"display: none;\"><div style=\"display: table-cell;\"></div><div style=\"display: table-cell;\">js_event_callbacks&nbsp;=&nbsp;{},</div></div><div class=\"4549\" style=\"display: none;\"><div style=\"display: table-cell;\"></div><div style=\"display: table-cell;\">js_property_callbacks&nbsp;=&nbsp;{},</div></div><div class=\"4549\" style=\"display: none;\"><div style=\"display: table-cell;\"></div><div style=\"display: table-cell;\">name&nbsp;=&nbsp;None,</div></div><div class=\"4549\" style=\"display: none;\"><div style=\"display: table-cell;\"></div><div style=\"display: table-cell;\">selected&nbsp;=&nbsp;Selection(id='4208', ...),</div></div><div class=\"4549\" style=\"display: none;\"><div style=\"display: table-cell;\"></div><div style=\"display: table-cell;\">selection_policy&nbsp;=&nbsp;UnionRenderers(id='4207', ...),</div></div><div class=\"4549\" style=\"display: none;\"><div style=\"display: table-cell;\"></div><div style=\"display: table-cell;\">subscribed_events&nbsp;=&nbsp;[],</div></div><div class=\"4549\" style=\"display: none;\"><div style=\"display: table-cell;\"></div><div style=\"display: table-cell;\">tags&nbsp;=&nbsp;[])</div></div></div>\n",
       "<script>\n",
       "(function() {\n",
       "  var expanded = false;\n",
       "  var ellipsis = document.getElementById(\"4550\");\n",
       "  ellipsis.addEventListener(\"click\", function() {\n",
       "    var rows = document.getElementsByClassName(\"4549\");\n",
       "    for (var i = 0; i < rows.length; i++) {\n",
       "      var el = rows[i];\n",
       "      el.style.display = expanded ? \"none\" : \"table-row\";\n",
       "    }\n",
       "    ellipsis.innerHTML = expanded ? \"&hellip;)\" : \"&lsaquo;&lsaquo;&lsaquo;\";\n",
       "    expanded = !expanded;\n",
       "  });\n",
       "})();\n",
       "</script>\n"
      ],
      "text/plain": [
       "ColumnDataSource(id='4137', ...)"
      ]
     },
     "execution_count": 102,
     "metadata": {},
     "output_type": "execute_result"
    }
   ],
   "source": [
    "p.renderers[0].data_source"
   ]
  },
  {
   "cell_type": "markdown",
   "metadata": {},
   "source": [
    "The **ColumnDataSource** holds the data that is plotted by the renderers. Ponder that for a second, the Figure actually holds a copy of the data it renders. It might not be immediately obvious, but this is the reason that Bokeh, can do all these powerfull interactions.<br><br>\n",
    "\n",
    "Data gets manipulated and all sorts of renderers are created in the Python world, but when it all gets passed to Javascript world, the data itself get passed. Meaning, in Javascript has full access to the data and the interactions it can support.<br><br>\n",
    "\n",
    "If this doesn't make sense, don't sweat it. Jus take away, that through the DataColumnSource, both the Python part of the libarary and the Javascript part of the library have full access to the data.<br><br>\n",
    "\n",
    "Let's have a look at it:"
   ]
  },
  {
   "cell_type": "code",
   "execution_count": 103,
   "metadata": {},
   "outputs": [
    {
     "data": {
      "text/plain": [
       "{'data',\n",
       " 'js_event_callbacks',\n",
       " 'js_property_callbacks',\n",
       " 'name',\n",
       " 'selected',\n",
       " 'selection_policy',\n",
       " 'subscribed_events',\n",
       " 'tags'}"
      ]
     },
     "execution_count": 103,
     "metadata": {},
     "output_type": "execute_result"
    }
   ],
   "source": [
    "p.renderers[0].data_source.properties()"
   ]
  },
  {
   "cell_type": "code",
   "execution_count": 104,
   "metadata": {},
   "outputs": [
    {
     "data": {
      "text/plain": [
       "{'x': [1, 2, 3, 4, 5],\n",
       " 'y': array([-0.66158374,  0.89186388,  1.77421532, -0.33376179,  1.41731229])}"
      ]
     },
     "execution_count": 104,
     "metadata": {},
     "output_type": "execute_result"
    }
   ],
   "source": [
    "p.renderers[0].data_source.data"
   ]
  },
  {
   "cell_type": "markdown",
   "metadata": {},
   "source": [
    "Basically a dict of lists / arrays.<br>\n",
    "Now, whithout going into the details<br>\n",
    "It's probably obvious, but to show it, first add add a SelectionTool"
   ]
  },
  {
   "cell_type": "code",
   "execution_count": 3,
   "metadata": {},
   "outputs": [],
   "source": [
    "from bokeh.models.tools import BoxSelectTool"
   ]
  },
  {
   "cell_type": "code",
   "execution_count": 2,
   "metadata": {},
   "outputs": [
    {
     "ename": "NameError",
     "evalue": "name 'BoxSelectTool' is not defined",
     "output_type": "error",
     "traceback": [
      "\u001b[1;31m---------------------------------------------------------------------------\u001b[0m",
      "\u001b[1;31mNameError\u001b[0m                                 Traceback (most recent call last)",
      "\u001b[1;32m<ipython-input-2-26a8444257c2>\u001b[0m in \u001b[0;36m<module>\u001b[1;34m\u001b[0m\n\u001b[1;32m----> 1\u001b[1;33m \u001b[0mselect_tool\u001b[0m \u001b[1;33m=\u001b[0m \u001b[0mBoxSelectTool\u001b[0m\u001b[1;33m(\u001b[0m\u001b[1;33m)\u001b[0m\u001b[1;33m\u001b[0m\u001b[1;33m\u001b[0m\u001b[0m\n\u001b[0m",
      "\u001b[1;31mNameError\u001b[0m: name 'BoxSelectTool' is not defined"
     ]
    }
   ],
   "source": [
    "select_tool = BoxSelectTool()"
   ]
  },
  {
   "cell_type": "code",
   "execution_count": null,
   "metadata": {},
   "outputs": [],
   "source": []
  },
  {
   "cell_type": "code",
   "execution_count": 106,
   "metadata": {},
   "outputs": [],
   "source": [
    "p.add_tools(BoxSelectTool())"
   ]
  },
  {
   "cell_type": "code",
   "execution_count": 107,
   "metadata": {},
   "outputs": [
    {
     "data": {
      "text/html": [
       "\n",
       "\n",
       "\n",
       "\n",
       "\n",
       "\n",
       "  <div class=\"bk-root\" id=\"65a5dadc-b290-4aa6-b831-27cc0931f612\" data-root-id=\"3999\"></div>\n"
      ]
     },
     "metadata": {},
     "output_type": "display_data"
    },
    {
     "data": {
      "application/javascript": [
       "(function(root) {\n",
       "  function embed_document(root) {\n",
       "    \n",
       "  var docs_json = {\"16592f38-65a0-441a-9554-bb1bc2ed5043\":{\"roots\":{\"references\":[{\"attributes\":{\"background_fill_alpha\":0.5,\"background_fill_color\":\"#a3a3c2\",\"below\":[{\"id\":\"4008\"}],\"center\":[{\"id\":\"4011\"},{\"id\":\"4015\"}],\"height\":300,\"left\":[{\"id\":\"4012\"}],\"renderers\":[{\"id\":\"4140\"},{\"id\":\"4214\"}],\"title\":{\"id\":\"4089\"},\"toolbar\":{\"id\":\"4023\"},\"width\":600,\"x_range\":{\"id\":\"4000\"},\"x_scale\":{\"id\":\"4004\"},\"y_range\":{\"id\":\"4002\"},\"y_scale\":{\"id\":\"4006\"}},\"id\":\"3999\",\"subtype\":\"Figure\",\"type\":\"Plot\"},{\"attributes\":{\"formatter\":{\"id\":\"4090\"},\"ticker\":{\"id\":\"4013\"}},\"id\":\"4012\",\"type\":\"LinearAxis\"},{\"attributes\":{\"data\":{\"x\":[1,2,3,4,5],\"y\":{\"__ndarray__\":\"YJwAqbEr5b/VM6UfJorsP/g/05ovY/w/5GYha1pc1b9fDnWmT632Pw==\",\"dtype\":\"float64\",\"order\":\"little\",\"shape\":[5]}},\"selected\":{\"id\":\"4208\"},\"selection_policy\":{\"id\":\"4207\"}},\"id\":\"4137\",\"type\":\"ColumnDataSource\"},{\"attributes\":{\"formatter\":{\"id\":\"4092\"},\"ticker\":{\"id\":\"4009\"}},\"id\":\"4008\",\"type\":\"LinearAxis\"},{\"attributes\":{},\"id\":\"4092\",\"type\":\"BasicTickFormatter\"},{\"attributes\":{\"line_color\":\"red\",\"line_dash\":[2,4,6,4],\"line_width\":4,\"x\":{\"field\":\"x\"},\"y\":{\"field\":\"y\"}},\"id\":\"4138\",\"type\":\"Line\"},{\"attributes\":{\"fill_alpha\":{\"value\":0.1},\"fill_color\":{\"value\":\"orange\"},\"line_alpha\":{\"value\":0.1},\"line_color\":{\"value\":\"#1f77b4\"},\"size\":{\"field\":\"size\",\"units\":\"screen\"},\"x\":{\"field\":\"x\"},\"y\":{\"field\":\"y\"}},\"id\":\"4213\",\"type\":\"Diamond\"},{\"attributes\":{},\"id\":\"4090\",\"type\":\"BasicTickFormatter\"},{\"attributes\":{\"axis\":{\"id\":\"4012\"},\"dimension\":1,\"ticker\":null},\"id\":\"4015\",\"type\":\"Grid\"},{\"attributes\":{},\"id\":\"4002\",\"type\":\"DataRange1d\"},{\"attributes\":{\"axis\":{\"id\":\"4008\"},\"ticker\":null},\"id\":\"4011\",\"type\":\"Grid\"},{\"attributes\":{\"fill_color\":{\"value\":\"orange\"},\"line_color\":{\"value\":\"#ff3300\"},\"line_width\":{\"value\":4},\"size\":{\"field\":\"size\",\"units\":\"screen\"},\"x\":{\"field\":\"x\"},\"y\":{\"field\":\"y\"}},\"id\":\"4212\",\"type\":\"Diamond\"},{\"attributes\":{\"text\":\"\"},\"id\":\"4089\",\"type\":\"Title\"},{\"attributes\":{},\"id\":\"4016\",\"type\":\"PanTool\"},{\"attributes\":{},\"id\":\"4020\",\"type\":\"ResetTool\"},{\"attributes\":{\"overlay\":{\"id\":\"4620\"}},\"id\":\"4553\",\"type\":\"BoxSelectTool\"},{\"attributes\":{\"bottom_units\":\"screen\",\"fill_alpha\":0.5,\"fill_color\":\"lightgrey\",\"left_units\":\"screen\",\"level\":\"overlay\",\"line_alpha\":1.0,\"line_color\":\"black\",\"line_dash\":[4,4],\"line_width\":2,\"right_units\":\"screen\",\"top_units\":\"screen\"},\"id\":\"4620\",\"type\":\"BoxAnnotation\"},{\"attributes\":{\"data_source\":{\"id\":\"4137\"},\"glyph\":{\"id\":\"4138\"},\"hover_glyph\":null,\"muted_glyph\":null,\"name\":\"myline1\",\"nonselection_glyph\":{\"id\":\"4139\"},\"selection_glyph\":null,\"view\":{\"id\":\"4141\"}},\"id\":\"4140\",\"type\":\"GlyphRenderer\"},{\"attributes\":{\"source\":{\"id\":\"4211\"}},\"id\":\"4215\",\"type\":\"CDSView\"},{\"attributes\":{},\"id\":\"4006\",\"type\":\"LinearScale\"},{\"attributes\":{\"line_alpha\":0.1,\"line_color\":\"#1f77b4\",\"x\":{\"field\":\"x\"},\"y\":{\"field\":\"y\"}},\"id\":\"4139\",\"type\":\"Line\"},{\"attributes\":{},\"id\":\"4207\",\"type\":\"UnionRenderers\"},{\"attributes\":{},\"id\":\"4000\",\"type\":\"DataRange1d\"},{\"attributes\":{},\"id\":\"4017\",\"type\":\"WheelZoomTool\"},{\"attributes\":{},\"id\":\"4009\",\"type\":\"BasicTicker\"},{\"attributes\":{\"overlay\":{\"id\":\"4022\"}},\"id\":\"4018\",\"type\":\"BoxZoomTool\"},{\"attributes\":{\"active_drag\":\"auto\",\"active_inspect\":\"auto\",\"active_multi\":null,\"active_scroll\":\"auto\",\"active_tap\":\"auto\",\"tools\":[{\"id\":\"4016\"},{\"id\":\"4017\"},{\"id\":\"4018\"},{\"id\":\"4019\"},{\"id\":\"4020\"},{\"id\":\"4021\"},{\"id\":\"4553\"}]},\"id\":\"4023\",\"type\":\"Toolbar\"},{\"attributes\":{},\"id\":\"4284\",\"type\":\"Selection\"},{\"attributes\":{\"data_source\":{\"id\":\"4211\"},\"glyph\":{\"id\":\"4212\"},\"hover_glyph\":null,\"muted_glyph\":null,\"nonselection_glyph\":{\"id\":\"4213\"},\"selection_glyph\":null,\"view\":{\"id\":\"4215\"}},\"id\":\"4214\",\"type\":\"GlyphRenderer\"},{\"attributes\":{\"bottom_units\":\"screen\",\"fill_alpha\":0.5,\"fill_color\":\"lightgrey\",\"left_units\":\"screen\",\"level\":\"overlay\",\"line_alpha\":1.0,\"line_color\":\"black\",\"line_dash\":[4,4],\"line_width\":2,\"right_units\":\"screen\",\"top_units\":\"screen\"},\"id\":\"4022\",\"type\":\"BoxAnnotation\"},{\"attributes\":{},\"id\":\"4019\",\"type\":\"SaveTool\"},{\"attributes\":{},\"id\":\"4004\",\"type\":\"LinearScale\"},{\"attributes\":{\"source\":{\"id\":\"4137\"}},\"id\":\"4141\",\"type\":\"CDSView\"},{\"attributes\":{},\"id\":\"4208\",\"type\":\"Selection\"},{\"attributes\":{},\"id\":\"4013\",\"type\":\"BasicTicker\"},{\"attributes\":{},\"id\":\"4283\",\"type\":\"UnionRenderers\"},{\"attributes\":{\"data\":{\"size\":[10,20,30,40,50],\"x\":[1,2,3,4,5],\"y\":{\"__ndarray__\":\"YJwAqbEr5b/VM6UfJorsP/g/05ovY/w/5GYha1pc1b9fDnWmT632Pw==\",\"dtype\":\"float64\",\"order\":\"little\",\"shape\":[5]}},\"selected\":{\"id\":\"4284\"},\"selection_policy\":{\"id\":\"4283\"}},\"id\":\"4211\",\"type\":\"ColumnDataSource\"},{\"attributes\":{},\"id\":\"4021\",\"type\":\"HelpTool\"}],\"root_ids\":[\"3999\"]},\"title\":\"Bokeh Application\",\"version\":\"2.1.0\"}};\n",
       "  var render_items = [{\"docid\":\"16592f38-65a0-441a-9554-bb1bc2ed5043\",\"root_ids\":[\"3999\"],\"roots\":{\"3999\":\"65a5dadc-b290-4aa6-b831-27cc0931f612\"}}];\n",
       "  root.Bokeh.embed.embed_items_notebook(docs_json, render_items);\n",
       "\n",
       "  }\n",
       "  if (root.Bokeh !== undefined) {\n",
       "    embed_document(root);\n",
       "  } else {\n",
       "    var attempts = 0;\n",
       "    var timer = setInterval(function(root) {\n",
       "      if (root.Bokeh !== undefined) {\n",
       "        clearInterval(timer);\n",
       "        embed_document(root);\n",
       "      } else {\n",
       "        attempts++;\n",
       "        if (attempts > 100) {\n",
       "          clearInterval(timer);\n",
       "          console.log(\"Bokeh: ERROR: Unable to run BokehJS code because BokehJS library is missing\");\n",
       "        }\n",
       "      }\n",
       "    }, 10, root)\n",
       "  }\n",
       "})(window);"
      ],
      "application/vnd.bokehjs_exec.v0+json": ""
     },
     "metadata": {
      "application/vnd.bokehjs_exec.v0+json": {
       "id": "3999"
      }
     },
     "output_type": "display_data"
    }
   ],
   "source": [
    "show(p)"
   ]
  },
  {
   "cell_type": "code",
   "execution_count": 108,
   "metadata": {},
   "outputs": [
    {
     "data": {
      "text/plain": [
       "[]"
      ]
     },
     "execution_count": 108,
     "metadata": {},
     "output_type": "execute_result"
    }
   ],
   "source": [
    "p.renderers[0].data_source.selected.indices"
   ]
  },
  {
   "cell_type": "markdown",
   "metadata": {},
   "source": [
    "Argh, not behaving as I expected. I need to dig a bit further.<br>\n",
    "As a final parting shot in this depp-dive. Remember the name *myline1* I gave the line GlyphRenderer at the beginning.<br>\n",
    "Naming things will become increasingly usefull when things get more complex. We can simply use **select** to retrieve an element..."
   ]
  },
  {
   "cell_type": "code",
   "execution_count": 111,
   "metadata": {},
   "outputs": [
    {
     "data": {
      "text/html": [
       "\n",
       "\n",
       "\n",
       "\n",
       "\n",
       "\n",
       "  <div class=\"bk-root\" id=\"f0962458-4299-4cbf-bf9f-d11379b21aeb\" data-root-id=\"3999\"></div>\n"
      ]
     },
     "metadata": {},
     "output_type": "display_data"
    },
    {
     "data": {
      "application/javascript": [
       "(function(root) {\n",
       "  function embed_document(root) {\n",
       "    \n",
       "  var docs_json = {\"b05e1680-6b4d-4be8-9279-5ffee1284da0\":{\"roots\":{\"references\":[{\"attributes\":{\"background_fill_alpha\":0.5,\"background_fill_color\":\"#a3a3c2\",\"below\":[{\"id\":\"4008\"}],\"center\":[{\"id\":\"4011\"},{\"id\":\"4015\"}],\"height\":300,\"left\":[{\"id\":\"4012\"}],\"renderers\":[{\"id\":\"4140\"},{\"id\":\"4214\"}],\"title\":{\"id\":\"4089\"},\"toolbar\":{\"id\":\"4023\"},\"width\":600,\"x_range\":{\"id\":\"4000\"},\"x_scale\":{\"id\":\"4004\"},\"y_range\":{\"id\":\"4002\"},\"y_scale\":{\"id\":\"4006\"}},\"id\":\"3999\",\"subtype\":\"Figure\",\"type\":\"Plot\"},{\"attributes\":{\"formatter\":{\"id\":\"4090\"},\"ticker\":{\"id\":\"4013\"}},\"id\":\"4012\",\"type\":\"LinearAxis\"},{\"attributes\":{\"data\":{\"x\":[1,2,3,4,5],\"y\":{\"__ndarray__\":\"YJwAqbEr5b/VM6UfJorsP/g/05ovY/w/5GYha1pc1b9fDnWmT632Pw==\",\"dtype\":\"float64\",\"order\":\"little\",\"shape\":[5]}},\"selected\":{\"id\":\"4208\"},\"selection_policy\":{\"id\":\"4207\"}},\"id\":\"4137\",\"type\":\"ColumnDataSource\"},{\"attributes\":{\"formatter\":{\"id\":\"4092\"},\"ticker\":{\"id\":\"4009\"}},\"id\":\"4008\",\"type\":\"LinearAxis\"},{\"attributes\":{},\"id\":\"4092\",\"type\":\"BasicTickFormatter\"},{\"attributes\":{\"line_color\":\"green\",\"line_dash\":[2,4,6,4],\"line_width\":4,\"x\":{\"field\":\"x\"},\"y\":{\"field\":\"y\"}},\"id\":\"4138\",\"type\":\"Line\"},{\"attributes\":{\"fill_alpha\":{\"value\":0.1},\"fill_color\":{\"value\":\"orange\"},\"line_alpha\":{\"value\":0.1},\"line_color\":{\"value\":\"#1f77b4\"},\"size\":{\"field\":\"size\",\"units\":\"screen\"},\"x\":{\"field\":\"x\"},\"y\":{\"field\":\"y\"}},\"id\":\"4213\",\"type\":\"Diamond\"},{\"attributes\":{},\"id\":\"4090\",\"type\":\"BasicTickFormatter\"},{\"attributes\":{\"axis\":{\"id\":\"4012\"},\"dimension\":1,\"ticker\":null},\"id\":\"4015\",\"type\":\"Grid\"},{\"attributes\":{},\"id\":\"4002\",\"type\":\"DataRange1d\"},{\"attributes\":{\"axis\":{\"id\":\"4008\"},\"ticker\":null},\"id\":\"4011\",\"type\":\"Grid\"},{\"attributes\":{\"fill_color\":{\"value\":\"orange\"},\"line_color\":{\"value\":\"#ff3300\"},\"line_width\":{\"value\":4},\"size\":{\"field\":\"size\",\"units\":\"screen\"},\"x\":{\"field\":\"x\"},\"y\":{\"field\":\"y\"}},\"id\":\"4212\",\"type\":\"Diamond\"},{\"attributes\":{\"text\":\"\"},\"id\":\"4089\",\"type\":\"Title\"},{\"attributes\":{},\"id\":\"4016\",\"type\":\"PanTool\"},{\"attributes\":{},\"id\":\"4020\",\"type\":\"ResetTool\"},{\"attributes\":{\"overlay\":{\"id\":\"4620\"}},\"id\":\"4553\",\"type\":\"BoxSelectTool\"},{\"attributes\":{\"bottom_units\":\"screen\",\"fill_alpha\":0.5,\"fill_color\":\"lightgrey\",\"left_units\":\"screen\",\"level\":\"overlay\",\"line_alpha\":1.0,\"line_color\":\"black\",\"line_dash\":[4,4],\"line_width\":2,\"right_units\":\"screen\",\"top_units\":\"screen\"},\"id\":\"4620\",\"type\":\"BoxAnnotation\"},{\"attributes\":{\"data_source\":{\"id\":\"4137\"},\"glyph\":{\"id\":\"4138\"},\"hover_glyph\":null,\"muted_glyph\":null,\"name\":\"myline1\",\"nonselection_glyph\":{\"id\":\"4139\"},\"selection_glyph\":null,\"view\":{\"id\":\"4141\"}},\"id\":\"4140\",\"type\":\"GlyphRenderer\"},{\"attributes\":{\"source\":{\"id\":\"4211\"}},\"id\":\"4215\",\"type\":\"CDSView\"},{\"attributes\":{},\"id\":\"4006\",\"type\":\"LinearScale\"},{\"attributes\":{\"line_alpha\":0.1,\"line_color\":\"#1f77b4\",\"x\":{\"field\":\"x\"},\"y\":{\"field\":\"y\"}},\"id\":\"4139\",\"type\":\"Line\"},{\"attributes\":{},\"id\":\"4207\",\"type\":\"UnionRenderers\"},{\"attributes\":{},\"id\":\"4000\",\"type\":\"DataRange1d\"},{\"attributes\":{},\"id\":\"4017\",\"type\":\"WheelZoomTool\"},{\"attributes\":{},\"id\":\"4009\",\"type\":\"BasicTicker\"},{\"attributes\":{\"overlay\":{\"id\":\"4022\"}},\"id\":\"4018\",\"type\":\"BoxZoomTool\"},{\"attributes\":{\"active_drag\":\"auto\",\"active_inspect\":\"auto\",\"active_multi\":null,\"active_scroll\":\"auto\",\"active_tap\":\"auto\",\"tools\":[{\"id\":\"4016\"},{\"id\":\"4017\"},{\"id\":\"4018\"},{\"id\":\"4019\"},{\"id\":\"4020\"},{\"id\":\"4021\"},{\"id\":\"4553\"}]},\"id\":\"4023\",\"type\":\"Toolbar\"},{\"attributes\":{},\"id\":\"4284\",\"type\":\"Selection\"},{\"attributes\":{\"data_source\":{\"id\":\"4211\"},\"glyph\":{\"id\":\"4212\"},\"hover_glyph\":null,\"muted_glyph\":null,\"nonselection_glyph\":{\"id\":\"4213\"},\"selection_glyph\":null,\"view\":{\"id\":\"4215\"}},\"id\":\"4214\",\"type\":\"GlyphRenderer\"},{\"attributes\":{\"bottom_units\":\"screen\",\"fill_alpha\":0.5,\"fill_color\":\"lightgrey\",\"left_units\":\"screen\",\"level\":\"overlay\",\"line_alpha\":1.0,\"line_color\":\"black\",\"line_dash\":[4,4],\"line_width\":2,\"right_units\":\"screen\",\"top_units\":\"screen\"},\"id\":\"4022\",\"type\":\"BoxAnnotation\"},{\"attributes\":{},\"id\":\"4019\",\"type\":\"SaveTool\"},{\"attributes\":{},\"id\":\"4004\",\"type\":\"LinearScale\"},{\"attributes\":{\"source\":{\"id\":\"4137\"}},\"id\":\"4141\",\"type\":\"CDSView\"},{\"attributes\":{\"indices\":[]},\"id\":\"4208\",\"type\":\"Selection\"},{\"attributes\":{},\"id\":\"4013\",\"type\":\"BasicTicker\"},{\"attributes\":{},\"id\":\"4283\",\"type\":\"UnionRenderers\"},{\"attributes\":{\"data\":{\"size\":[10,20,30,40,50],\"x\":[1,2,3,4,5],\"y\":{\"__ndarray__\":\"YJwAqbEr5b/VM6UfJorsP/g/05ovY/w/5GYha1pc1b9fDnWmT632Pw==\",\"dtype\":\"float64\",\"order\":\"little\",\"shape\":[5]}},\"selected\":{\"id\":\"4284\"},\"selection_policy\":{\"id\":\"4283\"}},\"id\":\"4211\",\"type\":\"ColumnDataSource\"},{\"attributes\":{},\"id\":\"4021\",\"type\":\"HelpTool\"}],\"root_ids\":[\"3999\"]},\"title\":\"Bokeh Application\",\"version\":\"2.1.0\"}};\n",
       "  var render_items = [{\"docid\":\"b05e1680-6b4d-4be8-9279-5ffee1284da0\",\"root_ids\":[\"3999\"],\"roots\":{\"3999\":\"f0962458-4299-4cbf-bf9f-d11379b21aeb\"}}];\n",
       "  root.Bokeh.embed.embed_items_notebook(docs_json, render_items);\n",
       "\n",
       "  }\n",
       "  if (root.Bokeh !== undefined) {\n",
       "    embed_document(root);\n",
       "  } else {\n",
       "    var attempts = 0;\n",
       "    var timer = setInterval(function(root) {\n",
       "      if (root.Bokeh !== undefined) {\n",
       "        clearInterval(timer);\n",
       "        embed_document(root);\n",
       "      } else {\n",
       "        attempts++;\n",
       "        if (attempts > 100) {\n",
       "          clearInterval(timer);\n",
       "          console.log(\"Bokeh: ERROR: Unable to run BokehJS code because BokehJS library is missing\");\n",
       "        }\n",
       "      }\n",
       "    }, 10, root)\n",
       "  }\n",
       "})(window);"
      ],
      "application/vnd.bokehjs_exec.v0+json": ""
     },
     "metadata": {
      "application/vnd.bokehjs_exec.v0+json": {
       "id": "3999"
      }
     },
     "output_type": "display_data"
    }
   ],
   "source": [
    "l1 = p.select({'name':'myline1'})\n",
    "l1.glyph.line_color = 'green'\n",
    "show(p)"
   ]
  },
  {
   "cell_type": "markdown",
   "metadata": {
    "jupyter": {
     "outputs_hidden": true
    }
   },
   "source": [
    "That's it!<br>\n",
    "Enough of the deep dive.<br>\n",
    "Below we are going to take a more practical approach."
   ]
  },
  {
   "cell_type": "markdown",
   "metadata": {},
   "source": [
    "# The More Practical"
   ]
  },
  {
   "cell_type": "markdown",
   "metadata": {},
   "source": [
    "Let's go through some more examples.<br>\n",
    "For instance, a horizontal bar chart with a hover tool...<br>\n",
    "For an overview of other plots that are available, see the [docs](https://docs.bokeh.org/en/latest/docs/reference/plotting.html)"
   ]
  },
  {
   "cell_type": "code",
   "execution_count": 4,
   "metadata": {},
   "outputs": [],
   "source": [
    "from bokeh.models import ColumnDataSource"
   ]
  },
  {
   "cell_type": "markdown",
   "metadata": {},
   "source": [
    "It's easy to create a ColumnDataSource from a pandas DataFrame ..."
   ]
  },
  {
   "cell_type": "code",
   "execution_count": 5,
   "metadata": {},
   "outputs": [
    {
     "data": {
      "text/plain": [
       "{'index': array([14, 13, 12, 11, 10,  9,  8,  7,  6,  5,  4,  3,  2,  1,  0]),\n",
       " 'scholar': array(['Sebastian Thrun', 'Wil van der Aalst', 'Scott Shenker',\n",
       "        'Thomas S. Huang', 'Andrew Zisserman', 'Yoshua Bengio',\n",
       "        'Geoffrey Hinton', 'Philip S. Yu', 'Terrence Sejnowski',\n",
       "        'Takeo Kanade', 'David Haussler', 'Michael I. Jordan',\n",
       "        'Jiawei Han', 'Herbert Simon', 'Anil K. Jain'], dtype=object),\n",
       " 'h_index': array([149, 150, 155, 155, 158, 159, 159, 161, 161, 161, 165, 166, 174,\n",
       "        179, 188]),\n",
       " 'institution': array(['Stanford University', 'RWTH Aachen University',\n",
       "        'University of California, Berkeley',\n",
       "        'University of Illinois at Urbana-Champaign',\n",
       "        'University of Oxford', 'University of Montreal',\n",
       "        'University of Toronto', 'University of Illinois at Chicago',\n",
       "        'Salk Institute', 'Carnegie Mellon University',\n",
       "        'University of California, Santa Cruz',\n",
       "        'University of California, Berkeley',\n",
       "        'University of Illinois at Urbana-Champaign',\n",
       "        'Carnegie Mellon University', 'Michigan State University'],\n",
       "       dtype=object),\n",
       " 'picture': array(['sebastian-thrun.jpg', 'wil-van-der-aalst.jpg',\n",
       "        'scott-shenker.jpg', 'thomas-s-huang.jpg', 'andrew-zisserman.jpg',\n",
       "        'yoshua-bengio.jpg', 'geoffrey-hinton.jpg', 'philip-s-yu.jpg',\n",
       "        'terrence-sejnowski.jpg', 'takeo-kanade.jpg', 'david-haussler.jpg',\n",
       "        'michael-i-jordan.jpg', 'jiawei-han.jpg', 'herbert-simon.jpg',\n",
       "        'anil-k-jain.jpg'], dtype=object)}"
      ]
     },
     "execution_count": 5,
     "metadata": {},
     "output_type": "execute_result"
    }
   ],
   "source": [
    "df = pd.DataFrame({\n",
    "    'scholar':['Anil K. Jain', 'Herbert Simon', 'Jiawei Han', 'Michael I. Jordan', 'David Haussler', 'Takeo Kanade', 'Terrence Sejnowski', 'Philip S. Yu', 'Geoffrey Hinton', 'Yoshua Bengio', 'Andrew Zisserman', 'Thomas S. Huang', 'Scott Shenker', 'Wil van der Aalst', 'Sebastian Thrun'],\n",
    "    'h_index': [188, 179, 174, 166, 165, 161, 161, 161, 159, 159, 158, 155, 155, 150, 149],\n",
    "    'institution': ['Michigan State University', 'Carnegie Mellon University', 'University of Illinois at Urbana-Champaign', 'University of California, Berkeley', 'University of California, Santa Cruz', 'Carnegie Mellon University', 'Salk Institute', 'University of Illinois at Chicago', 'University of Toronto', 'University of Montreal', 'University of Oxford', 'University of Illinois at Urbana-Champaign', 'University of California, Berkeley', 'RWTH Aachen University', 'Stanford University'],\n",
    "    'picture': ['anil-k-jain.jpg', 'herbert-simon.jpg', 'jiawei-han.jpg', 'michael-i-jordan.jpg', 'david-haussler.jpg', 'takeo-kanade.jpg', 'terrence-sejnowski.jpg', 'philip-s-yu.jpg', 'geoffrey-hinton.jpg', 'yoshua-bengio.jpg', 'andrew-zisserman.jpg', 'thomas-s-huang.jpg', 'scott-shenker.jpg', 'wil-van-der-aalst.jpg', 'sebastian-thrun.jpg']\n",
    "})\n",
    "cds = ColumnDataSource(df.sort_index(ascending=False))\n",
    "cds.data"
   ]
  },
  {
   "cell_type": "code",
   "execution_count": 6,
   "metadata": {},
   "outputs": [
    {
     "data": {
      "text/html": [
       "\n",
       "\n",
       "\n",
       "\n",
       "\n",
       "\n",
       "  <div class=\"bk-root\" id=\"16ad1462-4066-42a4-a1d7-6cf745ca3035\" data-root-id=\"1003\"></div>\n"
      ]
     },
     "metadata": {},
     "output_type": "display_data"
    },
    {
     "data": {
      "application/javascript": [
       "(function(root) {\n",
       "  function embed_document(root) {\n",
       "    \n",
       "  var docs_json = {\"4db20661-c2eb-481e-a9e3-0db7259c2226\":{\"roots\":{\"references\":[{\"attributes\":{\"below\":[{\"id\":\"1014\"}],\"center\":[{\"id\":\"1017\"},{\"id\":\"1020\"}],\"left\":[{\"id\":\"1018\"}],\"plot_height\":400,\"plot_width\":800,\"renderers\":[{\"id\":\"1038\"}],\"title\":{\"id\":\"1004\"},\"toolbar\":{\"id\":\"1028\"},\"x_range\":{\"id\":\"1006\"},\"x_scale\":{\"id\":\"1010\"},\"y_range\":{\"id\":\"1008\"},\"y_scale\":{\"id\":\"1012\"}},\"id\":\"1003\",\"subtype\":\"Figure\",\"type\":\"Plot\"},{\"attributes\":{\"overlay\":{\"id\":\"1027\"}},\"id\":\"1023\",\"type\":\"BoxZoomTool\"},{\"attributes\":{\"axis\":{\"id\":\"1018\"},\"dimension\":1,\"ticker\":null},\"id\":\"1020\",\"type\":\"Grid\"},{\"attributes\":{\"data\":{\"h_index\":[149,150,155,155,158,159,159,161,161,161,165,166,174,179,188],\"index\":[14,13,12,11,10,9,8,7,6,5,4,3,2,1,0],\"institution\":[\"Stanford University\",\"RWTH Aachen University\",\"University of California, Berkeley\",\"University of Illinois at Urbana-Champaign\",\"University of Oxford\",\"University of Montreal\",\"University of Toronto\",\"University of Illinois at Chicago\",\"Salk Institute\",\"Carnegie Mellon University\",\"University of California, Santa Cruz\",\"University of California, Berkeley\",\"University of Illinois at Urbana-Champaign\",\"Carnegie Mellon University\",\"Michigan State University\"],\"picture\":[\"sebastian-thrun.jpg\",\"wil-van-der-aalst.jpg\",\"scott-shenker.jpg\",\"thomas-s-huang.jpg\",\"andrew-zisserman.jpg\",\"yoshua-bengio.jpg\",\"geoffrey-hinton.jpg\",\"philip-s-yu.jpg\",\"terrence-sejnowski.jpg\",\"takeo-kanade.jpg\",\"david-haussler.jpg\",\"michael-i-jordan.jpg\",\"jiawei-han.jpg\",\"herbert-simon.jpg\",\"anil-k-jain.jpg\"],\"scholar\":[\"Sebastian Thrun\",\"Wil van der Aalst\",\"Scott Shenker\",\"Thomas S. Huang\",\"Andrew Zisserman\",\"Yoshua Bengio\",\"Geoffrey Hinton\",\"Philip S. Yu\",\"Terrence Sejnowski\",\"Takeo Kanade\",\"David Haussler\",\"Michael I. Jordan\",\"Jiawei Han\",\"Herbert Simon\",\"Anil K. Jain\"]},\"selected\":{\"id\":\"1046\"},\"selection_policy\":{\"id\":\"1047\"}},\"id\":\"1002\",\"type\":\"ColumnDataSource\"},{\"attributes\":{\"source\":{\"id\":\"1002\"}},\"id\":\"1039\",\"type\":\"CDSView\"},{\"attributes\":{},\"id\":\"1022\",\"type\":\"WheelZoomTool\"},{\"attributes\":{\"data_source\":{\"id\":\"1002\"},\"glyph\":{\"id\":\"1036\"},\"hover_glyph\":null,\"muted_glyph\":null,\"nonselection_glyph\":{\"id\":\"1037\"},\"selection_glyph\":null,\"view\":{\"id\":\"1039\"}},\"id\":\"1038\",\"type\":\"GlyphRenderer\"},{\"attributes\":{\"fill_alpha\":{\"value\":0.1},\"fill_color\":{\"value\":\"orange\"},\"height\":{\"value\":0.75},\"line_alpha\":{\"value\":0.1},\"line_color\":{\"value\":\"#1f77b4\"},\"right\":{\"field\":\"h_index\"},\"y\":{\"field\":\"scholar\"}},\"id\":\"1037\",\"type\":\"HBar\"},{\"attributes\":{\"text\":\"CS Scientists\"},\"id\":\"1004\",\"type\":\"Title\"},{\"attributes\":{\"factors\":[\"Sebastian Thrun\",\"Wil van der Aalst\",\"Scott Shenker\",\"Thomas S. Huang\",\"Andrew Zisserman\",\"Yoshua Bengio\",\"Geoffrey Hinton\",\"Philip S. Yu\",\"Terrence Sejnowski\",\"Takeo Kanade\",\"David Haussler\",\"Michael I. Jordan\",\"Jiawei Han\",\"Herbert Simon\",\"Anil K. Jain\"]},\"id\":\"1008\",\"type\":\"FactorRange\"},{\"attributes\":{},\"id\":\"1046\",\"type\":\"Selection\"},{\"attributes\":{},\"id\":\"1006\",\"type\":\"DataRange1d\"},{\"attributes\":{\"formatter\":{\"id\":\"1044\"},\"ticker\":{\"id\":\"1019\"}},\"id\":\"1018\",\"type\":\"CategoricalAxis\"},{\"attributes\":{},\"id\":\"1047\",\"type\":\"UnionRenderers\"},{\"attributes\":{},\"id\":\"1015\",\"type\":\"BasicTicker\"},{\"attributes\":{},\"id\":\"1026\",\"type\":\"HelpTool\"},{\"attributes\":{\"formatter\":{\"id\":\"1042\"},\"ticker\":{\"id\":\"1015\"}},\"id\":\"1014\",\"type\":\"LinearAxis\"},{\"attributes\":{},\"id\":\"1021\",\"type\":\"PanTool\"},{\"attributes\":{},\"id\":\"1024\",\"type\":\"SaveTool\"},{\"attributes\":{},\"id\":\"1025\",\"type\":\"ResetTool\"},{\"attributes\":{\"fill_alpha\":{\"value\":0.5},\"fill_color\":{\"value\":\"orange\"},\"height\":{\"value\":0.75},\"line_color\":{\"value\":\"#1f77b4\"},\"right\":{\"field\":\"h_index\"},\"y\":{\"field\":\"scholar\"}},\"id\":\"1036\",\"type\":\"HBar\"},{\"attributes\":{},\"id\":\"1019\",\"type\":\"CategoricalTicker\"},{\"attributes\":{},\"id\":\"1042\",\"type\":\"BasicTickFormatter\"},{\"attributes\":{\"bottom_units\":\"screen\",\"fill_alpha\":0.5,\"fill_color\":\"lightgrey\",\"left_units\":\"screen\",\"level\":\"overlay\",\"line_alpha\":1.0,\"line_color\":\"black\",\"line_dash\":[4,4],\"line_width\":2,\"right_units\":\"screen\",\"top_units\":\"screen\"},\"id\":\"1027\",\"type\":\"BoxAnnotation\"},{\"attributes\":{},\"id\":\"1044\",\"type\":\"CategoricalTickFormatter\"},{\"attributes\":{\"active_drag\":\"auto\",\"active_inspect\":\"auto\",\"active_multi\":null,\"active_scroll\":\"auto\",\"active_tap\":\"auto\",\"tools\":[{\"id\":\"1021\"},{\"id\":\"1022\"},{\"id\":\"1023\"},{\"id\":\"1024\"},{\"id\":\"1025\"},{\"id\":\"1026\"}]},\"id\":\"1028\",\"type\":\"Toolbar\"},{\"attributes\":{},\"id\":\"1012\",\"type\":\"CategoricalScale\"},{\"attributes\":{\"axis\":{\"id\":\"1014\"},\"ticker\":null},\"id\":\"1017\",\"type\":\"Grid\"},{\"attributes\":{},\"id\":\"1010\",\"type\":\"LinearScale\"}],\"root_ids\":[\"1003\"]},\"title\":\"Bokeh Application\",\"version\":\"2.1.0\"}};\n",
       "  var render_items = [{\"docid\":\"4db20661-c2eb-481e-a9e3-0db7259c2226\",\"root_ids\":[\"1003\"],\"roots\":{\"1003\":\"16ad1462-4066-42a4-a1d7-6cf745ca3035\"}}];\n",
       "  root.Bokeh.embed.embed_items_notebook(docs_json, render_items);\n",
       "\n",
       "  }\n",
       "  if (root.Bokeh !== undefined) {\n",
       "    embed_document(root);\n",
       "  } else {\n",
       "    var attempts = 0;\n",
       "    var timer = setInterval(function(root) {\n",
       "      if (root.Bokeh !== undefined) {\n",
       "        clearInterval(timer);\n",
       "        embed_document(root);\n",
       "      } else {\n",
       "        attempts++;\n",
       "        if (attempts > 100) {\n",
       "          clearInterval(timer);\n",
       "          console.log(\"Bokeh: ERROR: Unable to run BokehJS code because BokehJS library is missing\");\n",
       "        }\n",
       "      }\n",
       "    }, 10, root)\n",
       "  }\n",
       "})(window);"
      ],
      "application/vnd.bokehjs_exec.v0+json": ""
     },
     "metadata": {
      "application/vnd.bokehjs_exec.v0+json": {
       "id": "1003"
      }
     },
     "output_type": "display_data"
    }
   ],
   "source": [
    "p = figure(y_range=cds.data['scholar'], title='CS Scientists', plot_width=800, plot_height=400)\n",
    "p.hbar(y          = 'scholar',\n",
    "       right      = 'h_index',\n",
    "       left       = 0,\n",
    "       fill_color = 'orange',\n",
    "       fill_alpha = 0.5,\n",
    "       height     = 0.75,\n",
    "       source     = cds\n",
    "      )\n",
    "show(p)"
   ]
  },
  {
   "cell_type": "code",
   "execution_count": 130,
   "metadata": {},
   "outputs": [],
   "source": [
    "from bokeh.io import output_file, reset_output"
   ]
  },
  {
   "cell_type": "markdown",
   "metadata": {},
   "source": [
    "Let's write it to a file , so we can see what gets generated and passed into the JavaScript world!<br>\n",
    "Note: reset_output() clears all the output settings, and output_notebook & output_file thell bokeh to send to the notebook or to a file respectively ..."
   ]
  },
  {
   "cell_type": "code",
   "execution_count": 132,
   "metadata": {},
   "outputs": [
    {
     "data": {
      "text/html": [
       "\n",
       "    <div class=\"bk-root\">\n",
       "        <a href=\"https://bokeh.org\" target=\"_blank\" class=\"bk-logo bk-logo-small bk-logo-notebook\"></a>\n",
       "        <span id=\"6455\">Loading BokehJS ...</span>\n",
       "    </div>"
      ]
     },
     "metadata": {},
     "output_type": "display_data"
    },
    {
     "data": {
      "application/javascript": [
       "\n",
       "(function(root) {\n",
       "  function now() {\n",
       "    return new Date();\n",
       "  }\n",
       "\n",
       "  var force = true;\n",
       "\n",
       "  if (typeof root._bokeh_onload_callbacks === \"undefined\" || force === true) {\n",
       "    root._bokeh_onload_callbacks = [];\n",
       "    root._bokeh_is_loading = undefined;\n",
       "  }\n",
       "\n",
       "  var JS_MIME_TYPE = 'application/javascript';\n",
       "  var HTML_MIME_TYPE = 'text/html';\n",
       "  var EXEC_MIME_TYPE = 'application/vnd.bokehjs_exec.v0+json';\n",
       "  var CLASS_NAME = 'output_bokeh rendered_html';\n",
       "\n",
       "  /**\n",
       "   * Render data to the DOM node\n",
       "   */\n",
       "  function render(props, node) {\n",
       "    var script = document.createElement(\"script\");\n",
       "    node.appendChild(script);\n",
       "  }\n",
       "\n",
       "  /**\n",
       "   * Handle when an output is cleared or removed\n",
       "   */\n",
       "  function handleClearOutput(event, handle) {\n",
       "    var cell = handle.cell;\n",
       "\n",
       "    var id = cell.output_area._bokeh_element_id;\n",
       "    var server_id = cell.output_area._bokeh_server_id;\n",
       "    // Clean up Bokeh references\n",
       "    if (id != null && id in Bokeh.index) {\n",
       "      Bokeh.index[id].model.document.clear();\n",
       "      delete Bokeh.index[id];\n",
       "    }\n",
       "\n",
       "    if (server_id !== undefined) {\n",
       "      // Clean up Bokeh references\n",
       "      var cmd = \"from bokeh.io.state import curstate; print(curstate().uuid_to_server['\" + server_id + \"'].get_sessions()[0].document.roots[0]._id)\";\n",
       "      cell.notebook.kernel.execute(cmd, {\n",
       "        iopub: {\n",
       "          output: function(msg) {\n",
       "            var id = msg.content.text.trim();\n",
       "            if (id in Bokeh.index) {\n",
       "              Bokeh.index[id].model.document.clear();\n",
       "              delete Bokeh.index[id];\n",
       "            }\n",
       "          }\n",
       "        }\n",
       "      });\n",
       "      // Destroy server and session\n",
       "      var cmd = \"import bokeh.io.notebook as ion; ion.destroy_server('\" + server_id + \"')\";\n",
       "      cell.notebook.kernel.execute(cmd);\n",
       "    }\n",
       "  }\n",
       "\n",
       "  /**\n",
       "   * Handle when a new output is added\n",
       "   */\n",
       "  function handleAddOutput(event, handle) {\n",
       "    var output_area = handle.output_area;\n",
       "    var output = handle.output;\n",
       "\n",
       "    // limit handleAddOutput to display_data with EXEC_MIME_TYPE content only\n",
       "    if ((output.output_type != \"display_data\") || (!output.data.hasOwnProperty(EXEC_MIME_TYPE))) {\n",
       "      return\n",
       "    }\n",
       "\n",
       "    var toinsert = output_area.element.find(\".\" + CLASS_NAME.split(' ')[0]);\n",
       "\n",
       "    if (output.metadata[EXEC_MIME_TYPE][\"id\"] !== undefined) {\n",
       "      toinsert[toinsert.length - 1].firstChild.textContent = output.data[JS_MIME_TYPE];\n",
       "      // store reference to embed id on output_area\n",
       "      output_area._bokeh_element_id = output.metadata[EXEC_MIME_TYPE][\"id\"];\n",
       "    }\n",
       "    if (output.metadata[EXEC_MIME_TYPE][\"server_id\"] !== undefined) {\n",
       "      var bk_div = document.createElement(\"div\");\n",
       "      bk_div.innerHTML = output.data[HTML_MIME_TYPE];\n",
       "      var script_attrs = bk_div.children[0].attributes;\n",
       "      for (var i = 0; i < script_attrs.length; i++) {\n",
       "        toinsert[toinsert.length - 1].firstChild.setAttribute(script_attrs[i].name, script_attrs[i].value);\n",
       "        toinsert[toinsert.length - 1].firstChild.textContent = bk_div.children[0].textContent\n",
       "      }\n",
       "      // store reference to server id on output_area\n",
       "      output_area._bokeh_server_id = output.metadata[EXEC_MIME_TYPE][\"server_id\"];\n",
       "    }\n",
       "  }\n",
       "\n",
       "  function register_renderer(events, OutputArea) {\n",
       "\n",
       "    function append_mime(data, metadata, element) {\n",
       "      // create a DOM node to render to\n",
       "      var toinsert = this.create_output_subarea(\n",
       "        metadata,\n",
       "        CLASS_NAME,\n",
       "        EXEC_MIME_TYPE\n",
       "      );\n",
       "      this.keyboard_manager.register_events(toinsert);\n",
       "      // Render to node\n",
       "      var props = {data: data, metadata: metadata[EXEC_MIME_TYPE]};\n",
       "      render(props, toinsert[toinsert.length - 1]);\n",
       "      element.append(toinsert);\n",
       "      return toinsert\n",
       "    }\n",
       "\n",
       "    /* Handle when an output is cleared or removed */\n",
       "    events.on('clear_output.CodeCell', handleClearOutput);\n",
       "    events.on('delete.Cell', handleClearOutput);\n",
       "\n",
       "    /* Handle when a new output is added */\n",
       "    events.on('output_added.OutputArea', handleAddOutput);\n",
       "\n",
       "    /**\n",
       "     * Register the mime type and append_mime function with output_area\n",
       "     */\n",
       "    OutputArea.prototype.register_mime_type(EXEC_MIME_TYPE, append_mime, {\n",
       "      /* Is output safe? */\n",
       "      safe: true,\n",
       "      /* Index of renderer in `output_area.display_order` */\n",
       "      index: 0\n",
       "    });\n",
       "  }\n",
       "\n",
       "  // register the mime type if in Jupyter Notebook environment and previously unregistered\n",
       "  if (root.Jupyter !== undefined) {\n",
       "    var events = require('base/js/events');\n",
       "    var OutputArea = require('notebook/js/outputarea').OutputArea;\n",
       "\n",
       "    if (OutputArea.prototype.mime_types().indexOf(EXEC_MIME_TYPE) == -1) {\n",
       "      register_renderer(events, OutputArea);\n",
       "    }\n",
       "  }\n",
       "\n",
       "  \n",
       "  if (typeof (root._bokeh_timeout) === \"undefined\" || force === true) {\n",
       "    root._bokeh_timeout = Date.now() + 5000;\n",
       "    root._bokeh_failed_load = false;\n",
       "  }\n",
       "\n",
       "  var NB_LOAD_WARNING = {'data': {'text/html':\n",
       "     \"<div style='background-color: #fdd'>\\n\"+\n",
       "     \"<p>\\n\"+\n",
       "     \"BokehJS does not appear to have successfully loaded. If loading BokehJS from CDN, this \\n\"+\n",
       "     \"may be due to a slow or bad network connection. Possible fixes:\\n\"+\n",
       "     \"</p>\\n\"+\n",
       "     \"<ul>\\n\"+\n",
       "     \"<li>re-rerun `output_notebook()` to attempt to load from CDN again, or</li>\\n\"+\n",
       "     \"<li>use INLINE resources instead, as so:</li>\\n\"+\n",
       "     \"</ul>\\n\"+\n",
       "     \"<code>\\n\"+\n",
       "     \"from bokeh.resources import INLINE\\n\"+\n",
       "     \"output_notebook(resources=INLINE)\\n\"+\n",
       "     \"</code>\\n\"+\n",
       "     \"</div>\"}};\n",
       "\n",
       "  function display_loaded() {\n",
       "    var el = document.getElementById(\"6455\");\n",
       "    if (el != null) {\n",
       "      el.textContent = \"BokehJS is loading...\";\n",
       "    }\n",
       "    if (root.Bokeh !== undefined) {\n",
       "      if (el != null) {\n",
       "        el.textContent = \"BokehJS \" + root.Bokeh.version + \" successfully loaded.\";\n",
       "      }\n",
       "    } else if (Date.now() < root._bokeh_timeout) {\n",
       "      setTimeout(display_loaded, 100)\n",
       "    }\n",
       "  }\n",
       "\n",
       "\n",
       "  function run_callbacks() {\n",
       "    try {\n",
       "      root._bokeh_onload_callbacks.forEach(function(callback) {\n",
       "        if (callback != null)\n",
       "          callback();\n",
       "      });\n",
       "    } finally {\n",
       "      delete root._bokeh_onload_callbacks\n",
       "    }\n",
       "    console.debug(\"Bokeh: all callbacks have finished\");\n",
       "  }\n",
       "\n",
       "  function load_libs(css_urls, js_urls, callback) {\n",
       "    if (css_urls == null) css_urls = [];\n",
       "    if (js_urls == null) js_urls = [];\n",
       "\n",
       "    root._bokeh_onload_callbacks.push(callback);\n",
       "    if (root._bokeh_is_loading > 0) {\n",
       "      console.debug(\"Bokeh: BokehJS is being loaded, scheduling callback at\", now());\n",
       "      return null;\n",
       "    }\n",
       "    if (js_urls == null || js_urls.length === 0) {\n",
       "      run_callbacks();\n",
       "      return null;\n",
       "    }\n",
       "    console.debug(\"Bokeh: BokehJS not loaded, scheduling load and callback at\", now());\n",
       "    root._bokeh_is_loading = css_urls.length + js_urls.length;\n",
       "\n",
       "    function on_load() {\n",
       "      root._bokeh_is_loading--;\n",
       "      if (root._bokeh_is_loading === 0) {\n",
       "        console.debug(\"Bokeh: all BokehJS libraries/stylesheets loaded\");\n",
       "        run_callbacks()\n",
       "      }\n",
       "    }\n",
       "\n",
       "    function on_error() {\n",
       "      console.error(\"failed to load \" + url);\n",
       "    }\n",
       "\n",
       "    for (var i = 0; i < css_urls.length; i++) {\n",
       "      var url = css_urls[i];\n",
       "      const element = document.createElement(\"link\");\n",
       "      element.onload = on_load;\n",
       "      element.onerror = on_error;\n",
       "      element.rel = \"stylesheet\";\n",
       "      element.type = \"text/css\";\n",
       "      element.href = url;\n",
       "      console.debug(\"Bokeh: injecting link tag for BokehJS stylesheet: \", url);\n",
       "      document.body.appendChild(element);\n",
       "    }\n",
       "\n",
       "    const hashes = {\"https://cdn.bokeh.org/bokeh/release/bokeh-2.1.0.min.js\": \"YobFyzPeVUsFQydHkJGsJL1kyfHnWxOlPc3EwaV22TmBaeGoXHLWx5aRRVPS9xlE\", \"https://cdn.bokeh.org/bokeh/release/bokeh-widgets-2.1.0.min.js\": \"NuAg9+TcTQQqvQCTtkCneRrpkTiMhhfiq0KHiBzx8ECiKiLWXHN6i6ia3q7b3eHu\", \"https://cdn.bokeh.org/bokeh/release/bokeh-tables-2.1.0.min.js\": \"uMVqQc8JqHitD67bXTn9a06Mrk3EiHRaZ18EJENQenAKJ/KL71SakdXYomZQpGRr\", \"https://cdn.bokeh.org/bokeh/release/bokeh-gl-2.1.0.min.js\": \"u+eGuEXC8aw0VSCm2mH+b/tQEAitUOYiR1H6SuIVEdUmXsf4vN8m/SmXpmjb7U/X\"};\n",
       "\n",
       "    for (var i = 0; i < js_urls.length; i++) {\n",
       "      var url = js_urls[i];\n",
       "      var element = document.createElement('script');\n",
       "      element.onload = on_load;\n",
       "      element.onerror = on_error;\n",
       "      element.async = false;\n",
       "      element.src = url;\n",
       "      if (url in hashes) {\n",
       "        element.crossOrigin = \"anonymous\";\n",
       "        element.integrity = \"sha384-\" + hashes[url];\n",
       "      }\n",
       "      console.debug(\"Bokeh: injecting script tag for BokehJS library: \", url);\n",
       "      document.head.appendChild(element);\n",
       "    }\n",
       "  };\n",
       "\n",
       "  function inject_raw_css(css) {\n",
       "    const element = document.createElement(\"style\");\n",
       "    element.appendChild(document.createTextNode(css));\n",
       "    document.body.appendChild(element);\n",
       "  }\n",
       "\n",
       "  \n",
       "  var js_urls = [\"https://cdn.bokeh.org/bokeh/release/bokeh-2.1.0.min.js\", \"https://cdn.bokeh.org/bokeh/release/bokeh-widgets-2.1.0.min.js\", \"https://cdn.bokeh.org/bokeh/release/bokeh-tables-2.1.0.min.js\", \"https://cdn.bokeh.org/bokeh/release/bokeh-gl-2.1.0.min.js\"];\n",
       "  var css_urls = [];\n",
       "  \n",
       "\n",
       "  var inline_js = [\n",
       "    function(Bokeh) {\n",
       "      Bokeh.set_log_level(\"info\");\n",
       "    },\n",
       "    function(Bokeh) {\n",
       "    \n",
       "    \n",
       "    }\n",
       "  ];\n",
       "\n",
       "  function run_inline_js() {\n",
       "    \n",
       "    if (root.Bokeh !== undefined || force === true) {\n",
       "      \n",
       "    for (var i = 0; i < inline_js.length; i++) {\n",
       "      inline_js[i].call(root, root.Bokeh);\n",
       "    }\n",
       "    if (force === true) {\n",
       "        display_loaded();\n",
       "      }} else if (Date.now() < root._bokeh_timeout) {\n",
       "      setTimeout(run_inline_js, 100);\n",
       "    } else if (!root._bokeh_failed_load) {\n",
       "      console.log(\"Bokeh: BokehJS failed to load within specified timeout.\");\n",
       "      root._bokeh_failed_load = true;\n",
       "    } else if (force !== true) {\n",
       "      var cell = $(document.getElementById(\"6455\")).parents('.cell').data().cell;\n",
       "      cell.output_area.append_execute_result(NB_LOAD_WARNING)\n",
       "    }\n",
       "\n",
       "  }\n",
       "\n",
       "  if (root._bokeh_is_loading === 0) {\n",
       "    console.debug(\"Bokeh: BokehJS loaded, going straight to plotting\");\n",
       "    run_inline_js();\n",
       "  } else {\n",
       "    load_libs(css_urls, js_urls, function() {\n",
       "      console.debug(\"Bokeh: BokehJS plotting callback run at\", now());\n",
       "      run_inline_js();\n",
       "    });\n",
       "  }\n",
       "}(window));"
      ],
      "application/vnd.bokehjs_load.v0+json": "\n(function(root) {\n  function now() {\n    return new Date();\n  }\n\n  var force = true;\n\n  if (typeof root._bokeh_onload_callbacks === \"undefined\" || force === true) {\n    root._bokeh_onload_callbacks = [];\n    root._bokeh_is_loading = undefined;\n  }\n\n  \n\n  \n  if (typeof (root._bokeh_timeout) === \"undefined\" || force === true) {\n    root._bokeh_timeout = Date.now() + 5000;\n    root._bokeh_failed_load = false;\n  }\n\n  var NB_LOAD_WARNING = {'data': {'text/html':\n     \"<div style='background-color: #fdd'>\\n\"+\n     \"<p>\\n\"+\n     \"BokehJS does not appear to have successfully loaded. If loading BokehJS from CDN, this \\n\"+\n     \"may be due to a slow or bad network connection. Possible fixes:\\n\"+\n     \"</p>\\n\"+\n     \"<ul>\\n\"+\n     \"<li>re-rerun `output_notebook()` to attempt to load from CDN again, or</li>\\n\"+\n     \"<li>use INLINE resources instead, as so:</li>\\n\"+\n     \"</ul>\\n\"+\n     \"<code>\\n\"+\n     \"from bokeh.resources import INLINE\\n\"+\n     \"output_notebook(resources=INLINE)\\n\"+\n     \"</code>\\n\"+\n     \"</div>\"}};\n\n  function display_loaded() {\n    var el = document.getElementById(\"6455\");\n    if (el != null) {\n      el.textContent = \"BokehJS is loading...\";\n    }\n    if (root.Bokeh !== undefined) {\n      if (el != null) {\n        el.textContent = \"BokehJS \" + root.Bokeh.version + \" successfully loaded.\";\n      }\n    } else if (Date.now() < root._bokeh_timeout) {\n      setTimeout(display_loaded, 100)\n    }\n  }\n\n\n  function run_callbacks() {\n    try {\n      root._bokeh_onload_callbacks.forEach(function(callback) {\n        if (callback != null)\n          callback();\n      });\n    } finally {\n      delete root._bokeh_onload_callbacks\n    }\n    console.debug(\"Bokeh: all callbacks have finished\");\n  }\n\n  function load_libs(css_urls, js_urls, callback) {\n    if (css_urls == null) css_urls = [];\n    if (js_urls == null) js_urls = [];\n\n    root._bokeh_onload_callbacks.push(callback);\n    if (root._bokeh_is_loading > 0) {\n      console.debug(\"Bokeh: BokehJS is being loaded, scheduling callback at\", now());\n      return null;\n    }\n    if (js_urls == null || js_urls.length === 0) {\n      run_callbacks();\n      return null;\n    }\n    console.debug(\"Bokeh: BokehJS not loaded, scheduling load and callback at\", now());\n    root._bokeh_is_loading = css_urls.length + js_urls.length;\n\n    function on_load() {\n      root._bokeh_is_loading--;\n      if (root._bokeh_is_loading === 0) {\n        console.debug(\"Bokeh: all BokehJS libraries/stylesheets loaded\");\n        run_callbacks()\n      }\n    }\n\n    function on_error() {\n      console.error(\"failed to load \" + url);\n    }\n\n    for (var i = 0; i < css_urls.length; i++) {\n      var url = css_urls[i];\n      const element = document.createElement(\"link\");\n      element.onload = on_load;\n      element.onerror = on_error;\n      element.rel = \"stylesheet\";\n      element.type = \"text/css\";\n      element.href = url;\n      console.debug(\"Bokeh: injecting link tag for BokehJS stylesheet: \", url);\n      document.body.appendChild(element);\n    }\n\n    const hashes = {\"https://cdn.bokeh.org/bokeh/release/bokeh-2.1.0.min.js\": \"YobFyzPeVUsFQydHkJGsJL1kyfHnWxOlPc3EwaV22TmBaeGoXHLWx5aRRVPS9xlE\", \"https://cdn.bokeh.org/bokeh/release/bokeh-widgets-2.1.0.min.js\": \"NuAg9+TcTQQqvQCTtkCneRrpkTiMhhfiq0KHiBzx8ECiKiLWXHN6i6ia3q7b3eHu\", \"https://cdn.bokeh.org/bokeh/release/bokeh-tables-2.1.0.min.js\": \"uMVqQc8JqHitD67bXTn9a06Mrk3EiHRaZ18EJENQenAKJ/KL71SakdXYomZQpGRr\", \"https://cdn.bokeh.org/bokeh/release/bokeh-gl-2.1.0.min.js\": \"u+eGuEXC8aw0VSCm2mH+b/tQEAitUOYiR1H6SuIVEdUmXsf4vN8m/SmXpmjb7U/X\"};\n\n    for (var i = 0; i < js_urls.length; i++) {\n      var url = js_urls[i];\n      var element = document.createElement('script');\n      element.onload = on_load;\n      element.onerror = on_error;\n      element.async = false;\n      element.src = url;\n      if (url in hashes) {\n        element.crossOrigin = \"anonymous\";\n        element.integrity = \"sha384-\" + hashes[url];\n      }\n      console.debug(\"Bokeh: injecting script tag for BokehJS library: \", url);\n      document.head.appendChild(element);\n    }\n  };\n\n  function inject_raw_css(css) {\n    const element = document.createElement(\"style\");\n    element.appendChild(document.createTextNode(css));\n    document.body.appendChild(element);\n  }\n\n  \n  var js_urls = [\"https://cdn.bokeh.org/bokeh/release/bokeh-2.1.0.min.js\", \"https://cdn.bokeh.org/bokeh/release/bokeh-widgets-2.1.0.min.js\", \"https://cdn.bokeh.org/bokeh/release/bokeh-tables-2.1.0.min.js\", \"https://cdn.bokeh.org/bokeh/release/bokeh-gl-2.1.0.min.js\"];\n  var css_urls = [];\n  \n\n  var inline_js = [\n    function(Bokeh) {\n      Bokeh.set_log_level(\"info\");\n    },\n    function(Bokeh) {\n    \n    \n    }\n  ];\n\n  function run_inline_js() {\n    \n    if (root.Bokeh !== undefined || force === true) {\n      \n    for (var i = 0; i < inline_js.length; i++) {\n      inline_js[i].call(root, root.Bokeh);\n    }\n    if (force === true) {\n        display_loaded();\n      }} else if (Date.now() < root._bokeh_timeout) {\n      setTimeout(run_inline_js, 100);\n    } else if (!root._bokeh_failed_load) {\n      console.log(\"Bokeh: BokehJS failed to load within specified timeout.\");\n      root._bokeh_failed_load = true;\n    } else if (force !== true) {\n      var cell = $(document.getElementById(\"6455\")).parents('.cell').data().cell;\n      cell.output_area.append_execute_result(NB_LOAD_WARNING)\n    }\n\n  }\n\n  if (root._bokeh_is_loading === 0) {\n    console.debug(\"Bokeh: BokehJS loaded, going straight to plotting\");\n    run_inline_js();\n  } else {\n    load_libs(css_urls, js_urls, function() {\n      console.debug(\"Bokeh: BokehJS plotting callback run at\", now());\n      run_inline_js();\n    });\n  }\n}(window));"
     },
     "metadata": {},
     "output_type": "display_data"
    }
   ],
   "source": [
    "reset_output()\n",
    "output_file('simple_hbar.html')\n",
    "show(p)\n",
    "reset_output()\n",
    "output_notebook()"
   ]
  },
  {
   "cell_type": "markdown",
   "metadata": {},
   "source": [
    "This is still pretty static, lets make it a bit more interactive by adding a HoverTool:"
   ]
  },
  {
   "cell_type": "code",
   "execution_count": 7,
   "metadata": {},
   "outputs": [],
   "source": [
    "from bokeh.models.tools import HoverTool"
   ]
  },
  {
   "cell_type": "code",
   "execution_count": 8,
   "metadata": {},
   "outputs": [],
   "source": [
    "hover = HoverTool()"
   ]
  },
  {
   "cell_type": "code",
   "execution_count": 9,
   "metadata": {
    "collapsed": true,
    "jupyter": {
     "outputs_hidden": true
    }
   },
   "outputs": [
    {
     "name": "stdout",
     "output_type": "stream",
     "text": [
      "Help on HoverTool in module bokeh.models.tools object:\n",
      "\n",
      "class HoverTool(Inspection)\n",
      " |  HoverTool(*args, **kwargs)\n",
      " |  \n",
      " |  *toolbar icon*: |hover_icon|\n",
      " |  \n",
      " |  The hover tool is a passive inspector tool. It is generally on at all\n",
      " |  times, but can be configured in the inspector's menu associated with the\n",
      " |  *toolbar icon* shown above.\n",
      " |  \n",
      " |  By default, the hover tool displays informational tooltips whenever the\n",
      " |  cursor is directly over a glyph. The data to show comes from the glyph's\n",
      " |  data source, and what to display is configurable with the ``tooltips``\n",
      " |  property that maps display names to columns in the data source, or to\n",
      " |  special known variables.\n",
      " |  \n",
      " |  Here is an example of how to configure and use the hover tool::\n",
      " |  \n",
      " |      # Add tooltip (name, field) pairs to the tool. See below for a\n",
      " |      # description of possible field values.\n",
      " |      hover.tooltips = [\n",
      " |          (\"index\", \"$index\"),\n",
      " |          (\"(x,y)\", \"($x, $y)\"),\n",
      " |          (\"radius\", \"@radius\"),\n",
      " |          (\"fill color\", \"$color[hex, swatch]:fill_color\"),\n",
      " |          (\"foo\", \"@foo\"),\n",
      " |          (\"bar\", \"@bar\"),\n",
      " |          (\"baz\", \"@baz{safe}\"),\n",
      " |          (\"total\", \"@total{$0,0.00}\"\n",
      " |      ]\n",
      " |  \n",
      " |  You can also supply a ``Callback`` to the ``HoverTool``, to build custom\n",
      " |  interactions on hover. In this case you may want to turn the tooltips\n",
      " |  off by setting ``tooltips=None``.\n",
      " |  \n",
      " |  .. warning::\n",
      " |      When supplying a callback or custom template, the explicit intent\n",
      " |      of this Bokeh Model is to embed *raw HTML and  JavaScript code* for\n",
      " |      a browser to execute. If any part of the code is derived from untrusted\n",
      " |      user inputs, then you must take appropriate care to sanitize the user\n",
      " |      input prior to passing to Bokeh.\n",
      " |  \n",
      " |  Hover tool does not currently work with the following glyphs:\n",
      " |  \n",
      " |      .. hlist::\n",
      " |          :columns: 3\n",
      " |  \n",
      " |          * annulus\n",
      " |          * arc\n",
      " |          * bezier\n",
      " |          * image\n",
      " |          * image_rgba\n",
      " |          * image_url\n",
      " |          * oval\n",
      " |          * patch\n",
      " |          * quadratic\n",
      " |          * ray\n",
      " |          * step\n",
      " |          * text\n",
      " |  \n",
      " |  .. |hover_icon| image:: /_images/icons/Hover.png\n",
      " |      :height: 24px\n",
      " |  \n",
      " |  Method resolution order:\n",
      " |      HoverTool\n",
      " |      Inspection\n",
      " |      Gesture\n",
      " |      Tool\n",
      " |      bokeh.model.Model\n",
      " |      bokeh.core.has_props.HasProps\n",
      " |      bokeh.util.callback_manager.PropertyCallbackManager\n",
      " |      bokeh.util.callback_manager.EventCallbackManager\n",
      " |      builtins.object\n",
      " |  \n",
      " |  Data descriptors defined here:\n",
      " |  \n",
      " |  anchor\n",
      " |      If point policy is set to `\"snap_to_data\"`, `anchor` defines the attachment\n",
      " |      point of a tooltip. The default is to attach to the center of a glyph.\n",
      " |  \n",
      " |  attachment\n",
      " |      Whether the tooltip should be displayed to the left or right of the cursor\n",
      " |      position or above or below it, or if it should be automatically placed\n",
      " |      in the horizontal or vertical dimension.\n",
      " |  \n",
      " |  callback\n",
      " |      A callback to run in the browser whenever the input's value changes. The\n",
      " |      ``cb_data`` parameter that is available to the Callback code will contain two\n",
      " |      ``HoverTool`` specific fields:\n",
      " |      \n",
      " |      :index: object containing the indices of the hovered points in the data source\n",
      " |      :geometry: object containing the coordinates of the hover cursor\n",
      " |  \n",
      " |  formatters\n",
      " |      Specify the formatting scheme for data source columns, e.g.\n",
      " |      \n",
      " |      .. code-block:: python\n",
      " |      \n",
      " |          tool.formatters = {\"@date\": \"datetime\"}\n",
      " |      \n",
      " |      will cause format specifications for the \"date\" column to be interpreted\n",
      " |      according to the \"datetime\" formatting scheme. The following schemes are\n",
      " |      available:\n",
      " |      \n",
      " |      :``\"numeral\"``:\n",
      " |          Provides a wide variety of formats for numbers, currency, bytes, times,\n",
      " |          and percentages. The full set of formats can be found in the\n",
      " |          |NumeralTickFormatter| reference documentation.\n",
      " |      \n",
      " |      :``\"datetime\"``:\n",
      " |          Provides formats for date and time values. The full set of formats is\n",
      " |          listed in the |DatetimeTickFormatter| reference documentation.\n",
      " |      \n",
      " |      :``\"printf\"``:\n",
      " |          Provides formats similar to C-style \"printf\" type specifiers. See the\n",
      " |          |PrintfTickFormatter| reference documentation for complete details.\n",
      " |      \n",
      " |      If no formatter is specified for a column name, the default ``\"numeral\"``\n",
      " |      formatter is assumed.\n",
      " |      \n",
      " |      .. |NumeralTickFormatter| replace:: :class:`~bokeh.models.formatters.NumeralTickFormatter`\n",
      " |      .. |DatetimeTickFormatter| replace:: :class:`~bokeh.models.formatters.DatetimeTickFormatter`\n",
      " |      .. |PrintfTickFormatter| replace:: :class:`~bokeh.models.formatters.PrintfTickFormatter`\n",
      " |  \n",
      " |  line_policy\n",
      " |      When showing tooltips for lines, designates whether the tooltip position\n",
      " |      should be the \"previous\" or \"next\" points on the line, the \"nearest\" point\n",
      " |      to the current mouse position, or \"interpolate\" along the line to the\n",
      " |      current mouse position.\n",
      " |  \n",
      " |  mode\n",
      " |      Whether to consider hover pointer as a point (x/y values), or a\n",
      " |      span on h or v directions.\n",
      " |  \n",
      " |  muted_policy\n",
      " |      Whether to avoid showing tooltips on muted glyphs.\n",
      " |  \n",
      " |  names\n",
      " |      A list of names to query for. If set, only renderers that have a matching\n",
      " |      value for their ``name`` attribute will be used.\n",
      " |  \n",
      " |  point_policy\n",
      " |      Whether the tooltip position should snap to the \"center\" (or other anchor)\n",
      " |      position of the associated glyph, or always follow the current mouse cursor\n",
      " |      position.\n",
      " |  \n",
      " |  renderers\n",
      " |      An explicit list of renderers to hit test against. If unset, defaults to\n",
      " |      all renderers on a plot.\n",
      " |  \n",
      " |  show_arrow\n",
      " |      Whether tooltip's arrow should be shown.\n",
      " |  \n",
      " |  tooltips\n",
      " |      The (name, field) pairs describing what the hover tool should\n",
      " |      display when there is a hit.\n",
      " |      \n",
      " |      Field names starting with \"@\" are interpreted as columns on the\n",
      " |      data source. For instance, \"@temp\" would look up values to display\n",
      " |      from the \"temp\" column of the data source.\n",
      " |      \n",
      " |      Field names starting with \"$\" are special, known fields:\n",
      " |      \n",
      " |      :$index: index of hovered point in the data source\n",
      " |      :$name: value of the ``name`` property of the hovered glyph renderer\n",
      " |      :$x: x-coordinate under the cursor in data space\n",
      " |      :$y: y-coordinate under the cursor in data space\n",
      " |      :$sx: x-coordinate under the cursor in screen (canvas) space\n",
      " |      :$sy: y-coordinate under the cursor in screen (canvas) space\n",
      " |      :$color: color data from data source, with the syntax:\n",
      " |          ``$color[options]:field_name``. The available options\n",
      " |          are: 'hex' (to display the color as a hex value), and\n",
      " |          'swatch' to also display a small color swatch.\n",
      " |      \n",
      " |      Field names that begin with ``@`` are associated with columns in a\n",
      " |      ``ColumnDataSource``. For instance the field name ``\"@price\"`` will\n",
      " |      display values from the ``\"price\"`` column whenever a hover is triggered.\n",
      " |      If the hover is for the 17th glyph, then the hover tooltip will\n",
      " |      correspondingly display the 17th price value.\n",
      " |      \n",
      " |      Note that if a column name contains spaces, the it must be supplied by\n",
      " |      surrounding it in curly braces, e.g. ``@{adjusted close}`` will display\n",
      " |      values from a column named ``\"adjusted close\"``.\n",
      " |      \n",
      " |      Sometimes (especially with stacked charts) it is desirable to allow the\n",
      " |      name of the column be specified indirectly. The field name ``@$name`` is\n",
      " |      distinguished in that it will look up the ``name`` field on the hovered\n",
      " |      glyph renderer, and use that value as the column name. For instance, if\n",
      " |      a user hovers with the name ``\"US East\"``, then ``@$name`` is equivalent to\n",
      " |      ``@{US East}``.\n",
      " |      \n",
      " |      By default, values for fields (e.g. ``@foo``) are displayed in a basic\n",
      " |      numeric format. However it is possible to control the formatting of values\n",
      " |      more precisely. Fields can be modified by appending a format specified to\n",
      " |      the end in curly braces. Some examples are below.\n",
      " |      \n",
      " |      .. code-block:: python\n",
      " |      \n",
      " |          \"@foo{0,0.000}\"    # formats 10000.1234 as: 10,000.123\n",
      " |      \n",
      " |          \"@foo{(.00)}\"      # formats -10000.1234 as: (10000.123)\n",
      " |      \n",
      " |          \"@foo{($ 0.00 a)}\" # formats 1230974 as: $ 1.23 m\n",
      " |      \n",
      " |      Specifying a format ``{safe}`` after a field name will override automatic\n",
      " |      escaping of the tooltip data source. Any HTML tags in the data tags will\n",
      " |      be rendered as HTML in the resulting HoverTool output. See\n",
      " |      :ref:`custom_hover_tooltip` for a more detailed example.\n",
      " |      \n",
      " |      ``None`` is also a valid value for tooltips. This turns off the\n",
      " |      rendering of tooltips. This is mostly useful when supplying other\n",
      " |      actions on hover via the callback property.\n",
      " |      \n",
      " |      .. note::\n",
      " |          The tooltips attribute can also be configured with a mapping type,\n",
      " |          e.g. ``dict`` or ``OrderedDict``. However, if a ``dict`` is used,\n",
      " |          the visual presentation order is unspecified.\n",
      " |  \n",
      " |  ----------------------------------------------------------------------\n",
      " |  Data and other attributes defined here:\n",
      " |  \n",
      " |  __container_props__ = {'formatters', 'names'}\n",
      " |  \n",
      " |  __properties__ = {'anchor', 'attachment', 'callback', 'formatters', 'l...\n",
      " |  \n",
      " |  __properties_with_refs__ = {'callback', 'formatters', 'renderers'}\n",
      " |  \n",
      " |  __qualified_model__ = 'HoverTool'\n",
      " |  \n",
      " |  __view_model__ = 'HoverTool'\n",
      " |  \n",
      " |  __view_module__ = 'bokeh.models.tools'\n",
      " |  \n",
      " |  ----------------------------------------------------------------------\n",
      " |  Data descriptors inherited from Inspection:\n",
      " |  \n",
      " |  toggleable\n",
      " |      Whether an on/off toggle button should appear in the toolbar for this\n",
      " |      inspection tool. If ``False``, the viewers of a plot will not be able to\n",
      " |      toggle the inspector on or off using the toolbar.\n",
      " |  \n",
      " |  ----------------------------------------------------------------------\n",
      " |  Data and other attributes inherited from Inspection:\n",
      " |  \n",
      " |  __cached_all__properties__ = {'js_event_callbacks', 'js_property_callb...\n",
      " |  \n",
      " |  ----------------------------------------------------------------------\n",
      " |  Class methods inherited from Tool:\n",
      " |  \n",
      " |  from_string(name: str) -> 'Tool' from bokeh.core.has_props.MetaHasProps\n",
      " |      Takes a string and returns a corresponding `Tool` instance.\n",
      " |  \n",
      " |  register_alias(name: str, constructor: Callable[[], ForwardRef('Tool')]) -> None from bokeh.core.has_props.MetaHasProps\n",
      " |  \n",
      " |  ----------------------------------------------------------------------\n",
      " |  Data and other attributes inherited from Tool:\n",
      " |  \n",
      " |  __annotations__ = {'_known_aliases': typing.ClassVar[typing.Dict[str, ...\n",
      " |  \n",
      " |  ----------------------------------------------------------------------\n",
      " |  Methods inherited from bokeh.model.Model:\n",
      " |  \n",
      " |  __init__(self, **kwargs)\n",
      " |  \n",
      " |  __repr__ = __str__(self)\n",
      " |  \n",
      " |  __str__(self)\n",
      " |      Return str(self).\n",
      " |  \n",
      " |  js_link(self, attr, other, other_attr, attr_selector=None)\n",
      " |      Link two Bokeh model properties using JavaScript.\n",
      " |      \n",
      " |      This is a convenience method that simplifies adding a CustomJS callback\n",
      " |      to update one Bokeh model property whenever another changes value.\n",
      " |      \n",
      " |      Args:\n",
      " |      \n",
      " |          attr (str) :\n",
      " |              The name of a Bokeh property on this model\n",
      " |      \n",
      " |          other (Model):\n",
      " |              A Bokeh model to link to self.attr\n",
      " |      \n",
      " |          other_attr (str) :\n",
      " |              The property on ``other`` to link together\n",
      " |      \n",
      " |          attr_selector (Union[int, str]) :\n",
      " |              The index to link an item in a subscriptable ``attr``\n",
      " |      \n",
      " |      Added in version 1.1\n",
      " |      \n",
      " |      Raises:\n",
      " |      \n",
      " |          ValueError\n",
      " |      \n",
      " |      Examples:\n",
      " |      \n",
      " |          This code with ``js_link``:\n",
      " |      \n",
      " |          .. code :: python\n",
      " |      \n",
      " |              select.js_link('value', plot, 'sizing_mode')\n",
      " |      \n",
      " |          is equivalent to the following:\n",
      " |      \n",
      " |          .. code:: python\n",
      " |      \n",
      " |              from bokeh.models import CustomJS\n",
      " |              select.js_on_change('value',\n",
      " |                  CustomJS(args=dict(other=plot),\n",
      " |                           code=\"other.sizing_mode = this.value\"\n",
      " |                  )\n",
      " |              )\n",
      " |      \n",
      " |          Additionally, to use attr_selector to attach the left side of a range slider to a plot's x_range:\n",
      " |      \n",
      " |          .. code :: python\n",
      " |      \n",
      " |              range_slider.js_link('value', plot.x_range, 'start', attr_selector=0)\n",
      " |      \n",
      " |          which is equivalent to:\n",
      " |      \n",
      " |          .. code :: python\n",
      " |      \n",
      " |              from bokeh.models import CustomJS\n",
      " |              range_slider.js_on_change('value',\n",
      " |                  CustomJS(args=dict(other=plot.x_range),\n",
      " |                           code=\"other.start = this.value[0]\"\n",
      " |                  )\n",
      " |              )\n",
      " |  \n",
      " |  js_on_change(self, event, *callbacks)\n",
      " |      Attach a ``CustomJS`` callback to an arbitrary BokehJS model event.\n",
      " |      \n",
      " |      On the BokehJS side, change events for model properties have the\n",
      " |      form ``\"change:property_name\"``. As a convenience, if the event name\n",
      " |      passed to this method is also the name of a property on the model,\n",
      " |      then it will be prefixed with ``\"change:\"`` automatically:\n",
      " |      \n",
      " |      .. code:: python\n",
      " |      \n",
      " |          # these two are equivalent\n",
      " |          source.js_on_change('data', callback)\n",
      " |          source.js_on_change('change:data', callback)\n",
      " |      \n",
      " |      However, there are other kinds of events that can be useful to respond\n",
      " |      to, in addition to property change events. For example to run a\n",
      " |      callback whenever data is streamed to a ``ColumnDataSource``, use the\n",
      " |      ``\"stream\"`` event on the source:\n",
      " |      \n",
      " |      .. code:: python\n",
      " |      \n",
      " |          source.js_on_change('streaming', callback)\n",
      " |  \n",
      " |  js_on_event(self, event, *callbacks)\n",
      " |  \n",
      " |  layout(self, side, plot)\n",
      " |  \n",
      " |  on_change(self, attr, *callbacks)\n",
      " |      Add a callback on this object to trigger when ``attr`` changes.\n",
      " |      \n",
      " |      Args:\n",
      " |          attr (str) : an attribute name on this object\n",
      " |          *callbacks (callable) : callback functions to register\n",
      " |      \n",
      " |      Returns:\n",
      " |          None\n",
      " |      \n",
      " |      Example:\n",
      " |      \n",
      " |      .. code-block:: python\n",
      " |      \n",
      " |          widget.on_change('value', callback1, callback2, ..., callback_n)\n",
      " |  \n",
      " |  references(self)\n",
      " |      Returns all ``Models`` that this object has references to.\n",
      " |  \n",
      " |  select(self, selector)\n",
      " |      Query this object and all of its references for objects that\n",
      " |      match the given selector.\n",
      " |      \n",
      " |      Args:\n",
      " |          selector (JSON-like) :\n",
      " |      \n",
      " |      Returns:\n",
      " |          seq[Model]\n",
      " |  \n",
      " |  select_one(self, selector)\n",
      " |      Query this object and all of its references for objects that\n",
      " |      match the given selector.  Raises an error if more than one object\n",
      " |      is found.  Returns single matching object, or None if nothing is found\n",
      " |      Args:\n",
      " |          selector (JSON-like) :\n",
      " |      \n",
      " |      Returns:\n",
      " |          Model\n",
      " |  \n",
      " |  set_select(self, selector, updates)\n",
      " |      Update objects that match a given selector with the specified\n",
      " |      attribute/value updates.\n",
      " |      \n",
      " |      Args:\n",
      " |          selector (JSON-like) :\n",
      " |          updates (dict) :\n",
      " |      \n",
      " |      Returns:\n",
      " |          None\n",
      " |  \n",
      " |  to_json(self, include_defaults)\n",
      " |      Returns a dictionary of the attributes of this object,\n",
      " |      containing only \"JSON types\" (string, number, boolean,\n",
      " |      none, dict, list).\n",
      " |      \n",
      " |      References to other objects are serialized as \"refs\" (just\n",
      " |      the object ID and type info), so the deserializer will\n",
      " |      need to separately have the full attributes of those\n",
      " |      other objects.\n",
      " |      \n",
      " |      There's no corresponding ``from_json()`` because to\n",
      " |      deserialize an object is normally done in the context of a\n",
      " |      Document (since the Document can resolve references).\n",
      " |      \n",
      " |      For most purposes it's best to serialize and deserialize\n",
      " |      entire documents.\n",
      " |      \n",
      " |      Args:\n",
      " |          include_defaults (bool) : whether to include attributes\n",
      " |              that haven't been changed from the default\n",
      " |  \n",
      " |  to_json_string(self, include_defaults)\n",
      " |      Returns a JSON string encoding the attributes of this object.\n",
      " |      \n",
      " |      References to other objects are serialized as references\n",
      " |      (just the object ID and type info), so the deserializer\n",
      " |      will need to separately have the full attributes of those\n",
      " |      other objects.\n",
      " |      \n",
      " |      There's no corresponding ``from_json_string()`` because to\n",
      " |      deserialize an object is normally done in the context of a\n",
      " |      Document (since the Document can resolve references).\n",
      " |      \n",
      " |      For most purposes it's best to serialize and deserialize\n",
      " |      entire documents.\n",
      " |      \n",
      " |      Args:\n",
      " |          include_defaults (bool) : whether to include attributes\n",
      " |              that haven't been changed from the default\n",
      " |  \n",
      " |  trigger(self, attr, old, new, hint=None, setter=None)\n",
      " |  \n",
      " |  ----------------------------------------------------------------------\n",
      " |  Class methods inherited from bokeh.model.Model:\n",
      " |  \n",
      " |  __init_subclass__() from bokeh.core.has_props.MetaHasProps\n",
      " |      This method is called when a class is subclassed.\n",
      " |      \n",
      " |      The default implementation does nothing. It may be\n",
      " |      overridden to extend subclasses.\n",
      " |  \n",
      " |  ----------------------------------------------------------------------\n",
      " |  Static methods inherited from bokeh.model.Model:\n",
      " |  \n",
      " |  __new__(cls, *args, **kwargs)\n",
      " |      Create and return a new object.  See help(type) for accurate signature.\n",
      " |  \n",
      " |  ----------------------------------------------------------------------\n",
      " |  Readonly properties inherited from bokeh.model.Model:\n",
      " |  \n",
      " |  document\n",
      " |      The |Document| this model is attached to (can be ``None``)\n",
      " |  \n",
      " |  id\n",
      " |  \n",
      " |  ref\n",
      " |  \n",
      " |  struct\n",
      " |      A Bokeh protocol \"structure\" of this model, i.e. a dict of the form:\n",
      " |      \n",
      " |      .. code-block:: python\n",
      " |      \n",
      " |          {\n",
      " |              'type' : << view model name >>\n",
      " |              'id'   : << unique model id >>\n",
      " |          }\n",
      " |      \n",
      " |      Additionally there may be a `subtype` field if this model is a subtype.\n",
      " |  \n",
      " |  ----------------------------------------------------------------------\n",
      " |  Data descriptors inherited from bokeh.model.Model:\n",
      " |  \n",
      " |  js_event_callbacks\n",
      " |      A mapping of event names to lists of ``CustomJS`` callbacks.\n",
      " |      \n",
      " |      Typically, rather then modifying this property directly, callbacks should be\n",
      " |      added using the ``Model.js_on_event`` method:\n",
      " |      \n",
      " |      .. code:: python\n",
      " |      \n",
      " |          callback = CustomJS(code=\"console.log('tap event occurred')\")\n",
      " |          plot.js_on_event('tap', callback)\n",
      " |  \n",
      " |  js_property_callbacks\n",
      " |      A mapping of attribute names to lists of ``CustomJS`` callbacks, to be set up on\n",
      " |      BokehJS side when the document is created.\n",
      " |      \n",
      " |      Typically, rather then modifying this property directly, callbacks should be\n",
      " |      added using the ``Model.js_on_change`` method:\n",
      " |      \n",
      " |      .. code:: python\n",
      " |      \n",
      " |          callback = CustomJS(code=\"console.log('stuff')\")\n",
      " |          plot.x_range.js_on_change('start', callback)\n",
      " |  \n",
      " |  name\n",
      " |      An arbitrary, user-supplied name for this model.\n",
      " |      \n",
      " |      This name can be useful when querying the document to retrieve specific\n",
      " |      Bokeh models.\n",
      " |      \n",
      " |      .. code:: python\n",
      " |      \n",
      " |          >>> plot.circle([1,2,3], [4,5,6], name=\"temp\")\n",
      " |          >>> plot.select(name=\"temp\")\n",
      " |          [GlyphRenderer(id='399d53f5-73e9-44d9-9527-544b761c7705', ...)]\n",
      " |      \n",
      " |      .. note::\n",
      " |          No uniqueness guarantees or other conditions are enforced on any names\n",
      " |          that are provided, nor is the name used directly by Bokeh for any\n",
      " |          reason.\n",
      " |  \n",
      " |  subscribed_events\n",
      " |      List of events that are subscribed to by Python callbacks. This is\n",
      " |      the set of events that will be communicated from BokehJS back to\n",
      " |      Python for this model.\n",
      " |  \n",
      " |  tags\n",
      " |      An optional list of arbitrary, user-supplied values to attach to this\n",
      " |      model.\n",
      " |      \n",
      " |      This data can be useful when querying the document to retrieve specific\n",
      " |      Bokeh models:\n",
      " |      \n",
      " |      .. code:: python\n",
      " |      \n",
      " |          >>> r = plot.circle([1,2,3], [4,5,6])\n",
      " |          >>> r.tags = [\"foo\", 10]\n",
      " |          >>> plot.select(tags=['foo', 10])\n",
      " |          [GlyphRenderer(id='1de4c3df-a83d-480a-899b-fb263d3d5dd9', ...)]\n",
      " |      \n",
      " |      Or simply a convenient way to attach any necessary metadata to a model\n",
      " |      that can be accessed by ``CustomJS`` callbacks, etc.\n",
      " |      \n",
      " |      .. note::\n",
      " |          No uniqueness guarantees or other conditions are enforced on any tags\n",
      " |          that are provided, nor are the tags used directly by Bokeh for any\n",
      " |          reason.\n",
      " |  \n",
      " |  ----------------------------------------------------------------------\n",
      " |  Data and other attributes inherited from bokeh.model.Model:\n",
      " |  \n",
      " |  model_class_reverse_map = {'AbstractButton': <class 'bokeh.models.widg...\n",
      " |  \n",
      " |  ----------------------------------------------------------------------\n",
      " |  Methods inherited from bokeh.core.has_props.HasProps:\n",
      " |  \n",
      " |  __setattr__(self, name, value)\n",
      " |      Intercept attribute setting on HasProps in order to special case\n",
      " |      a few situations:\n",
      " |      \n",
      " |      * short circuit all property machinery for ``_private`` attributes\n",
      " |      * suggest similar attribute names on attribute errors\n",
      " |      \n",
      " |      Args:\n",
      " |          name (str) : the name of the attribute to set on this object\n",
      " |          value (obj) : the value to set\n",
      " |      \n",
      " |      Returns:\n",
      " |          None\n",
      " |  \n",
      " |  apply_theme(self, property_values)\n",
      " |      Apply a set of theme values which will be used rather than\n",
      " |      defaults, but will not override application-set values.\n",
      " |      \n",
      " |      The passed-in dictionary may be kept around as-is and shared with\n",
      " |      other instances to save memory (so neither the caller nor the\n",
      " |      |HasProps| instance should modify it).\n",
      " |      \n",
      " |      Args:\n",
      " |          property_values (dict) : theme values to use in place of defaults\n",
      " |      \n",
      " |      Returns:\n",
      " |          None\n",
      " |  \n",
      " |  equals(self, other)\n",
      " |      Structural equality of models.\n",
      " |      \n",
      " |      Args:\n",
      " |          other (HasProps) : the other instance to compare to\n",
      " |      \n",
      " |      Returns:\n",
      " |          True, if properties are structurally equal, otherwise False\n",
      " |  \n",
      " |  properties_with_values(self, include_defaults: bool = True) -> Dict[str, Any]\n",
      " |      Collect a dict mapping property names to their values.\n",
      " |      \n",
      " |      This method *always* traverses the class hierarchy and includes\n",
      " |      properties defined on any parent classes.\n",
      " |      \n",
      " |      Non-serializable properties are skipped and property values are in\n",
      " |      \"serialized\" format which may be slightly different from the values\n",
      " |      you would normally read from the properties; the intent of this method\n",
      " |      is to return the information needed to losslessly reconstitute the\n",
      " |      object instance.\n",
      " |      \n",
      " |      Args:\n",
      " |          include_defaults (bool, optional) :\n",
      " |              Whether to include properties that haven't been explicitly set\n",
      " |              since the object was created. (default: True)\n",
      " |      \n",
      " |      Returns:\n",
      " |         dict : mapping from property names to their values\n",
      " |  \n",
      " |  query_properties_with_values(self, query, include_defaults=True)\n",
      " |      Query the properties values of |HasProps| instances with a\n",
      " |      predicate.\n",
      " |      \n",
      " |      Args:\n",
      " |          query (callable) :\n",
      " |              A callable that accepts property descriptors and returns True\n",
      " |              or False\n",
      " |      \n",
      " |          include_defaults (bool, optional) :\n",
      " |              Whether to include properties that have not been explicitly\n",
      " |              set by a user (default: True)\n",
      " |      \n",
      " |      Returns:\n",
      " |          dict : mapping of property names and values for matching properties\n",
      " |  \n",
      " |  set_from_json(self, name, json, models=None, setter=None)\n",
      " |      Set a property value on this object from JSON.\n",
      " |      \n",
      " |      Args:\n",
      " |          name: (str) : name of the attribute to set\n",
      " |      \n",
      " |          json: (JSON-value) : value to set to the attribute to\n",
      " |      \n",
      " |          models (dict or None, optional) :\n",
      " |              Mapping of model ids to models (default: None)\n",
      " |      \n",
      " |              This is needed in cases where the attributes to update also\n",
      " |              have values that have references.\n",
      " |      \n",
      " |          setter(ClientSession or ServerSession or None, optional) :\n",
      " |              This is used to prevent \"boomerang\" updates to Bokeh apps.\n",
      " |      \n",
      " |              In the context of a Bokeh server application, incoming updates\n",
      " |              to properties will be annotated with the session that is\n",
      " |              doing the updating. This value is propagated through any\n",
      " |              subsequent change notifications that the update triggers.\n",
      " |              The session can compare the event setter to itself, and\n",
      " |              suppress any updates that originate from itself.\n",
      " |      \n",
      " |      Returns:\n",
      " |          None\n",
      " |  \n",
      " |  themed_values(self)\n",
      " |      Get any theme-provided overrides.\n",
      " |      \n",
      " |      Results are returned as a dict from property name to value, or\n",
      " |      ``None`` if no theme overrides any values for this instance.\n",
      " |      \n",
      " |      Returns:\n",
      " |          dict or None\n",
      " |  \n",
      " |  unapply_theme(self)\n",
      " |      Remove any themed values and restore defaults.\n",
      " |      \n",
      " |      Returns:\n",
      " |          None\n",
      " |  \n",
      " |  update(self, **kwargs)\n",
      " |      Updates the object's properties from the given keyword arguments.\n",
      " |      \n",
      " |      Returns:\n",
      " |          None\n",
      " |      \n",
      " |      Examples:\n",
      " |      \n",
      " |          The following are equivalent:\n",
      " |      \n",
      " |          .. code-block:: python\n",
      " |      \n",
      " |              from bokeh.models import Range1d\n",
      " |      \n",
      " |              r = Range1d\n",
      " |      \n",
      " |              # set properties individually:\n",
      " |              r.start = 10\n",
      " |              r.end = 20\n",
      " |      \n",
      " |              # update properties together:\n",
      " |              r.update(start=10, end=20)\n",
      " |  \n",
      " |  update_from_json(self, json_attributes, models=None, setter=None)\n",
      " |      Updates the object's properties from a JSON attributes dictionary.\n",
      " |      \n",
      " |      Args:\n",
      " |          json_attributes: (JSON-dict) : attributes and values to update\n",
      " |      \n",
      " |          models (dict or None, optional) :\n",
      " |              Mapping of model ids to models (default: None)\n",
      " |      \n",
      " |              This is needed in cases where the attributes to update also\n",
      " |              have values that have references.\n",
      " |      \n",
      " |          setter(ClientSession or ServerSession or None, optional) :\n",
      " |              This is used to prevent \"boomerang\" updates to Bokeh apps.\n",
      " |      \n",
      " |              In the context of a Bokeh server application, incoming updates\n",
      " |              to properties will be annotated with the session that is\n",
      " |              doing the updating. This value is propagated through any\n",
      " |              subsequent change notifications that the update triggers.\n",
      " |              The session can compare the event setter to itself, and\n",
      " |              suppress any updates that originate from itself.\n",
      " |      \n",
      " |      Returns:\n",
      " |          None\n",
      " |  \n",
      " |  ----------------------------------------------------------------------\n",
      " |  Class methods inherited from bokeh.core.has_props.HasProps:\n",
      " |  \n",
      " |  dataspecs() from bokeh.core.has_props.MetaHasProps\n",
      " |      Collect the names of all ``DataSpec`` properties on this class.\n",
      " |      \n",
      " |      This method *always* traverses the class hierarchy and includes\n",
      " |      properties defined on any parent classes.\n",
      " |      \n",
      " |      Returns:\n",
      " |          set[str] : names of ``DataSpec`` properties\n",
      " |  \n",
      " |  dataspecs_with_props() from bokeh.core.has_props.MetaHasProps\n",
      " |      Collect a dict mapping the names of all ``DataSpec`` properties\n",
      " |      on this class to the associated properties.\n",
      " |      \n",
      " |      This method *always* traverses the class hierarchy and includes\n",
      " |      properties defined on any parent classes.\n",
      " |      \n",
      " |      Returns:\n",
      " |          dict[str, DataSpec] : mapping of names and ``DataSpec`` properties\n",
      " |  \n",
      " |  lookup(name) from bokeh.core.has_props.MetaHasProps\n",
      " |      Find the ``PropertyDescriptor`` for a Bokeh property on a class,\n",
      " |      given the property name.\n",
      " |      \n",
      " |      Args:\n",
      " |          name (str) : name of the property to search for\n",
      " |      \n",
      " |      Returns:\n",
      " |          PropertyDescriptor : descriptor for property named ``name``\n",
      " |  \n",
      " |  properties(with_bases=True) from bokeh.core.has_props.MetaHasProps\n",
      " |      Collect the names of properties on this class.\n",
      " |      \n",
      " |      This method *optionally* traverses the class hierarchy and includes\n",
      " |      properties defined on any parent classes.\n",
      " |      \n",
      " |      Args:\n",
      " |          with_bases (bool, optional) :\n",
      " |              Whether to include properties defined on parent classes in\n",
      " |              the results. (default: True)\n",
      " |      \n",
      " |      Returns:\n",
      " |         set[str] : property names\n",
      " |  \n",
      " |  properties_containers() from bokeh.core.has_props.MetaHasProps\n",
      " |      Collect the names of all container properties on this class.\n",
      " |      \n",
      " |      This method *always* traverses the class hierarchy and includes\n",
      " |      properties defined on any parent classes.\n",
      " |      \n",
      " |      Returns:\n",
      " |          set[str] : names of container properties\n",
      " |  \n",
      " |  properties_with_refs() from bokeh.core.has_props.MetaHasProps\n",
      " |      Collect the names of all properties on this class that also have\n",
      " |      references.\n",
      " |      \n",
      " |      This method *always* traverses the class hierarchy and includes\n",
      " |      properties defined on any parent classes.\n",
      " |      \n",
      " |      Returns:\n",
      " |          set[str] : names of properties that have references\n",
      " |  \n",
      " |  ----------------------------------------------------------------------\n",
      " |  Data descriptors inherited from bokeh.core.has_props.HasProps:\n",
      " |  \n",
      " |  __dict__\n",
      " |      dictionary for instance variables (if defined)\n",
      " |  \n",
      " |  __weakref__\n",
      " |      list of weak references to the object (if defined)\n",
      " |  \n",
      " |  ----------------------------------------------------------------------\n",
      " |  Methods inherited from bokeh.util.callback_manager.PropertyCallbackManager:\n",
      " |  \n",
      " |  remove_on_change(self, attr, *callbacks)\n",
      " |      Remove a callback from this object\n",
      " |  \n",
      " |  ----------------------------------------------------------------------\n",
      " |  Methods inherited from bokeh.util.callback_manager.EventCallbackManager:\n",
      " |  \n",
      " |  on_event(self, event, *callbacks)\n",
      "\n"
     ]
    }
   ],
   "source": [
    "help(hover)"
   ]
  },
  {
   "cell_type": "code",
   "execution_count": 10,
   "metadata": {},
   "outputs": [
    {
     "data": {
      "text/html": [
       "\n",
       "\n",
       "\n",
       "\n",
       "\n",
       "\n",
       "  <div class=\"bk-root\" id=\"4b813f7e-3076-422c-a69f-ad1d3f50dbeb\" data-root-id=\"1003\"></div>\n"
      ]
     },
     "metadata": {},
     "output_type": "display_data"
    },
    {
     "data": {
      "application/javascript": [
       "(function(root) {\n",
       "  function embed_document(root) {\n",
       "    \n",
       "  var docs_json = {\"a661ee4c-074e-431e-838e-54d813367996\":{\"roots\":{\"references\":[{\"attributes\":{\"below\":[{\"id\":\"1014\"}],\"center\":[{\"id\":\"1017\"},{\"id\":\"1020\"}],\"left\":[{\"id\":\"1018\"}],\"plot_height\":400,\"plot_width\":800,\"renderers\":[{\"id\":\"1038\"}],\"title\":{\"id\":\"1004\"},\"toolbar\":{\"id\":\"1028\"},\"x_range\":{\"id\":\"1006\"},\"x_scale\":{\"id\":\"1010\"},\"y_range\":{\"id\":\"1008\"},\"y_scale\":{\"id\":\"1012\"}},\"id\":\"1003\",\"subtype\":\"Figure\",\"type\":\"Plot\"},{\"attributes\":{\"overlay\":{\"id\":\"1027\"}},\"id\":\"1023\",\"type\":\"BoxZoomTool\"},{\"attributes\":{\"axis\":{\"id\":\"1018\"},\"dimension\":1,\"ticker\":null},\"id\":\"1020\",\"type\":\"Grid\"},{\"attributes\":{\"data\":{\"h_index\":[149,150,155,155,158,159,159,161,161,161,165,166,174,179,188],\"index\":[14,13,12,11,10,9,8,7,6,5,4,3,2,1,0],\"institution\":[\"Stanford University\",\"RWTH Aachen University\",\"University of California, Berkeley\",\"University of Illinois at Urbana-Champaign\",\"University of Oxford\",\"University of Montreal\",\"University of Toronto\",\"University of Illinois at Chicago\",\"Salk Institute\",\"Carnegie Mellon University\",\"University of California, Santa Cruz\",\"University of California, Berkeley\",\"University of Illinois at Urbana-Champaign\",\"Carnegie Mellon University\",\"Michigan State University\"],\"picture\":[\"sebastian-thrun.jpg\",\"wil-van-der-aalst.jpg\",\"scott-shenker.jpg\",\"thomas-s-huang.jpg\",\"andrew-zisserman.jpg\",\"yoshua-bengio.jpg\",\"geoffrey-hinton.jpg\",\"philip-s-yu.jpg\",\"terrence-sejnowski.jpg\",\"takeo-kanade.jpg\",\"david-haussler.jpg\",\"michael-i-jordan.jpg\",\"jiawei-han.jpg\",\"herbert-simon.jpg\",\"anil-k-jain.jpg\"],\"scholar\":[\"Sebastian Thrun\",\"Wil van der Aalst\",\"Scott Shenker\",\"Thomas S. Huang\",\"Andrew Zisserman\",\"Yoshua Bengio\",\"Geoffrey Hinton\",\"Philip S. Yu\",\"Terrence Sejnowski\",\"Takeo Kanade\",\"David Haussler\",\"Michael I. Jordan\",\"Jiawei Han\",\"Herbert Simon\",\"Anil K. Jain\"]},\"selected\":{\"id\":\"1046\"},\"selection_policy\":{\"id\":\"1047\"}},\"id\":\"1002\",\"type\":\"ColumnDataSource\"},{\"attributes\":{\"source\":{\"id\":\"1002\"}},\"id\":\"1039\",\"type\":\"CDSView\"},{\"attributes\":{},\"id\":\"1022\",\"type\":\"WheelZoomTool\"},{\"attributes\":{\"data_source\":{\"id\":\"1002\"},\"glyph\":{\"id\":\"1036\"},\"hover_glyph\":null,\"muted_glyph\":null,\"nonselection_glyph\":{\"id\":\"1037\"},\"selection_glyph\":null,\"view\":{\"id\":\"1039\"}},\"id\":\"1038\",\"type\":\"GlyphRenderer\"},{\"attributes\":{\"fill_alpha\":{\"value\":0.1},\"fill_color\":{\"value\":\"orange\"},\"height\":{\"value\":0.75},\"line_alpha\":{\"value\":0.1},\"line_color\":{\"value\":\"#1f77b4\"},\"right\":{\"field\":\"h_index\"},\"y\":{\"field\":\"scholar\"}},\"id\":\"1037\",\"type\":\"HBar\"},{\"attributes\":{\"text\":\"CS Scientists\"},\"id\":\"1004\",\"type\":\"Title\"},{\"attributes\":{\"factors\":[\"Sebastian Thrun\",\"Wil van der Aalst\",\"Scott Shenker\",\"Thomas S. Huang\",\"Andrew Zisserman\",\"Yoshua Bengio\",\"Geoffrey Hinton\",\"Philip S. Yu\",\"Terrence Sejnowski\",\"Takeo Kanade\",\"David Haussler\",\"Michael I. Jordan\",\"Jiawei Han\",\"Herbert Simon\",\"Anil K. Jain\"]},\"id\":\"1008\",\"type\":\"FactorRange\"},{\"attributes\":{},\"id\":\"1046\",\"type\":\"Selection\"},{\"attributes\":{},\"id\":\"1006\",\"type\":\"DataRange1d\"},{\"attributes\":{\"formatter\":{\"id\":\"1044\"},\"ticker\":{\"id\":\"1019\"}},\"id\":\"1018\",\"type\":\"CategoricalAxis\"},{\"attributes\":{},\"id\":\"1047\",\"type\":\"UnionRenderers\"},{\"attributes\":{},\"id\":\"1015\",\"type\":\"BasicTicker\"},{\"attributes\":{},\"id\":\"1026\",\"type\":\"HelpTool\"},{\"attributes\":{\"formatter\":{\"id\":\"1042\"},\"ticker\":{\"id\":\"1015\"}},\"id\":\"1014\",\"type\":\"LinearAxis\"},{\"attributes\":{},\"id\":\"1021\",\"type\":\"PanTool\"},{\"attributes\":{},\"id\":\"1024\",\"type\":\"SaveTool\"},{\"attributes\":{},\"id\":\"1025\",\"type\":\"ResetTool\"},{\"attributes\":{\"callback\":null,\"tooltips\":[[\"scholar\",\"@scholar\"],[\"institution\",\"@institution\"],[\"h_index\",\"@h_index\"]]},\"id\":\"1096\",\"type\":\"HoverTool\"},{\"attributes\":{\"fill_alpha\":{\"value\":0.5},\"fill_color\":{\"value\":\"orange\"},\"height\":{\"value\":0.75},\"line_color\":{\"value\":\"#1f77b4\"},\"right\":{\"field\":\"h_index\"},\"y\":{\"field\":\"scholar\"}},\"id\":\"1036\",\"type\":\"HBar\"},{\"attributes\":{},\"id\":\"1019\",\"type\":\"CategoricalTicker\"},{\"attributes\":{},\"id\":\"1042\",\"type\":\"BasicTickFormatter\"},{\"attributes\":{\"bottom_units\":\"screen\",\"fill_alpha\":0.5,\"fill_color\":\"lightgrey\",\"left_units\":\"screen\",\"level\":\"overlay\",\"line_alpha\":1.0,\"line_color\":\"black\",\"line_dash\":[4,4],\"line_width\":2,\"right_units\":\"screen\",\"top_units\":\"screen\"},\"id\":\"1027\",\"type\":\"BoxAnnotation\"},{\"attributes\":{},\"id\":\"1044\",\"type\":\"CategoricalTickFormatter\"},{\"attributes\":{\"active_drag\":\"auto\",\"active_inspect\":\"auto\",\"active_multi\":null,\"active_scroll\":\"auto\",\"active_tap\":\"auto\",\"tools\":[{\"id\":\"1021\"},{\"id\":\"1022\"},{\"id\":\"1023\"},{\"id\":\"1024\"},{\"id\":\"1025\"},{\"id\":\"1026\"},{\"id\":\"1096\"}]},\"id\":\"1028\",\"type\":\"Toolbar\"},{\"attributes\":{},\"id\":\"1012\",\"type\":\"CategoricalScale\"},{\"attributes\":{\"axis\":{\"id\":\"1014\"},\"ticker\":null},\"id\":\"1017\",\"type\":\"Grid\"},{\"attributes\":{},\"id\":\"1010\",\"type\":\"LinearScale\"}],\"root_ids\":[\"1003\"]},\"title\":\"Bokeh Application\",\"version\":\"2.1.0\"}};\n",
       "  var render_items = [{\"docid\":\"a661ee4c-074e-431e-838e-54d813367996\",\"root_ids\":[\"1003\"],\"roots\":{\"1003\":\"4b813f7e-3076-422c-a69f-ad1d3f50dbeb\"}}];\n",
       "  root.Bokeh.embed.embed_items_notebook(docs_json, render_items);\n",
       "\n",
       "  }\n",
       "  if (root.Bokeh !== undefined) {\n",
       "    embed_document(root);\n",
       "  } else {\n",
       "    var attempts = 0;\n",
       "    var timer = setInterval(function(root) {\n",
       "      if (root.Bokeh !== undefined) {\n",
       "        clearInterval(timer);\n",
       "        embed_document(root);\n",
       "      } else {\n",
       "        attempts++;\n",
       "        if (attempts > 100) {\n",
       "          clearInterval(timer);\n",
       "          console.log(\"Bokeh: ERROR: Unable to run BokehJS code because BokehJS library is missing\");\n",
       "        }\n",
       "      }\n",
       "    }, 10, root)\n",
       "  }\n",
       "})(window);"
      ],
      "application/vnd.bokehjs_exec.v0+json": ""
     },
     "metadata": {
      "application/vnd.bokehjs_exec.v0+json": {
       "id": "1003"
      }
     },
     "output_type": "display_data"
    }
   ],
   "source": [
    "hover.tooltips = [(\"scholar\", \"@scholar\"), (\"institution\", \"@institution\"), (\"h_index\", \"@h_index\")]\n",
    "p.add_tools(hover)\n",
    "show(p)"
   ]
  },
  {
   "cell_type": "markdown",
   "metadata": {},
   "source": [
    "Instead of using a list of pairs, we can use HTML directly. Remember this stuff is bing send to the browser for rendering using Javascript in the end, so using css and html, was always a natural way ..."
   ]
  },
  {
   "cell_type": "code",
   "execution_count": 15,
   "metadata": {},
   "outputs": [
    {
     "name": "stdout",
     "output_type": "stream",
     "text": [
      "andrew-zisserman.jpg   jiawei-han.jpg         takeo-kanade.jpg\n",
      "anil-k-jain.jpg        michael-i-jordan.jpg   terrence-sejnowski.jpg\n",
      "david-haussler.jpg     philip-s-yu.jpg        thomas-s-huang.jpg\n",
      "geoffrey-hinton.jpg    scott-shenker.jpg      wil-van-der-aalst.jpg\n",
      "herbert-simon.jpg      sebastian-thrun.jpg    yoshua-bengio.jpg\n"
     ]
    }
   ],
   "source": [
    "!ls *.jpg"
   ]
  },
  {
   "cell_type": "markdown",
   "metadata": {},
   "source": [
    "![](sebastian-thrun.jpg)"
   ]
  },
  {
   "cell_type": "code",
   "execution_count": 24,
   "metadata": {},
   "outputs": [
    {
     "data": {
      "text/html": [
       "\n",
       "\n",
       "\n",
       "\n",
       "\n",
       "\n",
       "  <div class=\"bk-root\" id=\"d124382b-49f6-4162-ab0f-d7227336eaae\" data-root-id=\"1003\"></div>\n"
      ]
     },
     "metadata": {},
     "output_type": "display_data"
    },
    {
     "data": {
      "application/javascript": [
       "(function(root) {\n",
       "  function embed_document(root) {\n",
       "    \n",
       "  var docs_json = {\"f66888d5-c7f2-485a-a2c4-40f7e5e4afbc\":{\"roots\":{\"references\":[{\"attributes\":{\"below\":[{\"id\":\"1014\"}],\"center\":[{\"id\":\"1017\"},{\"id\":\"1020\"}],\"left\":[{\"id\":\"1018\"}],\"plot_height\":400,\"plot_width\":800,\"renderers\":[{\"id\":\"1038\"}],\"title\":{\"id\":\"1004\"},\"toolbar\":{\"id\":\"1028\"},\"x_range\":{\"id\":\"1006\"},\"x_scale\":{\"id\":\"1010\"},\"y_range\":{\"id\":\"1008\"},\"y_scale\":{\"id\":\"1012\"}},\"id\":\"1003\",\"subtype\":\"Figure\",\"type\":\"Plot\"},{\"attributes\":{\"overlay\":{\"id\":\"1027\"}},\"id\":\"1023\",\"type\":\"BoxZoomTool\"},{\"attributes\":{\"axis\":{\"id\":\"1018\"},\"dimension\":1,\"ticker\":null},\"id\":\"1020\",\"type\":\"Grid\"},{\"attributes\":{\"data\":{\"h_index\":[149,150,155,155,158,159,159,161,161,161,165,166,174,179,188],\"index\":[14,13,12,11,10,9,8,7,6,5,4,3,2,1,0],\"institution\":[\"Stanford University\",\"RWTH Aachen University\",\"University of California, Berkeley\",\"University of Illinois at Urbana-Champaign\",\"University of Oxford\",\"University of Montreal\",\"University of Toronto\",\"University of Illinois at Chicago\",\"Salk Institute\",\"Carnegie Mellon University\",\"University of California, Santa Cruz\",\"University of California, Berkeley\",\"University of Illinois at Urbana-Champaign\",\"Carnegie Mellon University\",\"Michigan State University\"],\"picture\":[\"sebastian-thrun.jpg\",\"wil-van-der-aalst.jpg\",\"scott-shenker.jpg\",\"thomas-s-huang.jpg\",\"andrew-zisserman.jpg\",\"yoshua-bengio.jpg\",\"geoffrey-hinton.jpg\",\"philip-s-yu.jpg\",\"terrence-sejnowski.jpg\",\"takeo-kanade.jpg\",\"david-haussler.jpg\",\"michael-i-jordan.jpg\",\"jiawei-han.jpg\",\"herbert-simon.jpg\",\"anil-k-jain.jpg\"],\"scholar\":[\"Sebastian Thrun\",\"Wil van der Aalst\",\"Scott Shenker\",\"Thomas S. Huang\",\"Andrew Zisserman\",\"Yoshua Bengio\",\"Geoffrey Hinton\",\"Philip S. Yu\",\"Terrence Sejnowski\",\"Takeo Kanade\",\"David Haussler\",\"Michael I. Jordan\",\"Jiawei Han\",\"Herbert Simon\",\"Anil K. Jain\"]},\"selected\":{\"id\":\"1046\"},\"selection_policy\":{\"id\":\"1047\"}},\"id\":\"1002\",\"type\":\"ColumnDataSource\"},{\"attributes\":{\"source\":{\"id\":\"1002\"}},\"id\":\"1039\",\"type\":\"CDSView\"},{\"attributes\":{},\"id\":\"1022\",\"type\":\"WheelZoomTool\"},{\"attributes\":{\"data_source\":{\"id\":\"1002\"},\"glyph\":{\"id\":\"1036\"},\"hover_glyph\":null,\"muted_glyph\":null,\"nonselection_glyph\":{\"id\":\"1037\"},\"selection_glyph\":null,\"view\":{\"id\":\"1039\"}},\"id\":\"1038\",\"type\":\"GlyphRenderer\"},{\"attributes\":{\"fill_alpha\":{\"value\":0.1},\"fill_color\":{\"value\":\"orange\"},\"height\":{\"value\":0.75},\"line_alpha\":{\"value\":0.1},\"line_color\":{\"value\":\"#1f77b4\"},\"right\":{\"field\":\"h_index\"},\"y\":{\"field\":\"scholar\"}},\"id\":\"1037\",\"type\":\"HBar\"},{\"attributes\":{\"text\":\"CS Scientists\"},\"id\":\"1004\",\"type\":\"Title\"},{\"attributes\":{\"factors\":[\"Sebastian Thrun\",\"Wil van der Aalst\",\"Scott Shenker\",\"Thomas S. Huang\",\"Andrew Zisserman\",\"Yoshua Bengio\",\"Geoffrey Hinton\",\"Philip S. Yu\",\"Terrence Sejnowski\",\"Takeo Kanade\",\"David Haussler\",\"Michael I. Jordan\",\"Jiawei Han\",\"Herbert Simon\",\"Anil K. Jain\"]},\"id\":\"1008\",\"type\":\"FactorRange\"},{\"attributes\":{},\"id\":\"1046\",\"type\":\"Selection\"},{\"attributes\":{},\"id\":\"1006\",\"type\":\"DataRange1d\"},{\"attributes\":{\"formatter\":{\"id\":\"1044\"},\"ticker\":{\"id\":\"1019\"}},\"id\":\"1018\",\"type\":\"CategoricalAxis\"},{\"attributes\":{},\"id\":\"1047\",\"type\":\"UnionRenderers\"},{\"attributes\":{},\"id\":\"1015\",\"type\":\"BasicTicker\"},{\"attributes\":{},\"id\":\"1026\",\"type\":\"HelpTool\"},{\"attributes\":{\"formatter\":{\"id\":\"1042\"},\"ticker\":{\"id\":\"1015\"}},\"id\":\"1014\",\"type\":\"LinearAxis\"},{\"attributes\":{},\"id\":\"1021\",\"type\":\"PanTool\"},{\"attributes\":{},\"id\":\"1024\",\"type\":\"SaveTool\"},{\"attributes\":{},\"id\":\"1025\",\"type\":\"ResetTool\"},{\"attributes\":{\"callback\":null,\"tooltips\":\"\\n<div style=\\\"background-color:gray; padding:5px\\\">\\n  <h3>@scholar</h3>\\n  <div><strong>H-index</strong> @h_index</div>\\n  <div><strong>Institution</strong> @institution</div>\\n  <div><img src=\\\"./sebastian-thrun.jpg\\\" alt=\\\"\\\" width=\\\"200\\\" /></div>\\n</div>\\n\"},\"id\":\"1096\",\"type\":\"HoverTool\"},{\"attributes\":{\"fill_alpha\":{\"value\":0.5},\"fill_color\":{\"value\":\"orange\"},\"height\":{\"value\":0.75},\"line_color\":{\"value\":\"#1f77b4\"},\"right\":{\"field\":\"h_index\"},\"y\":{\"field\":\"scholar\"}},\"id\":\"1036\",\"type\":\"HBar\"},{\"attributes\":{},\"id\":\"1019\",\"type\":\"CategoricalTicker\"},{\"attributes\":{},\"id\":\"1042\",\"type\":\"BasicTickFormatter\"},{\"attributes\":{\"bottom_units\":\"screen\",\"fill_alpha\":0.5,\"fill_color\":\"lightgrey\",\"left_units\":\"screen\",\"level\":\"overlay\",\"line_alpha\":1.0,\"line_color\":\"black\",\"line_dash\":[4,4],\"line_width\":2,\"right_units\":\"screen\",\"top_units\":\"screen\"},\"id\":\"1027\",\"type\":\"BoxAnnotation\"},{\"attributes\":{},\"id\":\"1044\",\"type\":\"CategoricalTickFormatter\"},{\"attributes\":{\"active_drag\":\"auto\",\"active_inspect\":\"auto\",\"active_multi\":null,\"active_scroll\":\"auto\",\"active_tap\":\"auto\",\"tools\":[{\"id\":\"1021\"},{\"id\":\"1022\"},{\"id\":\"1023\"},{\"id\":\"1024\"},{\"id\":\"1025\"},{\"id\":\"1026\"},{\"id\":\"1096\"}]},\"id\":\"1028\",\"type\":\"Toolbar\"},{\"attributes\":{},\"id\":\"1012\",\"type\":\"CategoricalScale\"},{\"attributes\":{\"axis\":{\"id\":\"1014\"},\"ticker\":null},\"id\":\"1017\",\"type\":\"Grid\"},{\"attributes\":{},\"id\":\"1010\",\"type\":\"LinearScale\"}],\"root_ids\":[\"1003\"]},\"title\":\"Bokeh Application\",\"version\":\"2.1.0\"}};\n",
       "  var render_items = [{\"docid\":\"f66888d5-c7f2-485a-a2c4-40f7e5e4afbc\",\"root_ids\":[\"1003\"],\"roots\":{\"1003\":\"d124382b-49f6-4162-ab0f-d7227336eaae\"}}];\n",
       "  root.Bokeh.embed.embed_items_notebook(docs_json, render_items);\n",
       "\n",
       "  }\n",
       "  if (root.Bokeh !== undefined) {\n",
       "    embed_document(root);\n",
       "  } else {\n",
       "    var attempts = 0;\n",
       "    var timer = setInterval(function(root) {\n",
       "      if (root.Bokeh !== undefined) {\n",
       "        clearInterval(timer);\n",
       "        embed_document(root);\n",
       "      } else {\n",
       "        attempts++;\n",
       "        if (attempts > 100) {\n",
       "          clearInterval(timer);\n",
       "          console.log(\"Bokeh: ERROR: Unable to run BokehJS code because BokehJS library is missing\");\n",
       "        }\n",
       "      }\n",
       "    }, 10, root)\n",
       "  }\n",
       "})(window);"
      ],
      "application/vnd.bokehjs_exec.v0+json": ""
     },
     "metadata": {
      "application/vnd.bokehjs_exec.v0+json": {
       "id": "1003"
      }
     },
     "output_type": "display_data"
    }
   ],
   "source": [
    "hover.tooltips = \"\"\"\n",
    "<div style=\"background-color:gray; padding:5px\">\n",
    "  <h3>@scholar</h3>\n",
    "  <div><strong>H-index</strong> @h_index</div>\n",
    "  <div><strong>Institution</strong> @institution</div>\n",
    "  <div><img src=\"./sebastian-thrun.jpg\" alt=\"\" width=\"200\" /></div>\n",
    "</div>\n",
    "\"\"\"\n",
    "show(p)"
   ]
  },
  {
   "cell_type": "code",
   "execution_count": null,
   "metadata": {},
   "outputs": [],
   "source": []
  },
  {
   "cell_type": "markdown",
   "metadata": {},
   "source": [
    "# Holoviews"
   ]
  },
  {
   "cell_type": "markdown",
   "metadata": {},
   "source": [
    "Just like for Matplotlib there are libarries taht provide a simpler API, there is also a library **Holoviews** that does exactly that.\n"
   ]
  },
  {
   "cell_type": "code",
   "execution_count": 65,
   "metadata": {},
   "outputs": [
    {
     "data": {
      "text/plain": [
       "\u001b[0;31mSignature:\u001b[0m \u001b[0mp\u001b[0m\u001b[0;34m.\u001b[0m\u001b[0mselect\u001b[0m\u001b[0;34m(\u001b[0m\u001b[0;34m*\u001b[0m\u001b[0margs\u001b[0m\u001b[0;34m,\u001b[0m \u001b[0;34m**\u001b[0m\u001b[0mkwargs\u001b[0m\u001b[0;34m)\u001b[0m\u001b[0;34m\u001b[0m\u001b[0;34m\u001b[0m\u001b[0m\n",
       "\u001b[0;31mDocstring:\u001b[0m\n",
       "Query this object and all of its references for objects that\n",
       "match the given selector.\n",
       "\n",
       "There are a few different ways to call the ``select`` method.\n",
       "The most general is to supply a JSON-like query dictionary as the\n",
       "single argument or as keyword arguments:\n",
       "\n",
       "Args:\n",
       "    selector (JSON-like) : some sample text\n",
       "\n",
       "Keyword Arguments:\n",
       "    kwargs : query dict key/values as keyword arguments\n",
       "\n",
       "Additionally, for compatibility with ``Model.select``, a selector\n",
       "dict may be passed as ``selector`` keyword argument, in which case\n",
       "the value of ``kwargs['selector']`` is used for the query.\n",
       "\n",
       "For convenience, queries on just names can be made by supplying\n",
       "the ``name`` string as the single parameter:\n",
       "\n",
       "Args:\n",
       "    name (str) : the name to query on\n",
       "\n",
       "Also queries on just type can be made simply by supplying the\n",
       "``Model`` subclass as the single parameter:\n",
       "\n",
       "Args:\n",
       "    type (Model) : the type to query on\n",
       "\n",
       "Returns:\n",
       "    seq[Model]\n",
       "\n",
       "Examples:\n",
       "\n",
       "    .. code-block:: python\n",
       "\n",
       "        # These three are equivalent\n",
       "        p.select(selector={\"type\": HoverTool})\n",
       "        p.select({\"type\": HoverTool})\n",
       "        p.select(HoverTool)\n",
       "\n",
       "        # These two are also equivalent\n",
       "        p.select({\"name\": \"mycircle\"})\n",
       "        p.select(\"mycircle\")\n",
       "\n",
       "        # Keyword arguments can be supplied in place of selector dict\n",
       "        p.select({\"name\": \"foo\", \"type\": HoverTool})\n",
       "        p.select(name=\"foo\", type=HoverTool)\n",
       "\u001b[0;31mFile:\u001b[0m      ~/anaconda3/envs/lab2py38/lib/python3.8/site-packages/bokeh/models/plots.py\n",
       "\u001b[0;31mType:\u001b[0m      method\n"
      ]
     },
     "metadata": {},
     "output_type": "display_data"
    }
   ],
   "source": [
    "p.select?"
   ]
  },
  {
   "cell_type": "code",
   "execution_count": 140,
   "metadata": {},
   "outputs": [
    {
     "ename": "RuntimeError",
     "evalue": "Models must be owned by only a single document, WheelZoomTool(id='6005', ...) is already in a doc",
     "output_type": "error",
     "traceback": [
      "\u001b[0;31m---------------------------------------------------------------------------\u001b[0m",
      "\u001b[0;31mRuntimeError\u001b[0m                              Traceback (most recent call last)",
      "\u001b[0;32m<ipython-input-140-ef96e434ef76>\u001b[0m in \u001b[0;36m<module>\u001b[0;34m\u001b[0m\n\u001b[1;32m      4\u001b[0m                  ]\n\u001b[1;32m      5\u001b[0m \u001b[0mp\u001b[0m\u001b[0;34m.\u001b[0m\u001b[0madd_tools\u001b[0m\u001b[0;34m(\u001b[0m\u001b[0mhover\u001b[0m\u001b[0;34m)\u001b[0m\u001b[0;34m\u001b[0m\u001b[0;34m\u001b[0m\u001b[0m\n\u001b[0;32m----> 6\u001b[0;31m \u001b[0mshow\u001b[0m\u001b[0;34m(\u001b[0m\u001b[0mp\u001b[0m\u001b[0;34m)\u001b[0m\u001b[0;34m\u001b[0m\u001b[0;34m\u001b[0m\u001b[0m\n\u001b[0m",
      "\u001b[0;32m~/anaconda3/envs/lab2py38/lib/python3.8/site-packages/bokeh/io/showing.py\u001b[0m in \u001b[0;36mshow\u001b[0;34m(obj, browser, new, notebook_handle, notebook_url, **kw)\u001b[0m\n\u001b[1;32m    137\u001b[0m         \u001b[0;32mreturn\u001b[0m \u001b[0mrun_notebook_hook\u001b[0m\u001b[0;34m(\u001b[0m\u001b[0mstate\u001b[0m\u001b[0;34m.\u001b[0m\u001b[0mnotebook_type\u001b[0m\u001b[0;34m,\u001b[0m \u001b[0;34m'app'\u001b[0m\u001b[0;34m,\u001b[0m \u001b[0mobj\u001b[0m\u001b[0;34m,\u001b[0m \u001b[0mstate\u001b[0m\u001b[0;34m,\u001b[0m \u001b[0mnotebook_url\u001b[0m\u001b[0;34m,\u001b[0m \u001b[0;34m**\u001b[0m\u001b[0mkw\u001b[0m\u001b[0;34m)\u001b[0m\u001b[0;34m\u001b[0m\u001b[0;34m\u001b[0m\u001b[0m\n\u001b[1;32m    138\u001b[0m \u001b[0;34m\u001b[0m\u001b[0m\n\u001b[0;32m--> 139\u001b[0;31m     \u001b[0;32mreturn\u001b[0m \u001b[0m_show_with_state\u001b[0m\u001b[0;34m(\u001b[0m\u001b[0mobj\u001b[0m\u001b[0;34m,\u001b[0m \u001b[0mstate\u001b[0m\u001b[0;34m,\u001b[0m \u001b[0mbrowser\u001b[0m\u001b[0;34m,\u001b[0m \u001b[0mnew\u001b[0m\u001b[0;34m,\u001b[0m \u001b[0mnotebook_handle\u001b[0m\u001b[0;34m=\u001b[0m\u001b[0mnotebook_handle\u001b[0m\u001b[0;34m)\u001b[0m\u001b[0;34m\u001b[0m\u001b[0;34m\u001b[0m\u001b[0m\n\u001b[0m\u001b[1;32m    140\u001b[0m \u001b[0;34m\u001b[0m\u001b[0m\n\u001b[1;32m    141\u001b[0m \u001b[0;31m#-----------------------------------------------------------------------------\u001b[0m\u001b[0;34m\u001b[0m\u001b[0;34m\u001b[0m\u001b[0;34m\u001b[0m\u001b[0m\n",
      "\u001b[0;32m~/anaconda3/envs/lab2py38/lib/python3.8/site-packages/bokeh/io/showing.py\u001b[0m in \u001b[0;36m_show_with_state\u001b[0;34m(obj, state, browser, new, notebook_handle)\u001b[0m\n\u001b[1;32m    171\u001b[0m \u001b[0;34m\u001b[0m\u001b[0m\n\u001b[1;32m    172\u001b[0m     \u001b[0;32mif\u001b[0m \u001b[0mstate\u001b[0m\u001b[0;34m.\u001b[0m\u001b[0mnotebook\u001b[0m\u001b[0;34m:\u001b[0m\u001b[0;34m\u001b[0m\u001b[0;34m\u001b[0m\u001b[0m\n\u001b[0;32m--> 173\u001b[0;31m         \u001b[0mcomms_handle\u001b[0m \u001b[0;34m=\u001b[0m \u001b[0mrun_notebook_hook\u001b[0m\u001b[0;34m(\u001b[0m\u001b[0mstate\u001b[0m\u001b[0;34m.\u001b[0m\u001b[0mnotebook_type\u001b[0m\u001b[0;34m,\u001b[0m \u001b[0;34m'doc'\u001b[0m\u001b[0;34m,\u001b[0m \u001b[0mobj\u001b[0m\u001b[0;34m,\u001b[0m \u001b[0mstate\u001b[0m\u001b[0;34m,\u001b[0m \u001b[0mnotebook_handle\u001b[0m\u001b[0;34m)\u001b[0m\u001b[0;34m\u001b[0m\u001b[0;34m\u001b[0m\u001b[0m\n\u001b[0m\u001b[1;32m    174\u001b[0m         \u001b[0mshown\u001b[0m \u001b[0;34m=\u001b[0m \u001b[0;32mTrue\u001b[0m\u001b[0;34m\u001b[0m\u001b[0;34m\u001b[0m\u001b[0m\n\u001b[1;32m    175\u001b[0m \u001b[0;34m\u001b[0m\u001b[0m\n",
      "\u001b[0;32m~/anaconda3/envs/lab2py38/lib/python3.8/site-packages/bokeh/io/notebook.py\u001b[0m in \u001b[0;36mrun_notebook_hook\u001b[0;34m(notebook_type, action, *args, **kw)\u001b[0m\n\u001b[1;32m    296\u001b[0m     \u001b[0;32mif\u001b[0m \u001b[0m_HOOKS\u001b[0m\u001b[0;34m[\u001b[0m\u001b[0mnotebook_type\u001b[0m\u001b[0;34m]\u001b[0m\u001b[0;34m[\u001b[0m\u001b[0maction\u001b[0m\u001b[0;34m]\u001b[0m \u001b[0;32mis\u001b[0m \u001b[0;32mNone\u001b[0m\u001b[0;34m:\u001b[0m\u001b[0;34m\u001b[0m\u001b[0;34m\u001b[0m\u001b[0m\n\u001b[1;32m    297\u001b[0m         \u001b[0;32mraise\u001b[0m \u001b[0mRuntimeError\u001b[0m\u001b[0;34m(\u001b[0m\u001b[0;34m\"notebook hook for %r did not install %r action\"\u001b[0m \u001b[0;34m%\u001b[0m \u001b[0mnotebook_type\u001b[0m\u001b[0;34m,\u001b[0m \u001b[0maction\u001b[0m\u001b[0;34m)\u001b[0m\u001b[0;34m\u001b[0m\u001b[0;34m\u001b[0m\u001b[0m\n\u001b[0;32m--> 298\u001b[0;31m     \u001b[0;32mreturn\u001b[0m \u001b[0m_HOOKS\u001b[0m\u001b[0;34m[\u001b[0m\u001b[0mnotebook_type\u001b[0m\u001b[0;34m]\u001b[0m\u001b[0;34m[\u001b[0m\u001b[0maction\u001b[0m\u001b[0;34m]\u001b[0m\u001b[0;34m(\u001b[0m\u001b[0;34m*\u001b[0m\u001b[0margs\u001b[0m\u001b[0;34m,\u001b[0m \u001b[0;34m**\u001b[0m\u001b[0mkw\u001b[0m\u001b[0;34m)\u001b[0m\u001b[0;34m\u001b[0m\u001b[0;34m\u001b[0m\u001b[0m\n\u001b[0m\u001b[1;32m    299\u001b[0m \u001b[0;34m\u001b[0m\u001b[0m\n\u001b[1;32m    300\u001b[0m \u001b[0;31m#-----------------------------------------------------------------------------\u001b[0m\u001b[0;34m\u001b[0m\u001b[0;34m\u001b[0m\u001b[0;34m\u001b[0m\u001b[0m\n",
      "\u001b[0;32m~/anaconda3/envs/lab2py38/lib/python3.8/site-packages/bokeh/io/notebook.py\u001b[0m in \u001b[0;36mshow_doc\u001b[0;34m(obj, state, notebook_handle)\u001b[0m\n\u001b[1;32m    502\u001b[0m     '''\n\u001b[1;32m    503\u001b[0m     \u001b[0;32mif\u001b[0m \u001b[0mobj\u001b[0m \u001b[0;32mnot\u001b[0m \u001b[0;32min\u001b[0m \u001b[0mstate\u001b[0m\u001b[0;34m.\u001b[0m\u001b[0mdocument\u001b[0m\u001b[0;34m.\u001b[0m\u001b[0mroots\u001b[0m\u001b[0;34m:\u001b[0m\u001b[0;34m\u001b[0m\u001b[0;34m\u001b[0m\u001b[0m\n\u001b[0;32m--> 504\u001b[0;31m         \u001b[0mstate\u001b[0m\u001b[0;34m.\u001b[0m\u001b[0mdocument\u001b[0m\u001b[0;34m.\u001b[0m\u001b[0madd_root\u001b[0m\u001b[0;34m(\u001b[0m\u001b[0mobj\u001b[0m\u001b[0;34m)\u001b[0m\u001b[0;34m\u001b[0m\u001b[0;34m\u001b[0m\u001b[0m\n\u001b[0m\u001b[1;32m    505\u001b[0m \u001b[0;34m\u001b[0m\u001b[0m\n\u001b[1;32m    506\u001b[0m     \u001b[0;32mfrom\u001b[0m \u001b[0;34m.\u001b[0m\u001b[0;34m.\u001b[0m\u001b[0membed\u001b[0m\u001b[0;34m.\u001b[0m\u001b[0mnotebook\u001b[0m \u001b[0;32mimport\u001b[0m \u001b[0mnotebook_content\u001b[0m\u001b[0;34m\u001b[0m\u001b[0;34m\u001b[0m\u001b[0m\n",
      "\u001b[0;32m~/anaconda3/envs/lab2py38/lib/python3.8/site-packages/bokeh/document/document.py\u001b[0m in \u001b[0;36madd_root\u001b[0;34m(self, model, setter)\u001b[0m\n\u001b[1;32m    317\u001b[0m             \u001b[0mself\u001b[0m\u001b[0;34m.\u001b[0m\u001b[0m_roots\u001b[0m\u001b[0;34m.\u001b[0m\u001b[0mappend\u001b[0m\u001b[0;34m(\u001b[0m\u001b[0mmodel\u001b[0m\u001b[0;34m)\u001b[0m\u001b[0;34m\u001b[0m\u001b[0;34m\u001b[0m\u001b[0m\n\u001b[1;32m    318\u001b[0m         \u001b[0;32mfinally\u001b[0m\u001b[0;34m:\u001b[0m\u001b[0;34m\u001b[0m\u001b[0;34m\u001b[0m\u001b[0m\n\u001b[0;32m--> 319\u001b[0;31m             \u001b[0mself\u001b[0m\u001b[0;34m.\u001b[0m\u001b[0m_pop_all_models_freeze\u001b[0m\u001b[0;34m(\u001b[0m\u001b[0;34m)\u001b[0m\u001b[0;34m\u001b[0m\u001b[0;34m\u001b[0m\u001b[0m\n\u001b[0m\u001b[1;32m    320\u001b[0m         \u001b[0mself\u001b[0m\u001b[0;34m.\u001b[0m\u001b[0m_trigger_on_change\u001b[0m\u001b[0;34m(\u001b[0m\u001b[0mRootAddedEvent\u001b[0m\u001b[0;34m(\u001b[0m\u001b[0mself\u001b[0m\u001b[0;34m,\u001b[0m \u001b[0mmodel\u001b[0m\u001b[0;34m,\u001b[0m \u001b[0msetter\u001b[0m\u001b[0;34m)\u001b[0m\u001b[0;34m)\u001b[0m\u001b[0;34m\u001b[0m\u001b[0;34m\u001b[0m\u001b[0m\n\u001b[1;32m    321\u001b[0m \u001b[0;34m\u001b[0m\u001b[0m\n",
      "\u001b[0;32m~/anaconda3/envs/lab2py38/lib/python3.8/site-packages/bokeh/document/document.py\u001b[0m in \u001b[0;36m_pop_all_models_freeze\u001b[0;34m(self)\u001b[0m\n\u001b[1;32m   1054\u001b[0m         \u001b[0mself\u001b[0m\u001b[0;34m.\u001b[0m\u001b[0m_all_models_freeze_count\u001b[0m \u001b[0;34m-=\u001b[0m \u001b[0;36m1\u001b[0m\u001b[0;34m\u001b[0m\u001b[0;34m\u001b[0m\u001b[0m\n\u001b[1;32m   1055\u001b[0m         \u001b[0;32mif\u001b[0m \u001b[0mself\u001b[0m\u001b[0;34m.\u001b[0m\u001b[0m_all_models_freeze_count\u001b[0m \u001b[0;34m==\u001b[0m \u001b[0;36m0\u001b[0m\u001b[0;34m:\u001b[0m\u001b[0;34m\u001b[0m\u001b[0;34m\u001b[0m\u001b[0m\n\u001b[0;32m-> 1056\u001b[0;31m             \u001b[0mself\u001b[0m\u001b[0;34m.\u001b[0m\u001b[0m_recompute_all_models\u001b[0m\u001b[0;34m(\u001b[0m\u001b[0;34m)\u001b[0m\u001b[0;34m\u001b[0m\u001b[0;34m\u001b[0m\u001b[0m\n\u001b[0m\u001b[1;32m   1057\u001b[0m \u001b[0;34m\u001b[0m\u001b[0m\n\u001b[1;32m   1058\u001b[0m     \u001b[0;32mdef\u001b[0m \u001b[0m_recompute_all_models\u001b[0m\u001b[0;34m(\u001b[0m\u001b[0mself\u001b[0m\u001b[0;34m)\u001b[0m\u001b[0;34m:\u001b[0m\u001b[0;34m\u001b[0m\u001b[0;34m\u001b[0m\u001b[0m\n",
      "\u001b[0;32m~/anaconda3/envs/lab2py38/lib/python3.8/site-packages/bokeh/document/document.py\u001b[0m in \u001b[0;36m_recompute_all_models\u001b[0;34m(self)\u001b[0m\n\u001b[1;32m   1077\u001b[0m             \u001b[0md\u001b[0m\u001b[0;34m.\u001b[0m\u001b[0m_detach_document\u001b[0m\u001b[0;34m(\u001b[0m\u001b[0;34m)\u001b[0m\u001b[0;34m\u001b[0m\u001b[0;34m\u001b[0m\u001b[0m\n\u001b[1;32m   1078\u001b[0m         \u001b[0;32mfor\u001b[0m \u001b[0ma\u001b[0m \u001b[0;32min\u001b[0m \u001b[0mto_attach\u001b[0m\u001b[0;34m:\u001b[0m\u001b[0;34m\u001b[0m\u001b[0;34m\u001b[0m\u001b[0m\n\u001b[0;32m-> 1079\u001b[0;31m             \u001b[0ma\u001b[0m\u001b[0;34m.\u001b[0m\u001b[0m_attach_document\u001b[0m\u001b[0;34m(\u001b[0m\u001b[0mself\u001b[0m\u001b[0;34m)\u001b[0m\u001b[0;34m\u001b[0m\u001b[0;34m\u001b[0m\u001b[0m\n\u001b[0m\u001b[1;32m   1080\u001b[0m         \u001b[0mself\u001b[0m\u001b[0;34m.\u001b[0m\u001b[0m_all_models\u001b[0m \u001b[0;34m=\u001b[0m \u001b[0mrecomputed\u001b[0m\u001b[0;34m\u001b[0m\u001b[0;34m\u001b[0m\u001b[0m\n\u001b[1;32m   1081\u001b[0m         \u001b[0mself\u001b[0m\u001b[0;34m.\u001b[0m\u001b[0m_all_models_by_name\u001b[0m \u001b[0;34m=\u001b[0m \u001b[0mrecomputed_by_name\u001b[0m\u001b[0;34m\u001b[0m\u001b[0;34m\u001b[0m\u001b[0m\n",
      "\u001b[0;32m~/anaconda3/envs/lab2py38/lib/python3.8/site-packages/bokeh/model.py\u001b[0m in \u001b[0;36m_attach_document\u001b[0;34m(self, doc)\u001b[0m\n\u001b[1;32m    669\u001b[0m         '''\n\u001b[1;32m    670\u001b[0m         \u001b[0;32mif\u001b[0m \u001b[0mself\u001b[0m\u001b[0;34m.\u001b[0m\u001b[0m_document\u001b[0m \u001b[0;32mis\u001b[0m \u001b[0;32mnot\u001b[0m \u001b[0;32mNone\u001b[0m \u001b[0;32mand\u001b[0m \u001b[0mself\u001b[0m\u001b[0;34m.\u001b[0m\u001b[0m_document\u001b[0m \u001b[0;32mis\u001b[0m \u001b[0;32mnot\u001b[0m \u001b[0mdoc\u001b[0m\u001b[0;34m:\u001b[0m\u001b[0;34m\u001b[0m\u001b[0;34m\u001b[0m\u001b[0m\n\u001b[0;32m--> 671\u001b[0;31m             \u001b[0;32mraise\u001b[0m \u001b[0mRuntimeError\u001b[0m\u001b[0;34m(\u001b[0m\u001b[0;34m\"Models must be owned by only a single document, %r is already in a doc\"\u001b[0m \u001b[0;34m%\u001b[0m \u001b[0;34m(\u001b[0m\u001b[0mself\u001b[0m\u001b[0;34m)\u001b[0m\u001b[0;34m)\u001b[0m\u001b[0;34m\u001b[0m\u001b[0;34m\u001b[0m\u001b[0m\n\u001b[0m\u001b[1;32m    672\u001b[0m         \u001b[0mdoc\u001b[0m\u001b[0;34m.\u001b[0m\u001b[0mtheme\u001b[0m\u001b[0;34m.\u001b[0m\u001b[0mapply_to_model\u001b[0m\u001b[0;34m(\u001b[0m\u001b[0mself\u001b[0m\u001b[0;34m)\u001b[0m\u001b[0;34m\u001b[0m\u001b[0;34m\u001b[0m\u001b[0m\n\u001b[1;32m    673\u001b[0m         \u001b[0mself\u001b[0m\u001b[0;34m.\u001b[0m\u001b[0m_document\u001b[0m \u001b[0;34m=\u001b[0m \u001b[0mdoc\u001b[0m\u001b[0;34m\u001b[0m\u001b[0;34m\u001b[0m\u001b[0m\n",
      "\u001b[0;31mRuntimeError\u001b[0m: Models must be owned by only a single document, WheelZoomTool(id='6005', ...) is already in a doc"
     ]
    }
   ],
   "source": []
  },
  {
   "cell_type": "code",
   "execution_count": 73,
   "metadata": {},
   "outputs": [
    {
     "data": {
      "text/plain": [
       "{'x': [1, 2, 3, 4, 5],\n",
       " 'y': array([-1.04723079,  2.12629633, -0.65295431, -0.17844728, -0.91895957])}"
      ]
     },
     "execution_count": 73,
     "metadata": {},
     "output_type": "execute_result"
    }
   ],
   "source": [
    "p.select('myline').data_source.data"
   ]
  },
  {
   "cell_type": "code",
   "execution_count": 77,
   "metadata": {},
   "outputs": [
    {
     "data": {
      "text/html": [
       "<div style=\"display: table;\"><div style=\"display: table-row;\"><div style=\"display: table-cell;\"><b title=\"bokeh.models.glyphs.Line\">Line</b>(</div><div style=\"display: table-cell;\">id&nbsp;=&nbsp;'2165', <span id=\"2641\" style=\"cursor: pointer;\">&hellip;)</span></div></div><div class=\"2640\" style=\"display: none;\"><div style=\"display: table-cell;\"></div><div style=\"display: table-cell;\">js_event_callbacks&nbsp;=&nbsp;{},</div></div><div class=\"2640\" style=\"display: none;\"><div style=\"display: table-cell;\"></div><div style=\"display: table-cell;\">js_property_callbacks&nbsp;=&nbsp;{},</div></div><div class=\"2640\" style=\"display: none;\"><div style=\"display: table-cell;\"></div><div style=\"display: table-cell;\">line_alpha&nbsp;=&nbsp;1.0,</div></div><div class=\"2640\" style=\"display: none;\"><div style=\"display: table-cell;\"></div><div style=\"display: table-cell;\">line_cap&nbsp;=&nbsp;'butt',</div></div><div class=\"2640\" style=\"display: none;\"><div style=\"display: table-cell;\"></div><div style=\"display: table-cell;\">line_color&nbsp;=&nbsp;'#1f77b4',</div></div><div class=\"2640\" style=\"display: none;\"><div style=\"display: table-cell;\"></div><div style=\"display: table-cell;\">line_dash&nbsp;=&nbsp;[],</div></div><div class=\"2640\" style=\"display: none;\"><div style=\"display: table-cell;\"></div><div style=\"display: table-cell;\">line_dash_offset&nbsp;=&nbsp;0,</div></div><div class=\"2640\" style=\"display: none;\"><div style=\"display: table-cell;\"></div><div style=\"display: table-cell;\">line_join&nbsp;=&nbsp;'bevel',</div></div><div class=\"2640\" style=\"display: none;\"><div style=\"display: table-cell;\"></div><div style=\"display: table-cell;\">line_width&nbsp;=&nbsp;1,</div></div><div class=\"2640\" style=\"display: none;\"><div style=\"display: table-cell;\"></div><div style=\"display: table-cell;\">name&nbsp;=&nbsp;None,</div></div><div class=\"2640\" style=\"display: none;\"><div style=\"display: table-cell;\"></div><div style=\"display: table-cell;\">subscribed_events&nbsp;=&nbsp;[],</div></div><div class=\"2640\" style=\"display: none;\"><div style=\"display: table-cell;\"></div><div style=\"display: table-cell;\">tags&nbsp;=&nbsp;[],</div></div><div class=\"2640\" style=\"display: none;\"><div style=\"display: table-cell;\"></div><div style=\"display: table-cell;\">x&nbsp;=&nbsp;{'field': 'x'},</div></div><div class=\"2640\" style=\"display: none;\"><div style=\"display: table-cell;\"></div><div style=\"display: table-cell;\">y&nbsp;=&nbsp;{'field': 'y'})</div></div></div>\n",
       "<script>\n",
       "(function() {\n",
       "  var expanded = false;\n",
       "  var ellipsis = document.getElementById(\"2641\");\n",
       "  ellipsis.addEventListener(\"click\", function() {\n",
       "    var rows = document.getElementsByClassName(\"2640\");\n",
       "    for (var i = 0; i < rows.length; i++) {\n",
       "      var el = rows[i];\n",
       "      el.style.display = expanded ? \"none\" : \"table-row\";\n",
       "    }\n",
       "    ellipsis.innerHTML = expanded ? \"&hellip;)\" : \"&lsaquo;&lsaquo;&lsaquo;\";\n",
       "    expanded = !expanded;\n",
       "  });\n",
       "})();\n",
       "</script>\n"
      ],
      "text/plain": [
       "Line(id='2165', ...)"
      ]
     },
     "execution_count": 77,
     "metadata": {},
     "output_type": "execute_result"
    }
   ],
   "source": [
    "p.select('myline').glyph"
   ]
  },
  {
   "cell_type": "code",
   "execution_count": 79,
   "metadata": {},
   "outputs": [
    {
     "data": {
      "text/plain": [
       "{'js_event_callbacks',\n",
       " 'js_property_callbacks',\n",
       " 'line_alpha',\n",
       " 'line_cap',\n",
       " 'line_color',\n",
       " 'line_dash',\n",
       " 'line_dash_offset',\n",
       " 'line_join',\n",
       " 'line_width',\n",
       " 'name',\n",
       " 'subscribed_events',\n",
       " 'tags',\n",
       " 'x',\n",
       " 'y'}"
      ]
     },
     "execution_count": 79,
     "metadata": {},
     "output_type": "execute_result"
    }
   ],
   "source": [
    "p.select('myline').glyph.properties()"
   ]
  },
  {
   "cell_type": "code",
   "execution_count": 82,
   "metadata": {},
   "outputs": [
    {
     "data": {
      "text/plain": [
       "{'above',\n",
       " 'align',\n",
       " 'aspect_ratio',\n",
       " 'aspect_scale',\n",
       " 'background',\n",
       " 'background_fill_alpha',\n",
       " 'background_fill_color',\n",
       " 'below',\n",
       " 'border_fill_alpha',\n",
       " 'border_fill_color',\n",
       " 'center',\n",
       " 'css_classes',\n",
       " 'disabled',\n",
       " 'extra_x_ranges',\n",
       " 'extra_y_ranges',\n",
       " 'frame_height',\n",
       " 'frame_width',\n",
       " 'height',\n",
       " 'height_policy',\n",
       " 'hidpi',\n",
       " 'inner_height',\n",
       " 'inner_width',\n",
       " 'js_event_callbacks',\n",
       " 'js_property_callbacks',\n",
       " 'left',\n",
       " 'lod_factor',\n",
       " 'lod_interval',\n",
       " 'lod_threshold',\n",
       " 'lod_timeout',\n",
       " 'margin',\n",
       " 'match_aspect',\n",
       " 'max_height',\n",
       " 'max_width',\n",
       " 'min_border',\n",
       " 'min_border_bottom',\n",
       " 'min_border_left',\n",
       " 'min_border_right',\n",
       " 'min_border_top',\n",
       " 'min_height',\n",
       " 'min_width',\n",
       " 'name',\n",
       " 'outer_height',\n",
       " 'outer_width',\n",
       " 'outline_line_alpha',\n",
       " 'outline_line_cap',\n",
       " 'outline_line_color',\n",
       " 'outline_line_dash',\n",
       " 'outline_line_dash_offset',\n",
       " 'outline_line_join',\n",
       " 'outline_line_width',\n",
       " 'output_backend',\n",
       " 'plot_height',\n",
       " 'plot_width',\n",
       " 'renderers',\n",
       " 'reset_policy',\n",
       " 'right',\n",
       " 'sizing_mode',\n",
       " 'subscribed_events',\n",
       " 'tags',\n",
       " 'title',\n",
       " 'title_location',\n",
       " 'toolbar',\n",
       " 'toolbar_location',\n",
       " 'toolbar_sticky',\n",
       " 'visible',\n",
       " 'width',\n",
       " 'width_policy',\n",
       " 'x_range',\n",
       " 'x_scale',\n",
       " 'y_range',\n",
       " 'y_scale'}"
      ]
     },
     "execution_count": 82,
     "metadata": {},
     "output_type": "execute_result"
    }
   ],
   "source": [
    "p.properties()"
   ]
  },
  {
   "cell_type": "code",
   "execution_count": 38,
   "metadata": {},
   "outputs": [
    {
     "name": "stderr",
     "output_type": "stream",
     "text": [
      "/Users/asmit/anaconda3/envs/lab2py38/lib/python3.8/site-packages/bokeh/models/plots.py:764: UserWarning: \n",
      "You are attempting to set `plot.legend.click_policy` on a plot that has zero legends added, this will have no effect.\n",
      "\n",
      "Before legend properties can be set, you must add a Legend explicitly, or call a glyph method with a legend parameter set.\n",
      "\n",
      "  warnings.warn(_LEGEND_EMPTY_WARNING % attr)\n"
     ]
    }
   ],
   "source": [
    "p.legend.click_policy='hide'"
   ]
  },
  {
   "cell_type": "code",
   "execution_count": 52,
   "metadata": {
    "collapsed": true,
    "jupyter": {
     "outputs_hidden": true
    }
   },
   "outputs": [
    {
     "data": {
      "text/plain": [
       "['__cached_all__overridden_defaults__',\n",
       " '__cached_all__properties__',\n",
       " '__cached_all__properties_with_refs__',\n",
       " '__class__',\n",
       " '__container_props__',\n",
       " '__delattr__',\n",
       " '__dict__',\n",
       " '__dir__',\n",
       " '__doc__',\n",
       " '__eq__',\n",
       " '__format__',\n",
       " '__ge__',\n",
       " '__getattribute__',\n",
       " '__gt__',\n",
       " '__hash__',\n",
       " '__init__',\n",
       " '__init_subclass__',\n",
       " '__le__',\n",
       " '__lt__',\n",
       " '__module__',\n",
       " '__ne__',\n",
       " '__new__',\n",
       " '__overridden_defaults__',\n",
       " '__properties__',\n",
       " '__properties_with_refs__',\n",
       " '__qualified_model__',\n",
       " '__reduce__',\n",
       " '__reduce_ex__',\n",
       " '__repr__',\n",
       " '__setattr__',\n",
       " '__sizeof__',\n",
       " '__str__',\n",
       " '__subclasshook__',\n",
       " '__subtype__',\n",
       " '__view_model__',\n",
       " '__view_module__',\n",
       " '__weakref__',\n",
       " '_attach_document',\n",
       " '_axis',\n",
       " '_callbacks',\n",
       " '_check_bad_extra_range_name',\n",
       " '_check_compatible_scale_and_ranges',\n",
       " '_check_fixed_height_policy',\n",
       " '_check_fixed_sizing_mode',\n",
       " '_check_fixed_width_policy',\n",
       " '_check_missing_renderers',\n",
       " '_check_required_range',\n",
       " '_check_required_scale',\n",
       " '_clear_extensions',\n",
       " '_clone',\n",
       " '_detach_document',\n",
       " '_document',\n",
       " '_event_callbacks',\n",
       " '_grid',\n",
       " '_id',\n",
       " '_line_stack',\n",
       " '_min_preferred_max_height',\n",
       " '_min_preferred_max_width',\n",
       " '_overridden_defaults',\n",
       " '_property_values',\n",
       " '_repr_html_',\n",
       " '_scale',\n",
       " '_scatter',\n",
       " '_temp_document',\n",
       " '_to_json_like',\n",
       " '_trigger_event',\n",
       " '_unstable_default_values',\n",
       " '_unstable_themed_values',\n",
       " '_update_event_callbacks',\n",
       " 'above',\n",
       " 'add_glyph',\n",
       " 'add_layout',\n",
       " 'add_tile',\n",
       " 'add_tools',\n",
       " 'align',\n",
       " 'annular_wedge',\n",
       " 'annulus',\n",
       " 'apply_theme',\n",
       " 'arc',\n",
       " 'aspect_ratio',\n",
       " 'aspect_scale',\n",
       " 'asterisk',\n",
       " 'axis',\n",
       " 'background',\n",
       " 'background_fill_alpha',\n",
       " 'background_fill_color',\n",
       " 'below',\n",
       " 'bezier',\n",
       " 'border_fill_alpha',\n",
       " 'border_fill_color',\n",
       " 'center',\n",
       " 'circle',\n",
       " 'circle_cross',\n",
       " 'circle_dot',\n",
       " 'circle_x',\n",
       " 'circle_y',\n",
       " 'column',\n",
       " 'cross',\n",
       " 'css_classes',\n",
       " 'dash',\n",
       " 'dataspecs',\n",
       " 'dataspecs_with_props',\n",
       " 'diamond',\n",
       " 'diamond_cross',\n",
       " 'diamond_dot',\n",
       " 'disabled',\n",
       " 'document',\n",
       " 'dot',\n",
       " 'ellipse',\n",
       " 'equals',\n",
       " 'extra_x_ranges',\n",
       " 'extra_y_ranges',\n",
       " 'frame_height',\n",
       " 'frame_width',\n",
       " 'graph',\n",
       " 'grid',\n",
       " 'harea',\n",
       " 'harea_stack',\n",
       " 'hbar',\n",
       " 'hbar_stack',\n",
       " 'height',\n",
       " 'height_policy',\n",
       " 'hex',\n",
       " 'hex_dot',\n",
       " 'hex_tile',\n",
       " 'hexbin',\n",
       " 'hidpi',\n",
       " 'hline_stack',\n",
       " 'hover',\n",
       " 'id',\n",
       " 'image',\n",
       " 'image_rgba',\n",
       " 'image_url',\n",
       " 'inner_height',\n",
       " 'inner_width',\n",
       " 'inverted_triangle',\n",
       " 'js_event_callbacks',\n",
       " 'js_link',\n",
       " 'js_on_change',\n",
       " 'js_on_event',\n",
       " 'js_property_callbacks',\n",
       " 'layout',\n",
       " 'left',\n",
       " 'legend',\n",
       " 'line',\n",
       " 'lod_factor',\n",
       " 'lod_interval',\n",
       " 'lod_threshold',\n",
       " 'lod_timeout',\n",
       " 'lookup',\n",
       " 'margin',\n",
       " 'match_aspect',\n",
       " 'max_height',\n",
       " 'max_width',\n",
       " 'min_border',\n",
       " 'min_border_bottom',\n",
       " 'min_border_left',\n",
       " 'min_border_right',\n",
       " 'min_border_top',\n",
       " 'min_height',\n",
       " 'min_width',\n",
       " 'model_class_reverse_map',\n",
       " 'multi_line',\n",
       " 'multi_polygons',\n",
       " 'name',\n",
       " 'on_change',\n",
       " 'on_event',\n",
       " 'outer_height',\n",
       " 'outer_width',\n",
       " 'outline_line_alpha',\n",
       " 'outline_line_cap',\n",
       " 'outline_line_color',\n",
       " 'outline_line_dash',\n",
       " 'outline_line_dash_offset',\n",
       " 'outline_line_join',\n",
       " 'outline_line_width',\n",
       " 'output_backend',\n",
       " 'oval',\n",
       " 'patch',\n",
       " 'patches',\n",
       " 'plot_height',\n",
       " 'plot_width',\n",
       " 'plus',\n",
       " 'properties',\n",
       " 'properties_containers',\n",
       " 'properties_with_refs',\n",
       " 'properties_with_values',\n",
       " 'quad',\n",
       " 'quadratic',\n",
       " 'query_properties_with_values',\n",
       " 'ray',\n",
       " 'rect',\n",
       " 'ref',\n",
       " 'references',\n",
       " 'remove_on_change',\n",
       " 'renderers',\n",
       " 'reset_policy',\n",
       " 'right',\n",
       " 'row',\n",
       " 'scatter',\n",
       " 'segment',\n",
       " 'select',\n",
       " 'select_one',\n",
       " 'set_from_json',\n",
       " 'set_select',\n",
       " 'sizing_mode',\n",
       " 'square',\n",
       " 'square_cross',\n",
       " 'square_dot',\n",
       " 'square_pin',\n",
       " 'square_x',\n",
       " 'step',\n",
       " 'struct',\n",
       " 'subscribed_events',\n",
       " 'tags',\n",
       " 'text',\n",
       " 'themed_values',\n",
       " 'title',\n",
       " 'title_location',\n",
       " 'to_json',\n",
       " 'to_json_string',\n",
       " 'toolbar',\n",
       " 'toolbar_location',\n",
       " 'toolbar_sticky',\n",
       " 'tools',\n",
       " 'triangle',\n",
       " 'triangle_dot',\n",
       " 'triangle_pin',\n",
       " 'trigger',\n",
       " 'unapply_theme',\n",
       " 'update',\n",
       " 'update_from_json',\n",
       " 'varea',\n",
       " 'varea_stack',\n",
       " 'vbar',\n",
       " 'vbar_stack',\n",
       " 'visible',\n",
       " 'vline_stack',\n",
       " 'wedge',\n",
       " 'width',\n",
       " 'width_policy',\n",
       " 'x',\n",
       " 'x_range',\n",
       " 'x_scale',\n",
       " 'xaxis',\n",
       " 'xgrid',\n",
       " 'y',\n",
       " 'y_range',\n",
       " 'y_scale',\n",
       " 'yaxis',\n",
       " 'ygrid']"
      ]
     },
     "execution_count": 52,
     "metadata": {},
     "output_type": "execute_result"
    }
   ],
   "source": [
    "dir(p)"
   ]
  },
  {
   "cell_type": "code",
   "execution_count": 37,
   "metadata": {},
   "outputs": [
    {
     "data": {
      "text/html": [
       "<div style=\"display: table;\"><div style=\"display: table-row;\"><div style=\"display: table-cell;\"><b title=\"bokeh.plotting.figure.Figure\">Figure</b>(</div><div style=\"display: table-cell;\">id&nbsp;=&nbsp;'1053', <span id=\"1970\" style=\"cursor: pointer;\">&hellip;)</span></div></div><div class=\"1969\" style=\"display: none;\"><div style=\"display: table-cell;\"></div><div style=\"display: table-cell;\">above&nbsp;=&nbsp;[],</div></div><div class=\"1969\" style=\"display: none;\"><div style=\"display: table-cell;\"></div><div style=\"display: table-cell;\">align&nbsp;=&nbsp;'start',</div></div><div class=\"1969\" style=\"display: none;\"><div style=\"display: table-cell;\"></div><div style=\"display: table-cell;\">aspect_ratio&nbsp;=&nbsp;2,</div></div><div class=\"1969\" style=\"display: none;\"><div style=\"display: table-cell;\"></div><div style=\"display: table-cell;\">aspect_scale&nbsp;=&nbsp;1,</div></div><div class=\"1969\" style=\"display: none;\"><div style=\"display: table-cell;\"></div><div style=\"display: table-cell;\">background&nbsp;=&nbsp;None,</div></div><div class=\"1969\" style=\"display: none;\"><div style=\"display: table-cell;\"></div><div style=\"display: table-cell;\">background_fill_alpha&nbsp;=&nbsp;1.0,</div></div><div class=\"1969\" style=\"display: none;\"><div style=\"display: table-cell;\"></div><div style=\"display: table-cell;\">background_fill_color&nbsp;=&nbsp;'#ffffff',</div></div><div class=\"1969\" style=\"display: none;\"><div style=\"display: table-cell;\"></div><div style=\"display: table-cell;\">below&nbsp;=&nbsp;[LinearAxis(id='1062', ...)],</div></div><div class=\"1969\" style=\"display: none;\"><div style=\"display: table-cell;\"></div><div style=\"display: table-cell;\">border_fill_alpha&nbsp;=&nbsp;1.0,</div></div><div class=\"1969\" style=\"display: none;\"><div style=\"display: table-cell;\"></div><div style=\"display: table-cell;\">border_fill_color&nbsp;=&nbsp;'#ffffff',</div></div><div class=\"1969\" style=\"display: none;\"><div style=\"display: table-cell;\"></div><div style=\"display: table-cell;\">center&nbsp;=&nbsp;[Grid(id='1065', ...), Grid(id='1069', ...)],</div></div><div class=\"1969\" style=\"display: none;\"><div style=\"display: table-cell;\"></div><div style=\"display: table-cell;\">css_classes&nbsp;=&nbsp;[],</div></div><div class=\"1969\" style=\"display: none;\"><div style=\"display: table-cell;\"></div><div style=\"display: table-cell;\">disabled&nbsp;=&nbsp;False,</div></div><div class=\"1969\" style=\"display: none;\"><div style=\"display: table-cell;\"></div><div style=\"display: table-cell;\">extra_x_ranges&nbsp;=&nbsp;{},</div></div><div class=\"1969\" style=\"display: none;\"><div style=\"display: table-cell;\"></div><div style=\"display: table-cell;\">extra_y_ranges&nbsp;=&nbsp;{},</div></div><div class=\"1969\" style=\"display: none;\"><div style=\"display: table-cell;\"></div><div style=\"display: table-cell;\">frame_height&nbsp;=&nbsp;None,</div></div><div class=\"1969\" style=\"display: none;\"><div style=\"display: table-cell;\"></div><div style=\"display: table-cell;\">frame_width&nbsp;=&nbsp;None,</div></div><div class=\"1969\" style=\"display: none;\"><div style=\"display: table-cell;\"></div><div style=\"display: table-cell;\">height&nbsp;=&nbsp;None,</div></div><div class=\"1969\" style=\"display: none;\"><div style=\"display: table-cell;\"></div><div style=\"display: table-cell;\">height_policy&nbsp;=&nbsp;'auto',</div></div><div class=\"1969\" style=\"display: none;\"><div style=\"display: table-cell;\"></div><div style=\"display: table-cell;\">hidpi&nbsp;=&nbsp;True,</div></div><div class=\"1969\" style=\"display: none;\"><div style=\"display: table-cell;\"></div><div style=\"display: table-cell;\">js_event_callbacks&nbsp;=&nbsp;{},</div></div><div class=\"1969\" style=\"display: none;\"><div style=\"display: table-cell;\"></div><div style=\"display: table-cell;\">js_property_callbacks&nbsp;=&nbsp;{},</div></div><div class=\"1969\" style=\"display: none;\"><div style=\"display: table-cell;\"></div><div style=\"display: table-cell;\">left&nbsp;=&nbsp;[LinearAxis(id='1066', ...)],</div></div><div class=\"1969\" style=\"display: none;\"><div style=\"display: table-cell;\"></div><div style=\"display: table-cell;\">lod_factor&nbsp;=&nbsp;10,</div></div><div class=\"1969\" style=\"display: none;\"><div style=\"display: table-cell;\"></div><div style=\"display: table-cell;\">lod_interval&nbsp;=&nbsp;300,</div></div><div class=\"1969\" style=\"display: none;\"><div style=\"display: table-cell;\"></div><div style=\"display: table-cell;\">lod_threshold&nbsp;=&nbsp;2000,</div></div><div class=\"1969\" style=\"display: none;\"><div style=\"display: table-cell;\"></div><div style=\"display: table-cell;\">lod_timeout&nbsp;=&nbsp;500,</div></div><div class=\"1969\" style=\"display: none;\"><div style=\"display: table-cell;\"></div><div style=\"display: table-cell;\">margin&nbsp;=&nbsp;(0, 0, 0, 0),</div></div><div class=\"1969\" style=\"display: none;\"><div style=\"display: table-cell;\"></div><div style=\"display: table-cell;\">match_aspect&nbsp;=&nbsp;False,</div></div><div class=\"1969\" style=\"display: none;\"><div style=\"display: table-cell;\"></div><div style=\"display: table-cell;\">max_height&nbsp;=&nbsp;None,</div></div><div class=\"1969\" style=\"display: none;\"><div style=\"display: table-cell;\"></div><div style=\"display: table-cell;\">max_width&nbsp;=&nbsp;None,</div></div><div class=\"1969\" style=\"display: none;\"><div style=\"display: table-cell;\"></div><div style=\"display: table-cell;\">min_border&nbsp;=&nbsp;5,</div></div><div class=\"1969\" style=\"display: none;\"><div style=\"display: table-cell;\"></div><div style=\"display: table-cell;\">min_border_bottom&nbsp;=&nbsp;None,</div></div><div class=\"1969\" style=\"display: none;\"><div style=\"display: table-cell;\"></div><div style=\"display: table-cell;\">min_border_left&nbsp;=&nbsp;None,</div></div><div class=\"1969\" style=\"display: none;\"><div style=\"display: table-cell;\"></div><div style=\"display: table-cell;\">min_border_right&nbsp;=&nbsp;None,</div></div><div class=\"1969\" style=\"display: none;\"><div style=\"display: table-cell;\"></div><div style=\"display: table-cell;\">min_border_top&nbsp;=&nbsp;None,</div></div><div class=\"1969\" style=\"display: none;\"><div style=\"display: table-cell;\"></div><div style=\"display: table-cell;\">min_height&nbsp;=&nbsp;None,</div></div><div class=\"1969\" style=\"display: none;\"><div style=\"display: table-cell;\"></div><div style=\"display: table-cell;\">min_width&nbsp;=&nbsp;None,</div></div><div class=\"1969\" style=\"display: none;\"><div style=\"display: table-cell;\"></div><div style=\"display: table-cell;\">name&nbsp;=&nbsp;None,</div></div><div class=\"1969\" style=\"display: none;\"><div style=\"display: table-cell;\"></div><div style=\"display: table-cell;\">outline_line_alpha&nbsp;=&nbsp;1.0,</div></div><div class=\"1969\" style=\"display: none;\"><div style=\"display: table-cell;\"></div><div style=\"display: table-cell;\">outline_line_cap&nbsp;=&nbsp;'butt',</div></div><div class=\"1969\" style=\"display: none;\"><div style=\"display: table-cell;\"></div><div style=\"display: table-cell;\">outline_line_color&nbsp;=&nbsp;'#e5e5e5',</div></div><div class=\"1969\" style=\"display: none;\"><div style=\"display: table-cell;\"></div><div style=\"display: table-cell;\">outline_line_dash&nbsp;=&nbsp;[],</div></div><div class=\"1969\" style=\"display: none;\"><div style=\"display: table-cell;\"></div><div style=\"display: table-cell;\">outline_line_dash_offset&nbsp;=&nbsp;0,</div></div><div class=\"1969\" style=\"display: none;\"><div style=\"display: table-cell;\"></div><div style=\"display: table-cell;\">outline_line_join&nbsp;=&nbsp;'bevel',</div></div><div class=\"1969\" style=\"display: none;\"><div style=\"display: table-cell;\"></div><div style=\"display: table-cell;\">outline_line_width&nbsp;=&nbsp;1,</div></div><div class=\"1969\" style=\"display: none;\"><div style=\"display: table-cell;\"></div><div style=\"display: table-cell;\">output_backend&nbsp;=&nbsp;'canvas',</div></div><div class=\"1969\" style=\"display: none;\"><div style=\"display: table-cell;\"></div><div style=\"display: table-cell;\">plot_height&nbsp;=&nbsp;600,</div></div><div class=\"1969\" style=\"display: none;\"><div style=\"display: table-cell;\"></div><div style=\"display: table-cell;\">plot_width&nbsp;=&nbsp;600,</div></div><div class=\"1969\" style=\"display: none;\"><div style=\"display: table-cell;\"></div><div style=\"display: table-cell;\">renderers&nbsp;=&nbsp;[GlyphRenderer(id='1087', ...), GlyphRenderer(id='1157', ...), GlyphRenderer(id='1239', ...), GlyphRenderer(id='1335', ...)],</div></div><div class=\"1969\" style=\"display: none;\"><div style=\"display: table-cell;\"></div><div style=\"display: table-cell;\">reset_policy&nbsp;=&nbsp;'standard',</div></div><div class=\"1969\" style=\"display: none;\"><div style=\"display: table-cell;\"></div><div style=\"display: table-cell;\">right&nbsp;=&nbsp;[],</div></div><div class=\"1969\" style=\"display: none;\"><div style=\"display: table-cell;\"></div><div style=\"display: table-cell;\">sizing_mode&nbsp;=&nbsp;None,</div></div><div class=\"1969\" style=\"display: none;\"><div style=\"display: table-cell;\"></div><div style=\"display: table-cell;\">subscribed_events&nbsp;=&nbsp;[],</div></div><div class=\"1969\" style=\"display: none;\"><div style=\"display: table-cell;\"></div><div style=\"display: table-cell;\">tags&nbsp;=&nbsp;[],</div></div><div class=\"1969\" style=\"display: none;\"><div style=\"display: table-cell;\"></div><div style=\"display: table-cell;\">title&nbsp;=&nbsp;Title(id='1092', ...),</div></div><div class=\"1969\" style=\"display: none;\"><div style=\"display: table-cell;\"></div><div style=\"display: table-cell;\">title_location&nbsp;=&nbsp;'above',</div></div><div class=\"1969\" style=\"display: none;\"><div style=\"display: table-cell;\"></div><div style=\"display: table-cell;\">toolbar&nbsp;=&nbsp;Toolbar(id='1077', ...),</div></div><div class=\"1969\" style=\"display: none;\"><div style=\"display: table-cell;\"></div><div style=\"display: table-cell;\">toolbar_location&nbsp;=&nbsp;'right',</div></div><div class=\"1969\" style=\"display: none;\"><div style=\"display: table-cell;\"></div><div style=\"display: table-cell;\">toolbar_sticky&nbsp;=&nbsp;True,</div></div><div class=\"1969\" style=\"display: none;\"><div style=\"display: table-cell;\"></div><div style=\"display: table-cell;\">visible&nbsp;=&nbsp;True,</div></div><div class=\"1969\" style=\"display: none;\"><div style=\"display: table-cell;\"></div><div style=\"display: table-cell;\">width&nbsp;=&nbsp;None,</div></div><div class=\"1969\" style=\"display: none;\"><div style=\"display: table-cell;\"></div><div style=\"display: table-cell;\">width_policy&nbsp;=&nbsp;'auto',</div></div><div class=\"1969\" style=\"display: none;\"><div style=\"display: table-cell;\"></div><div style=\"display: table-cell;\">x_range&nbsp;=&nbsp;DataRange1d(id='1054', ...),</div></div><div class=\"1969\" style=\"display: none;\"><div style=\"display: table-cell;\"></div><div style=\"display: table-cell;\">x_scale&nbsp;=&nbsp;LinearScale(id='1058', ...),</div></div><div class=\"1969\" style=\"display: none;\"><div style=\"display: table-cell;\"></div><div style=\"display: table-cell;\">y_range&nbsp;=&nbsp;Range1d(id='1810', ...),</div></div><div class=\"1969\" style=\"display: none;\"><div style=\"display: table-cell;\"></div><div style=\"display: table-cell;\">y_scale&nbsp;=&nbsp;LinearScale(id='1060', ...))</div></div></div>\n",
       "<script>\n",
       "(function() {\n",
       "  var expanded = false;\n",
       "  var ellipsis = document.getElementById(\"1970\");\n",
       "  ellipsis.addEventListener(\"click\", function() {\n",
       "    var rows = document.getElementsByClassName(\"1969\");\n",
       "    for (var i = 0; i < rows.length; i++) {\n",
       "      var el = rows[i];\n",
       "      el.style.display = expanded ? \"none\" : \"table-row\";\n",
       "    }\n",
       "    ellipsis.innerHTML = expanded ? \"&hellip;)\" : \"&lsaquo;&lsaquo;&lsaquo;\";\n",
       "    expanded = !expanded;\n",
       "  });\n",
       "})();\n",
       "</script>\n"
      ],
      "text/plain": [
       "[Figure(id='1053', ...)]"
      ]
     },
     "execution_count": 37,
     "metadata": {},
     "output_type": "execute_result"
    }
   ],
   "source": [
    "p.select(id='1053')"
   ]
  },
  {
   "cell_type": "code",
   "execution_count": 57,
   "metadata": {},
   "outputs": [
    {
     "data": {
      "text/plain": [
       "[]"
      ]
     },
     "execution_count": 57,
     "metadata": {},
     "output_type": "execute_result"
    }
   ],
   "source": [
    "p.select('line')"
   ]
  },
  {
   "cell_type": "code",
   "execution_count": null,
   "metadata": {},
   "outputs": [],
   "source": []
  },
  {
   "cell_type": "code",
   "execution_count": null,
   "metadata": {},
   "outputs": [],
   "source": []
  },
  {
   "cell_type": "code",
   "execution_count": null,
   "metadata": {},
   "outputs": [],
   "source": [
    "from bokeh.models import HoverTool"
   ]
  },
  {
   "cell_type": "code",
   "execution_count": null,
   "metadata": {},
   "outputs": [],
   "source": []
  },
  {
   "cell_type": "code",
   "execution_count": null,
   "metadata": {},
   "outputs": [],
   "source": [
    "from bokeh.plotting import figure, show, output_notebook\n",
    "from bokeh.models import GlyphRenderer, LinearColorMapper\n",
    "from bokeh.io import push_notebook\n",
    "from numba import jit, njit\n",
    "\n",
    "import numpy as np\n"
   ]
  },
  {
   "cell_type": "code",
   "execution_count": null,
   "metadata": {},
   "outputs": [],
   "source": []
  },
  {
   "cell_type": "markdown",
   "metadata": {},
   "source": [
    "# "
   ]
  },
  {
   "cell_type": "code",
   "execution_count": null,
   "metadata": {},
   "outputs": [],
   "source": []
  },
  {
   "cell_type": "markdown",
   "metadata": {},
   "source": [
    "# ipywidgets"
   ]
  },
  {
   "cell_type": "code",
   "execution_count": null,
   "metadata": {},
   "outputs": [],
   "source": [
    "from ipywidgets import widgets"
   ]
  },
  {
   "cell_type": "code",
   "execution_count": null,
   "metadata": {},
   "outputs": [],
   "source": []
  }
 ],
 "metadata": {
  "kernelspec": {
   "display_name": "Python 3",
   "language": "python",
   "name": "python3"
  },
  "language_info": {
   "codemirror_mode": {
    "name": "ipython",
    "version": 3
   },
   "file_extension": ".py",
   "mimetype": "text/x-python",
   "name": "python",
   "nbconvert_exporter": "python",
   "pygments_lexer": "ipython3",
   "version": "3.7.6"
  },
  "toc": {
   "base_numbering": 1,
   "nav_menu": {},
   "number_sections": true,
   "sideBar": true,
   "skip_h1_title": false,
   "title_cell": "Table of Contents",
   "title_sidebar": "Contents",
   "toc_cell": false,
   "toc_position": {},
   "toc_section_display": true,
   "toc_window_display": false
  }
 },
 "nbformat": 4,
 "nbformat_minor": 4
}
