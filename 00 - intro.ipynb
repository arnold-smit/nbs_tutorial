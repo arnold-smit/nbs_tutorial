{
 "cells": [
  {
   "cell_type": "markdown",
   "metadata": {},
   "source": [
    "# The Python language"
   ]
  },
  {
   "cell_type": "markdown",
   "metadata": {},
   "source": [
    "Python is a computer **language**.<br>\n",
    "There exist multiple implementations that can compile and run Python code, most notably: Cpython (C/C++) & Jython (Java).<br><br>\n",
    "There are roughly two steps involved in executing code on an interpreter like Python:\n",
    "1. compile code into bycode (generic machine code)\n",
    "2. run the bytecode in a VM (virtual machine) using an interpreter\n",
    "\n",
    "The **python.exe** program is a Cpython interpreter that is started using the commandline.\n",
    "<br><br>\n",
    "When you call **python.exe** from the commandline you can pass a variety of options, see:\n",
    "<pre>\n",
    "python --help\n",
    "\n",
    "python -c \"var='Hello';print(var)\"\n",
    "\n",
    "python -c \"\"\"\n",
    "with open('../data/sentiment140_test_data.csv') as f: \n",
    "    for _ in range(10):\n",
    "        print(f.readline().strip())\n",
    "\"\"\"\n",
    "</pre>\n",
    "This **python -c \"<<some commands>>\"** works for simple one liners, but a Python program usually consists of many lines of code. So, usually the name of a script is passed as an argument and interpreter will start processing that script at the entry point:<br>\n",
    "<pre>\n",
    "if __name__ == \"__main__\":\n",
    "    ...\n",
    "</pre>\n",
    "If no argument is passed, the python.exe interpreter will go into REPL mode (read–eval–print loop).<br>"
   ]
  },
  {
   "cell_type": "markdown",
   "metadata": {},
   "source": [
    "![Different Interpreters](plots/python.png)"
   ]
  },
  {
   "cell_type": "markdown",
   "metadata": {},
   "source": [
    "# Three ways to interact with the Python Interpreter"
   ]
  },
  {
   "cell_type": "markdown",
   "metadata": {},
   "source": [
    "## Editor / IDE: Writing Python Scripts"
   ]
  },
  {
   "cell_type": "markdown",
   "metadata": {},
   "source": [
    "The simplest way to create a Python program is to save all your script / code in a file.<br>\n",
    "The file can then be passed to the interpreter (using: **python.exe my_program.py**) for execution.<br>\n",
    "There exist many powerfull editors out and IDE's, to help in editing Python code (VIM, Atom, Eclipse, VSCode, ...).<br>\n",
    "I use microsoft visual studio code (as free version of MS Visual Studio), it has:\n",
    "\n",
    "* syntax highlighting\n",
    "* a linter to hint at possible errors in your code\n",
    "* if set up properly, some integrated debugging facilities\n",
    "* many features to navigate your code\n",
    "* many, many other features\n",
    "\n",
    "There is a copy of this program on available on the Aster drive if you want to start using it."
   ]
  },
  {
   "cell_type": "markdown",
   "metadata": {},
   "source": [
    "## REPL: IPython"
   ]
  },
  {
   "cell_type": "markdown",
   "metadata": {},
   "source": [
    "A powerfull extension to python REPL, is **ipython**. IPython is the Python REPL on steroids.<br>\n",
    "It has a rich set of extensions making it very suitable to learn Python and quickly try out things, it provides:\n",
    "* tab-completion\n",
    "* integrated help\n",
    "* %magic functions\n",
    "* ...\n",
    "\n",
    "I almost **always** start ipython when I start a REPL."
   ]
  },
  {
   "cell_type": "markdown",
   "metadata": {},
   "source": [
    "Although IPython is powerfull to learn the language, it has one major drawback.<br>\n",
    "When you end the program the code is gone.<br>\n",
    "This is where Jupyter Notebook comes in."
   ]
  },
  {
   "cell_type": "markdown",
   "metadata": {},
   "source": [
    "## Jupyter Notebooks"
   ]
  },
  {
   "cell_type": "markdown",
   "metadata": {},
   "source": [
    "A Jupyter Notebook is an interactive dynamic web pages consisting of cells.<br>\n",
    "The Python interpreter is running in the background.<br>\n",
    "You evaluate the code in a cell by pressing CNTR-ENTER.<br>\n",
    "Evaluating a cell results in an output cell, containing the result of the evaluation.<br>\n",
    "The default for a cell is 'code', but a cell can also be used for markdown.<br>\n",
    "Markdown is used for commenting your code / documenting the program flow or analysis.<br>"
   ]
  },
  {
   "cell_type": "code",
   "execution_count": 1,
   "metadata": {},
   "outputs": [
    {
     "data": {
      "text/plain": [
       "4"
      ]
     },
     "execution_count": 1,
     "metadata": {},
     "output_type": "execute_result"
    }
   ],
   "source": [
    "2 + 2 # press CNTRL-ENTER --> you will see the response in Out[n]: result"
   ]
  },
  {
   "cell_type": "markdown",
   "metadata": {},
   "source": [
    "By clicking the **+** icon in the icon bar above, you add a new cell.<br>\n",
    "A new cell will be of type 'code' by default.<br>\n",
    "To change this to Markdown, go to the menu 'Cell' --> 'Cell Type' --> 'Markdown'.<br>\n",
    "All these commands have a keyboard shortcut, and it pays to familiarize yourself with a couple:\n",
    "\n",
    "* 'a' add new cell above the current cell\n",
    "* 'b' add new cell below the current cell\n",
    "* 'm' change the current cell to Markdown\n",
    "* '1' change the current cell to markdown heading 1 (# My Title)\n",
    "* '2' change the current cell to markdown heading 2 (# My Sub Title)\n",
    "* ...\n",
    "\n",
    "See menu: 'Help' --> 'Keyboard Shortcuts'"
   ]
  },
  {
   "cell_type": "markdown",
   "metadata": {},
   "source": [
    "Jupyter Notebooks provide you with many goodies to make your life better:\n",
    "1. within a code cell you are interacting with ipyton, giving you all the cool stuff ipython provides:\n",
    "   * tab-completion\n",
    "   * shift-tab to show a function signature\n",
    "   * getting help with ?\n",
    "2. start a cell with ! (exclamation) gives you direct access to the system command line"
   ]
  },
  {
   "cell_type": "code",
   "execution_count": 5,
   "metadata": {},
   "outputs": [
    {
     "name": "stdout",
     "output_type": "stream",
     "text": [
      "/home/asmit/Documents/Development/Python/Tutorial\r\n"
     ]
    }
   ],
   "source": [
    "!pwd"
   ]
  },
  {
   "cell_type": "code",
   "execution_count": 10,
   "metadata": {},
   "outputs": [],
   "source": [
    "dict?"
   ]
  },
  {
   "cell_type": "markdown",
   "metadata": {},
   "source": [
    "# The Python eco-system"
   ]
  },
  {
   "cell_type": "markdown",
   "metadata": {},
   "source": [
    "Allthough Python is a powerfull language, on it's own it would not have much appeal.<br> \n",
    "The real power comes from the eco-system of libraries surrounding Python.<br>\n",
    "A selection of important libraries is (most will feature in sessions to come):\n",
    "* NumPy\n",
    "* SciPy\n",
    "* Pandas\n",
    "* Cython\n",
    "* Matplotlib\n",
    "* Scikit-Learn\n",
    "* Statmodels\n",
    "* NetworkX\n",
    "* Dask\n",
    "* TensorFlow\n",
    "\n",
    "I hope to discuss a few of these in the upcoming sessions.<br>\n",
    "If there is appetite I'll do some more advanced lessons afterwards."
   ]
  },
  {
   "cell_type": "markdown",
   "metadata": {},
   "source": [
    "**Remember**, do not get overwhelmed.<br>\n",
    "You don't need to know all these to use Python effectively.<br>\n",
    "It takes time to become familiar with these libraries.<br>\n",
    "Very few people know are well versed in all of these.<br>\n",
    "Keep circling back to the basics<br>\n",
    "**The deeper your understanding of the basics, the easier it becomes.**<br>"
   ]
  },
  {
   "cell_type": "markdown",
   "metadata": {},
   "source": [
    "# Setting Up A Common Environment"
   ]
  },
  {
   "cell_type": "markdown",
   "metadata": {},
   "source": [
    "To make life easier, it is usefull to run a startup script that imports some libraries at startup. To do this, follow the steps below:\n",
    "1. A default profile can be created by running: \n",
    "   <pre><b>ipython profile create</b></pre>\n",
    "2. This creates a **.ipython** dir in your home directory, this directory contains a \n",
    "   configuration file for jupyter notebook\n",
    "   <pre><b>.jupyter/jupyter_notebook_config.py</b></pre> \n",
    "3. Also a directory is created:\n",
    "   <pre><b>.ipython/profile_default/startup</b></pre>\n",
    "   Scripts in this directory get executed when ipython (& Jupyter Notebook) is started.<br>\n",
    "4. Finally the look of the Notebook can be tweaked using CSS. Put the css definitions in\n",
    "   <pre><b>.jupyter/custom/custom.css</b></pre>"
   ]
  },
  {
   "cell_type": "markdown",
   "metadata": {},
   "source": [
    "# Programming"
   ]
  },
  {
   "cell_type": "markdown",
   "metadata": {},
   "source": [
    "To become a good programmer, you need to ... \n",
    "1. get good at finding information!\n",
    "2. challenge your understanding, do not just copy and paste stuff and not care how it works\n",
    "3. spend time making code beautifull and readable - Python actually enforces indentation"
   ]
  },
  {
   "cell_type": "code",
   "execution_count": 1,
   "metadata": {},
   "outputs": [
    {
     "name": "stdout",
     "output_type": "stream",
     "text": [
      "The Zen of Python, by Tim Peters\n",
      "\n",
      "Beautiful is better than ugly.\n",
      "Explicit is better than implicit.\n",
      "Simple is better than complex.\n",
      "Complex is better than complicated.\n",
      "Flat is better than nested.\n",
      "Sparse is better than dense.\n",
      "Readability counts.\n",
      "Special cases aren't special enough to break the rules.\n",
      "Although practicality beats purity.\n",
      "Errors should never pass silently.\n",
      "Unless explicitly silenced.\n",
      "In the face of ambiguity, refuse the temptation to guess.\n",
      "There should be one-- and preferably only one --obvious way to do it.\n",
      "Although that way may not be obvious at first unless you're Dutch.\n",
      "Now is better than never.\n",
      "Although never is often better than *right* now.\n",
      "If the implementation is hard to explain, it's a bad idea.\n",
      "If the implementation is easy to explain, it may be a good idea.\n",
      "Namespaces are one honking great idea -- let's do more of those!\n"
     ]
    }
   ],
   "source": [
    "import this"
   ]
  },
  {
   "cell_type": "code",
   "execution_count": 4,
   "metadata": {},
   "outputs": [
    {
     "data": {
      "image/jpeg": "[encoded data removed]",
      "text/html": [
       "\n",
       "        <iframe\n",
       "            width=\"800\"\n",
       "            height=\"600\"\n",
       "            src=\"https://www.youtube.com/embed/qgSzGIkFq2A?modestbranding=True&start=10&end=35\"\n",
       "            frameborder=\"0\"\n",
       "            allowfullscreen\n",
       "        ></iframe>\n",
       "        "
      ],
      "text/plain": [
       "<IPython.lib.display.YouTubeVideo at 0x7f2710a98da0>"
      ]
     },
     "execution_count": 4,
     "metadata": {},
     "output_type": "execute_result"
    }
   ],
   "source": [
    "from IPython.display import YouTubeVideo\n",
    "YouTubeVideo('qgSzGIkFq2A', width=800, height=600, modestbranding=True, start=10, end=35)"
   ]
  }
 ],
 "metadata": {
  "kernelspec": {
   "display_name": "Python 3",
   "language": "python",
   "name": "python3"
  },
  "language_info": {
   "codemirror_mode": {
    "name": "ipython",
    "version": 3
   },
   "file_extension": ".py",
   "mimetype": "text/x-python",
   "name": "python",
   "nbconvert_exporter": "python",
   "pygments_lexer": "ipython3",
   "version": "3.6.7"
  }
 },
 "nbformat": 4,
 "nbformat_minor": 2
}
