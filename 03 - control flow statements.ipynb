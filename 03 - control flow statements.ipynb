{
 "cells": [
  {
   "cell_type": "markdown",
   "metadata": {},
   "source": [
    "# Control Flow"
   ]
  },
  {
   "cell_type": "markdown",
   "metadata": {},
   "source": [
    "## If\n",
    "<pre>\n",
    "if condition1:\n",
    "    do something\n",
    "    ...\n",
    "elif condition2:\n",
    "    do something else\n",
    "    ...\n",
    "else:\n",
    "    and now for something different\n",
    "    ...\n",
    "</pre>"
   ]
  },
  {
   "cell_type": "code",
   "execution_count": null,
   "metadata": {},
   "outputs": [],
   "source": [
    "if temp <= 40:\n",
    "    print('Too cold')"
   ]
  },
  {
   "cell_type": "code",
   "execution_count": 16,
   "metadata": {},
   "outputs": [
    {
     "name": "stdout",
     "output_type": "stream",
     "text": [
      "Just right\n"
     ]
    }
   ],
   "source": [
    "temp = 62\n",
    "if temp <= 40:\n",
    "    print('Too cold')\n",
    "elif temp > 80:\n",
    "    print('Too hot')\n",
    "else:\n",
    "    print('Just right')"
   ]
  },
  {
   "cell_type": "code",
   "execution_count": 19,
   "metadata": {},
   "outputs": [
    {
     "data": {
      "text/plain": [
       "0"
      ]
     },
     "execution_count": 19,
     "metadata": {},
     "output_type": "execute_result"
    }
   ],
   "source": [
    "## ternary expression\n",
    "speed = 29\n",
    "points = 3 if speed>30 else 0\n",
    "points"
   ]
  },
  {
   "cell_type": "markdown",
   "metadata": {},
   "source": [
    "## While\n",
    "<pre>\n",
    "while condition:\n",
    "   do something\n",
    "   do more\n",
    "   and some more\n",
    "</pre>\n",
    "While loop executes some block of code until condition is not longer met. Possibly executing zero times."
   ]
  },
  {
   "cell_type": "code",
   "execution_count": 5,
   "metadata": {},
   "outputs": [
    {
     "name": "stdout",
     "output_type": "stream",
     "text": [
      "1\n",
      "2\n",
      "3\n"
     ]
    }
   ],
   "source": [
    "ix = 1\n",
    "while ix <= 3:\n",
    "    print(ix)\n",
    "    ix += 1"
   ]
  },
  {
   "cell_type": "code",
   "execution_count": 6,
   "metadata": {},
   "outputs": [],
   "source": [
    "ix = 5\n",
    "while ix <= 3:\n",
    "    print(ix)\n",
    "    ix += 1"
   ]
  },
  {
   "cell_type": "code",
   "execution_count": 7,
   "metadata": {},
   "outputs": [],
   "source": [
    "import numpy as np"
   ]
  },
  {
   "cell_type": "code",
   "execution_count": 14,
   "metadata": {},
   "outputs": [
    {
     "name": "stdout",
     "output_type": "stream",
     "text": [
      "Guess a number between 1 and 10: 1\n",
      "Its bigger than 1, have another go: 2\n",
      "Its bigger than 2, have another go: 3\n",
      "Its bigger than 3, have another go: 4\n",
      "Its bigger than 4, have another go: 5\n",
      "Its bigger than 5, have another go: 6\n",
      "Its bigger than 6, have another go: 7\n",
      "Its bigger than 7, have another go: 8\n",
      "Its bigger than 8, have another go: 9\n",
      "You guessed it in 9 guesses\n"
     ]
    }
   ],
   "source": [
    "num2guess = np.random.randint(low=1, high=10)\n",
    "guess = 0\n",
    "ntry = 0\n",
    "while guess != num2guess:\n",
    "    if ntry == 0:\n",
    "        guess = int(input('Guess a number between 1 and 10: '))\n",
    "    else:\n",
    "        if guess > num2guess:\n",
    "            guess = int(input(f'Its smaller than {guess}, have another go: '))\n",
    "        else:\n",
    "            guess = int(input(f'Its bigger than {guess}, have another go: '))\n",
    "    ntry += 1\n",
    "print(f'You guessed it in {ntry} guesses')"
   ]
  },
  {
   "cell_type": "markdown",
   "metadata": {},
   "source": [
    "## For\n",
    "<pre>\n",
    "for element in iterator:\n",
    "   do something with the element\n",
    "   do some more\n",
    "   and ... some more\n",
    "</pre>\n",
    "For loops are  loop is often used when "
   ]
  },
  {
   "cell_type": "markdown",
   "metadata": {},
   "source": [
    "Write a program that prints the numbers from 1 to 17.<br>\n",
    "But for multiples of three print \"**Fizz**\" instead of the number and<br>\n",
    "for the multiples of five print \"**Buzz**\".<br>\n",
    "For numbers which are multiples of both three and five print \"**FizzBuzz**\"."
   ]
  },
  {
   "cell_type": "code",
   "execution_count": 25,
   "metadata": {},
   "outputs": [
    {
     "name": "stdout",
     "output_type": "stream",
     "text": [
      "1\n",
      "2\n",
      "Fizz\n",
      "4\n",
      "Buzz\n",
      "Fizz\n",
      "7\n",
      "8\n",
      "Fizz\n",
      "Buzz\n",
      "11\n",
      "Fizz\n",
      "13\n",
      "14\n",
      "FizzBuzz\n",
      "16\n",
      "17\n"
     ]
    }
   ],
   "source": [
    "for ix in range(1,18):\n",
    "    if (ix%5==0) & (ix%3==0):\n",
    "        print('FizzBuzz')\n",
    "    elif (ix%3==0):\n",
    "        print('Fizz')\n",
    "    elif (ix%5==0):\n",
    "        print('Buzz')\n",
    "    else:\n",
    "        print(ix)"
   ]
  },
  {
   "cell_type": "markdown",
   "metadata": {},
   "source": [
    "## Breaking out of a loop: Break and Continue"
   ]
  },
  {
   "cell_type": "code",
   "execution_count": 23,
   "metadata": {},
   "outputs": [
    {
     "name": "stdout",
     "output_type": "stream",
     "text": [
      "3 Fizz\n",
      "5 Buzz\n",
      "6 Fizz\n",
      "9 Fizz\n",
      "10 Buzz\n",
      "12 Fizz\n",
      "15 FizzBuzz\n"
     ]
    }
   ],
   "source": [
    "ix = 0\n",
    "while True:\n",
    "    ix += 1\n",
    "    if (ix%5==0) & (ix%3==0):\n",
    "        print(ix, 'FizzBuzz')\n",
    "        break\n",
    "    elif (ix%3==0):\n",
    "        print(ix, 'Fizz')\n",
    "    elif (ix%5==0):\n",
    "        print(ix, 'Buzz')\n",
    "    else:\n",
    "        continue"
   ]
  },
  {
   "cell_type": "markdown",
   "metadata": {},
   "source": [
    "# Execrcises"
   ]
  },
  {
   "cell_type": "markdown",
   "metadata": {},
   "source": [
    "### Multiplication Tables\n",
    "\n",
    "1. Print the first 4 rows of the multiplication tables for 11, 12, 13 (1 * 11, 2 * 11, 3 * 11, 4 * 11, 1 * 12, ...)\n",
    "2. Write a function **print_multiplication_table** to print entries i to j for the multiplication table of _m_\n",
    "3. Replicate the output of 1\n",
    "4. Rewrite the function to return a key-value pair where the key is m and the value is a list of [i,m,i*m]\n",
    "5. Create a dict with the tables from (1)"
   ]
  },
  {
   "cell_type": "code",
   "execution_count": null,
   "metadata": {},
   "outputs": [],
   "source": [
    "## type your answer --> execute %load cell below to see solution!"
   ]
  },
  {
   "cell_type": "code",
   "execution_count": null,
   "metadata": {},
   "outputs": [],
   "source": [
    "%load answers/03-exercise-01-01.txt"
   ]
  },
  {
   "cell_type": "code",
   "execution_count": null,
   "metadata": {},
   "outputs": [],
   "source": [
    "## type your answer --> execute %load cell below to see solution!"
   ]
  },
  {
   "cell_type": "code",
   "execution_count": null,
   "metadata": {},
   "outputs": [],
   "source": [
    "%load answers/03-exercise-01-02.txt"
   ]
  },
  {
   "cell_type": "code",
   "execution_count": null,
   "metadata": {},
   "outputs": [],
   "source": [
    "## test the function\n",
    "print_multiplication_table(10,5,9)"
   ]
  },
  {
   "cell_type": "code",
   "execution_count": null,
   "metadata": {},
   "outputs": [],
   "source": [
    "## type your answer --> execute %load cell below to see solution!"
   ]
  },
  {
   "cell_type": "code",
   "execution_count": null,
   "metadata": {},
   "outputs": [],
   "source": [
    "%load answers/03-exercise-01-03.txt"
   ]
  },
  {
   "cell_type": "code",
   "execution_count": null,
   "metadata": {},
   "outputs": [],
   "source": [
    "## type your answer --> execute %load cell below to see solution!"
   ]
  },
  {
   "cell_type": "code",
   "execution_count": null,
   "metadata": {},
   "outputs": [],
   "source": [
    "%load answers/03-exercise-01-04.txt"
   ]
  },
  {
   "cell_type": "code",
   "execution_count": null,
   "metadata": {},
   "outputs": [],
   "source": [
    "## type your answer --> execute %load cell below to see solution!"
   ]
  },
  {
   "cell_type": "code",
   "execution_count": null,
   "metadata": {},
   "outputs": [],
   "source": [
    "%load answers/03-exercise-01-05.txt"
   ]
  },
  {
   "cell_type": "code",
   "execution_count": null,
   "metadata": {},
   "outputs": [],
   "source": [
    "## type your answer --> execute %load cell below to see solution!"
   ]
  },
  {
   "cell_type": "code",
   "execution_count": null,
   "metadata": {},
   "outputs": [],
   "source": [
    "%load answers/03-exercise-01-06.txt"
   ]
  },
  {
   "cell_type": "markdown",
   "metadata": {},
   "source": [
    "### Word Length\n",
    "\n",
    "In the data directory, there is a json file _words_dictionary.json_ containing English words:\n",
    "1. Read the first 5 lines to see the format\n",
    "2. Use the json package to read in the file // hint look at json.load\n",
    "3. Change the value of each entry in the dictionary to the word length\n",
    "4. Keep only the palindromes // hint use dictionary comprehension\n",
    "5. Show the 10 longest palindromes // hint sort by value & print top 10"
   ]
  },
  {
   "cell_type": "code",
   "execution_count": null,
   "metadata": {},
   "outputs": [],
   "source": [
    "## type your answer --> execute %load cell below to see solution!"
   ]
  },
  {
   "cell_type": "code",
   "execution_count": null,
   "metadata": {},
   "outputs": [],
   "source": [
    "%load answers//03-exercise-02-01.txt"
   ]
  },
  {
   "cell_type": "code",
   "execution_count": null,
   "metadata": {},
   "outputs": [],
   "source": [
    "## need to import the json library and look at the functions\n",
    "import json\n",
    "dir(json)"
   ]
  },
  {
   "cell_type": "code",
   "execution_count": null,
   "metadata": {},
   "outputs": [],
   "source": [
    "json.load??"
   ]
  },
  {
   "cell_type": "code",
   "execution_count": null,
   "metadata": {},
   "outputs": [],
   "source": [
    "## type your answer --> execute %load cell below to see solution!"
   ]
  },
  {
   "cell_type": "code",
   "execution_count": null,
   "metadata": {},
   "outputs": [],
   "source": [
    "%load answers//03-exercise-02-02.txt"
   ]
  },
  {
   "cell_type": "code",
   "execution_count": null,
   "metadata": {},
   "outputs": [],
   "source": [
    "type(data)"
   ]
  },
  {
   "cell_type": "code",
   "execution_count": null,
   "metadata": {},
   "outputs": [],
   "source": [
    "dir(data)"
   ]
  },
  {
   "cell_type": "code",
   "execution_count": null,
   "metadata": {},
   "outputs": [],
   "source": [
    "len(data.keys())"
   ]
  },
  {
   "cell_type": "code",
   "execution_count": null,
   "metadata": {},
   "outputs": [],
   "source": [
    "## type your answer --> execute %load cell below to see solution!"
   ]
  },
  {
   "cell_type": "code",
   "execution_count": null,
   "metadata": {},
   "outputs": [],
   "source": [
    "%load answers//03-exercise-02-03.txt"
   ]
  },
  {
   "cell_type": "code",
   "execution_count": null,
   "metadata": {},
   "outputs": [],
   "source": [
    "## type your answer --> execute %load cell below to see solution!"
   ]
  },
  {
   "cell_type": "code",
   "execution_count": null,
   "metadata": {},
   "outputs": [],
   "source": [
    "%load answers//03-exercise-02-04.txt"
   ]
  },
  {
   "cell_type": "markdown",
   "metadata": {},
   "source": [
    "This starts to get more advanced, so you need loads of extra help:\n",
    "1. Goolge is your friend: python sort dictionary by value\n",
    "2. Set you on the correct path: the function sorted\n",
    "3. Get help on sorted: sorted?\n",
    "4. Can pass in a custom function to customize the sort order --> here we want to sort by value\n",
    "5. Use a lambda expression (anonymous function) to pass in this funtion on the fly"
   ]
  },
  {
   "cell_type": "code",
   "execution_count": null,
   "metadata": {},
   "outputs": [],
   "source": [
    "sorted??"
   ]
  },
  {
   "cell_type": "code",
   "execution_count": null,
   "metadata": {},
   "outputs": [],
   "source": [
    "## type your answer --> execute %load cell below to see solution!"
   ]
  },
  {
   "cell_type": "code",
   "execution_count": null,
   "metadata": {},
   "outputs": [],
   "source": [
    "%load answers//03-exercise-02-05.txt"
   ]
  },
  {
   "cell_type": "code",
   "execution_count": null,
   "metadata": {},
   "outputs": [],
   "source": [
    "sorted_palindromes[:10]"
   ]
  }
 ],
 "metadata": {
  "kernelspec": {
   "display_name": "Python 3",
   "language": "python",
   "name": "python3"
  },
  "language_info": {
   "codemirror_mode": {
    "name": "ipython",
    "version": 3
   },
   "file_extension": ".py",
   "mimetype": "text/x-python",
   "name": "python",
   "nbconvert_exporter": "python",
   "pygments_lexer": "ipython3",
   "version": "3.6.7"
  }
 },
 "nbformat": 4,
 "nbformat_minor": 2
}
