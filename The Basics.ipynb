{
 "cells": [
  {
   "cell_type": "markdown",
   "metadata": {},
   "source": [
    "# Python"
   ]
  },
  {
   "cell_type": "markdown",
   "metadata": {},
   "source": [
    "Python is an interpreted language, contrast this with a compiled language.\n",
    "\n",
    "By using an interpreted language, we can quickly try out snippets of code and get feedback immediately.\n",
    "\n",
    "We have Python 2.7 installed\n",
    "\n",
    "We are using Python through Jupyter Notebook.\n",
    "\n",
    "A Jupyter Notebook consists of cells.\n",
    "\n",
    "A cell in Jupyter can be in one of two modes: code or markdown.\n",
    "\n",
    "https://docs.python.org/2/index.html\n",
    "\n",
    "http://jupyter-notebook.readthedocs.io/en/latest/examples/Notebook/Working%20With%20Markdown%20Cells.html"
   ]
  },
  {
   "cell_type": "markdown",
   "metadata": {},
   "source": [
    "## Python is very sensitive to indentation"
   ]
  },
  {
   "cell_type": "markdown",
   "metadata": {},
   "source": [
    "Python uses indentation to group code blocks together, this is different to allmost all other languages.\n",
    "\n",
    "This choice was made to force you to spend time on layout of your code, which is very important for readability. \n",
    "\n",
    "Get the indentation wrong and Python will throw you an **IndentationError**. \n",
    "\n",
    "Nothing to worry about, just fix the error and rerun. The most usefull information is usually provided in the last few lines that Python will throw at you."
   ]
  },
  {
   "cell_type": "code",
   "execution_count": 3,
   "metadata": {
    "scrolled": true
   },
   "outputs": [
    {
     "name": "stdout",
     "output_type": "stream",
     "text": [
      "1.1\n",
      "2.2\n",
      "3.3\n",
      "4.4\n",
      "5.5\n"
     ]
    }
   ],
   "source": [
    "for ix in range(1,6,1):\n",
    "    ix = ix * 1.1\n",
    "    print ix"
   ]
  },
  {
   "cell_type": "markdown",
   "metadata": {},
   "source": [
    "# And now, for something completely different ...\n",
    "\n",
    "Below are some simple snippets to give a flavor of the basic data types and concepts"
   ]
  },
  {
   "cell_type": "markdown",
   "metadata": {},
   "source": [
    "# Data Types"
   ]
  },
  {
   "cell_type": "markdown",
   "metadata": {},
   "source": [
    "## Numbers: Int, Float, Long, Complex"
   ]
  },
  {
   "cell_type": "code",
   "execution_count": 1,
   "metadata": {},
   "outputs": [
    {
     "data": {
      "text/plain": [
       "int"
      ]
     },
     "execution_count": 1,
     "metadata": {},
     "output_type": "execute_result"
    }
   ],
   "source": [
    "a = 42\n",
    "type(a)"
   ]
  },
  {
   "cell_type": "code",
   "execution_count": 6,
   "metadata": {},
   "outputs": [
    {
     "data": {
      "text/plain": [
       "float"
      ]
     },
     "execution_count": 6,
     "metadata": {},
     "output_type": "execute_result"
    }
   ],
   "source": [
    "b = 1.1\n",
    "type(b)"
   ]
  },
  {
   "cell_type": "code",
   "execution_count": 7,
   "metadata": {},
   "outputs": [
    {
     "name": "stdout",
     "output_type": "stream",
     "text": [
      "(2+3j)\n",
      "2.0\n",
      "3.0\n",
      "(2-3j)\n",
      "(-5+12j)\n"
     ]
    }
   ],
   "source": [
    "z = 2+3j\n",
    "print(z)\n",
    "print(z.real)\n",
    "print(z.imag)\n",
    "print(z.conjugate())\n",
    "print(z * z)"
   ]
  },
  {
   "cell_type": "markdown",
   "metadata": {},
   "source": [
    "## String"
   ]
  },
  {
   "cell_type": "code",
   "execution_count": 9,
   "metadata": {},
   "outputs": [
    {
     "data": {
      "text/plain": [
       "str"
      ]
     },
     "execution_count": 9,
     "metadata": {},
     "output_type": "execute_result"
    }
   ],
   "source": [
    "s8 = 'This is a string.'\n",
    "type(s8)"
   ]
  },
  {
   "cell_type": "code",
   "execution_count": 15,
   "metadata": {},
   "outputs": [
    {
     "data": {
      "text/plain": [
       "10"
      ]
     },
     "execution_count": 15,
     "metadata": {},
     "output_type": "execute_result"
    }
   ],
   "source": [
    "s8.find('string')"
   ]
  },
  {
   "cell_type": "code",
   "execution_count": 11,
   "metadata": {},
   "outputs": [
    {
     "data": {
      "text/plain": [
       "'string.'"
      ]
     },
     "execution_count": 11,
     "metadata": {},
     "output_type": "execute_result"
    }
   ],
   "source": [
    "s8[10:]"
   ]
  },
  {
   "cell_type": "code",
   "execution_count": 12,
   "metadata": {},
   "outputs": [
    {
     "data": {
      "text/plain": [
       "True"
      ]
     },
     "execution_count": 12,
     "metadata": {},
     "output_type": "execute_result"
    }
   ],
   "source": [
    "'string' in s8"
   ]
  },
  {
   "cell_type": "code",
   "execution_count": 15,
   "metadata": {
    "scrolled": true
   },
   "outputs": [
    {
     "name": "stdout",
     "output_type": "stream",
     "text": [
      "Address of s8 = 0xcc718e8\n",
      "After s9 = s8 -> address of s9 = 0xcc718e8\n",
      "\n",
      "Oops: s8[16] = '!' -> raises an exception!\n",
      "\n",
      "After s8 = s8[:15] + '!' -> the address of s8 = 0xc612f18\n"
     ]
    }
   ],
   "source": [
    "## actual memory address of the string object s8\n",
    "print('Address of s8 = {}'.format(hex(id(s8))))\n",
    "## if you make a copy the address is the same --> strings are immutable\n",
    "s9 = s8\n",
    "print('After s9 = s8 -> address of s9 = {}'.format(hex(id(s9))))\n",
    "## strings are immutable --> cannot change a single character\n",
    "try:\n",
    "    s8[16] = '!'\n",
    "except: \n",
    "    print('''\\nOops: s8[16] = '!' -> raises an exception!\\n''')\n",
    "    s8 = s8[:15] + '!'\n",
    "print('''After s8 = s8[:15] + '!' -> the address of s8 = {}'''.format(hex(id(s8))))"
   ]
  },
  {
   "cell_type": "markdown",
   "metadata": {},
   "source": [
    "## List [...] \n",
    "\n",
    "* **Mutable** collection of possibly different types\n",
    "* Indexed by position\n",
    "* 0-based"
   ]
  },
  {
   "cell_type": "code",
   "execution_count": 16,
   "metadata": {},
   "outputs": [
    {
     "data": {
      "text/plain": [
       "['Arnold', 91, [1, 2, 3]]"
      ]
     },
     "execution_count": 16,
     "metadata": {},
     "output_type": "execute_result"
    }
   ],
   "source": [
    "## a list can contain objects of all types including lists\n",
    "alist = ['Arnold', 93, [1,2,3]]\n",
    "alist[1] = 91\n",
    "alist"
   ]
  },
  {
   "cell_type": "code",
   "execution_count": 18,
   "metadata": {},
   "outputs": [
    {
     "data": {
      "text/plain": [
       "[0, 1, 4, 9, 16]"
      ]
     },
     "execution_count": 18,
     "metadata": {},
     "output_type": "execute_result"
    }
   ],
   "source": [
    "[ix**2 for ix in range(5)]"
   ]
  },
  {
   "cell_type": "code",
   "execution_count": 19,
   "metadata": {},
   "outputs": [
    {
     "data": {
      "text/plain": [
       "[0, 4, 16, 36, 64, 100, 144, 196, 256, 324]"
      ]
     },
     "execution_count": 19,
     "metadata": {},
     "output_type": "execute_result"
    }
   ],
   "source": [
    "## list comprehention is a powerfull way to create list\n",
    "blist = [ix**2 for ix in range(20) if ix%2 == 0]\n",
    "blist"
   ]
  },
  {
   "cell_type": "markdown",
   "metadata": {},
   "source": [
    "## Tuple (...)\n",
    "\n",
    "* **Immutable** collection of possibly different types\n",
    "* Indexed by position\n",
    "* 0-based"
   ]
  },
  {
   "cell_type": "code",
   "execution_count": 20,
   "metadata": {},
   "outputs": [
    {
     "data": {
      "text/plain": [
       "('Arnold', 93, [1, 2, 3])"
      ]
     },
     "execution_count": 20,
     "metadata": {},
     "output_type": "execute_result"
    }
   ],
   "source": [
    "atuple = ('Arnold', 93, [1,2,3])\n",
    "try:\n",
    "    atuple[1] = 91\n",
    "except:\n",
    "    ## just catch - do nothing\n",
    "    pass\n",
    "\n",
    "atuple"
   ]
  },
  {
   "cell_type": "markdown",
   "metadata": {},
   "source": [
    "## Dictionary {'key' : value, }\n",
    "\n",
    "* **Mutable** collection of possibly different types\n",
    "* Indexed by **key**\n",
    "* Basically a key - value store"
   ]
  },
  {
   "cell_type": "code",
   "execution_count": 21,
   "metadata": {},
   "outputs": [
    {
     "data": {
      "text/plain": [
       "{'VAR1': 2, 'VAR2': [1, 2, 3], 'VAR3': (3, 2, 1), 'VAR4': 'added'}"
      ]
     },
     "execution_count": 21,
     "metadata": {},
     "output_type": "execute_result"
    }
   ],
   "source": [
    "adict = {'VAR1': 1, 'VAR2': [1,2,3], 'VAR3': (3,2,1)}\n",
    "adict['VAR1'] = 2\n",
    "adict['VAR4'] = 'added'\n",
    "adict"
   ]
  },
  {
   "cell_type": "code",
   "execution_count": 22,
   "metadata": {},
   "outputs": [
    {
     "data": {
      "text/plain": [
       "dict_keys(['VAR1', 'VAR2', 'VAR3', 'VAR4'])"
      ]
     },
     "execution_count": 22,
     "metadata": {},
     "output_type": "execute_result"
    }
   ],
   "source": [
    "adict.keys()"
   ]
  },
  {
   "cell_type": "code",
   "execution_count": 23,
   "metadata": {},
   "outputs": [
    {
     "data": {
      "text/plain": [
       "dict_values([2, [1, 2, 3], (3, 2, 1), 'added'])"
      ]
     },
     "execution_count": 23,
     "metadata": {},
     "output_type": "execute_result"
    }
   ],
   "source": [
    "adict.values()"
   ]
  },
  {
   "cell_type": "code",
   "execution_count": 26,
   "metadata": {},
   "outputs": [
    {
     "name": "stdout",
     "output_type": "stream",
     "text": [
      "The value for key VAR1 = 2 which is a <class 'int'>\n",
      "The value for key VAR2 = [1, 2, 3] which is a <class 'list'>\n",
      "The value for key VAR3 = (3, 2, 1) which is a <class 'tuple'>\n",
      "The value for key VAR4 = added which is a <class 'str'>\n"
     ]
    }
   ],
   "source": [
    "# f-strings in python 3.7\n",
    "for key, value in adict.items():\n",
    "    print(f'The value for key {key} = {value} which is a {type(value)}'.format(key, value, type(value)))"
   ]
  },
  {
   "cell_type": "markdown",
   "metadata": {},
   "source": [
    "# Control Flow"
   ]
  },
  {
   "cell_type": "markdown",
   "metadata": {},
   "source": [
    "## If\n",
    "\n",
    "Note the indentation is crucial! Otherwise if ... elif ... else is the same as in any other language "
   ]
  },
  {
   "cell_type": "code",
   "execution_count": 28,
   "metadata": {},
   "outputs": [
    {
     "name": "stdout",
     "output_type": "stream",
     "text": [
      "Zero\n"
     ]
    }
   ],
   "source": [
    "number = 0\n",
    "if number < 0:\n",
    "    print('Negative')\n",
    "elif number > 0:\n",
    "    print('Positive')\n",
    "else:\n",
    "    print('Zero')"
   ]
  },
  {
   "cell_type": "markdown",
   "metadata": {},
   "source": [
    "## For\n",
    "\n",
    "With for you can loop over any collection that is iterable, include all sequence types (such as list, str, and tuple)"
   ]
  },
  {
   "cell_type": "code",
   "execution_count": 30,
   "metadata": {
    "scrolled": true
   },
   "outputs": [
    {
     "name": "stdout",
     "output_type": "stream",
     "text": [
      "1\n",
      "2\n",
      "3\n"
     ]
    }
   ],
   "source": [
    "## LOOP OVER LIST\n",
    "for item in [1,2,3]:\n",
    "    print(item)"
   ]
  },
  {
   "cell_type": "code",
   "execution_count": 32,
   "metadata": {},
   "outputs": [
    {
     "name": "stdout",
     "output_type": "stream",
     "text": [
      "Pos 0 in the list has value 1\n",
      "Pos 1 in the list has value 2\n",
      "Pos 2 in the list has value 3\n"
     ]
    }
   ],
   "source": [
    "## LOOP OVER LIST USING ENUMERATE\n",
    "for idx, val in enumerate([1,2,3]):\n",
    "    print(f'Pos {idx} in the list has value {val}')"
   ]
  },
  {
   "cell_type": "code",
   "execution_count": 33,
   "metadata": {},
   "outputs": [
    {
     "name": "stdout",
     "output_type": "stream",
     "text": [
      "Pos 0 in the tuple has value 3\n",
      "Pos 1 in the tuple has value 2\n",
      "Pos 2 in the tuple has value 1\n"
     ]
    }
   ],
   "source": [
    "## LOOP OVER TUPLE USING ENUMERATE\n",
    "for idx, val in enumerate((3,2,1)):\n",
    "    print(f'Pos {idx} in the tuple has value {val}')"
   ]
  },
  {
   "cell_type": "code",
   "execution_count": 34,
   "metadata": {},
   "outputs": [
    {
     "name": "stdout",
     "output_type": "stream",
     "text": [
      "Key A in the dictionary has value 11\n",
      "Key C in the dictionary has value 33\n",
      "Key B in the dictionary has value [2, 22, 222]\n"
     ]
    }
   ],
   "source": [
    "## LOOP OVER DICTIONARY USING ITERITEMS\n",
    "for key, val in {'A':11,'C':33,'B':[2,22,222]}.items():\n",
    "    print(f'Key {key} in the dictionary has value {val}')"
   ]
  },
  {
   "cell_type": "markdown",
   "metadata": {},
   "source": [
    "# Functions"
   ]
  },
  {
   "cell_type": "code",
   "execution_count": 36,
   "metadata": {},
   "outputs": [
    {
     "name": "stdout",
     "output_type": "stream",
     "text": [
      "Nothing passed in!\n"
     ]
    }
   ],
   "source": [
    "## note the indentation\n",
    "def function_without_arguments():\n",
    "    print('Nothing passed in!')\n",
    "\n",
    "function_without_arguments()"
   ]
  },
  {
   "cell_type": "code",
   "execution_count": 37,
   "metadata": {},
   "outputs": [
    {
     "name": "stdout",
     "output_type": "stream",
     "text": [
      "Passed in 3: loop 1 of 3\n",
      "Passed in 3: loop 2 of 3\n",
      "Passed in 3: loop 3 of 3\n"
     ]
    }
   ],
   "source": [
    "def function_with_arguments(rep):\n",
    "    for ix in range(1,rep+1):\n",
    "        print(f'Passed in {rep}: loop {ix} of {rep}')\n",
    "\n",
    "function_with_arguments(3)"
   ]
  },
  {
   "cell_type": "code",
   "execution_count": 38,
   "metadata": {},
   "outputs": [
    {
     "data": {
      "text/plain": [
       "22"
      ]
     },
     "execution_count": 38,
     "metadata": {},
     "output_type": "execute_result"
    }
   ],
   "source": [
    "def function_returning_something(x):\n",
    "    return(2*x)\n",
    "\n",
    "return_val = function_returning_something(11)\n",
    "return_val"
   ]
  },
  {
   "cell_type": "code",
   "execution_count": 41,
   "metadata": {},
   "outputs": [
    {
     "name": "stdout",
     "output_type": "stream",
     "text": [
      "<function function_returning_function.<locals>.<lambda> at 0x000000000CBB4620>\n",
      "27\n"
     ]
    }
   ],
   "source": [
    "# you can return a function --> lambda's are anonymous functions\n",
    "def function_returning_function(times):\n",
    "    return(lambda x: times*x)\n",
    "\n",
    "times_3 = function_returning_function(3)\n",
    "print(times_3)\n",
    "print(times_3(9))"
   ]
  },
  {
   "cell_type": "code",
   "execution_count": 42,
   "metadata": {},
   "outputs": [
    {
     "data": {
      "text/plain": [
       "20"
      ]
     },
     "execution_count": 42,
     "metadata": {},
     "output_type": "execute_result"
    }
   ],
   "source": [
    "## lambda notation / 'anonymous function'\n",
    "times_4 = lambda x: 4*x\n",
    "times_4(5)"
   ]
  },
  {
   "cell_type": "markdown",
   "metadata": {},
   "source": [
    "# List comprehension"
   ]
  },
  {
   "cell_type": "code",
   "execution_count": 43,
   "metadata": {
    "scrolled": true
   },
   "outputs": [
    {
     "data": {
      "text/plain": [
       "[5, 7, 9, 11, 13]"
      ]
     },
     "execution_count": 43,
     "metadata": {},
     "output_type": "execute_result"
    }
   ],
   "source": [
    "## Very powerfull way to create lists\n",
    "list_created = [rval+5 for rval in range(10) if (rval%2) == 0]\n",
    "list_created"
   ]
  },
  {
   "cell_type": "code",
   "execution_count": 44,
   "metadata": {
    "scrolled": true
   },
   "outputs": [
    {
     "name": "stdout",
     "output_type": "stream",
     "text": [
      "Calling function at position 0 (<function times_x.<locals>.<lambda> at 0x00000000058CAF28>) with argument 5 ==> gives 0\n",
      "Calling function at position 1 (<function times_x.<locals>.<lambda> at 0x000000000C6048C8>) with argument 5 ==> gives 5\n",
      "Calling function at position 2 (<function times_x.<locals>.<lambda> at 0x0000000009D18E18>) with argument 5 ==> gives 10\n",
      "Calling function at position 3 (<function times_x.<locals>.<lambda> at 0x0000000009D18F28>) with argument 5 ==> gives 15\n",
      "Calling function at position 4 (<function times_x.<locals>.<lambda> at 0x0000000009D186A8>) with argument 5 ==> gives 20\n",
      "Calling function at position 5 (<function times_x.<locals>.<lambda> at 0x0000000009D18620>) with argument 5 ==> gives 25\n",
      "Calling function at position 6 (<function times_x.<locals>.<lambda> at 0x0000000009D18598>) with argument 5 ==> gives 30\n",
      "Calling function at position 7 (<function times_x.<locals>.<lambda> at 0x0000000009D18840>) with argument 5 ==> gives 35\n",
      "Calling function at position 8 (<function times_x.<locals>.<lambda> at 0x0000000009D18730>) with argument 5 ==> gives 40\n",
      "Calling function at position 9 (<function times_x.<locals>.<lambda> at 0x0000000009D187B8>) with argument 5 ==> gives 45\n"
     ]
    }
   ],
   "source": [
    "## Lets make a list of functions\n",
    "def times_x(x):\n",
    "    return(lambda y: x*y)\n",
    "\n",
    "functs = [times_x(rval) for rval in range(10)]\n",
    "\n",
    "for ix in range(10):\n",
    "    print(f'Calling function at position {ix} ({functs[ix]}) with argument 5 ==> gives {functs[ix](5)}')\n"
   ]
  }
 ],
 "metadata": {
  "anaconda-cloud": {},
  "kernelspec": {
   "display_name": "Python 3",
   "language": "python",
   "name": "python3"
  },
  "language_info": {
   "codemirror_mode": {
    "name": "ipython",
    "version": 3
   },
   "file_extension": ".py",
   "mimetype": "text/x-python",
   "name": "python",
   "nbconvert_exporter": "python",
   "pygments_lexer": "ipython3",
   "version": "3.7.3"
  },
  "toc": {
   "base_numbering": 1,
   "nav_menu": {},
   "number_sections": true,
   "sideBar": true,
   "skip_h1_title": false,
   "title_cell": "Table of Contents",
   "title_sidebar": "Contents",
   "toc_cell": false,
   "toc_position": {},
   "toc_section_display": true,
   "toc_window_display": false
  }
 },
 "nbformat": 4,
 "nbformat_minor": 1
}
