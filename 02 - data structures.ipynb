{
 "cells": [
  {
   "cell_type": "markdown",
   "metadata": {},
   "source": [
    "# Recap"
   ]
  },
  {
   "cell_type": "markdown",
   "metadata": {},
   "source": [
    "Python can be used from multiple interfaces.<br><br>\n",
    "The best way to learn Python is to play with the language using an interactive environment like the ipython or Jupyter Notebooks. You just type code and hit ENTER or CNTRL-ENTER and immediately get the result.<br><br>\n",
    "Your best companions are:\n",
    "* TAB-completion to list the possible completions, and SHIFT-TAB to show the function signature + docstring inline.\n",
    "* _type()_ and _dir()_ and _help()_ to get type info, info on what is defined in the namespace of an object, and more help on a specific function.\n",
    "* If you have a question, mostly the answers are easy to find on Google / Stack Overflow  / ... One of the main advantages of open source software that is widely used.\n",
    "* Also the python.org website has many good references. The most important is probably the [Python Library Reference](https://docs.python.org/3/library/index.html)."
   ]
  },
  {
   "cell_type": "markdown",
   "metadata": {},
   "source": [
    "# ... On to more complex data structures"
   ]
  },
  {
   "cell_type": "markdown",
   "metadata": {},
   "source": [
    "Apart of the basic numeric data types and strings discussed previously, Python has a rich set of more elaborate data structures.<br><br>\n",
    "The standard build-in types are:\n",
    "* **list**: a mutable sequence\n",
    "* **tuple**: an immutable sequence\n",
    "* **set**: a mutable / immutable collection of unique elements\n",
    "* **dict**: mutable mapping form key to value\n",
    "* **array**: mutable sequence of elements of the same type (contiguous in memory)\n",
    "* **strings** revisited: an immutable sequence of characters"
   ]
  },
  {
   "cell_type": "markdown",
   "metadata": {},
   "source": [
    "## List []"
   ]
  },
  {
   "cell_type": "markdown",
   "metadata": {},
   "source": [
    "A mutable collection of elements, not nescesarrily of the same type.<br>\n",
    "Unlike Sets, the list in Python are ordered and have a definite count.<br>\n",
    "The elements in a list are indexed with 0 being the first index."
   ]
  },
  {
   "cell_type": "markdown",
   "metadata": {},
   "source": [
    "### Create a list with []"
   ]
  },
  {
   "cell_type": "code",
   "execution_count": 30,
   "metadata": {},
   "outputs": [],
   "source": [
    "## initialize a list\n",
    "lst01 = ['a','b','c','d',1,2,3,2,4]"
   ]
  },
  {
   "cell_type": "markdown",
   "metadata": {},
   "source": [
    "### Indexing lst[ix] where ix is 0-based"
   ]
  },
  {
   "cell_type": "code",
   "execution_count": 3,
   "metadata": {},
   "outputs": [
    {
     "data": {
      "text/plain": [
       "'a'"
      ]
     },
     "execution_count": 3,
     "metadata": {},
     "output_type": "execute_result"
    }
   ],
   "source": [
    "## accessing elements of as list using [] --> note the first element = lst[0] aka --based\n",
    "lst01[0]"
   ]
  },
  {
   "cell_type": "code",
   "execution_count": 4,
   "metadata": {},
   "outputs": [
    {
     "data": {
      "text/plain": [
       "4"
      ]
     },
     "execution_count": 4,
     "metadata": {},
     "output_type": "execute_result"
    }
   ],
   "source": [
    "## you can use negative indices to 'index from the end' od the list --> [-1] = last element\n",
    "lst01[-1]"
   ]
  },
  {
   "cell_type": "markdown",
   "metadata": {},
   "source": [
    "### Slicing lst[from:to] where to is exclusive"
   ]
  },
  {
   "cell_type": "code",
   "execution_count": 5,
   "metadata": {},
   "outputs": [
    {
     "data": {
      "text/plain": [
       "['b', 'c', 'd']"
      ]
     },
     "execution_count": 5,
     "metadata": {},
     "output_type": "execute_result"
    }
   ],
   "source": [
    "## note that a:b reads: from a to but not including b\n",
    "## 1:4 --> 1,2,3\n",
    "lst01[1:4]"
   ]
  },
  {
   "cell_type": "code",
   "execution_count": 8,
   "metadata": {},
   "outputs": [
    {
     "data": {
      "text/plain": [
       "[2, 3, 2]"
      ]
     },
     "execution_count": 8,
     "metadata": {},
     "output_type": "execute_result"
    }
   ],
   "source": [
    "## using negative indices works as expected\n",
    "## -4:-1 --> -4,-3,-2 (so excluding the last element)\n",
    "lst01[-4:-1]"
   ]
  },
  {
   "cell_type": "code",
   "execution_count": 10,
   "metadata": {},
   "outputs": [
    {
     "data": {
      "text/plain": [
       "['a', 'b', 'c']"
      ]
     },
     "execution_count": 10,
     "metadata": {},
     "output_type": "execute_result"
    }
   ],
   "source": [
    "## if you leave out the from or to, it is set to 0th & last element\n",
    "## :3 --> 0,1,2\n",
    "lst01[:3]"
   ]
  },
  {
   "cell_type": "code",
   "execution_count": 12,
   "metadata": {},
   "outputs": [
    {
     "data": {
      "text/plain": [
       "[3, 2, 4]"
      ]
     },
     "execution_count": 12,
     "metadata": {},
     "output_type": "execute_result"
    }
   ],
   "source": [
    "## -3: --> -3,-2,-1\n",
    "lst01[-3:]"
   ]
  },
  {
   "cell_type": "markdown",
   "metadata": {},
   "source": [
    "### Most generic form of slicing lst[from:to:step]"
   ]
  },
  {
   "cell_type": "code",
   "execution_count": 9,
   "metadata": {},
   "outputs": [
    {
     "data": {
      "text/plain": [
       "['d', 2, 2]"
      ]
     },
     "execution_count": 9,
     "metadata": {},
     "output_type": "execute_result"
    }
   ],
   "source": [
    "## 3:8:2 = 3,5,7 (remember not including the to=9)\n",
    "lst01[3:9:2]"
   ]
  },
  {
   "cell_type": "code",
   "execution_count": 16,
   "metadata": {},
   "outputs": [
    {
     "data": {
      "text/plain": [
       "[4, 2, 3, 2, 1, 'd', 'c', 'b', 'a']"
      ]
     },
     "execution_count": 16,
     "metadata": {},
     "output_type": "execute_result"
    }
   ],
   "source": [
    "## a trick to efficiently reverse a list uses this slicing with negative step\n",
    "lst01[::-1]"
   ]
  },
  {
   "cell_type": "code",
   "execution_count": 23,
   "metadata": {},
   "outputs": [],
   "source": [
    "## instead of using a slice 'inline' we can also create a slice object\n",
    "myslice = slice(0,len(lst01),2)"
   ]
  },
  {
   "cell_type": "code",
   "execution_count": 24,
   "metadata": {},
   "outputs": [
    {
     "data": {
      "text/plain": [
       "['a', 'c', 1, 3, 4]"
      ]
     },
     "execution_count": 24,
     "metadata": {},
     "output_type": "execute_result"
    }
   ],
   "source": [
    "lst01[myslice]"
   ]
  },
  {
   "cell_type": "markdown",
   "metadata": {},
   "source": [
    "### Lists have a bunch of additional methods"
   ]
  },
  {
   "cell_type": "code",
   "execution_count": 26,
   "metadata": {
    "scrolled": true
   },
   "outputs": [
    {
     "data": {
      "text/plain": [
       "['append',\n",
       " 'clear',\n",
       " 'copy',\n",
       " 'count',\n",
       " 'extend',\n",
       " 'index',\n",
       " 'insert',\n",
       " 'pop',\n",
       " 'remove',\n",
       " 'reverse',\n",
       " 'sort']"
      ]
     },
     "execution_count": 26,
     "metadata": {},
     "output_type": "execute_result"
    }
   ],
   "source": [
    "## remember: dir lists the methods defined for lists\n",
    "[m for m in  dir(lst01) if not(m.startswith('__'))]"
   ]
  },
  {
   "cell_type": "code",
   "execution_count": 31,
   "metadata": {},
   "outputs": [
    {
     "data": {
      "text/plain": [
       "['a', 'b', 'c', 'd', 1, 2, 3, 2, 4, 5]"
      ]
     },
     "execution_count": 31,
     "metadata": {},
     "output_type": "execute_result"
    }
   ],
   "source": [
    "## append: to append an element at the end\n",
    "lst01.append(5)\n",
    "lst01"
   ]
  },
  {
   "cell_type": "code",
   "execution_count": 32,
   "metadata": {},
   "outputs": [
    {
     "data": {
      "text/plain": [
       "['a', 'two', 'b', 'c', 'd', 1, 2, 3, 2, 4, 5]"
      ]
     },
     "execution_count": 32,
     "metadata": {},
     "output_type": "execute_result"
    }
   ],
   "source": [
    "## insert: to append an element before the element with index idx\n",
    "lst01.insert(1,'two') ## before the index 1 = the second element\n",
    "lst01"
   ]
  },
  {
   "cell_type": "code",
   "execution_count": 33,
   "metadata": {},
   "outputs": [
    {
     "data": {
      "text/plain": [
       "['a', 'two', 'b', 'c', 'd', 1, 2, 3, 2, 4, 5, 'discovery', 'analytics']"
      ]
     },
     "execution_count": 33,
     "metadata": {},
     "output_type": "execute_result"
    }
   ],
   "source": [
    "## extend: to append a list at the end\n",
    "lst01.extend(['discovery','analytics'])\n",
    "lst01"
   ]
  },
  {
   "cell_type": "code",
   "execution_count": 34,
   "metadata": {},
   "outputs": [
    {
     "name": "stdout",
     "output_type": "stream",
     "text": [
      "['a', 'two', 'b', 'c', 'd', 1, 2, 3, 2, 4, 5, 'discovery', 'analytics']\n",
      "analytics\n",
      "['a', 'two', 'b', 'c', 'd', 1, 2, 3, 2, 4, 5, 'discovery']\n",
      "a\n",
      "['two', 'b', 'c', 'd', 1, 2, 3, 2, 4, 5, 'discovery']\n"
     ]
    }
   ],
   "source": [
    "## pop element from the list --> default = last\n",
    "print(lst01)\n",
    "print(lst01.pop())\n",
    "print(lst01)\n",
    "## to pop the n-th element ... pass in n --> to pop the first element use pop(0)\n",
    "print(lst01.pop(0))\n",
    "print(lst01)"
   ]
  },
  {
   "cell_type": "code",
   "execution_count": 35,
   "metadata": {},
   "outputs": [
    {
     "data": {
      "text/plain": [
       "True"
      ]
     },
     "execution_count": 35,
     "metadata": {},
     "output_type": "execute_result"
    }
   ],
   "source": [
    "## check if element in the list\n",
    "2 in lst01"
   ]
  },
  {
   "cell_type": "code",
   "execution_count": 36,
   "metadata": {},
   "outputs": [
    {
     "data": {
      "text/plain": [
       "5"
      ]
     },
     "execution_count": 36,
     "metadata": {},
     "output_type": "execute_result"
    }
   ],
   "source": [
    "lst01.index(2)"
   ]
  },
  {
   "cell_type": "code",
   "execution_count": 37,
   "metadata": {},
   "outputs": [
    {
     "data": {
      "text/plain": [
       "[]"
      ]
     },
     "execution_count": 37,
     "metadata": {},
     "output_type": "execute_result"
    }
   ],
   "source": [
    "## to clear all elements from a list\n",
    "lst01.clear()\n",
    "lst01"
   ]
  },
  {
   "cell_type": "markdown",
   "metadata": {},
   "source": [
    "### List Comprehension"
   ]
  },
  {
   "cell_type": "markdown",
   "metadata": {},
   "source": [
    "A list comprehension is very usefull way to populate / initialise a list.<br>\n",
    "It has the following syntax:<br>\n",
    "<pre>result = [expression <b>for</b> element <b>in</b> iterator <b>if</b> condtions]"
   ]
  },
  {
   "cell_type": "code",
   "execution_count": 47,
   "metadata": {},
   "outputs": [
    {
     "data": {
      "text/plain": [
       "[0, 1, 2, 3, 4, 5, 6, 7, 8, 9, 10]"
      ]
     },
     "execution_count": 47,
     "metadata": {},
     "output_type": "execute_result"
    }
   ],
   "source": [
    "## for instance to get a list of numbers from 0 to 10\n",
    "[x for x in range(0,11)]"
   ]
  },
  {
   "cell_type": "code",
   "execution_count": 48,
   "metadata": {},
   "outputs": [
    {
     "data": {
      "text/plain": [
       "[0, 1, 4, 9, 16, 25, 36, 49, 64, 81, 100]"
      ]
     },
     "execution_count": 48,
     "metadata": {},
     "output_type": "execute_result"
    }
   ],
   "source": [
    "## to get a list of numbers squared from 0 to 10\n",
    "[x*x for x in range(0,11)]"
   ]
  },
  {
   "cell_type": "code",
   "execution_count": 49,
   "metadata": {},
   "outputs": [
    {
     "data": {
      "text/plain": [
       "[0, 4, 16, 36, 64, 100]"
      ]
     },
     "execution_count": 49,
     "metadata": {},
     "output_type": "execute_result"
    }
   ],
   "source": [
    "## ## to get a list of numbers squared for the even numbers from 0 to 10\n",
    "[x*x for x in range(0,11) if x % 2 == 0]"
   ]
  },
  {
   "cell_type": "code",
   "execution_count": 54,
   "metadata": {},
   "outputs": [
    {
     "data": {
      "text/plain": [
       "[111, 112, 121, 122, 211, 212, 221, 222]"
      ]
     },
     "execution_count": 54,
     "metadata": {},
     "output_type": "execute_result"
    }
   ],
   "source": [
    "## list comprehensions can be nested, somewhat counter intuitive\n",
    "[  ix1 + ix2*10 + ix3*100\n",
    "   for ix3 in range(1,3) ## changes when ix2 has done a full rotation\n",
    "   for ix2 in range(1,3) ## changes when ix1 has done a full rotation\n",
    "   for ix1 in range(1,3) ## changes fastest\n",
    "]"
   ]
  },
  {
   "cell_type": "code",
   "execution_count": 57,
   "metadata": {},
   "outputs": [
    {
     "data": {
      "text/plain": [
       "[111, 112, 121, 122, 211, 212, 221, 222]"
      ]
     },
     "execution_count": 57,
     "metadata": {},
     "output_type": "execute_result"
    }
   ],
   "source": [
    "## this is equivalent to:\n",
    "lst = []\n",
    "for ix3 in range(1,3):\n",
    "    for ix2 in range(1,3):\n",
    "        for ix1 in range(1,3):\n",
    "            lst.append(ix1 + ix2*10 + ix3*100)\n",
    "lst"
   ]
  },
  {
   "cell_type": "markdown",
   "metadata": {},
   "source": [
    "## Tuple ()"
   ]
  },
  {
   "cell_type": "markdown",
   "metadata": {},
   "source": [
    "A tuple is an **immutable** collection of elements not nescessarily of the same type.<br>\n",
    "Tuples can be indexed and sliced just like lists, but individual elements cannot be changed!<br>\n",
    "* Tuples are slightly more efficient than lists\n",
    "* Tuples can be used as dictionary keys (see later) due to their immutablity\n",
    "* Tuples are very usefull to force / ensure / communicate a fixed lenght structure<br>\n",
    "  (a disctionary without keys or a struct in languages like C/C++)"
   ]
  },
  {
   "cell_type": "markdown",
   "metadata": {},
   "source": [
    "### Create a tuple using ()"
   ]
  },
  {
   "cell_type": "code",
   "execution_count": 58,
   "metadata": {},
   "outputs": [
    {
     "data": {
      "text/plain": [
       "('Life of Brian', 2, 'The Meaning of Life', 42)"
      ]
     },
     "execution_count": 58,
     "metadata": {},
     "output_type": "execute_result"
    }
   ],
   "source": [
    "tpl01 = ('Life of Brian', 2, 'The Meaning of Life', 42)\n",
    "tpl01"
   ]
  },
  {
   "cell_type": "markdown",
   "metadata": {},
   "source": [
    "### Indexing tpl[ix] where ix is 0-based"
   ]
  },
  {
   "cell_type": "code",
   "execution_count": 62,
   "metadata": {},
   "outputs": [
    {
     "data": {
      "text/plain": [
       "2"
      ]
     },
     "execution_count": 62,
     "metadata": {},
     "output_type": "execute_result"
    }
   ],
   "source": [
    "tpl01[1]"
   ]
  },
  {
   "cell_type": "code",
   "execution_count": 63,
   "metadata": {},
   "outputs": [
    {
     "data": {
      "text/plain": [
       "('Life of Brian', 42)"
      ]
     },
     "execution_count": 63,
     "metadata": {},
     "output_type": "execute_result"
    }
   ],
   "source": [
    "tpl01[0:4:3] ## --> elements 0, 3"
   ]
  },
  {
   "cell_type": "code",
   "execution_count": 64,
   "metadata": {},
   "outputs": [
    {
     "data": {
      "text/plain": [
       "(42, 'The Meaning of Life', 2, 'Life of Brian')"
      ]
     },
     "execution_count": 64,
     "metadata": {},
     "output_type": "execute_result"
    }
   ],
   "source": [
    "tpl01[::-1] "
   ]
  },
  {
   "cell_type": "markdown",
   "metadata": {},
   "source": [
    "### Additional methods"
   ]
  },
  {
   "cell_type": "code",
   "execution_count": 69,
   "metadata": {},
   "outputs": [
    {
     "data": {
      "text/plain": [
       "['__add__',\n",
       " '__class__',\n",
       " '__contains__',\n",
       " '__delattr__',\n",
       " '__dir__',\n",
       " '__doc__',\n",
       " '__eq__',\n",
       " '__format__',\n",
       " '__ge__',\n",
       " '__getattribute__',\n",
       " '__getitem__',\n",
       " '__getnewargs__',\n",
       " '__gt__',\n",
       " '__hash__',\n",
       " '__init__',\n",
       " '__init_subclass__',\n",
       " '__iter__',\n",
       " '__le__',\n",
       " '__len__',\n",
       " '__lt__',\n",
       " '__mul__',\n",
       " '__ne__',\n",
       " '__new__',\n",
       " '__reduce__',\n",
       " '__reduce_ex__',\n",
       " '__repr__',\n",
       " '__rmul__',\n",
       " '__setattr__',\n",
       " '__sizeof__',\n",
       " '__str__',\n",
       " '__subclasshook__',\n",
       " 'count',\n",
       " 'index']"
      ]
     },
     "execution_count": 69,
     "metadata": {},
     "output_type": "execute_result"
    }
   ],
   "source": [
    "[m for m in dir(tpl01)]"
   ]
  },
  {
   "cell_type": "code",
   "execution_count": 77,
   "metadata": {},
   "outputs": [],
   "source": [
    "tpl01.index?"
   ]
  },
  {
   "cell_type": "code",
   "execution_count": 78,
   "metadata": {},
   "outputs": [
    {
     "data": {
      "text/plain": [
       "2"
      ]
     },
     "execution_count": 78,
     "metadata": {},
     "output_type": "execute_result"
    }
   ],
   "source": [
    "tpl01.index('The Meaning of Life')"
   ]
  },
  {
   "cell_type": "code",
   "execution_count": 76,
   "metadata": {},
   "outputs": [],
   "source": [
    "tpl01.count?"
   ]
  },
  {
   "cell_type": "code",
   "execution_count": 79,
   "metadata": {},
   "outputs": [
    {
     "data": {
      "text/plain": [
       "1"
      ]
     },
     "execution_count": 79,
     "metadata": {},
     "output_type": "execute_result"
    }
   ],
   "source": [
    "tpl01.count(42)"
   ]
  },
  {
   "cell_type": "markdown",
   "metadata": {},
   "source": [
    "### The dunder methods\n",
    "\n",
    "The dunder methods are methods that are called by the python interpreter encounters certain operators / functions called for a specific type.<br>\n",
    "For instance, the \\_\\_len\\_\\_() method of an object is called when the len() function is called on an object of that type.<br>\n",
    "Or, the \\_\\_mul\\_\\_() function is called when the * operator is called.<br>\n",
    "Or, the \\_\\_contains\\_\\_() function is called when the _in_ operator is called.<br><br> \n",
    "Once you start to use Python more often you can guess what these dunder methods do!"
   ]
  },
  {
   "cell_type": "code",
   "execution_count": 85,
   "metadata": {},
   "outputs": [
    {
     "data": {
      "text/plain": [
       "'abcabc'"
      ]
     },
     "execution_count": 85,
     "metadata": {},
     "output_type": "execute_result"
    }
   ],
   "source": [
    "'abc'.__mul__(2)"
   ]
  },
  {
   "cell_type": "code",
   "execution_count": 86,
   "metadata": {},
   "outputs": [
    {
     "data": {
      "text/plain": [
       "'abcabc'"
      ]
     },
     "execution_count": 86,
     "metadata": {},
     "output_type": "execute_result"
    }
   ],
   "source": [
    "'abc' * 2"
   ]
  },
  {
   "cell_type": "code",
   "execution_count": 87,
   "metadata": {},
   "outputs": [
    {
     "data": {
      "text/plain": [
       "True"
      ]
     },
     "execution_count": 87,
     "metadata": {},
     "output_type": "execute_result"
    }
   ],
   "source": [
    "'abc'.__contains__('b')"
   ]
  },
  {
   "cell_type": "code",
   "execution_count": 88,
   "metadata": {},
   "outputs": [
    {
     "data": {
      "text/plain": [
       "True"
      ]
     },
     "execution_count": 88,
     "metadata": {},
     "output_type": "execute_result"
    }
   ],
   "source": [
    "'b' in 'abc'"
   ]
  },
  {
   "cell_type": "code",
   "execution_count": 89,
   "metadata": {},
   "outputs": [
    {
     "data": {
      "text/plain": [
       "False"
      ]
     },
     "execution_count": 89,
     "metadata": {},
     "output_type": "execute_result"
    }
   ],
   "source": [
    "(1,2,3,4,5).__contains__(6)"
   ]
  },
  {
   "cell_type": "code",
   "execution_count": 90,
   "metadata": {},
   "outputs": [
    {
     "data": {
      "text/plain": [
       "False"
      ]
     },
     "execution_count": 90,
     "metadata": {},
     "output_type": "execute_result"
    }
   ],
   "source": [
    "6 in (1,2,3,4,5)"
   ]
  },
  {
   "cell_type": "markdown",
   "metadata": {},
   "source": [
    "### Tuple Comprehension does not exist\n",
    "The list compehension syntax with <b>[]</b> replaced by <b>()</b> gives a generator (a more advanced topic).<br>\n",
    "Since a tuple is only used for fixed length structures, a comprehension is seldom needed.<br><br>\n",
    "An easy way to create a tuple using a comprehension, you can wrap the generator created by \n",
    "<pre>\n",
    "(operator <b>for</b> element <b>in</b> iterable <b>if</b> condition)\n",
    "</pre>\n",
    "in a tuple() call, so<br>\n",
    "<pre>\n",
    "tuple(operator <b>for</b> element <b>in</b> iterable <b>if</b> condition)\n",
    "</pre>"
   ]
  },
  {
   "cell_type": "code",
   "execution_count": 91,
   "metadata": {},
   "outputs": [
    {
     "data": {
      "text/plain": [
       "(0, 3, 6, 9, 12, 15, 18, 21, 24, 27, 30, 33, 36, 39, 42, 45, 48)"
      ]
     },
     "execution_count": 91,
     "metadata": {},
     "output_type": "execute_result"
    }
   ],
   "source": [
    "tpl02 = tuple(e for e in range(50) if e%3 == 0)\n",
    "tpl02"
   ]
  },
  {
   "cell_type": "code",
   "execution_count": 84,
   "metadata": {},
   "outputs": [
    {
     "data": {
      "text/plain": [
       "4"
      ]
     },
     "execution_count": 84,
     "metadata": {},
     "output_type": "execute_result"
    }
   ],
   "source": [
    "tpl02.index(12)"
   ]
  },
  {
   "cell_type": "markdown",
   "metadata": {},
   "source": [
    "## Set\n",
    "\n",
    "A set is a mutable collection of unique elements"
   ]
  },
  {
   "cell_type": "code",
   "execution_count": 114,
   "metadata": {},
   "outputs": [],
   "source": [
    "set01 = {'a','b','c','d'}\n",
    "set02 =         {'c','d','e','f'}"
   ]
  },
  {
   "cell_type": "code",
   "execution_count": 94,
   "metadata": {},
   "outputs": [
    {
     "data": {
      "text/plain": [
       "['add',\n",
       " 'clear',\n",
       " 'copy',\n",
       " 'difference',\n",
       " 'difference_update',\n",
       " 'discard',\n",
       " 'intersection',\n",
       " 'intersection_update',\n",
       " 'isdisjoint',\n",
       " 'issubset',\n",
       " 'issuperset',\n",
       " 'pop',\n",
       " 'remove',\n",
       " 'symmetric_difference',\n",
       " 'symmetric_difference_update',\n",
       " 'union',\n",
       " 'update']"
      ]
     },
     "execution_count": 94,
     "metadata": {},
     "output_type": "execute_result"
    }
   ],
   "source": [
    "[m for m in dir(set01) if not(m.startswith('__'))]"
   ]
  },
  {
   "cell_type": "code",
   "execution_count": 95,
   "metadata": {},
   "outputs": [
    {
     "data": {
      "text/plain": [
       "{'a', 'b'}"
      ]
     },
     "execution_count": 95,
     "metadata": {},
     "output_type": "execute_result"
    }
   ],
   "source": [
    "set01.difference(set02)"
   ]
  },
  {
   "cell_type": "code",
   "execution_count": 96,
   "metadata": {},
   "outputs": [
    {
     "data": {
      "text/plain": [
       "{'e', 'f'}"
      ]
     },
     "execution_count": 96,
     "metadata": {},
     "output_type": "execute_result"
    }
   ],
   "source": [
    "set02.difference(set01)"
   ]
  },
  {
   "cell_type": "code",
   "execution_count": 97,
   "metadata": {},
   "outputs": [
    {
     "data": {
      "text/plain": [
       "{'c', 'd'}"
      ]
     },
     "execution_count": 97,
     "metadata": {},
     "output_type": "execute_result"
    }
   ],
   "source": [
    "set01.intersection(set02)"
   ]
  },
  {
   "cell_type": "code",
   "execution_count": 115,
   "metadata": {},
   "outputs": [
    {
     "name": "stdout",
     "output_type": "stream",
     "text": [
      "{'c', 'g', 'a', 'b', 'd'}\n",
      "{'c', 'g', 'a', 'b', 'd'}\n"
     ]
    }
   ],
   "source": [
    "set01.add('g')\n",
    "print(set01)\n",
    "set01.add('a')\n",
    "print(set01)"
   ]
  },
  {
   "cell_type": "code",
   "execution_count": 102,
   "metadata": {},
   "outputs": [
    {
     "data": {
      "text/plain": [
       "True"
      ]
     },
     "execution_count": 102,
     "metadata": {},
     "output_type": "execute_result"
    }
   ],
   "source": [
    "{'a','b'}.issubset({'a','b','c','d'})"
   ]
  },
  {
   "cell_type": "code",
   "execution_count": 103,
   "metadata": {},
   "outputs": [
    {
     "data": {
      "text/plain": [
       "False"
      ]
     },
     "execution_count": 103,
     "metadata": {},
     "output_type": "execute_result"
    }
   ],
   "source": [
    "{'a','e'}.issubset({'a','b','c','d'})"
   ]
  },
  {
   "cell_type": "code",
   "execution_count": 104,
   "metadata": {},
   "outputs": [
    {
     "data": {
      "text/plain": [
       "True"
      ]
     },
     "execution_count": 104,
     "metadata": {},
     "output_type": "execute_result"
    }
   ],
   "source": [
    "{'a','b','c','d'}.issuperset({'a','b'})"
   ]
  },
  {
   "cell_type": "markdown",
   "metadata": {},
   "source": [
    "### Set operators"
   ]
  },
  {
   "cell_type": "code",
   "execution_count": 108,
   "metadata": {},
   "outputs": [
    {
     "data": {
      "text/plain": [
       "['__and__',\n",
       " '__class__',\n",
       " '__contains__',\n",
       " '__delattr__',\n",
       " '__dir__',\n",
       " '__doc__',\n",
       " '__eq__',\n",
       " '__format__',\n",
       " '__ge__',\n",
       " '__getattribute__',\n",
       " '__gt__',\n",
       " '__hash__',\n",
       " '__iand__',\n",
       " '__init__',\n",
       " '__init_subclass__',\n",
       " '__ior__',\n",
       " '__isub__',\n",
       " '__iter__',\n",
       " '__ixor__',\n",
       " '__le__',\n",
       " '__len__',\n",
       " '__lt__',\n",
       " '__ne__',\n",
       " '__new__',\n",
       " '__or__',\n",
       " '__rand__',\n",
       " '__reduce__',\n",
       " '__reduce_ex__',\n",
       " '__repr__',\n",
       " '__ror__',\n",
       " '__rsub__',\n",
       " '__rxor__',\n",
       " '__setattr__',\n",
       " '__sizeof__',\n",
       " '__str__',\n",
       " '__sub__',\n",
       " '__subclasshook__',\n",
       " '__xor__']"
      ]
     },
     "execution_count": 108,
     "metadata": {},
     "output_type": "execute_result"
    }
   ],
   "source": [
    "[m for m in dir(set01) if m.startswith('__')]"
   ]
  },
  {
   "cell_type": "code",
   "execution_count": 116,
   "metadata": {},
   "outputs": [
    {
     "data": {
      "text/plain": [
       "{'c', 'd'}"
      ]
     },
     "execution_count": 116,
     "metadata": {},
     "output_type": "execute_result"
    }
   ],
   "source": [
    "## intersection --> and\n",
    "set01 & set02"
   ]
  },
  {
   "cell_type": "code",
   "execution_count": 117,
   "metadata": {},
   "outputs": [
    {
     "data": {
      "text/plain": [
       "{'c', 'd'}"
      ]
     },
     "execution_count": 117,
     "metadata": {},
     "output_type": "execute_result"
    }
   ],
   "source": [
    "set01.__and__(set02)"
   ]
  },
  {
   "cell_type": "code",
   "execution_count": 118,
   "metadata": {},
   "outputs": [
    {
     "data": {
      "text/plain": [
       "{'a', 'b', 'c', 'd', 'e', 'f', 'g'}"
      ]
     },
     "execution_count": 118,
     "metadata": {},
     "output_type": "execute_result"
    }
   ],
   "source": [
    "## union --> or\n",
    "set01 | set02"
   ]
  },
  {
   "cell_type": "code",
   "execution_count": 120,
   "metadata": {},
   "outputs": [
    {
     "data": {
      "text/plain": [
       "{'a', 'b', 'c', 'd', 'e', 'f', 'g'}"
      ]
     },
     "execution_count": 120,
     "metadata": {},
     "output_type": "execute_result"
    }
   ],
   "source": [
    "set01.__or__(set02)"
   ]
  },
  {
   "cell_type": "code",
   "execution_count": 121,
   "metadata": {},
   "outputs": [],
   "source": [
    "set01.__ior__?"
   ]
  },
  {
   "cell_type": "code",
   "execution_count": 122,
   "metadata": {},
   "outputs": [
    {
     "data": {
      "text/plain": [
       "{'a', 'b', 'g'}"
      ]
     },
     "execution_count": 122,
     "metadata": {},
     "output_type": "execute_result"
    }
   ],
   "source": [
    "## set difference\n",
    "set01 - set02"
   ]
  },
  {
   "cell_type": "code",
   "execution_count": 123,
   "metadata": {},
   "outputs": [
    {
     "data": {
      "text/plain": [
       "{'a', 'b', 'g'}"
      ]
     },
     "execution_count": 123,
     "metadata": {},
     "output_type": "execute_result"
    }
   ],
   "source": [
    "set01.__sub__(set02)"
   ]
  },
  {
   "cell_type": "code",
   "execution_count": 129,
   "metadata": {},
   "outputs": [
    {
     "data": {
      "text/plain": [
       "{'a', 'b', 'g'}"
      ]
     },
     "execution_count": 129,
     "metadata": {},
     "output_type": "execute_result"
    }
   ],
   "source": [
    "## symmetric difference / exclusive or --> xor\n",
    "set01 ^ set02"
   ]
  },
  {
   "cell_type": "code",
   "execution_count": 128,
   "metadata": {},
   "outputs": [
    {
     "data": {
      "text/plain": [
       "{'a', 'b', 'g'}"
      ]
     },
     "execution_count": 128,
     "metadata": {},
     "output_type": "execute_result"
    }
   ],
   "source": [
    "## set diff is non-symmetrical\n",
    "set01.__xor__(set02)"
   ]
  },
  {
   "cell_type": "markdown",
   "metadata": {},
   "source": [
    "### Set Comprehension"
   ]
  },
  {
   "cell_type": "markdown",
   "metadata": {},
   "source": [
    "The set compehension syntax is<br>\n",
    "<pre>\n",
    "result = {operator <b>for</b> element <b>in</b> iterable <b>if</b> condition}\n",
    "</pre>"
   ]
  },
  {
   "cell_type": "code",
   "execution_count": 144,
   "metadata": {},
   "outputs": [
    {
     "data": {
      "text/plain": [
       "{'a1', 'a2', 'a3', 'b1', 'b2', 'b3', 'c1', 'c2', 'c3'}"
      ]
     },
     "execution_count": 144,
     "metadata": {},
     "output_type": "execute_result"
    }
   ],
   "source": [
    "## cartesian product of sets\n",
    "{f'{s1}{s2}' for s2 in [1,2,3] for s1 in ['a','b','c']}"
   ]
  },
  {
   "cell_type": "markdown",
   "metadata": {},
   "source": [
    "## Dict"
   ]
  },
  {
   "cell_type": "code",
   "execution_count": 145,
   "metadata": {},
   "outputs": [],
   "source": [
    "dict01 = {'a':1,'b':2,'c':3,'d':4,'e':5}\n",
    "dict02 = {'d':4,'e':5,'f':6,'g':7,'h':8}"
   ]
  },
  {
   "cell_type": "code",
   "execution_count": 146,
   "metadata": {},
   "outputs": [
    {
     "data": {
      "text/plain": [
       "{'d', 'e'}"
      ]
     },
     "execution_count": 146,
     "metadata": {},
     "output_type": "execute_result"
    }
   ],
   "source": [
    "dict01.keys() & dict02.keys()"
   ]
  },
  {
   "cell_type": "code",
   "execution_count": null,
   "metadata": {},
   "outputs": [],
   "source": [
    "super(type(dict01.keys()))"
   ]
  },
  {
   "cell_type": "markdown",
   "metadata": {},
   "source": [
    "### Dict Comprehension"
   ]
  },
  {
   "cell_type": "code",
   "execution_count": null,
   "metadata": {},
   "outputs": [],
   "source": [
    "{k:2*v for k,v in dict01.items()}"
   ]
  },
  {
   "cell_type": "code",
   "execution_count": null,
   "metadata": {},
   "outputs": [],
   "source": [
    "def invert(d):\n",
    "    return {v : k for k, v in d.items()}"
   ]
  },
  {
   "cell_type": "code",
   "execution_count": null,
   "metadata": {},
   "outputs": [],
   "source": [
    "d = {0 : 'A', 1 : 'B', 2 : 'C', 3 : 'D'}\n",
    "d"
   ]
  },
  {
   "cell_type": "code",
   "execution_count": null,
   "metadata": {},
   "outputs": [],
   "source": [
    "invert(d)"
   ]
  },
  {
   "cell_type": "markdown",
   "metadata": {},
   "source": [
    "## Array"
   ]
  },
  {
   "cell_type": "markdown",
   "metadata": {},
   "source": [
    "A more efficient way to store a mutable ordered set of elements **of the same type** that is stored in a contigeous block of memory.<br>\n",
    "For computation the **numpy** arrays are far more suitable!"
   ]
  },
  {
   "cell_type": "code",
   "execution_count": 64,
   "metadata": {},
   "outputs": [],
   "source": [
    "import array as arr"
   ]
  },
  {
   "cell_type": "code",
   "execution_count": 65,
   "metadata": {},
   "outputs": [],
   "source": [
    "a1 = arr.array('h',range(11))\n",
    "# the first argument is the type code:\n",
    "#-------------------------------------------------------\n",
    "# Type code   C Type             Minimum size in bytes \n",
    "#-------------------------------------------------------\n",
    "# 'b'         signed integer     1 \n",
    "# 'B'         unsigned integer   1 \n",
    "# 'u'         Unicode character  2 (see note) \n",
    "# 'h'         signed integer     2 \n",
    "# 'H'         unsigned integer   2 \n",
    "# 'i'         signed integer     2 \n",
    "# 'I'         unsigned integer   2 \n",
    "# 'l'         signed integer     4 \n",
    "# 'L'         unsigned integer   4 \n",
    "# 'q'         signed integer     8 (see note) \n",
    "# 'Q'         unsigned integer   8 (see note) \n",
    "# 'f'         floating point     4 \n",
    "# 'd'         floating point     8 "
   ]
  },
  {
   "cell_type": "code",
   "execution_count": 66,
   "metadata": {},
   "outputs": [
    {
     "data": {
      "text/plain": [
       "(140103580403920, 11)"
      ]
     },
     "execution_count": 66,
     "metadata": {},
     "output_type": "execute_result"
    }
   ],
   "source": [
    "## buffer array gives the address and length of the array\n",
    "a1.buffer_info()"
   ]
  },
  {
   "cell_type": "code",
   "execution_count": 68,
   "metadata": {},
   "outputs": [],
   "source": [
    "a1[0] = -10"
   ]
  },
  {
   "cell_type": "code",
   "execution_count": 69,
   "metadata": {},
   "outputs": [
    {
     "data": {
      "text/plain": [
       "(140103580403920, 11)"
      ]
     },
     "execution_count": 69,
     "metadata": {},
     "output_type": "execute_result"
    }
   ],
   "source": [
    "a1.buffer_info()"
   ]
  },
  {
   "cell_type": "code",
   "execution_count": 38,
   "metadata": {},
   "outputs": [
    {
     "data": {
      "text/plain": [
       "(140103580402768, 12)"
      ]
     },
     "execution_count": 38,
     "metadata": {},
     "output_type": "execute_result"
    }
   ],
   "source": [
    "a1.append(11)\n",
    "a1.buffer_info()"
   ]
  },
  {
   "cell_type": "code",
   "execution_count": 39,
   "metadata": {},
   "outputs": [
    {
     "data": {
      "text/plain": [
       "(140103579882920, 22)"
      ]
     },
     "execution_count": 39,
     "metadata": {},
     "output_type": "execute_result"
    }
   ],
   "source": [
    "a1.extend(range(100,110))\n",
    "a1.buffer_info()"
   ]
  },
  {
   "cell_type": "code",
   "execution_count": 5,
   "metadata": {},
   "outputs": [
    {
     "data": {
      "text/plain": [
       "array('h', [0, 1, 2, 3, 4, 5, 6, 7, 8, 9, 100, 101, 102, 103, 104, 105, 106, 107, 108, 109])"
      ]
     },
     "execution_count": 5,
     "metadata": {},
     "output_type": "execute_result"
    }
   ],
   "source": [
    "a1.extend(range(100,110))\n",
    "a1"
   ]
  },
  {
   "cell_type": "code",
   "execution_count": 6,
   "metadata": {},
   "outputs": [
    {
     "data": {
      "text/plain": [
       "(140103590567024, 20)"
      ]
     },
     "execution_count": 6,
     "metadata": {},
     "output_type": "execute_result"
    }
   ],
   "source": [
    "a1.buffer_info()"
   ]
  },
  {
   "cell_type": "markdown",
   "metadata": {},
   "source": [
    "# Iterators"
   ]
  },
  {
   "cell_type": "markdown",
   "metadata": {},
   "source": [
    "An iterator is any class/objetc that implements the iterator protocol, which implements the \\_\\_iter\\_\\_() method and the resulting iterator implements the \\_\\_next\\_\\_() method.<br>\n",
    "Lists, tuples, dictionaries, and sets are all iterable objects.<br>\n",
    "As are files, strings, dataframes, ..."
   ]
  },
  {
   "cell_type": "code",
   "execution_count": 44,
   "metadata": {},
   "outputs": [],
   "source": [
    "def is_obj_iterable(obj):\n",
    "    print('iterable' if '__iter__' in dir(obj) else 'not iterable')"
   ]
  },
  {
   "cell_type": "code",
   "execution_count": 45,
   "metadata": {},
   "outputs": [
    {
     "name": "stdout",
     "output_type": "stream",
     "text": [
      "not iterable\n"
     ]
    }
   ],
   "source": [
    "## is an int iterable\n",
    "is_obj_iterable(42)"
   ]
  },
  {
   "cell_type": "code",
   "execution_count": 46,
   "metadata": {},
   "outputs": [
    {
     "name": "stdout",
     "output_type": "stream",
     "text": [
      "iterable\n"
     ]
    }
   ],
   "source": [
    "## is a list iterable\n",
    "is_obj_iterable([1,2])"
   ]
  },
  {
   "cell_type": "code",
   "execution_count": 48,
   "metadata": {},
   "outputs": [
    {
     "name": "stdout",
     "output_type": "stream",
     "text": [
      "iterable\n"
     ]
    }
   ],
   "source": [
    "## is a tuple iterable\n",
    "is_obj_iterable((1,2))"
   ]
  },
  {
   "cell_type": "code",
   "execution_count": 49,
   "metadata": {},
   "outputs": [
    {
     "name": "stdout",
     "output_type": "stream",
     "text": [
      "iterable\n"
     ]
    }
   ],
   "source": [
    "## is a dict iterable\n",
    "is_obj_iterable({1:2})"
   ]
  },
  {
   "cell_type": "code",
   "execution_count": 50,
   "metadata": {},
   "outputs": [
    {
     "name": "stdout",
     "output_type": "stream",
     "text": [
      "iterable\n"
     ]
    }
   ],
   "source": [
    "## is a set iterable\n",
    "is_obj_iterable({1,2})"
   ]
  },
  {
   "cell_type": "code",
   "execution_count": 51,
   "metadata": {},
   "outputs": [
    {
     "name": "stdout",
     "output_type": "stream",
     "text": [
      "iterable\n"
     ]
    }
   ],
   "source": [
    "## is a string iterable\n",
    "is_obj_iterable('Nationwide')"
   ]
  },
  {
   "cell_type": "code",
   "execution_count": 52,
   "metadata": {},
   "outputs": [
    {
     "name": "stdout",
     "output_type": "stream",
     "text": [
      "iterable\n"
     ]
    }
   ],
   "source": [
    "## is a file iterable\n",
    "is_obj_iterable(open('03 - control flow statements.ipynb','r'))"
   ]
  },
  {
   "cell_type": "markdown",
   "metadata": {},
   "source": [
    "## Lets loop explicitly using the iter & next functions"
   ]
  },
  {
   "cell_type": "code",
   "execution_count": 53,
   "metadata": {},
   "outputs": [],
   "source": [
    "## create an ordanary list\n",
    "lst01 = ['one',2,'three',[1,2,3],'four']"
   ]
  },
  {
   "cell_type": "code",
   "execution_count": 136,
   "metadata": {},
   "outputs": [
    {
     "name": "stdout",
     "output_type": "stream",
     "text": [
      "one\n",
      "2\n",
      "three\n",
      "[1, 2, 3]\n",
      "four\n"
     ]
    }
   ],
   "source": [
    "for e in lst01: \n",
    "    print(e)"
   ]
  },
  {
   "cell_type": "code",
   "execution_count": 54,
   "metadata": {},
   "outputs": [
    {
     "name": "stdout",
     "output_type": "stream",
     "text": [
      "one\n",
      "2\n",
      "three\n",
      "[1, 2, 3]\n",
      "four\n"
     ]
    }
   ],
   "source": [
    "## get an iterator for this list\n",
    "my_iter = iter(lst01)\n",
    "## call next() on this iterator (which returns the current location and forwards one position)\n",
    "print(next(my_iter))\n",
    "print(next(my_iter))\n",
    "print(next(my_iter))\n",
    "print(next(my_iter))\n",
    "print(next(my_iter))"
   ]
  },
  {
   "cell_type": "code",
   "execution_count": 55,
   "metadata": {},
   "outputs": [
    {
     "ename": "StopIteration",
     "evalue": "",
     "output_type": "error",
     "traceback": [
      "\u001b[0;31m---------------------------------------------------------------------------\u001b[0m",
      "\u001b[0;31mStopIteration\u001b[0m                             Traceback (most recent call last)",
      "\u001b[0;32m<ipython-input-55-2876fe81fafa>\u001b[0m in \u001b[0;36m<module>\u001b[0;34m\u001b[0m\n\u001b[1;32m      1\u001b[0m \u001b[0;31m## when you call next on an iterator that is 'exhausted' you get a StopIteration exception\u001b[0m\u001b[0;34m\u001b[0m\u001b[0;34m\u001b[0m\u001b[0;34m\u001b[0m\u001b[0m\n\u001b[0;32m----> 2\u001b[0;31m \u001b[0mprint\u001b[0m\u001b[0;34m(\u001b[0m\u001b[0mnext\u001b[0m\u001b[0;34m(\u001b[0m\u001b[0mmy_iter\u001b[0m\u001b[0;34m)\u001b[0m\u001b[0;34m)\u001b[0m\u001b[0;34m\u001b[0m\u001b[0;34m\u001b[0m\u001b[0m\n\u001b[0m",
      "\u001b[0;31mStopIteration\u001b[0m: "
     ]
    }
   ],
   "source": [
    "## when you call next on an iterator that is 'exhausted' you get a StopIteration exception\n",
    "print(next(my_iter))"
   ]
  },
  {
   "cell_type": "code",
   "execution_count": 56,
   "metadata": {},
   "outputs": [
    {
     "name": "stdout",
     "output_type": "stream",
     "text": [
      "one\n",
      "2\n",
      "three\n",
      "[1, 2, 3]\n",
      "four\n"
     ]
    }
   ],
   "source": [
    "my_iter = iter(lst01)\n",
    "e = next(my_iter)\n",
    "while e: \n",
    "    print(e)\n",
    "    try:\n",
    "        e = next(my_iter)\n",
    "    except:\n",
    "        break"
   ]
  },
  {
   "cell_type": "markdown",
   "metadata": {},
   "source": [
    "## Files"
   ]
  },
  {
   "cell_type": "markdown",
   "metadata": {},
   "source": [
    "Files are itrable in Python.<br>\n",
    "The easiest and most secure way to work with files in ython is by using a so called context manager.<br>\n",
    "<pre>\n",
    "with open(filename,'flag') as f:\n",
    "    for line in f:\n",
    "        do something with l\n",
    "        ...\n",
    "</pre>\n",
    "The file is only open in the scope of the with context manager, so no need to close explicitly<br>\n",
    "(the file is closed implicitly after the with scope is exited)."
   ]
  },
  {
   "cell_type": "code",
   "execution_count": 81,
   "metadata": {},
   "outputs": [
    {
     "name": "stdout",
     "output_type": "stream",
     "text": [
      "{\n",
      "\"cells\": [\n",
      "{\n",
      "\"cell_type\": \"markdown\",\n",
      "\"metadata\": {},\n",
      "\"source\": [\n",
      "\"# Control Flow\"\n",
      "]\n",
      "},\n",
      "{\n",
      "\"cell_type\": \"markdown\",\n",
      "\"metadata\": {},\n",
      "\"source\": [\n",
      "\"## If\\n\",\n",
      "\"<pre>\\n\",\n",
      "\"if condition1:\\n\",\n",
      "\"    do something\\n\",\n",
      "\"    ...\\n\",\n",
      "\"elif condition2:\\n\",\n",
      "\"    do something else\\n\",\n",
      "\"    ...\\n\",\n",
      "\"else:\\n\",\n"
     ]
    }
   ],
   "source": [
    "with open('03 - control flow statements.ipynb','r') as f:\n",
    "    for ix,line in enumerate(f):\n",
    "        print(line.strip())\n",
    "        if ix>20:\n",
    "            break"
   ]
  },
  {
   "cell_type": "markdown",
   "metadata": {},
   "source": [
    "# Mixing and Mashing"
   ]
  },
  {
   "cell_type": "code",
   "execution_count": 85,
   "metadata": {},
   "outputs": [
    {
     "data": {
      "text/plain": [
       "[('a', 1), ('b', 2), ('d', 3), ('e', 4)]"
      ]
     },
     "execution_count": 85,
     "metadata": {},
     "output_type": "execute_result"
    }
   ],
   "source": [
    "list_of_tuples = [('a',1),('b',2),('d',3),('e',4)]\n",
    "list_of_tuples"
   ]
  },
  {
   "cell_type": "code",
   "execution_count": 86,
   "metadata": {},
   "outputs": [
    {
     "data": {
      "text/plain": [
       "(['a', 1], ['b', 2], ['d', 3], ['e', 4])"
      ]
     },
     "execution_count": 86,
     "metadata": {},
     "output_type": "execute_result"
    }
   ],
   "source": [
    "tuple_of_lists = tuple(list(t) for t in list_of_tuples)\n",
    "tuple_of_lists"
   ]
  },
  {
   "cell_type": "code",
   "execution_count": 87,
   "metadata": {},
   "outputs": [
    {
     "data": {
      "text/plain": [
       "{'a': 1, 'b': 2, 'd': 3, 'e': 4}"
      ]
     },
     "execution_count": 87,
     "metadata": {},
     "output_type": "execute_result"
    }
   ],
   "source": [
    "dict_from_lot = {l[0]:l[1] for l in tuple_of_lists}\n",
    "dict_from_lot"
   ]
  },
  {
   "cell_type": "code",
   "execution_count": 91,
   "metadata": {},
   "outputs": [
    {
     "data": {
      "text/plain": [
       "[('a', 1), ('b', 2), ('d', 3), ('e', 4)]"
      ]
     },
     "execution_count": 91,
     "metadata": {},
     "output_type": "execute_result"
    }
   ],
   "source": [
    "[(k,v) for (k,v) in dict_from_lot.items()]"
   ]
  },
  {
   "cell_type": "code",
   "execution_count": 92,
   "metadata": {},
   "outputs": [
    {
     "name": "stdout",
     "output_type": "stream",
     "text": [
      "one\n",
      "two\n",
      "three\n"
     ]
    }
   ],
   "source": [
    "for cnt in ['one','two','three']:\n",
    "    print(cnt)"
   ]
  },
  {
   "cell_type": "code",
   "execution_count": 101,
   "metadata": {},
   "outputs": [
    {
     "name": "stdout",
     "output_type": "stream",
     "text": [
      "0 one\n",
      "1 two\n",
      "2 thr\n"
     ]
    }
   ],
   "source": [
    "## wrapping the iterable in an enumerate will, at each iteration: give an additional counter\n",
    "for ix, cnt in enumerate(['one','two','thr']):\n",
    "    print(ix, cnt)"
   ]
  },
  {
   "cell_type": "code",
   "execution_count": 104,
   "metadata": {},
   "outputs": [
    {
     "name": "stdout",
     "output_type": "stream",
     "text": [
      "('one', 11, (1, 2))\n",
      "('two', 22, (2, 3))\n",
      "('thr', 33, (3, 4))\n"
     ]
    }
   ],
   "source": [
    "## we can zip arguments --> at each iteration the next element of each of the zipped arguments is returned\n",
    "for iter_vals in zip(['one','two','thr'],[11,22,33],[(1,2),(2,3),(3,4)]):\n",
    "    print(iter_vals)"
   ]
  },
  {
   "cell_type": "code",
   "execution_count": 105,
   "metadata": {},
   "outputs": [
    {
     "name": "stdout",
     "output_type": "stream",
     "text": [
      "one  ==>  11  ==>  1  ==>  2\n",
      "two  ==>  22  ==>  2  ==>  3\n",
      "thr  ==>  33  ==>  3  ==>  4\n"
     ]
    }
   ],
   "source": [
    "## the arguements can be **unpacked** --> so that the individual elements are named\n",
    "for z1, z2, (z31, z32) in zip(['one','two','thr'],[11,22,33],[(1,2),(2,3),(3,4)]):\n",
    "    print(z1, ' ==> ', z2, ' ==> ', z31, ' ==> ', z32)"
   ]
  },
  {
   "cell_type": "code",
   "execution_count": null,
   "metadata": {},
   "outputs": [],
   "source": [
    "## what happens if the iterable arguments to zip have a different length ???\n",
    "## try it!"
   ]
  },
  {
   "cell_type": "code",
   "execution_count": 106,
   "metadata": {},
   "outputs": [
    {
     "name": "stdout",
     "output_type": "stream",
     "text": [
      "0  :  one  ==>  11  ==>  1  ==>  2\n",
      "1  :  two  ==>  22  ==>  2  ==>  3\n",
      "2  :  thr  ==>  33  ==>  3  ==>  4\n"
     ]
    }
   ],
   "source": [
    "for ix, (z1, z2, (z31, z32)) in enumerate(zip(['one','two','thr'],[11,22,33],[(1,2),(2,3),(3,4)])):\n",
    "    print(ix, ' : ', z1, ' ==> ', z2, ' ==> ', z31, ' ==> ', z32)"
   ]
  }
 ],
 "metadata": {
  "kernelspec": {
   "display_name": "Python 3",
   "language": "python",
   "name": "python3"
  },
  "language_info": {
   "codemirror_mode": {
    "name": "ipython",
    "version": 3
   },
   "file_extension": ".py",
   "mimetype": "text/x-python",
   "name": "python",
   "nbconvert_exporter": "python",
   "pygments_lexer": "ipython3",
   "version": "3.6.7"
  }
 },
 "nbformat": 4,
 "nbformat_minor": 2
}
