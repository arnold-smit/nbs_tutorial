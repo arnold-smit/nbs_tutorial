{
 "cells": [
  {
   "cell_type": "markdown",
   "metadata": {},
   "source": [
    "# On to more complex data structures"
   ]
  },
  {
   "cell_type": "markdown",
   "metadata": {},
   "source": [
    "Apart of the basic numeric data types and strings discussed previously, Python has a rich set of more elaborate data structures.<br><br>\n",
    "The standard build-in types are:\n",
    "* **list**: a mutable sequence\n",
    "* **tuple**: an immutable sequence\n",
    "* **set** & **frozenset**: a mutable / immutable collection of unique elements\n",
    "* **strings** revisited: an immutable sequence of characters\n",
    "* **dict**: mutable mapping form key to value"
   ]
  },
  {
   "cell_type": "markdown",
   "metadata": {},
   "source": [
    "## List []"
   ]
  },
  {
   "cell_type": "markdown",
   "metadata": {},
   "source": [
    "A mutable collection of elements, not nescesarrily of the same type.<br>\n",
    "Unlike Sets, the list in Python are ordered and have a definite count.<br>\n",
    "The elements in a list are indexed with 0 being the first index."
   ]
  },
  {
   "cell_type": "code",
   "execution_count": null,
   "metadata": {},
   "outputs": [],
   "source": [
    "## initialize a list\n",
    "lst01 = ['a','b','c','d',1,2,3,2,4]"
   ]
  },
  {
   "cell_type": "code",
   "execution_count": null,
   "metadata": {},
   "outputs": [],
   "source": [
    "## accessing elements of as list\n",
    "lst01[0]"
   ]
  },
  {
   "cell_type": "code",
   "execution_count": null,
   "metadata": {},
   "outputs": [],
   "source": [
    "## negative values index from the 'right'\n",
    "lst01[-2]"
   ]
  },
  {
   "cell_type": "code",
   "execution_count": null,
   "metadata": {},
   "outputs": [],
   "source": [
    "## accessing using slicing: 3:7 means elements 3,4,5,6 (excluding the upper threshold of the slice)\n",
    "lst01[3:7]"
   ]
  },
  {
   "cell_type": "code",
   "execution_count": null,
   "metadata": {},
   "outputs": [],
   "source": [
    "lst01[3:7:1]"
   ]
  },
  {
   "cell_type": "code",
   "execution_count": null,
   "metadata": {},
   "outputs": [],
   "source": [
    "## can define s a stepsize when defining a slice, f.i.: 2:7:2 --> <start at>:<stop before>:<step size>\n",
    "lst01[2:7:2]"
   ]
  },
  {
   "cell_type": "code",
   "execution_count": null,
   "metadata": {},
   "outputs": [],
   "source": [
    "lst01[slice(2,7,2)]"
   ]
  },
  {
   "cell_type": "code",
   "execution_count": null,
   "metadata": {},
   "outputs": [],
   "source": [
    "## insert element before a specified location\n",
    "lst01.insert(1,'whoa')\n",
    "lst01"
   ]
  },
  {
   "cell_type": "code",
   "execution_count": null,
   "metadata": {},
   "outputs": [],
   "source": [
    "## append\n",
    "lst01.append(5)\n",
    "lst01"
   ]
  },
  {
   "cell_type": "code",
   "execution_count": null,
   "metadata": {},
   "outputs": [],
   "source": [
    "## append list with a list\n",
    "lst01.extend(['discovery','analytics'])\n",
    "lst01"
   ]
  },
  {
   "cell_type": "code",
   "execution_count": null,
   "metadata": {},
   "outputs": [],
   "source": [
    "## pop element from the list --> default = last\n",
    "print(lst01)\n",
    "print(lst01.pop())\n",
    "print(lst01)\n",
    "## to pop the n-th element ... pass in n --> pop first\n",
    "print(lst01.pop(0))\n",
    "print(lst01)"
   ]
  },
  {
   "cell_type": "code",
   "execution_count": null,
   "metadata": {},
   "outputs": [],
   "source": [
    "## check if element in the list\n",
    "2 in lst01"
   ]
  },
  {
   "cell_type": "code",
   "execution_count": null,
   "metadata": {},
   "outputs": [],
   "source": [
    "lst01.index(2)"
   ]
  },
  {
   "cell_type": "code",
   "execution_count": null,
   "metadata": {},
   "outputs": [],
   "source": [
    "## to clear all elements from a list\n",
    "lst01.clear()\n",
    "lst01"
   ]
  },
  {
   "cell_type": "markdown",
   "metadata": {},
   "source": [
    "### List Comprehension"
   ]
  },
  {
   "cell_type": "markdown",
   "metadata": {},
   "source": [
    "A list comprehension is very usefull way to populate / initialise a list.<br>\n",
    "It has the following syntax:<br>\n",
    "<pre>result = [expression <b>for</b> element <b>in</b> iterator <b>if</b> condtions]"
   ]
  },
  {
   "cell_type": "code",
   "execution_count": null,
   "metadata": {},
   "outputs": [],
   "source": [
    "## for instance to get x^2 for the numbers from 1 to 10\n",
    "[x*x for x in range(1,11)]"
   ]
  },
  {
   "cell_type": "code",
   "execution_count": null,
   "metadata": {},
   "outputs": [],
   "source": [
    "## for instance to get x^2 for the even numbers from 1 to 10\n",
    "## for instance to get x^2 for the numbers from 1 to 10\n",
    "[x*x for x in range(1,11) if x%2==0]"
   ]
  },
  {
   "cell_type": "code",
   "execution_count": null,
   "metadata": {},
   "outputs": [],
   "source": [
    "## note: % is the modulo operator\n",
    "[x%2==0 for x in range(1,11)]"
   ]
  },
  {
   "cell_type": "code",
   "execution_count": null,
   "metadata": {},
   "outputs": [],
   "source": [
    "## list comprehensions can be nested\n",
    "[ix_outer*10+ix_inner for ix_inner in range(1,5) for ix_outer in range(1,5)]"
   ]
  },
  {
   "cell_type": "code",
   "execution_count": null,
   "metadata": {},
   "outputs": [],
   "source": [
    "## this is equivalent to:\n",
    "lst = []\n",
    "for ix_outer in range(1,5):\n",
    "    for ix_inner in range(1,5):\n",
    "        lst.append(ix_outer*10+ix_inner)\n",
    "lst"
   ]
  },
  {
   "cell_type": "markdown",
   "metadata": {},
   "source": [
    "## Tuple ()"
   ]
  },
  {
   "cell_type": "markdown",
   "metadata": {},
   "source": [
    "A tuple is an immutable collection of elements not nescessarily of the same type.<br>\n",
    "Tuples can be indexed and sliced just like lists, but individual elements cannot be changed!<br>\n",
    "* Tuples are slightly more efficient than lists\n",
    "* Tuples can be used as dictionary keys (see later) due to their immutablity\n",
    "* Tuples are very usefull to force / ensure / communicate a fixed lenght structure (a disctionary without keys / a struct in languages like C/C++"
   ]
  },
  {
   "cell_type": "code",
   "execution_count": null,
   "metadata": {},
   "outputs": [],
   "source": [
    "tpl01 = ('Life of Brian', 2, 3, 'The Meaning of Life', 5)\n",
    "tpl01"
   ]
  },
  {
   "cell_type": "code",
   "execution_count": null,
   "metadata": {},
   "outputs": [],
   "source": [
    "tpl01[2] = 33"
   ]
  },
  {
   "cell_type": "code",
   "execution_count": null,
   "metadata": {},
   "outputs": [],
   "source": [
    "tpl01[0:4:3]"
   ]
  },
  {
   "cell_type": "code",
   "execution_count": null,
   "metadata": {},
   "outputs": [],
   "source": [
    "## test if element in tuple\n",
    "'Life of Brian' in tpl01"
   ]
  },
  {
   "cell_type": "code",
   "execution_count": null,
   "metadata": {},
   "outputs": [],
   "source": [
    "## find index element\n",
    "tpl01.index('Life of Brian')"
   ]
  },
  {
   "cell_type": "markdown",
   "metadata": {},
   "source": [
    "### Tuple Comprehension does not exist\n",
    "The list compehension syntax with <b>[]</b> replaced by <b>()</b> gives a generator (a more advanced topic).<br>\n",
    "Since a tuple is only used fo fixed length structures, a comprehension is seldom needed.<br>\n",
    "By wrapping the generator in a tuple() call, we get the same result.<br>\n",
    "<pre>\n",
    "tuple(operator <b>for</b> element <b>in</b> iterable <b>if</b> condition)\n",
    "</pre>"
   ]
  },
  {
   "cell_type": "code",
   "execution_count": null,
   "metadata": {},
   "outputs": [],
   "source": [
    "tpl02 = tuple(e for e in range(50) if e%3 == 0)\n",
    "tpl02"
   ]
  },
  {
   "cell_type": "code",
   "execution_count": null,
   "metadata": {},
   "outputs": [],
   "source": [
    "tpl02.index(13)"
   ]
  },
  {
   "cell_type": "markdown",
   "metadata": {},
   "source": [
    "## Set"
   ]
  },
  {
   "cell_type": "code",
   "execution_count": null,
   "metadata": {},
   "outputs": [],
   "source": [
    "set01 = {'a','b','c','d'}\n",
    "set02 = {'c','d','e','f'}"
   ]
  },
  {
   "cell_type": "code",
   "execution_count": null,
   "metadata": {},
   "outputs": [],
   "source": [
    "## intersection --> and\n",
    "set01 & set02"
   ]
  },
  {
   "cell_type": "code",
   "execution_count": null,
   "metadata": {},
   "outputs": [],
   "source": [
    "## union --> or\n",
    "set01 | set02"
   ]
  },
  {
   "cell_type": "code",
   "execution_count": null,
   "metadata": {},
   "outputs": [],
   "source": [
    "## set difference\n",
    "set01 - set02"
   ]
  },
  {
   "cell_type": "code",
   "execution_count": null,
   "metadata": {},
   "outputs": [],
   "source": [
    "## set diff is non-symmetrical\n",
    "set02 - set01"
   ]
  },
  {
   "cell_type": "code",
   "execution_count": null,
   "metadata": {},
   "outputs": [],
   "source": [
    "## symmetric difference / exclusive or --> xor\n",
    "set01 ^ set02"
   ]
  },
  {
   "cell_type": "code",
   "execution_count": null,
   "metadata": {},
   "outputs": [],
   "source": [
    "## cartesian product of sets\n",
    "[(s1,s2) for s2 in set02 for s1 in set01]"
   ]
  },
  {
   "cell_type": "code",
   "execution_count": null,
   "metadata": {},
   "outputs": [],
   "source": [
    "## list methods for sets --> filter the dunder / double underscore / magic methods\n",
    "[m for m in dir(set01) if m[:2]!='__']"
   ]
  },
  {
   "cell_type": "code",
   "execution_count": null,
   "metadata": {},
   "outputs": [],
   "source": []
  },
  {
   "cell_type": "markdown",
   "metadata": {},
   "source": [
    "### Set Comprehension"
   ]
  },
  {
   "cell_type": "markdown",
   "metadata": {},
   "source": [
    "The set compehension syntax is<br>\n",
    "<pre>\n",
    "result = {operator <b>for</b> element <b>in</b> iterable <b>if</b> condition}\n",
    "</pre>"
   ]
  },
  {
   "cell_type": "code",
   "execution_count": null,
   "metadata": {},
   "outputs": [],
   "source": []
  },
  {
   "cell_type": "code",
   "execution_count": null,
   "metadata": {},
   "outputs": [],
   "source": []
  },
  {
   "cell_type": "markdown",
   "metadata": {},
   "source": [
    "## Dict"
   ]
  },
  {
   "cell_type": "code",
   "execution_count": null,
   "metadata": {},
   "outputs": [],
   "source": [
    "dict01 = {'a':1,'b':2,'c':3,'d':4,'e':5}\n",
    "dict02 = {'d':4,'e':5,'f':6,'g':7,'h':8}"
   ]
  },
  {
   "cell_type": "code",
   "execution_count": null,
   "metadata": {},
   "outputs": [],
   "source": [
    "dict01.keys() & dict02.keys()"
   ]
  },
  {
   "cell_type": "code",
   "execution_count": null,
   "metadata": {},
   "outputs": [],
   "source": [
    "super(type(dict01.keys()))"
   ]
  },
  {
   "cell_type": "markdown",
   "metadata": {},
   "source": [
    "### Dict Comprehension"
   ]
  },
  {
   "cell_type": "code",
   "execution_count": null,
   "metadata": {},
   "outputs": [],
   "source": [
    "{k:2*v for k,v in dict01.items()}"
   ]
  },
  {
   "cell_type": "code",
   "execution_count": null,
   "metadata": {},
   "outputs": [],
   "source": [
    "def invert(d):\n",
    "    return {v : k for k, v in d.items()}"
   ]
  },
  {
   "cell_type": "code",
   "execution_count": null,
   "metadata": {},
   "outputs": [],
   "source": [
    "d = {0 : 'A', 1 : 'B', 2 : 'C', 3 : 'D'}\n",
    "d"
   ]
  },
  {
   "cell_type": "code",
   "execution_count": null,
   "metadata": {},
   "outputs": [],
   "source": [
    "invert(d)"
   ]
  },
  {
   "cell_type": "markdown",
   "metadata": {},
   "source": [
    "## Array"
   ]
  },
  {
   "cell_type": "markdown",
   "metadata": {},
   "source": [
    "A more efficient way to store a mutable ordered set of element of the same type than list.<br>\n",
    "For computation the **numpy** arrays are far more suitable!"
   ]
  },
  {
   "cell_type": "code",
   "execution_count": null,
   "metadata": {},
   "outputs": [],
   "source": [
    "import array as arr"
   ]
  },
  {
   "cell_type": "code",
   "execution_count": null,
   "metadata": {},
   "outputs": [],
   "source": [
    "a1 = arr.array('h',range(10))"
   ]
  },
  {
   "cell_type": "code",
   "execution_count": null,
   "metadata": {},
   "outputs": [],
   "source": [
    "a1.buffer_info()"
   ]
  },
  {
   "cell_type": "code",
   "execution_count": null,
   "metadata": {},
   "outputs": [],
   "source": [
    "a1.extend(range(100,110))\n",
    "a1"
   ]
  },
  {
   "cell_type": "code",
   "execution_count": null,
   "metadata": {},
   "outputs": [],
   "source": [
    "a1.buffer_info()"
   ]
  },
  {
   "cell_type": "code",
   "execution_count": null,
   "metadata": {},
   "outputs": [],
   "source": [
    "a1.pop(9)\n",
    "print(a1, a1.buffer_info())"
   ]
  },
  {
   "cell_type": "code",
   "execution_count": null,
   "metadata": {},
   "outputs": [],
   "source": [
    "[print(f'a[{ix:>2}] @ {id(a1[ix])} : {id(a1[ix])-id(a1[ix-1])}') for ix in range(11)]"
   ]
  },
  {
   "cell_type": "code",
   "execution_count": null,
   "metadata": {},
   "outputs": [],
   "source": [
    "import numpy as np"
   ]
  },
  {
   "cell_type": "markdown",
   "metadata": {},
   "source": [
    "## Files"
   ]
  },
  {
   "cell_type": "code",
   "execution_count": null,
   "metadata": {},
   "outputs": [],
   "source": []
  },
  {
   "cell_type": "code",
   "execution_count": null,
   "metadata": {},
   "outputs": [],
   "source": []
  },
  {
   "cell_type": "code",
   "execution_count": null,
   "metadata": {},
   "outputs": [],
   "source": []
  },
  {
   "cell_type": "markdown",
   "metadata": {},
   "source": [
    "# Mixing and Mashing"
   ]
  },
  {
   "cell_type": "code",
   "execution_count": null,
   "metadata": {},
   "outputs": [],
   "source": []
  },
  {
   "cell_type": "code",
   "execution_count": null,
   "metadata": {},
   "outputs": [],
   "source": []
  },
  {
   "cell_type": "code",
   "execution_count": null,
   "metadata": {},
   "outputs": [],
   "source": []
  },
  {
   "cell_type": "markdown",
   "metadata": {},
   "source": [
    "# Comprehension Tips and Tricks"
   ]
  },
  {
   "cell_type": "code",
   "execution_count": null,
   "metadata": {},
   "outputs": [],
   "source": [
    "# unpacking\n",
    "# enumerate\n",
    "# zip\n",
    "\n",
    "\n",
    "# python builtin functions"
   ]
  },
  {
   "cell_type": "markdown",
   "metadata": {},
   "source": [
    "For Python builtin functions see: [https://docs.python.org/3/library/functions.html]"
   ]
  },
  {
   "cell_type": "code",
   "execution_count": null,
   "metadata": {},
   "outputs": [],
   "source": [
    "divmod(7.3, 4.2)"
   ]
  },
  {
   "cell_type": "code",
   "execution_count": null,
   "metadata": {},
   "outputs": [],
   "source": []
  }
 ],
 "metadata": {
  "kernelspec": {
   "display_name": "Python 3",
   "language": "python",
   "name": "python3"
  },
  "language_info": {
   "codemirror_mode": {
    "name": "ipython",
    "version": 3
   },
   "file_extension": ".py",
   "mimetype": "text/x-python",
   "name": "python",
   "nbconvert_exporter": "python",
   "pygments_lexer": "ipython3",
   "version": "3.6.7"
  }
 },
 "nbformat": 4,
 "nbformat_minor": 2
}
