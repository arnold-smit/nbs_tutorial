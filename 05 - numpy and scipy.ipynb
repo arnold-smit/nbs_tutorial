{
 "cells": [
  {
   "cell_type": "markdown",
   "metadata": {},
   "source": [
    "# NumPy: Numerical Python"
   ]
  },
  {
   "cell_type": "markdown",
   "metadata": {},
   "source": [
    "NumPy (short for Numerical Python) is an open source Python library for doing scientific computing with Python.<br><br>\n",
    "It gives an ability to create multidimensional array objects and perform faster mathematical operations.<br>\n",
    "The library contains a long list of useful mathematical functions, including some functions for linear algebra and complex mathematical operations such as Fourier Transform (FT) and random number generator (RNG)."
   ]
  },
  {
   "cell_type": "markdown",
   "metadata": {
    "heading_collapsed": true
   },
   "source": [
    "## Importing Numpy"
   ]
  },
  {
   "cell_type": "code",
   "execution_count": null,
   "metadata": {
    "hidden": true
   },
   "outputs": [],
   "source": [
    "## although not obligatory, everyone assigns the alias np while importing the numpy library:\n",
    "import numpy as np"
   ]
  },
  {
   "cell_type": "code",
   "execution_count": null,
   "metadata": {
    "hidden": true
   },
   "outputs": [],
   "source": [
    "## i will start to use libraries more freely now. for instance the inspect library is usefull to do introspection\n",
    "from inspect import getmembers, isfunction"
   ]
  },
  {
   "cell_type": "code",
   "execution_count": null,
   "metadata": {
    "hidden": true
   },
   "outputs": [],
   "source": [
    "## now it is possible to list all the functions defined in numpy using\n",
    "[o[0] for o in getmembers(np) if isfunction(o[1])]"
   ]
  },
  {
   "cell_type": "markdown",
   "metadata": {
    "heading_collapsed": true
   },
   "source": [
    "## The High Level Overview"
   ]
  },
  {
   "cell_type": "markdown",
   "metadata": {
    "hidden": true
   },
   "source": [
    "Linear Algebra is at the hart of scientific computing.<br>\n",
    "Fast and efficient ways of manipulating multi-dimensional arrays are at the hart of Linear Alebra.<br>\n",
    "NumPy is/was developed by a huge number of contributors to Python with a fast and efficient way to operate on arrays.<br><br>\n",
    "\n",
    "NumPy provides the following:\n",
    "* A powerful N-dimensional array object\n",
    "* Sophisticated (broadcasting) functions\n",
    "* Tools for integrating C/C++ and Fortran code\n",
    "* Useful linear algebra, Fourier transform, and random number capabilities\n",
    "\n",
    "Almost all libraries that do serious number crunching are build on top of NumPy (use the array datatype and the functions to manipulate them in NumPy).<br>\n",
    "For instance:\n",
    "* SciPy: provides additional algorithms used in scientific computating\n",
    "* Pandas: provide DateFrame and Series objects to work with \n",
    "* SciKit-Learn: provides a wealth of machine learning algorithms accesable using a single clean API"
   ]
  },
  {
   "cell_type": "markdown",
   "metadata": {
    "heading_collapsed": true
   },
   "source": [
    "## Arrays"
   ]
  },
  {
   "cell_type": "markdown",
   "metadata": {
    "hidden": true
   },
   "source": [
    "NumPy’s main object is the homogeneous multidimensional array.<br>\n",
    "It is a table of elements (usually numbers), all of the **same type**, indexed by a tuple of non-negative integers.<br>\n",
    "In NumPy dimensions are called axes."
   ]
  },
  {
   "cell_type": "code",
   "execution_count": null,
   "metadata": {
    "hidden": true
   },
   "outputs": [],
   "source": [
    "lst = [ix+1 for ix in range(1000)]\n",
    "## to create a 1d array\n",
    "array1d = np.array(lst)\n",
    "print(type(array1d), array1d.shape)"
   ]
  },
  {
   "cell_type": "code",
   "execution_count": null,
   "metadata": {
    "hidden": true
   },
   "outputs": [],
   "source": [
    "print(f'Size of a numpy ndarray   = {sys.getsizeof(array1d)}')\n",
    "print(f'Size of the original list = {sys.getsizeof(lst)}')"
   ]
  },
  {
   "cell_type": "code",
   "execution_count": null,
   "metadata": {
    "hidden": true
   },
   "outputs": [],
   "source": [
    "## most operation on an array are 'vectorized' meaning it will automatically be executed for each element\n",
    "(array1d[:10] % 2)==0"
   ]
  },
  {
   "cell_type": "code",
   "execution_count": null,
   "metadata": {
    "hidden": true
   },
   "outputs": [],
   "source": [
    "## meaning it is often orders of magnitude faster - the interpreter stes up the vectorized operation & is not involved in each step\n",
    "%timeit np.sum((array1d % 2)==0)"
   ]
  },
  {
   "cell_type": "code",
   "execution_count": null,
   "metadata": {
    "hidden": true
   },
   "outputs": [],
   "source": [
    "## the similar logic using lists\n",
    "%timeit sum([1 for ix in lst if (ix%2)==0])"
   ]
  },
  {
   "cell_type": "code",
   "execution_count": null,
   "metadata": {
    "hidden": true
   },
   "outputs": [],
   "source": [
    "## to create a 2d array, do:\n",
    "array2d = np.array([[2, 0], [0, 1]])\n",
    "print(array2d.shape)\n",
    "array2d + array2d"
   ]
  },
  {
   "cell_type": "code",
   "execution_count": null,
   "metadata": {
    "hidden": true
   },
   "outputs": [],
   "source": [
    "# 2d arrays are basically matrices, to do matrix multiplication use @ or np.dot\n",
    "print(array2d @ array2d)\n",
    "print(np.dot(array2d,array2d))"
   ]
  },
  {
   "cell_type": "code",
   "execution_count": null,
   "metadata": {
    "hidden": true
   },
   "outputs": [],
   "source": [
    "## to create a 3d array\n",
    "array3d = np.array([[[1, 2], [3, 4]], [[5, 6], [7, 8]], [[9, 10], [11, 12]]])\n",
    "print(array3d, '\\n', '-'*100)\n",
    "\n",
    "scale2 = np.identity(2)*2\n",
    "print(array3d @ scale2)\n",
    "print('\\n', '-'*100)\n",
    "\n",
    "## an ndarray can be reshaped\n",
    "array3d = array3d.reshape([1,2,6])\n",
    "print(array3d.shape)\n",
    "print(array3d)"
   ]
  },
  {
   "cell_type": "markdown",
   "metadata": {
    "heading_collapsed": true
   },
   "source": [
    "## Data Types"
   ]
  },
  {
   "cell_type": "markdown",
   "metadata": {
    "hidden": true
   },
   "source": [
    "NumPy supports a much greater variety of numerical types than Python does. The following table shows different scalar data types defined in NumPy.\n",
    "\n",
    "| Sr.No. | Data Types & Description\n",
    "| :----- | :-----\n",
    "| bool_ | Boolean (True or False) stored as a byte\n",
    "| int_ | Default integer type (same as C long; normally either int64 or int32)\n",
    "| intc | Identical to C int (normally int32 or int64)\n",
    "| intp | Integer used for indexing (same as C ssize_t; normally either int32 or int64)\n",
    "| int8 | Byte (-128 to 127)\n",
    "| int16 | Integer (-32768 to 32767)\n",
    "| int32 | Integer (-2147483648 to 2147483647)\n",
    "| int64 | Integer (-9223372036854775808 to 9223372036854775807)\n",
    "| uint8 | Unsigned integer (0 to 255)\n",
    "| uint16 | Unsigned integer (0 to 65535)\n",
    "| uint32 | Unsigned integer (0 to 4294967295)\n",
    "| uint64 | Unsigned integer (0 to 18446744073709551615)\n",
    "| float_ | Shorthand for float64\n",
    "| float16 | Half precision float: sign bit, 5 bits exponent, 10 bits mantissa\n",
    "| float32 | Single precision float: sign bit, 8 bits exponent, 23 bits mantissa\n",
    "| float64 | Double precision float: sign bit, 11 bits exponent, 52 bits mantissa\n",
    "| complex_ | Shorthand for complex128\n",
    "| complex64 | Complex number, represented by two 32-bit floats (real and imaginary components)\n",
    "| complex128 | Complex number, represented by two 64-bit floats (real and imaginary components)"
   ]
  },
  {
   "cell_type": "code",
   "execution_count": null,
   "metadata": {
    "hidden": true
   },
   "outputs": [],
   "source": [
    "print(f'Size of a numpy ndarray of int8 = {sys.getsizeof(np.array(lst,dtype=np.int8))}')\n",
    "print(f'Size of the original list = {sys.getsizeof(lst)}')"
   ]
  },
  {
   "cell_type": "code",
   "execution_count": null,
   "metadata": {
    "hidden": true
   },
   "outputs": [],
   "source": [
    "arr_cmplx = np.array([1,2,3,4,5],dtype=np.complex)\n",
    "arr_cmplx"
   ]
  },
  {
   "cell_type": "code",
   "execution_count": null,
   "metadata": {
    "hidden": true,
    "scrolled": true
   },
   "outputs": [],
   "source": [
    "arr_float16 = arr_cmplx.astype(np.float16)"
   ]
  },
  {
   "cell_type": "code",
   "execution_count": null,
   "metadata": {
    "hidden": true
   },
   "outputs": [],
   "source": [
    "## array indexing works pretty much like it does with lists\n",
    "arr_float16[2:4] += 10\n",
    "arr_float16"
   ]
  },
  {
   "cell_type": "markdown",
   "metadata": {
    "heading_collapsed": true
   },
   "source": [
    "## Missing in NumPy: Missing Integer Values"
   ]
  },
  {
   "cell_type": "code",
   "execution_count": null,
   "metadata": {
    "hidden": true
   },
   "outputs": [],
   "source": [
    "## foating point numbers have a missing value in NumPy\n",
    "arr_float16[4] = np.NAN\n",
    "arr_float16"
   ]
  },
  {
   "cell_type": "code",
   "execution_count": null,
   "metadata": {
    "hidden": true
   },
   "outputs": [],
   "source": [
    "## integer data types do not have a missing value / NaN in NumPy, this is problematic\n",
    "## as a consequence all libraries build on top of NumPy lack native support for integer missing values\n",
    "## you have to (1) convert to float, or (2) use a masked array\n",
    "## worse yet, when converting from floating point to integer value, missing values become 0's\n",
    "arr_int16 = arr_float16.astype(np.int16)\n",
    "arr_int16"
   ]
  },
  {
   "cell_type": "code",
   "execution_count": null,
   "metadata": {
    "hidden": true
   },
   "outputs": [],
   "source": [
    "arr_int16[4] = np.NaN"
   ]
  },
  {
   "cell_type": "markdown",
   "metadata": {
    "hidden": true
   },
   "source": [
    "There is just no way we can set an element of a normal numpy array of some integer dtype to missing!<br>\n",
    "Masked arrays are arrays that may have missing or invalid entries.<br>\n",
    "The numpy.ma module provides a nearly work-alike replacement for numpy that supports data arrays with masks."
   ]
  },
  {
   "cell_type": "code",
   "execution_count": null,
   "metadata": {
    "hidden": true
   },
   "outputs": [],
   "source": [
    "## lets say we have array, where 99 is used as missing value\n",
    "ar = [1,2,99,4,5]\n",
    "## and we want to mask the missing values\n",
    "ma = np.ma.masked_equal(ar, 99)\n",
    "ma"
   ]
  },
  {
   "cell_type": "code",
   "execution_count": null,
   "metadata": {
    "hidden": true
   },
   "outputs": [],
   "source": [
    "## for the sum we use\n",
    "ma.sum()"
   ]
  },
  {
   "cell_type": "code",
   "execution_count": null,
   "metadata": {
    "hidden": true
   },
   "outputs": [],
   "source": [
    "# for the dot product we use:\n",
    "np.ma.dot(ma,np.ones(ma.shape[0]))"
   ]
  },
  {
   "cell_type": "code",
   "execution_count": null,
   "metadata": {
    "hidden": true
   },
   "outputs": [],
   "source": [
    "np.sum(ma*np.ones(ma.shape[0]))"
   ]
  },
  {
   "cell_type": "markdown",
   "metadata": {
    "heading_collapsed": true
   },
   "source": [
    "## Creating Arrays"
   ]
  },
  {
   "cell_type": "code",
   "execution_count": null,
   "metadata": {
    "hidden": true
   },
   "outputs": [],
   "source": [
    "np.zeros((3,3), dtype=np.int8)"
   ]
  },
  {
   "cell_type": "code",
   "execution_count": null,
   "metadata": {
    "hidden": true
   },
   "outputs": [],
   "source": [
    "np.ones((3,))"
   ]
  },
  {
   "cell_type": "code",
   "execution_count": null,
   "metadata": {
    "hidden": true
   },
   "outputs": [],
   "source": [
    "np.identity(2)"
   ]
  },
  {
   "cell_type": "code",
   "execution_count": null,
   "metadata": {
    "hidden": true
   },
   "outputs": [],
   "source": [
    "## using list comprehensions\n",
    "np.array([[r*10+c for c in range(3)] for r in range(3)])"
   ]
  },
  {
   "cell_type": "markdown",
   "metadata": {
    "heading_collapsed": true
   },
   "source": [
    "## Stacking & Reshaping"
   ]
  },
  {
   "cell_type": "code",
   "execution_count": null,
   "metadata": {
    "hidden": true
   },
   "outputs": [],
   "source": [
    "## stacking\n",
    "print(np.hstack([np.identity(2),np.identity(2)]))\n",
    "print('-'*20)\n",
    "print(np.vstack([np.identity(2),np.identity(2)]))"
   ]
  },
  {
   "cell_type": "code",
   "execution_count": null,
   "metadata": {
    "hidden": true
   },
   "outputs": [],
   "source": [
    "np.array([1,2,3,4,5,6]).reshape((2,-1))\n",
    "## this is the same as order='C' --> first loop over the 'right-most' index (for 2D array columns)\n",
    "np.array([1,2,3,4,5,6]).reshape((2,-1),order='C')"
   ]
  },
  {
   "cell_type": "code",
   "execution_count": null,
   "metadata": {
    "hidden": true
   },
   "outputs": [],
   "source": [
    "## order = 'F' uses the Fortran rule: first loop over 'left' (for 2D array rows) indices first\n",
    "np.array([1,2,3,4,5,6]).reshape((2,-1),order='F')"
   ]
  },
  {
   "cell_type": "markdown",
   "metadata": {
    "heading_collapsed": true
   },
   "source": [
    "## Broadcasting"
   ]
  },
  {
   "cell_type": "code",
   "execution_count": null,
   "metadata": {
    "hidden": true
   },
   "outputs": [],
   "source": [
    "## the shapes of the vectors line up\n",
    "v1 = np.array([1,2,3])\n",
    "v2 = np.array([4,5,6])\n",
    "v1 + v2"
   ]
  },
  {
   "cell_type": "code",
   "execution_count": null,
   "metadata": {
    "hidden": true
   },
   "outputs": [],
   "source": [
    "## what happens when we add a column vector and a row vector\n",
    "## linear algebra does not define this\n",
    "## --> numpy broadcasts the shapes into something that is valid and defined mathematicallly\n",
    "v1 = np.array([ 1, 2, 3]).reshape((-1, 1))\n",
    "v2 = np.array([10,20,30]).reshape(( 1,-1))\n",
    "v1 + v2"
   ]
  },
  {
   "cell_type": "markdown",
   "metadata": {
    "hidden": true
   },
   "source": [
    "Above the column vector gets 'expanded' into a matrix where the columns are replicates of the column vector & (replicated # elements in the row vector)<br>\n",
    "row vector gets 'expanded' into a matrix where the rows are replicates of the row vector (replicated # elements in the column vector)"
   ]
  },
  {
   "cell_type": "markdown",
   "metadata": {
    "hidden": true
   },
   "source": [
    "Broadcasting in NumPy follows a strict set of rules to determine the interaction between the two arrays:\n",
    "* **Rule 1**: If the two arrays differ in their number of dimensions, the shape of the one with fewer dimensions is padded with ones on its leading (left) side.\n",
    "* **Rule 2**: If the shape of the two arrays does not match in any dimension, the array with shape equal to 1 in that dimension is stretched to match the other shape.\n",
    "* **Rule 3**: If in any dimension the sizes disagree and neither is equal to 1, an error is raised."
   ]
  },
  {
   "cell_type": "code",
   "execution_count": null,
   "metadata": {
    "hidden": true
   },
   "outputs": [],
   "source": [
    "# lets work through an example\n",
    "M = np.ones((2, 3))\n",
    "a = np.arange(3)\n",
    "M * a"
   ]
  },
  {
   "cell_type": "markdown",
   "metadata": {
    "hidden": true
   },
   "source": [
    "shape M = (2, 3) & shape a = (3,)<br>\n",
    "**rule 1** pad a to the left with ones<br>\n",
    "shape M = (2, 3) & shape a = (1,3) ==> a= [[0,1,2]]<br>\n",
    "**rule 2** first dim disagrees and has value 1 in a, so we 'stretch' dim 1 of a to 2 (replicating each element)<br>\n",
    "shape M = (2, 3) & shape a = (2,3) ==> a= [[0,1,2],[0,1,2]]<br>\n",
    "We are now good to go!!"
   ]
  },
  {
   "cell_type": "code",
   "execution_count": null,
   "metadata": {
    "hidden": true
   },
   "outputs": [],
   "source": [
    "M = np.ones((3, 2))\n",
    "a = np.arange(3)\n",
    "M * a ## a will become (1) [[0,1,2]] (2) [[0,1,2],[0,1,2],[0,1,2]] --> but (3,2) * (3,3) is not defined"
   ]
  },
  {
   "cell_type": "markdown",
   "metadata": {
    "hidden": true
   },
   "source": [
    "### np.newaxis"
   ]
  },
  {
   "cell_type": "code",
   "execution_count": null,
   "metadata": {
    "hidden": true
   },
   "outputs": [],
   "source": [
    "## if we want to be explicit and replicate the vector into a matrix with columns [a,a], we need to be explicit where we want the new expanded axis to go using np.newaxis\n",
    "M * a[:,np.newaxis]"
   ]
  },
  {
   "cell_type": "markdown",
   "metadata": {
    "heading_collapsed": true
   },
   "source": [
    "## Functions On Arrays"
   ]
  },
  {
   "cell_type": "code",
   "execution_count": null,
   "metadata": {
    "hidden": true
   },
   "outputs": [],
   "source": [
    "## numpy has many functions defined that do the right thing on array's\n",
    "x = np.linspace(0,2*np.pi,num=5)\n",
    "np.sin(x)"
   ]
  },
  {
   "cell_type": "code",
   "execution_count": null,
   "metadata": {
    "hidden": true
   },
   "outputs": [],
   "source": [
    "## what is the index where the max occurs\n",
    "np.argmax(np.sin(x))"
   ]
  },
  {
   "cell_type": "code",
   "execution_count": null,
   "metadata": {
    "hidden": true
   },
   "outputs": [],
   "source": [
    "2 * np.random.random(20)"
   ]
  },
  {
   "cell_type": "markdown",
   "metadata": {
    "hidden": true
   },
   "source": [
    "### Let's implement least squares regression"
   ]
  },
  {
   "cell_type": "code",
   "execution_count": null,
   "metadata": {
    "hidden": true
   },
   "outputs": [],
   "source": [
    "x = np.linspace(1,10,20)\n",
    "y = 12 + 0.5 * x + 1 * np.random.rand(20)"
   ]
  },
  {
   "cell_type": "code",
   "execution_count": null,
   "metadata": {
    "hidden": true
   },
   "outputs": [],
   "source": [
    "import matplotlib.pyplot as plt\n",
    "%matplotlib inline\n",
    "plt.scatter(x,y)"
   ]
  },
  {
   "cell_type": "markdown",
   "metadata": {
    "hidden": true
   },
   "source": [
    "If $y^* = a + b * x$ and let $\\beta = [a,b]$, then the least squares estimate boils down to:<br>\n",
    "minimize $(y - y^*)^T (y - y^*) = (y - (\\beta_1 + \\beta_2 x))^T (y - \\beta_1 + \\beta_2 x)$ by setting the derivative to $\\beta$ to $0$, resulting in:<br>\n",
    "$(X^T X)\\beta = X^T y$ or $\\beta = (X^T X)^-1 (X^T y)$<br>\n",
    "This is most efficiently solved using **np.linalg.solve**"
   ]
  },
  {
   "cell_type": "code",
   "execution_count": null,
   "metadata": {
    "hidden": true
   },
   "outputs": [],
   "source": [
    "def least_squares_reg(x, y):\n",
    "    ## add column of ones for the intercept\n",
    "    X = np.vstack([np.ones(len(x)),x]).T\n",
    "    b = np.linalg.solve(X.T @ X, X.T @ y)\n",
    "    return(b)\n",
    "least_squares_reg(x, y)"
   ]
  },
  {
   "cell_type": "code",
   "execution_count": null,
   "metadata": {
    "hidden": true
   },
   "outputs": [],
   "source": [
    "## Could also use the scikit-learn library\n",
    "from sklearn import linear_model\n",
    "reg = linear_model.LinearRegression()\n",
    "lm  = reg.fit(x.reshape(-1,1), y)\n",
    "print(f'intercept = {lm.intercept_}')\n",
    "print(f'slope = {lm.coef_[0]}')"
   ]
  },
  {
   "cell_type": "markdown",
   "metadata": {},
   "source": [
    "## Random Numbers and Permutations"
   ]
  },
  {
   "cell_type": "code",
   "execution_count": null,
   "metadata": {},
   "outputs": [],
   "source": [
    "## a lot of cool functionality for random sampling is provided in numpy.random\n",
    "dir(np.random)"
   ]
  },
  {
   "cell_type": "code",
   "execution_count": null,
   "metadata": {},
   "outputs": [],
   "source": [
    "## to generate a bunch of pseudo random numbers from the unifor distribution on [0.0,1.0), use:\n",
    "np.random.rand(3,5) ## 3 rows & 5 columns"
   ]
  },
  {
   "cell_type": "code",
   "execution_count": null,
   "metadata": {},
   "outputs": [],
   "source": [
    "## random integer\n",
    "np.random.randint(low=1, high=10, size=(3,5))"
   ]
  },
  {
   "cell_type": "code",
   "execution_count": null,
   "metadata": {},
   "outputs": [],
   "source": [
    "## random numbers from the F-distribution (with df numerator = 101 and df denominator = 35\n",
    "np.random.f(101,35,size=(2,5)) ## 2 rows & 5 columns"
   ]
  },
  {
   "cell_type": "code",
   "execution_count": null,
   "metadata": {},
   "outputs": [],
   "source": [
    "np.random.choice(['A','B','C','D'], size=(3,7), replace=True, p=[0.1,0.1,0.1,0.7])"
   ]
  },
  {
   "cell_type": "code",
   "execution_count": null,
   "metadata": {},
   "outputs": [],
   "source": [
    "## shuffling\n",
    "lst = [1,2,3,4,5,6,7,8,9]\n",
    "np.random.shuffle(lst)\n",
    "lst"
   ]
  },
  {
   "cell_type": "markdown",
   "metadata": {},
   "source": [
    "### Let's implement a nonparametric test for group means"
   ]
  },
  {
   "cell_type": "code",
   "execution_count": null,
   "metadata": {},
   "outputs": [],
   "source": [
    "g1 = np.random.binomial(20,0.48,size= 5);\n",
    "g2 = np.random.binomial(20,0.52,size=10);\n",
    "print(f'mean group 1 {np.mean(g1)} & mean group 2 {np.mean(g2)} --> difference = {np.mean(g2) - np.mean(g1)}')"
   ]
  },
  {
   "cell_type": "code",
   "execution_count": null,
   "metadata": {},
   "outputs": [],
   "source": [
    "df_same = np.concatenate([g1,g2])\n",
    "def mean_dif(df_same):\n",
    "    np.random.shuffle(df_same)\n",
    "    return(np.mean(df_same[:5]) - np.mean(df_same[5:]))\n",
    "\n",
    "dist_mean_diff = [mean_dif(df_same) for _ in range(100000)]"
   ]
  },
  {
   "cell_type": "code",
   "execution_count": null,
   "metadata": {},
   "outputs": [],
   "source": [
    "sns.distplot(dist_mean_diff, bins=100);"
   ]
  },
  {
   "cell_type": "code",
   "execution_count": null,
   "metadata": {},
   "outputs": [],
   "source": [
    "print(f'% where diff in mean between the two groups is > 1.3 = {np.sum(np.array(dist_mean_diff) > 1.3) / len(dist_mean_diff)}')"
   ]
  },
  {
   "cell_type": "markdown",
   "metadata": {},
   "source": [
    "# SciPy: Scientific Python"
   ]
  },
  {
   "cell_type": "code",
   "execution_count": null,
   "metadata": {
    "scrolled": true
   },
   "outputs": [],
   "source": []
  },
  {
   "cell_type": "code",
   "execution_count": null,
   "metadata": {},
   "outputs": [],
   "source": []
  },
  {
   "cell_type": "code",
   "execution_count": null,
   "metadata": {},
   "outputs": [],
   "source": []
  },
  {
   "cell_type": "code",
   "execution_count": null,
   "metadata": {},
   "outputs": [],
   "source": []
  }
 ],
 "metadata": {
  "kernelspec": {
   "display_name": "Python 3",
   "language": "python",
   "name": "python3"
  },
  "language_info": {
   "codemirror_mode": {
    "name": "ipython",
    "version": 3
   },
   "file_extension": ".py",
   "mimetype": "text/x-python",
   "name": "python",
   "nbconvert_exporter": "python",
   "pygments_lexer": "ipython3",
   "version": "3.7.3"
  },
  "toc": {
   "base_numbering": 1,
   "nav_menu": {},
   "number_sections": true,
   "sideBar": true,
   "skip_h1_title": false,
   "title_cell": "Table of Contents",
   "title_sidebar": "Contents",
   "toc_cell": false,
   "toc_position": {},
   "toc_section_display": true,
   "toc_window_display": false
  }
 },
 "nbformat": 4,
 "nbformat_minor": 2
}
